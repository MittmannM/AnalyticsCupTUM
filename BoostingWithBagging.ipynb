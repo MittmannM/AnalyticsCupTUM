{
 "cells": [
  {
   "cell_type": "code",
   "execution_count": 87,
   "id": "initial_id",
   "metadata": {
    "collapsed": true,
    "ExecuteTime": {
     "end_time": "2024-01-26T14:50:05.909221800Z",
     "start_time": "2024-01-26T14:50:04.248709500Z"
    }
   },
   "outputs": [
    {
     "name": "stderr",
     "output_type": "stream",
     "text": [
      "C:\\Users\\Maximilian Mittmann\\AppData\\Local\\Temp\\ipykernel_15632\\3582233399.py:14: DtypeWarning: Columns (3) have mixed types. Specify dtype option on import or set low_memory=False.\n",
      "  reviews_csv = pd.read_csv(\"reviews.csv\").copy()\n"
     ]
    }
   ],
   "source": [
    "import pandas as pd\n",
    "import numpy as np\n",
    "import matplotlib.pyplot as plt\n",
    "from sklearn.ensemble import RandomForestClassifier, GradientBoostingClassifier\n",
    "from sklearn.metrics import confusion_matrix, accuracy_score, balanced_accuracy_score, precision_score, recall_score\n",
    "from sklearn.model_selection import train_test_split, cross_val_score\n",
    "\n",
    "seed = 2024\n",
    "np.random.seed(seed)\n",
    "\n",
    "diet_csv = pd.read_csv(\"diet.csv\").copy()\n",
    "recipes_csv = pd.read_csv(\"recipes.csv\").copy()\n",
    "requests_csv = pd.read_csv(\"requests.csv\").copy()\n",
    "reviews_csv = pd.read_csv(\"reviews.csv\").copy()\n",
    "\n",
    "# merge diet + request\n",
    "request_with_diet = pd.merge(diet_csv, requests_csv, how=\"inner\", on=\"AuthorId\")\n",
    "# merge diet + request + recipe\n",
    "request_with_diet_and_recipe = pd.merge(recipes_csv, request_with_diet, how=\"inner\", on=\"RecipeId\")\n",
    "# merge diet + request + recipe + review\n",
    "df = pd.merge(reviews_csv, request_with_diet_and_recipe, how=\"inner\", on=[\"AuthorId\", \"RecipeId\"])\n",
    "# merge whole df with own generated RecipeMatchesDiet"
   ]
  },
  {
   "cell_type": "code",
   "outputs": [],
   "source": [
    "# drop na diet column\n",
    "df = df.dropna(subset=['Diet'])\n",
    "# Rename AuthorId column\n",
    "df.rename(columns= {\n",
    "    \"AuthorId\" : \"CustomerId\",\n",
    "    \"Time\": \"MaxTime\"\n",
    "}, inplace=True)\n",
    "\n",
    "df[\"Like\"] = df[\"Like\"].astype(\"boolean\")\n",
    "# Change types into category and mapping values\n",
    "df[\"Diet\"] = df[\"Diet\"].astype(\"category\")\n",
    "\n",
    "df[\"RecipeCategory\"] = df[\"RecipeCategory\"].astype(\"category\")\n",
    "\n",
    "mapping_cal = {1: 'Yes', 0.0: 'No'}\n",
    "df['HighCalories'] = df['HighCalories'].map(mapping_cal).astype('category')\n",
    "\n",
    "mapping_protein = {'Yes': 'Yes', 'Indifferent': 'Indifferent', 'No': 'No' }\n",
    "df['HighProtein'] = df['HighProtein'].map(mapping_protein).astype('category')\n",
    "\n",
    "mapping_cal = {1: 'Yes', 0.0: 'No'}\n",
    "df['LowFat'] = df['LowFat'].map(mapping_cal).astype('category')\n",
    "\n",
    "mapping_sugar = {'1': 'Yes', 'Indifferent': 'Indifferent', '0': 'No' }\n",
    "df['LowSugar'] = df['LowSugar'].map(mapping_sugar).astype('category')\n",
    "\n",
    "mapping_cal = {1: 'Yes', 0.0: 'No'}\n",
    "df['HighFiber'] = df['HighFiber'].map(mapping_cal).astype('category')\n",
    "\n",
    "# Remove NA rows and Rating column\n",
    "df = df.drop(\"Rating\", axis=1)\n",
    "\n",
    "\n",
    "# One hot encoding for categorical variables\n",
    "df = pd.get_dummies(df, columns=['Diet','RecipeCategory', 'HighCalories', 'LowFat', 'HighFiber', 'HighProtein', 'LowSugar'], drop_first=True)"
   ],
   "metadata": {
    "collapsed": false,
    "ExecuteTime": {
     "end_time": "2024-01-26T14:50:06.226511500Z",
     "start_time": "2024-01-26T14:50:05.914225600Z"
    }
   },
   "id": "f144ded49604f3cb",
   "execution_count": 88
  },
  {
   "cell_type": "code",
   "outputs": [],
   "source": [
    "df.rename(columns={\n",
    "    'HighCalories_Yes': 'want_HighCalories',\n",
    "    'LowFat_Yes':'want_LowFat',\n",
    "    'HighFiber_Yes':'want_HighFiber',\n",
    "    'HighProtein_Yes':'want_HighProtein',\n",
    "}, inplace=True)\n",
    "\n",
    "df[\"RecipeIngredientParts\"] = df[\"RecipeIngredientParts\"].str.replace(\")\", '')\n",
    "df[\"RecipeIngredientParts\"] = df[\"RecipeIngredientParts\"].str.replace(\"(\", '')\n",
    "df[\"RecipeIngredientParts\"] = df[\"RecipeIngredientParts\"].str.replace(\"\\\"\", '')\n",
    "df[\"RecipeIngredientParts\"] = df[\"RecipeIngredientParts\"].str.replace(\"\\\\\", '')\n",
    "df['RecipeIngredientParts'] = df['RecipeIngredientParts'].str.replace('^c', '', regex=True)\n",
    "\n",
    "def check_keywords(ingredients):\n",
    "    has_animal_product = any(any(keyword in ingredient.lower() for keyword in [\"meat\", \"chicken\", \"lamb\", \"beef\", \"pork\", \"bacon\", \"fish\", \"sausage\", \"turkey\", \"milk\", \"butter\", \"egg\", \"cheese\", \"breast\", \"gelatin\", \"honey\", \"tuna\", \"steak\", \"salmon\"]) for ingredient in ingredients)\n",
    "    has_fish_or_meat = any(any(keyword in ingredient.lower() for keyword in [\"meat\", \"chicken\", \"lamb\", \"beef\", \"pork\", \"bacon\", \"fish\", \"sausage\", \"turkey\", \"tuna\", \"steak\", \"salmon\"]) for ingredient in ingredients)\n",
    "    return has_animal_product, has_fish_or_meat\n",
    "\n",
    "df[['has_animal_product', 'has_fish_meat']] = df['RecipeIngredientParts'].str.split(',').apply(check_keywords).apply(pd.Series)\n",
    "\n",
    "df['for_Vegan'] = ~df['has_animal_product'] & ~df['has_fish_meat']\n",
    "df['for_Vegetarian'] = (df['has_animal_product'] & ~df['has_fish_meat']) | (~df['has_animal_product'] & ~df['has_fish_meat'])\n",
    "df['Correct_Diet'] = (~df['Diet_Vegetarian'] & ~df['Diet_Vegan']) | (df['Diet_Vegan'] & df['for_Vegan']) | (df['Diet_Vegetarian']  & df['for_Vegetarian'] )\n",
    "df[\"DifferenceRequestedAndTimeNeeded\"] = df[\"MaxTime\"] - (df[\"CookTime\"] + df[\"PrepTime\"])\n"
   ],
   "metadata": {
    "collapsed": false,
    "ExecuteTime": {
     "end_time": "2024-01-26T14:50:25.965504300Z",
     "start_time": "2024-01-26T14:50:06.232516Z"
    }
   },
   "id": "107e099785f98ef8",
   "execution_count": 89
  },
  {
   "cell_type": "code",
   "outputs": [],
   "source": [
    "# Split data into train and test set\n",
    "train_set = df[df[\"TestSetId\"].isna()]\n",
    "test_set = df[df[\"TestSetId\"].notnull()]"
   ],
   "metadata": {
    "collapsed": false,
    "ExecuteTime": {
     "end_time": "2024-01-26T14:50:26.029562800Z",
     "start_time": "2024-01-26T14:50:25.967506900Z"
    }
   },
   "id": "1f40127486c651ca",
   "execution_count": 90
  },
  {
   "cell_type": "code",
   "outputs": [],
   "source": [
    "train_set = train_set[train_set[\"Calories\"] < 300000]\n",
    "\n",
    "train_set.dropna(subset=[\"Like\"], inplace=True)\n",
    "train_set = train_set.drop(\"TestSetId\", axis=1)\n",
    "\n",
    "# needs to be done after outlier removal\n",
    "recipesServings_mean = train_set['RecipeServings'].mean()\n",
    "#fill na rows with the mean\n",
    "train_set.loc[:, 'RecipeServings'] = train_set['RecipeServings'].fillna(recipesServings_mean)\n",
    "test_set.loc[:, 'RecipeServings'] = test_set['RecipeServings'].fillna(recipesServings_mean)\n"
   ],
   "metadata": {
    "collapsed": false,
    "ExecuteTime": {
     "end_time": "2024-01-26T14:50:26.139662900Z",
     "start_time": "2024-01-26T14:50:26.033568200Z"
    }
   },
   "id": "c5a1b595360992ab",
   "execution_count": 91
  },
  {
   "cell_type": "code",
   "outputs": [],
   "source": [
    "# Variables that are good according to xgboost:\n",
    "\n",
    "# variables_to_drop = ['CustomerId', 'RecipeId', 'Like', 'Name', 'RecipeIngredientQuantities', 'RecipeIngredientParts', 'RecipeYield', \"Calories\", \"SaturatedFatContent\", \"SugarContent\", \"CookTime\", \"PrepTime\", \"Diet_Vegan\", \"Diet_Vegetarian\", \"RecipeCategory_Bread\", \"RecipeCategory_Other\", \"RecipeCategory_Breakfast\", \"RecipeCategory_Lunch\", \"RecipeCategory_Soup\", \"RecipeCategory_One dish meal\", \"LowSugar_No\", \"CholesterolContent\", \"SodiumContent\", \"FiberContent\", \"RecipeServings\", \"Time\", \"HighCalories\", \"HighFiber\"]\n",
    "\n",
    "variables_to_drop = ['CustomerId', 'RecipeId', 'Like', 'Name', 'RecipeIngredientQuantities', 'RecipeIngredientParts', 'RecipeYield','MaxTime', 'for_Vegetarian', 'for_Vegan', 'has_fish_meat', 'has_animal_product']\n",
    "X = train_set.drop(variables_to_drop, axis=1)\n",
    "y = train_set['Like']\n",
    "test_set = test_set.drop(variables_to_drop, axis=1)"
   ],
   "metadata": {
    "collapsed": false,
    "ExecuteTime": {
     "end_time": "2024-01-26T14:50:26.173696500Z",
     "start_time": "2024-01-26T14:50:26.141665200Z"
    }
   },
   "id": "aea0ca6e8e4e6d31",
   "execution_count": 92
  },
  {
   "cell_type": "code",
   "outputs": [],
   "source": [
    "\n",
    "X_train, X_test, y_train, y_test = \\\n",
    "    train_test_split(X, y,\n",
    "                     test_size=0.3,\n",
    "                     shuffle=True,\n",
    "                     stratify=y,\n",
    "                     random_state=seed)"
   ],
   "metadata": {
    "collapsed": false,
    "ExecuteTime": {
     "end_time": "2024-01-26T14:50:26.219735800Z",
     "start_time": "2024-01-26T14:50:26.173696500Z"
    }
   },
   "id": "8ae964e10fd9208b",
   "execution_count": 93
  },
  {
   "cell_type": "code",
   "outputs": [
    {
     "data": {
      "text/plain": "GradientBoostingClassifier(max_depth=7, n_estimators=350, random_state=2024)",
      "text/html": "<style>#sk-container-id-13 {color: black;}#sk-container-id-13 pre{padding: 0;}#sk-container-id-13 div.sk-toggleable {background-color: white;}#sk-container-id-13 label.sk-toggleable__label {cursor: pointer;display: block;width: 100%;margin-bottom: 0;padding: 0.3em;box-sizing: border-box;text-align: center;}#sk-container-id-13 label.sk-toggleable__label-arrow:before {content: \"▸\";float: left;margin-right: 0.25em;color: #696969;}#sk-container-id-13 label.sk-toggleable__label-arrow:hover:before {color: black;}#sk-container-id-13 div.sk-estimator:hover label.sk-toggleable__label-arrow:before {color: black;}#sk-container-id-13 div.sk-toggleable__content {max-height: 0;max-width: 0;overflow: hidden;text-align: left;background-color: #f0f8ff;}#sk-container-id-13 div.sk-toggleable__content pre {margin: 0.2em;color: black;border-radius: 0.25em;background-color: #f0f8ff;}#sk-container-id-13 input.sk-toggleable__control:checked~div.sk-toggleable__content {max-height: 200px;max-width: 100%;overflow: auto;}#sk-container-id-13 input.sk-toggleable__control:checked~label.sk-toggleable__label-arrow:before {content: \"▾\";}#sk-container-id-13 div.sk-estimator input.sk-toggleable__control:checked~label.sk-toggleable__label {background-color: #d4ebff;}#sk-container-id-13 div.sk-label input.sk-toggleable__control:checked~label.sk-toggleable__label {background-color: #d4ebff;}#sk-container-id-13 input.sk-hidden--visually {border: 0;clip: rect(1px 1px 1px 1px);clip: rect(1px, 1px, 1px, 1px);height: 1px;margin: -1px;overflow: hidden;padding: 0;position: absolute;width: 1px;}#sk-container-id-13 div.sk-estimator {font-family: monospace;background-color: #f0f8ff;border: 1px dotted black;border-radius: 0.25em;box-sizing: border-box;margin-bottom: 0.5em;}#sk-container-id-13 div.sk-estimator:hover {background-color: #d4ebff;}#sk-container-id-13 div.sk-parallel-item::after {content: \"\";width: 100%;border-bottom: 1px solid gray;flex-grow: 1;}#sk-container-id-13 div.sk-label:hover label.sk-toggleable__label {background-color: #d4ebff;}#sk-container-id-13 div.sk-serial::before {content: \"\";position: absolute;border-left: 1px solid gray;box-sizing: border-box;top: 0;bottom: 0;left: 50%;z-index: 0;}#sk-container-id-13 div.sk-serial {display: flex;flex-direction: column;align-items: center;background-color: white;padding-right: 0.2em;padding-left: 0.2em;position: relative;}#sk-container-id-13 div.sk-item {position: relative;z-index: 1;}#sk-container-id-13 div.sk-parallel {display: flex;align-items: stretch;justify-content: center;background-color: white;position: relative;}#sk-container-id-13 div.sk-item::before, #sk-container-id-13 div.sk-parallel-item::before {content: \"\";position: absolute;border-left: 1px solid gray;box-sizing: border-box;top: 0;bottom: 0;left: 50%;z-index: -1;}#sk-container-id-13 div.sk-parallel-item {display: flex;flex-direction: column;z-index: 1;position: relative;background-color: white;}#sk-container-id-13 div.sk-parallel-item:first-child::after {align-self: flex-end;width: 50%;}#sk-container-id-13 div.sk-parallel-item:last-child::after {align-self: flex-start;width: 50%;}#sk-container-id-13 div.sk-parallel-item:only-child::after {width: 0;}#sk-container-id-13 div.sk-dashed-wrapped {border: 1px dashed gray;margin: 0 0.4em 0.5em 0.4em;box-sizing: border-box;padding-bottom: 0.4em;background-color: white;}#sk-container-id-13 div.sk-label label {font-family: monospace;font-weight: bold;display: inline-block;line-height: 1.2em;}#sk-container-id-13 div.sk-label-container {text-align: center;}#sk-container-id-13 div.sk-container {/* jupyter's `normalize.less` sets `[hidden] { display: none; }` but bootstrap.min.css set `[hidden] { display: none !important; }` so we also need the `!important` here to be able to override the default hidden behavior on the sphinx rendered scikit-learn.org. See: https://github.com/scikit-learn/scikit-learn/issues/21755 */display: inline-block !important;position: relative;}#sk-container-id-13 div.sk-text-repr-fallback {display: none;}</style><div id=\"sk-container-id-13\" class=\"sk-top-container\"><div class=\"sk-text-repr-fallback\"><pre>GradientBoostingClassifier(max_depth=7, n_estimators=350, random_state=2024)</pre><b>In a Jupyter environment, please rerun this cell to show the HTML representation or trust the notebook. <br />On GitHub, the HTML representation is unable to render, please try loading this page with nbviewer.org.</b></div><div class=\"sk-container\" hidden><div class=\"sk-item\"><div class=\"sk-estimator sk-toggleable\"><input class=\"sk-toggleable__control sk-hidden--visually\" id=\"sk-estimator-id-15\" type=\"checkbox\" checked><label for=\"sk-estimator-id-15\" class=\"sk-toggleable__label sk-toggleable__label-arrow\">GradientBoostingClassifier</label><div class=\"sk-toggleable__content\"><pre>GradientBoostingClassifier(max_depth=7, n_estimators=350, random_state=2024)</pre></div></div></div></div></div>"
     },
     "execution_count": 94,
     "metadata": {},
     "output_type": "execute_result"
    }
   ],
   "source": [
    "#subset_indices = np.random.choice(len(X_train), size=int(len(X_train)/5), replace=True)\n",
    "#X_subset, y_subset = X_train.iloc[subset_indices], y_train.iloc[subset_indices]\n",
    "train_model = GradientBoostingClassifier(n_estimators=350, learning_rate=0.1, max_depth=7, random_state=seed)\n",
    "train_model.fit(X_train,y_train)"
   ],
   "metadata": {
    "collapsed": false,
    "ExecuteTime": {
     "end_time": "2024-01-26T14:54:08.908732900Z",
     "start_time": "2024-01-26T14:50:26.221738700Z"
    }
   },
   "id": "925bc9c833f82cbc",
   "execution_count": 94
  },
  {
   "cell_type": "code",
   "outputs": [
    {
     "name": "stdout",
     "output_type": "stream",
     "text": [
      "         Like  Predicted_Like  Probability_Like=0  Probability_Like=1\n",
      "93788   False             0.0            0.955952            0.044048\n",
      "87084   False             0.0            0.989883            0.010117\n",
      "46815   False             0.0            0.998468            0.001532\n",
      "98382   False             0.0            0.999516            0.000484\n",
      "119635  False             0.0            0.997083            0.002917\n",
      "...       ...             ...                 ...                 ...\n",
      "88309   False             0.0            0.998113            0.001887\n",
      "103444  False             0.0            0.990301            0.009699\n",
      "91922   False             1.0            0.132111            0.867889\n",
      "116599  False             0.0            0.986320            0.013680\n",
      "127947  False             0.0            0.795768            0.204232\n",
      "\n",
      "[29214 rows x 4 columns]\n",
      "Confusion Matrix:\n",
      "[[24613   738]\n",
      " [ 1833  2030]]\n",
      "Test-Precision: 0.7333815028901735\n",
      "Test-Accuracy: 0.9119942493325118\n",
      "Test-Recall: 0.5254983173699197\n",
      "Test Balanced Accuracy: 0.7481935198541445\n"
     ]
    }
   ],
   "source": [
    "test_predictions = train_model.predict(X_test)\n",
    "test_probabilities = train_model.predict_proba(X_test)\n",
    "\n",
    "test_predictions_df = pd.DataFrame({'Like': y_test, \n",
    "                                     'Predicted_Like': test_predictions,\n",
    "                                     'Probability_Like=0': test_probabilities[:, 0],\n",
    "                                     'Probability_Like=1': test_probabilities[:, 1]})\n",
    "print(test_predictions_df)\n",
    "\n",
    "\n",
    "# Confusion Matrix\n",
    "conf_matrix = confusion_matrix(y_test, test_predictions)\n",
    "print(\"Confusion Matrix:\")\n",
    "print(conf_matrix)\n",
    "\n",
    "# Precision, accuracy, recall\n",
    "print(\"Test-Precision:\", precision_score(y_test, test_predictions))\n",
    "print(\"Test-Accuracy:\", accuracy_score(y_test, test_predictions))\n",
    "print(\"Test-Recall:\", recall_score(y_test, test_predictions))\n",
    "print(\"Test Balanced Accuracy:\", balanced_accuracy_score(y_test, test_predictions))"
   ],
   "metadata": {
    "collapsed": false,
    "ExecuteTime": {
     "end_time": "2024-01-26T14:54:09.525295400Z",
     "start_time": "2024-01-26T14:54:08.910735200Z"
    }
   },
   "id": "cb3d9a579fb44701",
   "execution_count": 95
  },
  {
   "cell_type": "markdown",
   "source": [
    "0.74622 ohne stratify"
   ],
   "metadata": {
    "collapsed": false
   },
   "id": "dff36fd3cfce78e6"
  },
  {
   "cell_type": "code",
   "outputs": [],
   "source": [
    "test_set[\"prediction\"] = train_model.predict(test_set.drop(\"TestSetId\", axis=1))\n",
    "test_output = pd.DataFrame(columns=[\"TestSetId\", \"prediction\"])\n",
    "test_output[\"TestSetId\"] = test_set[\"TestSetId\"].astype(int)\n",
    "test_output[\"prediction\"] = test_set[\"prediction\"].astype(int)\n",
    "test_output.to_csv(\"predictions_LetsSeePaulAllens'BAC_1.csv\", index=False)"
   ],
   "metadata": {
    "collapsed": false,
    "ExecuteTime": {
     "end_time": "2024-01-26T14:54:09.953684900Z",
     "start_time": "2024-01-26T14:54:09.528297400Z"
    }
   },
   "id": "734413e591c7fa9a",
   "execution_count": 96
  }
 ],
 "metadata": {
  "kernelspec": {
   "display_name": "Python 3",
   "language": "python",
   "name": "python3"
  },
  "language_info": {
   "codemirror_mode": {
    "name": "ipython",
    "version": 2
   },
   "file_extension": ".py",
   "mimetype": "text/x-python",
   "name": "python",
   "nbconvert_exporter": "python",
   "pygments_lexer": "ipython2",
   "version": "2.7.6"
  }
 },
 "nbformat": 4,
 "nbformat_minor": 5
}
