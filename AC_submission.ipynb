{
 "cells": [
  {
   "cell_type": "markdown",
   "metadata": {},
   "source": [
    "# ANAC\n"
   ]
  },
  {
   "cell_type": "code",
   "execution_count": 1,
   "metadata": {
    "ExecuteTime": {
     "end_time": "2024-01-24T21:54:29.702407Z",
     "start_time": "2024-01-24T21:54:29.543455Z"
    }
   },
   "outputs": [],
   "source": [
    "import pandas as pd\n",
    "import numpy as np\n",
    "import matplotlib.pyplot as plt\n",
    "from sklearn.ensemble import RandomForestClassifier, GradientBoostingClassifier\n",
    "from sklearn.metrics import confusion_matrix, accuracy_score, balanced_accuracy_score, precision_score, recall_score\n",
    "from sklearn.model_selection import train_test_split, cross_val_score\n",
    "from sklearn.preprocessing import StandardScaler"
   ]
  },
  {
   "cell_type": "markdown",
   "metadata": {},
   "source": [
    "#### Seed"
   ]
  },
  {
   "cell_type": "code",
   "execution_count": 2,
   "metadata": {
    "ExecuteTime": {
     "end_time": "2024-01-24T21:54:29.705522Z",
     "start_time": "2024-01-24T21:54:29.703001Z"
    }
   },
   "outputs": [],
   "source": [
    "seed = 2024\n",
    "np.random.seed(seed)"
   ]
  },
  {
   "cell_type": "code",
   "execution_count": 3,
   "metadata": {
    "ExecuteTime": {
     "end_time": "2024-01-24T21:54:30.076337Z",
     "start_time": "2024-01-24T21:54:29.705114Z"
    }
   },
   "outputs": [
    {
     "name": "stderr",
     "output_type": "stream",
     "text": [
      "/var/folders/z0/24mzs0z565s6qpzztgbdrj780000gn/T/ipykernel_90937/3884275055.py:4: DtypeWarning: Columns (3) have mixed types. Specify dtype option on import or set low_memory=False.\n",
      "  reviews_csv = pd.read_csv(\"reviews.csv\").copy()\n"
     ]
    }
   ],
   "source": [
    "diet_csv = pd.read_csv(\"diet.csv\").copy()\n",
    "recipes_csv = pd.read_csv(\"recipes.csv\").copy()\n",
    "requests_csv = pd.read_csv(\"requests.csv\").copy()\n",
    "reviews_csv = pd.read_csv(\"reviews.csv\").copy()"
   ]
  },
  {
   "cell_type": "markdown",
   "source": [
    "***Join Dataset***"
   ],
   "metadata": {
    "collapsed": false
   }
  },
  {
   "cell_type": "code",
   "outputs": [],
   "source": [
    "# merge diet + request\n",
    "request_with_diet = pd.merge(diet_csv, requests_csv, how=\"inner\", on=\"AuthorId\")\n",
    "# merge diet + request + recipe\n",
    "request_with_diet_and_recipe = pd.merge(recipes_csv, request_with_diet, how=\"inner\", on=\"RecipeId\")\n",
    "# merge diet + request + recipe + review\n",
    "df = pd.merge(reviews_csv, request_with_diet_and_recipe, how=\"inner\", on=[\"AuthorId\", \"RecipeId\"])\n",
    "# merge whole df with own generated RecipeMatchesDiet"
   ],
   "metadata": {
    "collapsed": false,
    "ExecuteTime": {
     "end_time": "2024-01-24T21:54:30.231207Z",
     "start_time": "2024-01-24T21:54:30.076834Z"
    }
   },
   "execution_count": 4
  },
  {
   "cell_type": "markdown",
   "metadata": {},
   "source": [
    "### Data Cleaning"
   ]
  },
  {
   "cell_type": "markdown",
   "source": [
    "#### Basics"
   ],
   "metadata": {
    "collapsed": false
   }
  },
  {
   "cell_type": "markdown",
   "source": [],
   "metadata": {
    "collapsed": false
   }
  },
  {
   "cell_type": "code",
   "execution_count": 5,
   "metadata": {
    "ExecuteTime": {
     "end_time": "2024-01-24T20:19:47.077642Z",
     "start_time": "2024-01-24T20:19:46.954747Z"
    }
   },
   "outputs": [],
   "source": [
    "# drop na diet column\n",
    "df = df.dropna(subset=['Diet'])\n",
    "# Rename AuthorId column\n",
    "df.rename(columns= {\n",
    "    \"AuthorId\" : \"CustomerId\", \n",
    "    \"Time\": \"MaxTime\"\n",
    "}, inplace=True)\n",
    "\n",
    "df[\"Like\"] = df[\"Like\"].astype(\"boolean\")\n",
    "# Change types into category and mapping values\n",
    "df[\"Diet\"] = df[\"Diet\"].astype(\"category\")\n",
    "\n",
    "df[\"RecipeCategory\"] = df[\"RecipeCategory\"].astype(\"category\")\n",
    "\n",
    "mapping_cal = {1: 'Yes', 0.0: 'No'}\n",
    "df['HighCalories'] = df['HighCalories'].map(mapping_cal).astype('category')\n",
    "\n",
    "mapping_protein = {'Yes': 'Yes', 'Indifferent': 'Indifferent', 'No': 'No' }\n",
    "df['HighProtein'] = df['HighProtein'].map(mapping_protein).astype('category')\n",
    "\n",
    "mapping_cal = {1: 'Yes', 0.0: 'No'}\n",
    "df['LowFat'] = df['LowFat'].map(mapping_cal).astype('category')\n",
    "\n",
    "mapping_sugar = {'1': 'Yes', 'Indifferent': 'Indifferent', '0': 'No' }\n",
    "df['LowSugar'] = df['LowSugar'].map(mapping_sugar).astype('category')\n",
    "\n",
    "mapping_cal = {1: 'Yes', 0.0: 'No'}\n",
    "df['HighFiber'] = df['HighFiber'].map(mapping_cal).astype('category')\n",
    "\n",
    "# Remove NA rows and Rating column\n",
    "df = df.drop(\"Rating\", axis=1)\n",
    "\n",
    "\n",
    "# One hot encoding for categorical variables\n",
    "df = pd.get_dummies(df, columns=['Diet','RecipeCategory', 'HighCalories', 'LowFat', 'HighFiber', 'HighProtein', 'LowSugar'], drop_first=True)\n",
    "\n",
    "df.rename(columns={\n",
    "    'HighCalories_Yes': 'want_HighCalories',\n",
    "    'LowFat_Yes':'want_LowFat',\n",
    "    'HighFiber_Yes':'want_HighFiber',\n",
    "    'HighProtein_Yes':'want_HighProtein',\n",
    "}, inplace=True)\n",
    "\n",
    "df[\"DifferenceRequestedAndTimeNeeded\"] = df[\"MaxTime\"] - (df[\"CookTime\"] + df[\"PrepTime\"])"
   ]
  },
  {
   "cell_type": "code",
   "outputs": [],
   "source": [
    "df[\"RecipeIngredientParts\"] = df[\"RecipeIngredientParts\"].str.replace(\")\", '')\n",
    "df[\"RecipeIngredientParts\"] = df[\"RecipeIngredientParts\"].str.replace(\"(\", '')\n",
    "df[\"RecipeIngredientParts\"] = df[\"RecipeIngredientParts\"].str.replace(\"\\\"\", '')\n",
    "df[\"RecipeIngredientParts\"] = df[\"RecipeIngredientParts\"].str.replace(\"\\\\\", '')\n",
    "df['RecipeIngredientParts'] = df['RecipeIngredientParts'].str.replace('^c', '', regex=True)\n",
    "\n",
    "def check_keywords(ingredients):\n",
    "    has_animal_product = any(any(keyword in ingredient.lower() for keyword in [\"meat\", \"chicken\", \"lamb\", \"beef\", \"pork\", \"bacon\", \"fish\", \"sausage\", \"turkey\", \"milk\", \"butter\", \"egg\", \"cheese\", \"breast\", \"gelatin\", \"honey\", \"tuna\", \"steak\", \"salmon\", \"shrimps\"]) for ingredient in ingredients)\n",
    "    has_fish_or_meat = any(any(keyword in ingredient.lower() for keyword in [\"meat\", \"chicken\", \"lamb\", \"beef\", \"pork\", \"bacon\", \"fish\", \"sausage\", \"turkey\", \"tuna\", \"steak\", \"salmon\", 'shrimps']) for ingredient in ingredients)\n",
    "    return has_animal_product, has_fish_or_meat\n",
    "\n",
    "df[['has_animal_product', 'has_fish_meat']] = df['RecipeIngredientParts'].str.split(',').apply(check_keywords).apply(pd.Series)\n",
    "\n",
    "df['for_Vegan'] = ~df['has_animal_product'] & ~df['has_fish_meat']\n",
    "df['for_Vegetarian'] = (df['has_animal_product'] & ~df['has_fish_meat']) | (~df['has_animal_product'] & ~df['has_fish_meat'])\n",
    "df['Correct_Diet'] = (~df['Diet_Vegetarian'] & ~df['Diet_Vegan']) | (df['Diet_Vegan'] & df['for_Vegan']) | (df['Diet_Vegetarian']  & df['for_Vegetarian'] )\n",
    "\n"
   ],
   "metadata": {
    "collapsed": false,
    "ExecuteTime": {
     "end_time": "2024-01-24T20:19:52.883622Z",
     "start_time": "2024-01-24T20:19:47.745017Z"
    }
   },
   "execution_count": 6
  },
  {
   "cell_type": "markdown",
   "source": [
    "***Split data***"
   ],
   "metadata": {
    "collapsed": false
   }
  },
  {
   "cell_type": "code",
   "outputs": [],
   "source": [
    "# Split data into train and test set\n",
    "train_set = df[df[\"TestSetId\"].isna()]\n",
    "test_set = df[df[\"TestSetId\"].notnull()]"
   ],
   "metadata": {
    "collapsed": false,
    "ExecuteTime": {
     "end_time": "2024-01-24T20:19:52.898281Z",
     "start_time": "2024-01-24T20:19:52.884345Z"
    }
   },
   "execution_count": 7
  },
  {
   "cell_type": "markdown",
   "source": [
    "# Handling outliers"
   ],
   "metadata": {
    "collapsed": false
   }
  },
  {
   "cell_type": "code",
   "outputs": [],
   "source": [
    "train_set = train_set[train_set[\"Calories\"] < 300000]"
   ],
   "metadata": {
    "collapsed": false,
    "ExecuteTime": {
     "end_time": "2024-01-24T20:19:52.910275Z",
     "start_time": "2024-01-24T20:19:52.898547Z"
    }
   },
   "execution_count": 8
  },
  {
   "cell_type": "markdown",
   "source": [
    "### Missing values"
   ],
   "metadata": {
    "collapsed": false
   }
  },
  {
   "cell_type": "code",
   "outputs": [],
   "source": [
    "train_set.dropna(subset=[\"Like\"], inplace=True)\n",
    "train_set = train_set.drop(\"TestSetId\", axis=1)"
   ],
   "metadata": {
    "collapsed": false,
    "ExecuteTime": {
     "end_time": "2024-01-24T20:19:52.930758Z",
     "start_time": "2024-01-24T20:19:52.909568Z"
    }
   },
   "execution_count": 9
  },
  {
   "cell_type": "code",
   "outputs": [],
   "source": [
    "# needs to be done after outlier removal\n",
    "recipesServings_mean = train_set['RecipeServings'].mean()\n",
    "#fill na rows with the mean\n",
    "train_set.loc[:, 'RecipeServings'] = train_set['RecipeServings'].fillna(recipesServings_mean)\n",
    "test_set.loc[:, 'RecipeServings'] = test_set['RecipeServings'].fillna(recipesServings_mean)"
   ],
   "metadata": {
    "collapsed": false,
    "ExecuteTime": {
     "end_time": "2024-01-24T20:19:52.934445Z",
     "start_time": "2024-01-24T20:19:52.931563Z"
    }
   },
   "execution_count": 10
  },
  {
   "cell_type": "markdown",
   "source": [],
   "metadata": {
    "collapsed": false
   }
  },
  {
   "cell_type": "code",
   "outputs": [],
   "source": [],
   "metadata": {
    "collapsed": false
   }
  },
  {
   "cell_type": "markdown",
   "metadata": {
    "collapsed": false
   },
   "source": [
    "***Train Model***\n"
   ]
  },
  {
   "cell_type": "code",
   "outputs": [],
   "source": [
    "#Variables that are good according to xgboost: \n",
    "\n",
    "#variables_to_drop = ['CustomerId', 'RecipeId', 'Like', 'Name', 'RecipeIngredientQuantities', 'RecipeIngredientParts', 'RecipeYield', \"Calories\", \"SaturatedFatContent\", \"SugarContent\", \"CookTime\", \"PrepTime\", \"Diet_Vegan\", \"Diet_Vegetarian\", \"RecipeCategory_Bread\", \"RecipeCategory_Other\", \"RecipeCategory_Breakfast\", \"RecipeCategory_Lunch\", \"RecipeCategory_Soup\", \"RecipeCategory_One dish meal\", \"LowSugar_No\", \"CholesterolContent\", \"SodiumContent\", \"FiberContent\", \"RecipeServings\", \"Time\", \"HighCalories\", \"HighFiber\"]\n",
    "\n",
    "variables_to_drop = ['CustomerId', 'RecipeId', 'Like', 'Name', 'RecipeIngredientQuantities', 'RecipeIngredientParts', 'RecipeYield','MaxTime', 'for_Vegetarian', 'for_Vegan', 'has_fish_meat', 'has_animal_product']\n",
    "X = train_set.drop(variables_to_drop, axis=1)\n",
    "y = train_set['Like']\n",
    "test_set = test_set.drop(variables_to_drop, axis=1)"
   ],
   "metadata": {
    "collapsed": false,
    "ExecuteTime": {
     "end_time": "2024-01-24T20:19:53.749906Z",
     "start_time": "2024-01-24T20:19:53.745903Z"
    }
   },
   "execution_count": 11
  },
  {
   "cell_type": "code",
   "outputs": [],
   "source": [
    "X_train, X_test, y_train, y_test = \\\n",
    "    train_test_split(X, y,\n",
    "                     test_size=0.3,\n",
    "                     shuffle=True,\n",
    "                     random_state=seed)"
   ],
   "metadata": {
    "collapsed": false,
    "ExecuteTime": {
     "end_time": "2024-01-24T20:19:54.586587Z",
     "start_time": "2024-01-24T20:19:54.569915Z"
    }
   },
   "execution_count": 12
  },
  {
   "cell_type": "markdown",
   "source": [
    "# Grid Search"
   ],
   "metadata": {
    "collapsed": false
   }
  },
  {
   "cell_type": "code",
   "outputs": [
    {
     "data": {
      "text/plain": "RandomizedSearchCV(cv=5,\n                   estimator=GradientBoostingClassifier(random_state=2024),\n                   n_jobs=-1,\n                   param_distributions={'learning_rate': [0.1, 0.2, 0.3, 0.4,\n                                                          0.5],\n                                        'max_depth': [3, 5, 7, 10],\n                                        'n_estimators': [200, 250, 300, 350,\n                                                         400]},\n                   scoring='balanced_accuracy')",
      "text/html": "<style>#sk-container-id-4 {color: black;}#sk-container-id-4 pre{padding: 0;}#sk-container-id-4 div.sk-toggleable {background-color: white;}#sk-container-id-4 label.sk-toggleable__label {cursor: pointer;display: block;width: 100%;margin-bottom: 0;padding: 0.3em;box-sizing: border-box;text-align: center;}#sk-container-id-4 label.sk-toggleable__label-arrow:before {content: \"▸\";float: left;margin-right: 0.25em;color: #696969;}#sk-container-id-4 label.sk-toggleable__label-arrow:hover:before {color: black;}#sk-container-id-4 div.sk-estimator:hover label.sk-toggleable__label-arrow:before {color: black;}#sk-container-id-4 div.sk-toggleable__content {max-height: 0;max-width: 0;overflow: hidden;text-align: left;background-color: #f0f8ff;}#sk-container-id-4 div.sk-toggleable__content pre {margin: 0.2em;color: black;border-radius: 0.25em;background-color: #f0f8ff;}#sk-container-id-4 input.sk-toggleable__control:checked~div.sk-toggleable__content {max-height: 200px;max-width: 100%;overflow: auto;}#sk-container-id-4 input.sk-toggleable__control:checked~label.sk-toggleable__label-arrow:before {content: \"▾\";}#sk-container-id-4 div.sk-estimator input.sk-toggleable__control:checked~label.sk-toggleable__label {background-color: #d4ebff;}#sk-container-id-4 div.sk-label input.sk-toggleable__control:checked~label.sk-toggleable__label {background-color: #d4ebff;}#sk-container-id-4 input.sk-hidden--visually {border: 0;clip: rect(1px 1px 1px 1px);clip: rect(1px, 1px, 1px, 1px);height: 1px;margin: -1px;overflow: hidden;padding: 0;position: absolute;width: 1px;}#sk-container-id-4 div.sk-estimator {font-family: monospace;background-color: #f0f8ff;border: 1px dotted black;border-radius: 0.25em;box-sizing: border-box;margin-bottom: 0.5em;}#sk-container-id-4 div.sk-estimator:hover {background-color: #d4ebff;}#sk-container-id-4 div.sk-parallel-item::after {content: \"\";width: 100%;border-bottom: 1px solid gray;flex-grow: 1;}#sk-container-id-4 div.sk-label:hover label.sk-toggleable__label {background-color: #d4ebff;}#sk-container-id-4 div.sk-serial::before {content: \"\";position: absolute;border-left: 1px solid gray;box-sizing: border-box;top: 0;bottom: 0;left: 50%;z-index: 0;}#sk-container-id-4 div.sk-serial {display: flex;flex-direction: column;align-items: center;background-color: white;padding-right: 0.2em;padding-left: 0.2em;position: relative;}#sk-container-id-4 div.sk-item {position: relative;z-index: 1;}#sk-container-id-4 div.sk-parallel {display: flex;align-items: stretch;justify-content: center;background-color: white;position: relative;}#sk-container-id-4 div.sk-item::before, #sk-container-id-4 div.sk-parallel-item::before {content: \"\";position: absolute;border-left: 1px solid gray;box-sizing: border-box;top: 0;bottom: 0;left: 50%;z-index: -1;}#sk-container-id-4 div.sk-parallel-item {display: flex;flex-direction: column;z-index: 1;position: relative;background-color: white;}#sk-container-id-4 div.sk-parallel-item:first-child::after {align-self: flex-end;width: 50%;}#sk-container-id-4 div.sk-parallel-item:last-child::after {align-self: flex-start;width: 50%;}#sk-container-id-4 div.sk-parallel-item:only-child::after {width: 0;}#sk-container-id-4 div.sk-dashed-wrapped {border: 1px dashed gray;margin: 0 0.4em 0.5em 0.4em;box-sizing: border-box;padding-bottom: 0.4em;background-color: white;}#sk-container-id-4 div.sk-label label {font-family: monospace;font-weight: bold;display: inline-block;line-height: 1.2em;}#sk-container-id-4 div.sk-label-container {text-align: center;}#sk-container-id-4 div.sk-container {/* jupyter's `normalize.less` sets `[hidden] { display: none; }` but bootstrap.min.css set `[hidden] { display: none !important; }` so we also need the `!important` here to be able to override the default hidden behavior on the sphinx rendered scikit-learn.org. See: https://github.com/scikit-learn/scikit-learn/issues/21755 */display: inline-block !important;position: relative;}#sk-container-id-4 div.sk-text-repr-fallback {display: none;}</style><div id=\"sk-container-id-4\" class=\"sk-top-container\"><div class=\"sk-text-repr-fallback\"><pre>RandomizedSearchCV(cv=5,\n                   estimator=GradientBoostingClassifier(random_state=2024),\n                   n_jobs=-1,\n                   param_distributions={&#x27;learning_rate&#x27;: [0.1, 0.2, 0.3, 0.4,\n                                                          0.5],\n                                        &#x27;max_depth&#x27;: [3, 5, 7, 10],\n                                        &#x27;n_estimators&#x27;: [200, 250, 300, 350,\n                                                         400]},\n                   scoring=&#x27;balanced_accuracy&#x27;)</pre><b>In a Jupyter environment, please rerun this cell to show the HTML representation or trust the notebook. <br />On GitHub, the HTML representation is unable to render, please try loading this page with nbviewer.org.</b></div><div class=\"sk-container\" hidden><div class=\"sk-item sk-dashed-wrapped\"><div class=\"sk-label-container\"><div class=\"sk-label sk-toggleable\"><input class=\"sk-toggleable__control sk-hidden--visually\" id=\"sk-estimator-id-6\" type=\"checkbox\" ><label for=\"sk-estimator-id-6\" class=\"sk-toggleable__label sk-toggleable__label-arrow\">RandomizedSearchCV</label><div class=\"sk-toggleable__content\"><pre>RandomizedSearchCV(cv=5,\n                   estimator=GradientBoostingClassifier(random_state=2024),\n                   n_jobs=-1,\n                   param_distributions={&#x27;learning_rate&#x27;: [0.1, 0.2, 0.3, 0.4,\n                                                          0.5],\n                                        &#x27;max_depth&#x27;: [3, 5, 7, 10],\n                                        &#x27;n_estimators&#x27;: [200, 250, 300, 350,\n                                                         400]},\n                   scoring=&#x27;balanced_accuracy&#x27;)</pre></div></div></div><div class=\"sk-parallel\"><div class=\"sk-parallel-item\"><div class=\"sk-item\"><div class=\"sk-label-container\"><div class=\"sk-label sk-toggleable\"><input class=\"sk-toggleable__control sk-hidden--visually\" id=\"sk-estimator-id-7\" type=\"checkbox\" ><label for=\"sk-estimator-id-7\" class=\"sk-toggleable__label sk-toggleable__label-arrow\">estimator: GradientBoostingClassifier</label><div class=\"sk-toggleable__content\"><pre>GradientBoostingClassifier(random_state=2024)</pre></div></div></div><div class=\"sk-serial\"><div class=\"sk-item\"><div class=\"sk-estimator sk-toggleable\"><input class=\"sk-toggleable__control sk-hidden--visually\" id=\"sk-estimator-id-8\" type=\"checkbox\" ><label for=\"sk-estimator-id-8\" class=\"sk-toggleable__label sk-toggleable__label-arrow\">GradientBoostingClassifier</label><div class=\"sk-toggleable__content\"><pre>GradientBoostingClassifier(random_state=2024)</pre></div></div></div></div></div></div></div></div></div></div>"
     },
     "execution_count": 48,
     "metadata": {},
     "output_type": "execute_result"
    }
   ],
   "source": [
    "from sklearn.model_selection import RandomizedSearchCV\n",
    "\n",
    "param_grid = {\n",
    "    'n_estimators': [ 200, 250, 300, 350, 400],\n",
    "    'learning_rate': [0.1, 0.2, 0.3, 0.4, 0.5],\n",
    "    'max_depth': [3, 5, 7, 10],\n",
    "    # Add other hyperparameters\n",
    "}\n",
    "\n",
    "gbc = GradientBoostingClassifier(random_state=seed)\n",
    "\n",
    "random_search = RandomizedSearchCV(\n",
    "    gbc, param_distributions=param_grid, n_iter=10, scoring='balanced_accuracy', cv=5, n_jobs=-1\n",
    ")\n",
    "\n",
    "random_search.fit(X_train, y_train)"
   ],
   "metadata": {
    "collapsed": false,
    "ExecuteTime": {
     "end_time": "2024-01-24T19:21:43.851209Z",
     "start_time": "2024-01-24T19:15:02.226101Z"
    }
   },
   "execution_count": 48
  },
  {
   "cell_type": "code",
   "outputs": [
    {
     "name": "stdout",
     "output_type": "stream",
     "text": [
      "Best Parameters: {'n_estimators': 250, 'max_depth': 5, 'learning_rate': 0.2}\n",
      "Best Score: 0.7405427095493747\n",
      "Best Model: GradientBoostingClassifier(learning_rate=0.2, max_depth=5, n_estimators=250,\n",
      "                           random_state=2024)\n",
      "Full Results:\n",
      "   mean_fit_time  std_fit_time  mean_score_time  std_score_time  \\\n",
      "0     122.651424      0.381638         0.123724        0.004102   \n",
      "1     107.589064      0.273423         0.106389        0.009898   \n",
      "2      51.775119      0.296008         0.048096        0.006351   \n",
      "3      54.238592      0.161859         0.063764        0.005731   \n",
      "4      43.461197      0.173879         0.058936        0.004957   \n",
      "5      51.541954      0.211115         0.063183        0.007220   \n",
      "6      53.445362      0.280800         0.055505        0.005533   \n",
      "7      74.070689      1.033633         0.067820        0.006676   \n",
      "8      53.472121      0.316624         0.054263        0.002527   \n",
      "9     103.257273      3.019774         0.099346        0.001248   \n",
      "\n",
      "  param_n_estimators param_max_depth param_learning_rate  \\\n",
      "0                400               7                 0.5   \n",
      "1                350               7                 0.4   \n",
      "2                400               3                 0.4   \n",
      "3                250               5                 0.1   \n",
      "4                200               5                 0.1   \n",
      "5                400               3                 0.1   \n",
      "6                250               5                 0.5   \n",
      "7                350               5                 0.4   \n",
      "8                250               5                 0.2   \n",
      "9                400               7                 0.3   \n",
      "\n",
      "                                              params  split0_test_score  \\\n",
      "0  {'n_estimators': 400, 'max_depth': 7, 'learnin...           0.730247   \n",
      "1  {'n_estimators': 350, 'max_depth': 7, 'learnin...           0.740080   \n",
      "2  {'n_estimators': 400, 'max_depth': 3, 'learnin...           0.735285   \n",
      "3  {'n_estimators': 250, 'max_depth': 5, 'learnin...           0.735492   \n",
      "4  {'n_estimators': 200, 'max_depth': 5, 'learnin...           0.732998   \n",
      "5  {'n_estimators': 400, 'max_depth': 3, 'learnin...           0.723657   \n",
      "6  {'n_estimators': 250, 'max_depth': 5, 'learnin...           0.737943   \n",
      "7  {'n_estimators': 350, 'max_depth': 5, 'learnin...           0.738020   \n",
      "8  {'n_estimators': 250, 'max_depth': 5, 'learnin...           0.740522   \n",
      "9  {'n_estimators': 400, 'max_depth': 7, 'learnin...           0.736269   \n",
      "\n",
      "   split1_test_score  split2_test_score  split3_test_score  split4_test_score  \\\n",
      "0           0.746930           0.740296           0.732327           0.742491   \n",
      "1           0.739540           0.737940           0.724983           0.742423   \n",
      "2           0.741465           0.732766           0.723531           0.739264   \n",
      "3           0.744499           0.738042           0.723899           0.737223   \n",
      "4           0.739438           0.737048           0.721793           0.733707   \n",
      "5           0.729492           0.725153           0.706162           0.724627   \n",
      "6           0.746557           0.743028           0.724195           0.746654   \n",
      "7           0.741471           0.741736           0.733510           0.746925   \n",
      "8           0.747701           0.740183           0.728211           0.746096   \n",
      "9           0.746213           0.743679           0.728047           0.747907   \n",
      "\n",
      "   mean_test_score  std_test_score  rank_test_score  \n",
      "0         0.738458        0.006268                5  \n",
      "1         0.736993        0.006175                6  \n",
      "2         0.734462        0.006247                8  \n",
      "3         0.735831        0.006700                7  \n",
      "4         0.732997        0.006065                9  \n",
      "5         0.721818        0.008080               10  \n",
      "6         0.739675        0.008366                4  \n",
      "7         0.740332        0.004441                3  \n",
      "8         0.740543        0.006845                1  \n",
      "9         0.740423        0.007356                2  \n"
     ]
    }
   ],
   "source": [
    "best_params = random_search.best_params_\n",
    "best_score = random_search.best_score_\n",
    "best_model = random_search.best_estimator_\n",
    "results_df = pd.DataFrame(random_search.cv_results_)\n",
    "results_df.to_csv(\"grid_search_results_csv\", index=False)\n",
    "\n",
    "print(\"Best Parameters:\", best_params)\n",
    "print(\"Best Score:\", best_score)\n",
    "print(\"Best Model:\", best_model)\n",
    "\n",
    "# Display the full results DataFrame\n",
    "print(\"Full Results:\")\n",
    "print(results_df)"
   ],
   "metadata": {
    "collapsed": false,
    "ExecuteTime": {
     "end_time": "2024-01-24T19:21:43.859213Z",
     "start_time": "2024-01-24T19:21:43.848280Z"
    }
   },
   "execution_count": 49
  },
  {
   "cell_type": "code",
   "outputs": [
    {
     "data": {
      "text/plain": "GradientBoostingClassifier(max_depth=7, n_estimators=400, random_state=2024)",
      "text/html": "<style>#sk-container-id-2 {color: black;}#sk-container-id-2 pre{padding: 0;}#sk-container-id-2 div.sk-toggleable {background-color: white;}#sk-container-id-2 label.sk-toggleable__label {cursor: pointer;display: block;width: 100%;margin-bottom: 0;padding: 0.3em;box-sizing: border-box;text-align: center;}#sk-container-id-2 label.sk-toggleable__label-arrow:before {content: \"▸\";float: left;margin-right: 0.25em;color: #696969;}#sk-container-id-2 label.sk-toggleable__label-arrow:hover:before {color: black;}#sk-container-id-2 div.sk-estimator:hover label.sk-toggleable__label-arrow:before {color: black;}#sk-container-id-2 div.sk-toggleable__content {max-height: 0;max-width: 0;overflow: hidden;text-align: left;background-color: #f0f8ff;}#sk-container-id-2 div.sk-toggleable__content pre {margin: 0.2em;color: black;border-radius: 0.25em;background-color: #f0f8ff;}#sk-container-id-2 input.sk-toggleable__control:checked~div.sk-toggleable__content {max-height: 200px;max-width: 100%;overflow: auto;}#sk-container-id-2 input.sk-toggleable__control:checked~label.sk-toggleable__label-arrow:before {content: \"▾\";}#sk-container-id-2 div.sk-estimator input.sk-toggleable__control:checked~label.sk-toggleable__label {background-color: #d4ebff;}#sk-container-id-2 div.sk-label input.sk-toggleable__control:checked~label.sk-toggleable__label {background-color: #d4ebff;}#sk-container-id-2 input.sk-hidden--visually {border: 0;clip: rect(1px 1px 1px 1px);clip: rect(1px, 1px, 1px, 1px);height: 1px;margin: -1px;overflow: hidden;padding: 0;position: absolute;width: 1px;}#sk-container-id-2 div.sk-estimator {font-family: monospace;background-color: #f0f8ff;border: 1px dotted black;border-radius: 0.25em;box-sizing: border-box;margin-bottom: 0.5em;}#sk-container-id-2 div.sk-estimator:hover {background-color: #d4ebff;}#sk-container-id-2 div.sk-parallel-item::after {content: \"\";width: 100%;border-bottom: 1px solid gray;flex-grow: 1;}#sk-container-id-2 div.sk-label:hover label.sk-toggleable__label {background-color: #d4ebff;}#sk-container-id-2 div.sk-serial::before {content: \"\";position: absolute;border-left: 1px solid gray;box-sizing: border-box;top: 0;bottom: 0;left: 50%;z-index: 0;}#sk-container-id-2 div.sk-serial {display: flex;flex-direction: column;align-items: center;background-color: white;padding-right: 0.2em;padding-left: 0.2em;position: relative;}#sk-container-id-2 div.sk-item {position: relative;z-index: 1;}#sk-container-id-2 div.sk-parallel {display: flex;align-items: stretch;justify-content: center;background-color: white;position: relative;}#sk-container-id-2 div.sk-item::before, #sk-container-id-2 div.sk-parallel-item::before {content: \"\";position: absolute;border-left: 1px solid gray;box-sizing: border-box;top: 0;bottom: 0;left: 50%;z-index: -1;}#sk-container-id-2 div.sk-parallel-item {display: flex;flex-direction: column;z-index: 1;position: relative;background-color: white;}#sk-container-id-2 div.sk-parallel-item:first-child::after {align-self: flex-end;width: 50%;}#sk-container-id-2 div.sk-parallel-item:last-child::after {align-self: flex-start;width: 50%;}#sk-container-id-2 div.sk-parallel-item:only-child::after {width: 0;}#sk-container-id-2 div.sk-dashed-wrapped {border: 1px dashed gray;margin: 0 0.4em 0.5em 0.4em;box-sizing: border-box;padding-bottom: 0.4em;background-color: white;}#sk-container-id-2 div.sk-label label {font-family: monospace;font-weight: bold;display: inline-block;line-height: 1.2em;}#sk-container-id-2 div.sk-label-container {text-align: center;}#sk-container-id-2 div.sk-container {/* jupyter's `normalize.less` sets `[hidden] { display: none; }` but bootstrap.min.css set `[hidden] { display: none !important; }` so we also need the `!important` here to be able to override the default hidden behavior on the sphinx rendered scikit-learn.org. See: https://github.com/scikit-learn/scikit-learn/issues/21755 */display: inline-block !important;position: relative;}#sk-container-id-2 div.sk-text-repr-fallback {display: none;}</style><div id=\"sk-container-id-2\" class=\"sk-top-container\"><div class=\"sk-text-repr-fallback\"><pre>GradientBoostingClassifier(max_depth=7, n_estimators=400, random_state=2024)</pre><b>In a Jupyter environment, please rerun this cell to show the HTML representation or trust the notebook. <br />On GitHub, the HTML representation is unable to render, please try loading this page with nbviewer.org.</b></div><div class=\"sk-container\" hidden><div class=\"sk-item\"><div class=\"sk-estimator sk-toggleable\"><input class=\"sk-toggleable__control sk-hidden--visually\" id=\"sk-estimator-id-2\" type=\"checkbox\" checked><label for=\"sk-estimator-id-2\" class=\"sk-toggleable__label sk-toggleable__label-arrow\">GradientBoostingClassifier</label><div class=\"sk-toggleable__content\"><pre>GradientBoostingClassifier(max_depth=7, n_estimators=400, random_state=2024)</pre></div></div></div></div></div>"
     },
     "execution_count": 43,
     "metadata": {},
     "output_type": "execute_result"
    }
   ],
   "source": [
    "train_model = GradientBoostingClassifier(n_estimators=400, learning_rate=0.1, max_depth=7, random_state=seed)\n",
    "train_model.fit(X_train,y_train)"
   ],
   "metadata": {
    "collapsed": false,
    "ExecuteTime": {
     "end_time": "2024-01-24T19:02:57.894555Z",
     "start_time": "2024-01-24T19:01:09.365353Z"
    }
   },
   "execution_count": 43
  },
  {
   "cell_type": "code",
   "outputs": [
    {
     "name": "stdout",
     "output_type": "stream",
     "text": [
      "         Like  Predicted_Like  Probability_Like=0  Probability_Like=1\n",
      "57595   False             0.0            0.762132            0.237868\n",
      "45723   False             0.0            0.994657            0.005343\n",
      "86478   False             0.0            0.995888            0.004112\n",
      "133143  False             0.0            0.998304            0.001696\n",
      "65385   False             0.0            0.998031            0.001969\n",
      "...       ...             ...                 ...                 ...\n",
      "80133   False             0.0            0.991627            0.008373\n",
      "58468   False             1.0            0.257754            0.742246\n",
      "86921   False             0.0            0.999438            0.000562\n",
      "95676   False             0.0            0.521481            0.478519\n",
      "115763  False             0.0            0.993786            0.006214\n",
      "\n",
      "[29214 rows x 4 columns]\n",
      "Confusion Matrix:\n",
      "[[24499   820]\n",
      " [ 1884  2011]]\n",
      "Test-Precision: 0.7103496997527375\n",
      "Test-Accuracy: 0.9074416375710276\n",
      "Test-Recall: 0.5163029525032092\n",
      "Test Balanced Accuracy: 0.7419581036855475\n"
     ]
    }
   ],
   "source": [
    "test_predictions = train_model.predict(X_test)\n",
    "test_probabilities = train_model.predict_proba(X_test)\n",
    "\n",
    "test_predictions_df = pd.DataFrame({'Like': y_test, \n",
    "                                     'Predicted_Like': test_predictions,\n",
    "                                     'Probability_Like=0': test_probabilities[:, 0],\n",
    "                                     'Probability_Like=1': test_probabilities[:, 1]})\n",
    "print(test_predictions_df)\n",
    "\n",
    "\n",
    "# Confusion Matrix\n",
    "conf_matrix = confusion_matrix(y_test, test_predictions)\n",
    "print(\"Confusion Matrix:\")\n",
    "print(conf_matrix)\n",
    "\n",
    "# Precision, accuracy, recall\n",
    "print(\"Test-Precision:\", precision_score(y_test, test_predictions))\n",
    "print(\"Test-Accuracy:\", accuracy_score(y_test, test_predictions))\n",
    "print(\"Test-Recall:\", recall_score(y_test, test_predictions))\n",
    "print(\"Test Balanced Accuracy:\", balanced_accuracy_score(y_test, test_predictions))"
   ],
   "metadata": {
    "collapsed": false,
    "ExecuteTime": {
     "end_time": "2024-01-24T19:03:01.094508Z",
     "start_time": "2024-01-24T19:03:00.655112Z"
    }
   },
   "execution_count": 44
  },
  {
   "cell_type": "markdown",
   "source": [
    "0.7466979011484827\n",
    "7419581036855475"
   ],
   "metadata": {
    "collapsed": false
   }
  },
  {
   "cell_type": "markdown",
   "source": [
    "***Output file with test set***"
   ],
   "metadata": {
    "collapsed": false
   }
  },
  {
   "cell_type": "code",
   "outputs": [
    {
     "ename": "KeyError",
     "evalue": "'prediction'",
     "output_type": "error",
     "traceback": [
      "\u001B[0;31m---------------------------------------------------------------------------\u001B[0m",
      "\u001B[0;31mKeyError\u001B[0m                                  Traceback (most recent call last)",
      "File \u001B[0;32m/Library/Frameworks/Python.framework/Versions/3.12/lib/python3.12/site-packages/pandas/core/indexes/base.py:3791\u001B[0m, in \u001B[0;36mIndex.get_loc\u001B[0;34m(self, key)\u001B[0m\n\u001B[1;32m   3790\u001B[0m \u001B[38;5;28;01mtry\u001B[39;00m:\n\u001B[0;32m-> 3791\u001B[0m     \u001B[38;5;28;01mreturn\u001B[39;00m \u001B[38;5;28;43mself\u001B[39;49m\u001B[38;5;241;43m.\u001B[39;49m\u001B[43m_engine\u001B[49m\u001B[38;5;241;43m.\u001B[39;49m\u001B[43mget_loc\u001B[49m\u001B[43m(\u001B[49m\u001B[43mcasted_key\u001B[49m\u001B[43m)\u001B[49m\n\u001B[1;32m   3792\u001B[0m \u001B[38;5;28;01mexcept\u001B[39;00m \u001B[38;5;167;01mKeyError\u001B[39;00m \u001B[38;5;28;01mas\u001B[39;00m err:\n",
      "File \u001B[0;32mindex.pyx:152\u001B[0m, in \u001B[0;36mpandas._libs.index.IndexEngine.get_loc\u001B[0;34m()\u001B[0m\n",
      "File \u001B[0;32mindex.pyx:181\u001B[0m, in \u001B[0;36mpandas._libs.index.IndexEngine.get_loc\u001B[0;34m()\u001B[0m\n",
      "File \u001B[0;32mpandas/_libs/hashtable_class_helper.pxi:7080\u001B[0m, in \u001B[0;36mpandas._libs.hashtable.PyObjectHashTable.get_item\u001B[0;34m()\u001B[0m\n",
      "File \u001B[0;32mpandas/_libs/hashtable_class_helper.pxi:7088\u001B[0m, in \u001B[0;36mpandas._libs.hashtable.PyObjectHashTable.get_item\u001B[0;34m()\u001B[0m\n",
      "\u001B[0;31mKeyError\u001B[0m: 'prediction'",
      "\nThe above exception was the direct cause of the following exception:\n",
      "\u001B[0;31mKeyError\u001B[0m                                  Traceback (most recent call last)",
      "Cell \u001B[0;32mIn[183], line 4\u001B[0m\n\u001B[1;32m      2\u001B[0m test_output \u001B[38;5;241m=\u001B[39m pd\u001B[38;5;241m.\u001B[39mDataFrame(columns\u001B[38;5;241m=\u001B[39m[\u001B[38;5;124m\"\u001B[39m\u001B[38;5;124mid\u001B[39m\u001B[38;5;124m\"\u001B[39m, \u001B[38;5;124m\"\u001B[39m\u001B[38;5;124mprediction\u001B[39m\u001B[38;5;124m\"\u001B[39m])\n\u001B[1;32m      3\u001B[0m test_output[\u001B[38;5;124m\"\u001B[39m\u001B[38;5;124mid\u001B[39m\u001B[38;5;124m\"\u001B[39m] \u001B[38;5;241m=\u001B[39m test_set[\u001B[38;5;124m\"\u001B[39m\u001B[38;5;124mTestSetId\u001B[39m\u001B[38;5;124m\"\u001B[39m]\u001B[38;5;241m.\u001B[39mastype(\u001B[38;5;28mint\u001B[39m)\n\u001B[0;32m----> 4\u001B[0m test_output[\u001B[38;5;124m\"\u001B[39m\u001B[38;5;124mprediction\u001B[39m\u001B[38;5;124m\"\u001B[39m] \u001B[38;5;241m=\u001B[39m \u001B[43mtest_set\u001B[49m\u001B[43m[\u001B[49m\u001B[38;5;124;43m\"\u001B[39;49m\u001B[38;5;124;43mprediction\u001B[39;49m\u001B[38;5;124;43m\"\u001B[39;49m\u001B[43m]\u001B[49m\u001B[38;5;241m.\u001B[39mastype(\u001B[38;5;28mint\u001B[39m)\n\u001B[1;32m      5\u001B[0m test_output\u001B[38;5;241m.\u001B[39mto_csv(\u001B[38;5;124m\"\u001B[39m\u001B[38;5;124mpredictions_LetsSeePaulAllens\u001B[39m\u001B[38;5;124m'\u001B[39m\u001B[38;5;124mBAC_2.csv\u001B[39m\u001B[38;5;124m\"\u001B[39m, index\u001B[38;5;241m=\u001B[39m\u001B[38;5;28;01mFalse\u001B[39;00m)\n",
      "File \u001B[0;32m/Library/Frameworks/Python.framework/Versions/3.12/lib/python3.12/site-packages/pandas/core/frame.py:3893\u001B[0m, in \u001B[0;36mDataFrame.__getitem__\u001B[0;34m(self, key)\u001B[0m\n\u001B[1;32m   3891\u001B[0m \u001B[38;5;28;01mif\u001B[39;00m \u001B[38;5;28mself\u001B[39m\u001B[38;5;241m.\u001B[39mcolumns\u001B[38;5;241m.\u001B[39mnlevels \u001B[38;5;241m>\u001B[39m \u001B[38;5;241m1\u001B[39m:\n\u001B[1;32m   3892\u001B[0m     \u001B[38;5;28;01mreturn\u001B[39;00m \u001B[38;5;28mself\u001B[39m\u001B[38;5;241m.\u001B[39m_getitem_multilevel(key)\n\u001B[0;32m-> 3893\u001B[0m indexer \u001B[38;5;241m=\u001B[39m \u001B[38;5;28;43mself\u001B[39;49m\u001B[38;5;241;43m.\u001B[39;49m\u001B[43mcolumns\u001B[49m\u001B[38;5;241;43m.\u001B[39;49m\u001B[43mget_loc\u001B[49m\u001B[43m(\u001B[49m\u001B[43mkey\u001B[49m\u001B[43m)\u001B[49m\n\u001B[1;32m   3894\u001B[0m \u001B[38;5;28;01mif\u001B[39;00m is_integer(indexer):\n\u001B[1;32m   3895\u001B[0m     indexer \u001B[38;5;241m=\u001B[39m [indexer]\n",
      "File \u001B[0;32m/Library/Frameworks/Python.framework/Versions/3.12/lib/python3.12/site-packages/pandas/core/indexes/base.py:3798\u001B[0m, in \u001B[0;36mIndex.get_loc\u001B[0;34m(self, key)\u001B[0m\n\u001B[1;32m   3793\u001B[0m     \u001B[38;5;28;01mif\u001B[39;00m \u001B[38;5;28misinstance\u001B[39m(casted_key, \u001B[38;5;28mslice\u001B[39m) \u001B[38;5;129;01mor\u001B[39;00m (\n\u001B[1;32m   3794\u001B[0m         \u001B[38;5;28misinstance\u001B[39m(casted_key, abc\u001B[38;5;241m.\u001B[39mIterable)\n\u001B[1;32m   3795\u001B[0m         \u001B[38;5;129;01mand\u001B[39;00m \u001B[38;5;28many\u001B[39m(\u001B[38;5;28misinstance\u001B[39m(x, \u001B[38;5;28mslice\u001B[39m) \u001B[38;5;28;01mfor\u001B[39;00m x \u001B[38;5;129;01min\u001B[39;00m casted_key)\n\u001B[1;32m   3796\u001B[0m     ):\n\u001B[1;32m   3797\u001B[0m         \u001B[38;5;28;01mraise\u001B[39;00m InvalidIndexError(key)\n\u001B[0;32m-> 3798\u001B[0m     \u001B[38;5;28;01mraise\u001B[39;00m \u001B[38;5;167;01mKeyError\u001B[39;00m(key) \u001B[38;5;28;01mfrom\u001B[39;00m \u001B[38;5;21;01merr\u001B[39;00m\n\u001B[1;32m   3799\u001B[0m \u001B[38;5;28;01mexcept\u001B[39;00m \u001B[38;5;167;01mTypeError\u001B[39;00m:\n\u001B[1;32m   3800\u001B[0m     \u001B[38;5;66;03m# If we have a listlike key, _check_indexing_error will raise\u001B[39;00m\n\u001B[1;32m   3801\u001B[0m     \u001B[38;5;66;03m#  InvalidIndexError. Otherwise we fall through and re-raise\u001B[39;00m\n\u001B[1;32m   3802\u001B[0m     \u001B[38;5;66;03m#  the TypeError.\u001B[39;00m\n\u001B[1;32m   3803\u001B[0m     \u001B[38;5;28mself\u001B[39m\u001B[38;5;241m.\u001B[39m_check_indexing_error(key)\n",
      "\u001B[0;31mKeyError\u001B[0m: 'prediction'"
     ]
    }
   ],
   "source": [
    "#test_set[\"prediction\"] = train_model.predict(test_set.drop(\"TestSetId\", axis=1))\n",
    "test_output = pd.DataFrame(columns=[\"id\", \"prediction\"])\n",
    "test_output[\"id\"] = test_set[\"TestSetId\"].astype(int)\n",
    "test_output[\"prediction\"] = test_set[\"prediction\"].astype(int)\n",
    "test_output.to_csv(\"predictions_LetsSeePaulAllens'BAC_2.csv\", index=False)"
   ],
   "metadata": {
    "collapsed": false,
    "ExecuteTime": {
     "end_time": "2024-01-22T15:13:26.279011Z",
     "start_time": "2024-01-22T15:13:26.249290Z"
    }
   },
   "execution_count": 183
  }
 ],
 "metadata": {
  "kernelspec": {
   "display_name": "Python 3 (ipykernel)",
   "language": "python",
   "name": "python3"
  },
  "language_info": {
   "codemirror_mode": {
    "name": "ipython",
    "version": 3
   },
   "file_extension": ".py",
   "mimetype": "text/x-python",
   "name": "python",
   "nbconvert_exporter": "python",
   "pygments_lexer": "ipython3",
   "version": "3.10.4"
  }
 },
 "nbformat": 4,
 "nbformat_minor": 4
}
