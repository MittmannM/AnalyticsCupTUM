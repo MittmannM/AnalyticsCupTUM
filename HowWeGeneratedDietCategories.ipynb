{
 "cells": [
  {
   "cell_type": "code",
   "outputs": [],
   "source": [
    "import pandas as pd"
   ],
   "metadata": {
    "collapsed": false
   },
   "id": "aa50416af4345b85"
  },
  {
   "cell_type": "code",
   "outputs": [],
   "source": [
    "diet_csv = pd.read_csv(\"diet.csv\").copy()\n",
    "recipes_csv = pd.read_csv(\"recipes.csv\").copy()\n",
    "requests_csv = pd.read_csv(\"requests.csv\").copy()\n",
    "reviews_csv = pd.read_csv(\"reviews.csv\").copy()\n",
    "not_vegetarian_input = pd.read_excel(\"not_vegetarian.xlsx\", header=None, names=[\"Sheet1\"])\n",
    "not_vegan_input = pd.read_excel(\"not_vegan.xlsx\", header=None, names=[\"Sheet1\"])"
   ],
   "metadata": {
    "collapsed": false
   },
   "id": "eec39bde77170ead"
  },
  {
   "cell_type": "code",
   "execution_count": null,
   "id": "initial_id",
   "metadata": {
    "collapsed": true
   },
   "outputs": [],
   "source": [
    "# merge diet + request\n",
    "request_with_diet = pd.merge(diet_csv, requests_csv, how=\"inner\", on=\"AuthorId\")\n",
    "# merge diet + request + recipe\n",
    "request_with_diet_and_recipe = pd.merge(recipes_csv, request_with_diet, how=\"inner\", on=\"RecipeId\")\n",
    "# merge diet + request + recipe + review\n",
    "df = pd.merge(reviews_csv, request_with_diet_and_recipe, how=\"inner\", on=[\"AuthorId\", \"RecipeId\"])"
   ]
  },
  {
   "cell_type": "code",
   "outputs": [],
   "source": [
    "import openpyxl\n",
    "df[\"RecipeIngredientParts\"] = df[\"RecipeIngredientParts\"].str.replace(\")\", '')\n",
    "df[\"RecipeIngredientParts\"] = df[\"RecipeIngredientParts\"].str.replace(\"(\", '')\n",
    "df[\"RecipeIngredientParts\"] = df[\"RecipeIngredientParts\"].str.replace(\"\\\"\", '')\n",
    "df[\"RecipeIngredientParts\"] = df[\"RecipeIngredientParts\"].str.replace(\"\\\\\", '')\n",
    "df['RecipeIngredientParts'] = df['RecipeIngredientParts'].str.replace('^c', '', regex=True)\n",
    "\n",
    "# Extract ingredients from the \"RecipeIngredientParts\" column and concatenate them\n",
    "all_ingredients = ','.join(df['RecipeIngredientParts'])\n",
    "\n",
    "# Split the concatenated string into a list of individual ingredients\n",
    "individual_ingredients = all_ingredients.split(',')\n",
    "\n",
    "# Convert the list to a set to get distinct ingredients\n",
    "distinct_ingredients = set(individual_ingredients)\n",
    "\n",
    "# Convert the set to a list if needed\n",
    "distinct_ingredients_list = list(distinct_ingredients)\n",
    "\n",
    "omnivore_list = []\n",
    "vegan_list = []\n",
    "vegetarian_list = []\n",
    "for items in distinct_ingredients_list:\n",
    "    if str(items).__contains__(\"meat\") | str(items).__contains__(\"chicken\") | str(items).__contains__(\"lamb\") | str(items).__contains__(\"beef\") | str(items).__contains__(\"pork\") | str(items).__contains__(\"bacon\") | str(items).__contains__(\"fish\") | str(items).__contains__(\"sausage\") | str(items).__contains__(\"turkey\") | str(items).__contains__(\"tuna\") \\\n",
    "            | str(items).__contains__(\"salmon\") | str(items).__contains__(\"trout\") :\n",
    "        omnivore_list.append(items)\n",
    "        distinct_ingredients_list.remove(items)\n",
    "    elif str(items).__contains__(\"cheese\") | str(items).__contains__(\"honey\") | str(items).__contains__(\"mozzarella\") |str(items).__contains__(\"parmesan\"):\n",
    "        omnivore_list.append(items)\n",
    "        vegetarian_list.append(items)\n",
    "        distinct_ingredients_list.remove(items)\n",
    "    \n",
    "# read in lists from outside:\n",
    "omnivore_df = pd.read_excel(\"Machine_Learning_Vegetarisch.xlsx\", header=None, names=[\"1373\"])\n",
    "vegetarian_df = pd.read_excel(\"Machine_Learning_Vegan_1_1.xlsx\", header=None, names=[\"1373\"])\n",
    "\n",
    "omnivore_outside = []\n",
    "omnivore_outside.extend(omnivore_df[\"1373\"].tolist())\n",
    "omnivore_list.extend(omnivore_outside)\n",
    "\n",
    "vegetarian_outside = []\n",
    "vegetarian_outside.extend(vegetarian_df[\"1373\"].tolist())\n",
    "vegetarian_list.extend(vegetarian_outside)\n",
    "\n",
    "df_not_vegetarian = pd.DataFrame(omnivore_list)\n",
    "df_not_vegan = pd.DataFrame(vegetarian_list)\n",
    "\n",
    "df_not_vegetarian.to_excel(\"not_vegetarian.xlsx\")\n",
    "df_not_vegan.to_excel(\"not_vegan.xlsx\")\n",
    "\n",
    "\n",
    "\n",
    "\n",
    "\n",
    "\n",
    "\n",
    "\n",
    "\n",
    "not_vegetarian_list = []\n",
    "not_vegan_list = []\n",
    "\n",
    "not_vegetarian_list.extend(not_vegetarian_input[\"Sheet1\"].tolist())\n",
    "not_vegan_list.extend(not_vegan_input[\"Sheet1\"].tolist())\n",
    "\n",
    "print(not_vegetarian_list)\n",
    "df[\"DietMatchesRecipe\"] = True\n",
    "\n",
    "for index,rows in df.iterrows():\n",
    "    if rows[\"Diet\"] == \"Omnivore\":\n",
    "        continue\n",
    "    elif rows[\"Diet\"] == \"Vegetarian\":\n",
    "        for ingredients in not_vegetarian_list:\n",
    "            if ingredients in df.at[index, \"RecipeIngredientParts\"]:\n",
    "                df.at[index, \"DietMatchesRecipe\"] = False\n",
    "                break\n",
    "    elif rows[\"Diet\"] == \"Vegan\":\n",
    "        for ingredients in not_vegan_list:\n",
    "            if ingredients in df.at[index, \"RecipeIngredientParts\"]:\n",
    "                df.at[index, \"DietMatchesRecipe\"] = False\n",
    "                break\n",
    "\n",
    "\n",
    "selected_features =[\"DietMatchesRecipe\", \"AuthorId\", \"RecipeId\"]\n",
    "diet_fit_output = df[selected_features]\n",
    "diet_fit_output.to_csv(\"DietMatchesRecipe.csv\", index=False)"
   ],
   "metadata": {
    "collapsed": false
   },
   "id": "1f90379e481e2060"
  }
 ],
 "metadata": {
  "kernelspec": {
   "display_name": "Python 3",
   "language": "python",
   "name": "python3"
  },
  "language_info": {
   "codemirror_mode": {
    "name": "ipython",
    "version": 2
   },
   "file_extension": ".py",
   "mimetype": "text/x-python",
   "name": "python",
   "nbconvert_exporter": "python",
   "pygments_lexer": "ipython2",
   "version": "2.7.6"
  }
 },
 "nbformat": 4,
 "nbformat_minor": 5
}
