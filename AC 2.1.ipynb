{
 "cells": [
  {
   "cell_type": "markdown",
   "source": [
    "# ANAC"
   ],
   "metadata": {
    "collapsed": false
   }
  },
  {
   "cell_type": "markdown",
   "source": [
    "# data read-in"
   ],
   "metadata": {
    "collapsed": false
   }
  },
  {
   "cell_type": "code",
   "outputs": [],
   "source": [
    "import pandas as pd\n",
    "import numpy as np\n",
    "import seaborn as sns\n",
    "import matplotlib.pyplot as plt\n",
    "\n",
    "from scipy.stats import skew, kurtosis, probplot"
   ],
   "metadata": {
    "collapsed": false,
    "ExecuteTime": {
     "end_time": "2024-01-15T08:36:31.367021Z",
     "start_time": "2024-01-15T08:36:31.351146Z"
    }
   },
   "execution_count": 120
  },
  {
   "cell_type": "code",
   "outputs": [],
   "source": [
    "seed = 2024\n",
    "np.random.seed(seed)"
   ],
   "metadata": {
    "collapsed": false,
    "ExecuteTime": {
     "end_time": "2024-01-15T08:36:31.367312Z",
     "start_time": "2024-01-15T08:36:31.353797Z"
    }
   },
   "execution_count": 121
  },
  {
   "cell_type": "code",
   "outputs": [
    {
     "name": "stderr",
     "output_type": "stream",
     "text": [
      "/var/folders/z0/24mzs0z565s6qpzztgbdrj780000gn/T/ipykernel_50058/3884275055.py:4: DtypeWarning: Columns (3) have mixed types. Specify dtype option on import or set low_memory=False.\n",
      "  reviews_csv = pd.read_csv(\"reviews.csv\").copy()\n"
     ]
    }
   ],
   "source": [
    "diet_csv = pd.read_csv(\"diet.csv\").copy()\n",
    "recipes_csv = pd.read_csv(\"recipes.csv\").copy()\n",
    "requests_csv = pd.read_csv(\"requests.csv\").copy()\n",
    "reviews_csv = pd.read_csv(\"reviews.csv\").copy()"
   ],
   "metadata": {
    "collapsed": false,
    "ExecuteTime": {
     "end_time": "2024-01-15T08:36:31.796026Z",
     "start_time": "2024-01-15T08:36:31.358620Z"
    }
   },
   "execution_count": 122
  },
  {
   "cell_type": "markdown",
   "source": [
    "# Basics"
   ],
   "metadata": {
    "collapsed": false
   }
  },
  {
   "cell_type": "code",
   "outputs": [],
   "source": [
    "diet_csv.rename(columns= {\"AuthorId\" : \"CustomerId\"}, inplace=True)\n",
    "reviews_csv.rename(columns= {\"AuthorId\" : \"CustomerId\"}, inplace=True)\n",
    "\n",
    "diet_csv[\"Diet\"] = diet_csv[\"Diet\"].astype(\"category\")\n",
    "\n",
    "recipes_csv[\"RecipeCategory\"] = recipes_csv[\"RecipeCategory\"].astype(\"category\")\n",
    "\n",
    "requests_csv.rename(columns= {\n",
    "    \"AuthorId\" : \"CustomerId\",\n",
    "    \"Time\": \"MaxTime\"\n",
    "}, inplace=True)"
   ],
   "metadata": {
    "collapsed": false,
    "ExecuteTime": {
     "end_time": "2024-01-15T08:36:31.806322Z",
     "start_time": "2024-01-15T08:36:31.801788Z"
    }
   },
   "execution_count": 123
  },
  {
   "cell_type": "markdown",
   "source": [
    "# Handing missing values"
   ],
   "metadata": {
    "collapsed": false
   }
  },
  {
   "cell_type": "code",
   "outputs": [],
   "source": [
    "diet_csv['Diet'].fillna('Vegetarian', inplace=True)\n",
    "\n",
    "\n",
    "# with mean\n",
    "recipesServings_mean = recipes_csv['RecipeServings'].mean()\n",
    "#fill na rows with the mean\n",
    "recipes_csv['RecipeServings'].fillna(recipesServings_mean, inplace=True)\n",
    "recipesServings_mean = recipes_csv['RecipeServings'].mean()\n",
    "\n",
    "\n",
    "\n",
    "mapping_cal = {1: 1, 0.0: 0}\n",
    "requests_csv['HighCalories'] = requests_csv['HighCalories'].map(mapping_cal).astype('category')\n",
    "\n",
    "mapping_protein = {'Yes': 1, 'Indifferent': 0, 'No': 0, }\n",
    "requests_csv['HighProtein'] = requests_csv['HighProtein'].map(mapping_protein).astype('category')\n",
    "\n",
    "requests_csv['LowFat'] = requests_csv['LowFat'].astype('category')\n",
    "\n",
    "mapping_sugar = {'1': 1, 'Indifferent': 0, '0': 0, }\n",
    "requests_csv['LowSugar'] = requests_csv['LowSugar'].map(mapping_sugar).astype('category')\n",
    "\n",
    "requests_csv['HighFiber'] = requests_csv['HighFiber'].astype('category')"
   ],
   "metadata": {
    "collapsed": false,
    "ExecuteTime": {
     "end_time": "2024-01-15T08:36:31.826534Z",
     "start_time": "2024-01-15T08:36:31.807467Z"
    }
   },
   "execution_count": 124
  },
  {
   "cell_type": "markdown",
   "source": [
    "# Merge tables\n"
   ],
   "metadata": {
    "collapsed": false
   }
  },
  {
   "cell_type": "code",
   "outputs": [
    {
     "data": {
      "text/plain": "      CustomerId  RecipeId   Like  Age      MaxTime HighCalories HighProtein  \\\n0       1000036C    320576  False   50   119.024930            0           0   \n1       1000216B    189335  False   78  1199.386790            0           1   \n2       1000221A    133043  False   25   362.152341            0           1   \n3       1000221A     90537  False   25  1198.957497            0           1   \n4       1000221A    334314  False   25  5400.036634            1           0   \n...          ...       ...    ...  ...          ...          ...         ...   \n97376    999595E    338070  False   31  3899.421310            0           0   \n97377    999774A     29002  False   57  2402.372535            0           0   \n97378    999774A    159252  False   57  5999.598903            0           1   \n97379    999774A      1171   True   57   480.233207            1           1   \n97380    999917E    169413  False   28  3600.387748            0           0   \n\n      LowFat LowSugar HighFiber  ... RecipeServings   RecipeYield  Diet_Vegan  \\\n0          0        0         1  ...       1.000000           NaN       False   \n1          0        0         1  ...       8.000000           NaN       False   \n2          0        0         1  ...       8.828455      4 ounces       False   \n3          0        0         1  ...       1.000000           NaN       False   \n4          0        0         0  ...       8.828455  1 large loaf       False   \n...      ...      ...       ...  ...            ...           ...         ...   \n97376      1        0         0  ...      16.000000           NaN       False   \n97377      0        0         0  ...       4.000000           NaN       False   \n97378      0        0         0  ...       8.828455        4 cups       False   \n97379      0        0         0  ...       1.000000        2 mugs       False   \n97380      0        0         0  ...       8.000000           NaN       False   \n\n      Diet_Vegetarian RecipeCategory_Bread  RecipeCategory_Breakfast  \\\n0                True                False                     False   \n1                True                False                     False   \n2                True                False                     False   \n3                True                False                      True   \n4                True                 True                     False   \n...               ...                  ...                       ...   \n97376            True                False                     False   \n97377            True                False                     False   \n97378            True                False                     False   \n97379            True                False                     False   \n97380            True                 True                     False   \n\n       RecipeCategory_Lunch  RecipeCategory_One dish meal  \\\n0                     False                         False   \n1                     False                         False   \n2                     False                         False   \n3                     False                         False   \n4                     False                         False   \n...                     ...                           ...   \n97376                 False                         False   \n97377                 False                         False   \n97378                 False                         False   \n97379                 False                         False   \n97380                 False                         False   \n\n       RecipeCategory_Other  RecipeCategory_Soup  \n0                     False                False  \n1                      True                False  \n2                      True                False  \n3                     False                False  \n4                     False                False  \n...                     ...                  ...  \n97376                  True                False  \n97377                  True                False  \n97378                  True                False  \n97379                 False                False  \n97380                 False                False  \n\n[97381 rows x 34 columns]",
      "text/html": "<div>\n<style scoped>\n    .dataframe tbody tr th:only-of-type {\n        vertical-align: middle;\n    }\n\n    .dataframe tbody tr th {\n        vertical-align: top;\n    }\n\n    .dataframe thead th {\n        text-align: right;\n    }\n</style>\n<table border=\"1\" class=\"dataframe\">\n  <thead>\n    <tr style=\"text-align: right;\">\n      <th></th>\n      <th>CustomerId</th>\n      <th>RecipeId</th>\n      <th>Like</th>\n      <th>Age</th>\n      <th>MaxTime</th>\n      <th>HighCalories</th>\n      <th>HighProtein</th>\n      <th>LowFat</th>\n      <th>LowSugar</th>\n      <th>HighFiber</th>\n      <th>...</th>\n      <th>RecipeServings</th>\n      <th>RecipeYield</th>\n      <th>Diet_Vegan</th>\n      <th>Diet_Vegetarian</th>\n      <th>RecipeCategory_Bread</th>\n      <th>RecipeCategory_Breakfast</th>\n      <th>RecipeCategory_Lunch</th>\n      <th>RecipeCategory_One dish meal</th>\n      <th>RecipeCategory_Other</th>\n      <th>RecipeCategory_Soup</th>\n    </tr>\n  </thead>\n  <tbody>\n    <tr>\n      <th>0</th>\n      <td>1000036C</td>\n      <td>320576</td>\n      <td>False</td>\n      <td>50</td>\n      <td>119.024930</td>\n      <td>0</td>\n      <td>0</td>\n      <td>0</td>\n      <td>0</td>\n      <td>1</td>\n      <td>...</td>\n      <td>1.000000</td>\n      <td>NaN</td>\n      <td>False</td>\n      <td>True</td>\n      <td>False</td>\n      <td>False</td>\n      <td>False</td>\n      <td>False</td>\n      <td>False</td>\n      <td>False</td>\n    </tr>\n    <tr>\n      <th>1</th>\n      <td>1000216B</td>\n      <td>189335</td>\n      <td>False</td>\n      <td>78</td>\n      <td>1199.386790</td>\n      <td>0</td>\n      <td>1</td>\n      <td>0</td>\n      <td>0</td>\n      <td>1</td>\n      <td>...</td>\n      <td>8.000000</td>\n      <td>NaN</td>\n      <td>False</td>\n      <td>True</td>\n      <td>False</td>\n      <td>False</td>\n      <td>False</td>\n      <td>False</td>\n      <td>True</td>\n      <td>False</td>\n    </tr>\n    <tr>\n      <th>2</th>\n      <td>1000221A</td>\n      <td>133043</td>\n      <td>False</td>\n      <td>25</td>\n      <td>362.152341</td>\n      <td>0</td>\n      <td>1</td>\n      <td>0</td>\n      <td>0</td>\n      <td>1</td>\n      <td>...</td>\n      <td>8.828455</td>\n      <td>4 ounces</td>\n      <td>False</td>\n      <td>True</td>\n      <td>False</td>\n      <td>False</td>\n      <td>False</td>\n      <td>False</td>\n      <td>True</td>\n      <td>False</td>\n    </tr>\n    <tr>\n      <th>3</th>\n      <td>1000221A</td>\n      <td>90537</td>\n      <td>False</td>\n      <td>25</td>\n      <td>1198.957497</td>\n      <td>0</td>\n      <td>1</td>\n      <td>0</td>\n      <td>0</td>\n      <td>1</td>\n      <td>...</td>\n      <td>1.000000</td>\n      <td>NaN</td>\n      <td>False</td>\n      <td>True</td>\n      <td>False</td>\n      <td>True</td>\n      <td>False</td>\n      <td>False</td>\n      <td>False</td>\n      <td>False</td>\n    </tr>\n    <tr>\n      <th>4</th>\n      <td>1000221A</td>\n      <td>334314</td>\n      <td>False</td>\n      <td>25</td>\n      <td>5400.036634</td>\n      <td>1</td>\n      <td>0</td>\n      <td>0</td>\n      <td>0</td>\n      <td>0</td>\n      <td>...</td>\n      <td>8.828455</td>\n      <td>1 large loaf</td>\n      <td>False</td>\n      <td>True</td>\n      <td>True</td>\n      <td>False</td>\n      <td>False</td>\n      <td>False</td>\n      <td>False</td>\n      <td>False</td>\n    </tr>\n    <tr>\n      <th>...</th>\n      <td>...</td>\n      <td>...</td>\n      <td>...</td>\n      <td>...</td>\n      <td>...</td>\n      <td>...</td>\n      <td>...</td>\n      <td>...</td>\n      <td>...</td>\n      <td>...</td>\n      <td>...</td>\n      <td>...</td>\n      <td>...</td>\n      <td>...</td>\n      <td>...</td>\n      <td>...</td>\n      <td>...</td>\n      <td>...</td>\n      <td>...</td>\n      <td>...</td>\n      <td>...</td>\n    </tr>\n    <tr>\n      <th>97376</th>\n      <td>999595E</td>\n      <td>338070</td>\n      <td>False</td>\n      <td>31</td>\n      <td>3899.421310</td>\n      <td>0</td>\n      <td>0</td>\n      <td>1</td>\n      <td>0</td>\n      <td>0</td>\n      <td>...</td>\n      <td>16.000000</td>\n      <td>NaN</td>\n      <td>False</td>\n      <td>True</td>\n      <td>False</td>\n      <td>False</td>\n      <td>False</td>\n      <td>False</td>\n      <td>True</td>\n      <td>False</td>\n    </tr>\n    <tr>\n      <th>97377</th>\n      <td>999774A</td>\n      <td>29002</td>\n      <td>False</td>\n      <td>57</td>\n      <td>2402.372535</td>\n      <td>0</td>\n      <td>0</td>\n      <td>0</td>\n      <td>0</td>\n      <td>0</td>\n      <td>...</td>\n      <td>4.000000</td>\n      <td>NaN</td>\n      <td>False</td>\n      <td>True</td>\n      <td>False</td>\n      <td>False</td>\n      <td>False</td>\n      <td>False</td>\n      <td>True</td>\n      <td>False</td>\n    </tr>\n    <tr>\n      <th>97378</th>\n      <td>999774A</td>\n      <td>159252</td>\n      <td>False</td>\n      <td>57</td>\n      <td>5999.598903</td>\n      <td>0</td>\n      <td>1</td>\n      <td>0</td>\n      <td>0</td>\n      <td>0</td>\n      <td>...</td>\n      <td>8.828455</td>\n      <td>4 cups</td>\n      <td>False</td>\n      <td>True</td>\n      <td>False</td>\n      <td>False</td>\n      <td>False</td>\n      <td>False</td>\n      <td>True</td>\n      <td>False</td>\n    </tr>\n    <tr>\n      <th>97379</th>\n      <td>999774A</td>\n      <td>1171</td>\n      <td>True</td>\n      <td>57</td>\n      <td>480.233207</td>\n      <td>1</td>\n      <td>1</td>\n      <td>0</td>\n      <td>0</td>\n      <td>0</td>\n      <td>...</td>\n      <td>1.000000</td>\n      <td>2 mugs</td>\n      <td>False</td>\n      <td>True</td>\n      <td>False</td>\n      <td>False</td>\n      <td>False</td>\n      <td>False</td>\n      <td>False</td>\n      <td>False</td>\n    </tr>\n    <tr>\n      <th>97380</th>\n      <td>999917E</td>\n      <td>169413</td>\n      <td>False</td>\n      <td>28</td>\n      <td>3600.387748</td>\n      <td>0</td>\n      <td>0</td>\n      <td>0</td>\n      <td>0</td>\n      <td>0</td>\n      <td>...</td>\n      <td>8.000000</td>\n      <td>NaN</td>\n      <td>False</td>\n      <td>True</td>\n      <td>True</td>\n      <td>False</td>\n      <td>False</td>\n      <td>False</td>\n      <td>False</td>\n      <td>False</td>\n    </tr>\n  </tbody>\n</table>\n<p>97381 rows × 34 columns</p>\n</div>"
     },
     "execution_count": 125,
     "metadata": {},
     "output_type": "execute_result"
    }
   ],
   "source": [
    "#merge diet + review\n",
    "reviews_csv[\"Like\"] = reviews_csv[\"Like\"].astype(\"category\")\n",
    "reviews_csv = reviews_csv.drop(\"Rating\", axis=1)\n",
    "reviews_csv.dropna(subset=[\"Like\"], inplace=True) # note: now the entries are reduced to 97381 entries\n",
    "reviews_csv = reviews_csv.drop(\"TestSetId\", axis=1)\n",
    "review_with_diet = pd.merge(reviews_csv, diet_csv, on=\"CustomerId\", how=\"inner\") # 97381 entries\n",
    "#merge diet + review + request\n",
    "review_diet_with_request = pd.merge(review_with_diet, requests_csv, on=[\"CustomerId\", \"RecipeId\"], how=\"inner\") # 97381 entries\n",
    "df = pd.merge(review_diet_with_request, recipes_csv, on='RecipeId', how='left')\n",
    "df = pd.get_dummies(df, columns=['Diet', 'RecipeCategory'], drop_first=True) \n",
    "\n",
    "df"
   ],
   "metadata": {
    "collapsed": false,
    "ExecuteTime": {
     "end_time": "2024-01-15T08:36:31.947294Z",
     "start_time": "2024-01-15T08:36:31.823814Z"
    }
   },
   "execution_count": 125
  },
  {
   "cell_type": "markdown",
   "source": [
    "# Plot continuous variables vs Like"
   ],
   "metadata": {
    "collapsed": false
   }
  },
  {
   "cell_type": "markdown",
   "source": [
    "## Handling outliers"
   ],
   "metadata": {
    "collapsed": false
   }
  },
  {
   "cell_type": "code",
   "outputs": [],
   "source": [
    "\n",
    "maxtime_val = df['MaxTime'].max()\n",
    "outliers = df['MaxTime'] >= maxtime_val\n",
    "median_without_outliers = df.loc[~outliers, 'MaxTime'].median()\n",
    "df.loc[outliers, 'MaxTime'] = median_without_outliers\n",
    "\n",
    "maxtime_val = df['PrepTime'].max()\n",
    "outliers = df['PrepTime'] >= maxtime_val\n",
    "median_without_outliers = df.loc[~outliers, 'PrepTime'].median()\n",
    "df.loc[outliers, 'PrepTime'] = median_without_outliers\n",
    "outliers = (df['Like'] == True) & (df['PrepTime'] > 3000000)\n",
    "df.loc[outliers, 'PrepTime'] = median_without_outliers\n",
    "\n",
    "outliers = (df['Like'] == True) & (df['Calories'] > 30000)\n",
    "median_without_outliers = df.loc[~outliers, 'Calories'].median()\n",
    "df.loc[outliers, 'Calories'] = median_without_outliers\n",
    "\n",
    "outliers = df['FatContent'] > 25000\n",
    "median_without_outliers = df.loc[~outliers, 'FatContent'].median()\n",
    "df.loc[outliers, 'FatContent'] = median_without_outliers\n",
    "outliers = (df['Like'] == True) & (df['FatContent'] > 2500)\n",
    "df.loc[outliers, 'FatContent'] = median_without_outliers\n",
    "\n",
    "outliers = df['SaturatedFatContent'] > 12000\n",
    "median_without_outliers = df.loc[~outliers, 'SaturatedFatContent'].median()\n",
    "df.loc[outliers, 'SaturatedFatContent'] = median_without_outliers\n",
    "\n",
    "outliers = df['CholesterolContent'] > 35000\n",
    "median_without_outliers = df.loc[~outliers, 'CholesterolContent'].median()\n",
    "df.loc[outliers, 'CholesterolContent'] = median_without_outliers\n",
    "outliers = (df['Like'] == True) & (df['CholesterolContent'] > 10000)\n",
    "df.loc[outliers, 'CholesterolContent'] = median_without_outliers\n",
    "\n",
    "outliers = (df['Like'] == True) & (df['CarbohydrateContent'] > 4000)\n",
    "median_without_outliers = df.loc[~outliers, 'CarbohydrateContent'].median()\n",
    "df.loc[outliers, 'CarbohydrateContent'] = median_without_outliers\n",
    "\n",
    "outliers = (df['Like'] == True) & (df['FiberContent'] > 400)\n",
    "median_without_outliers = df.loc[~outliers, 'FiberContent'].median()\n",
    "df.loc[outliers, 'FiberContent'] = median_without_outliers\n",
    "\n",
    "outliers = (df['Like'] == True) & (df['SugarContent'] > 4000)\n",
    "median_without_outliers = df.loc[~outliers, 'SugarContent'].median()\n",
    "df.loc[outliers, 'SugarContent'] = median_without_outliers\n",
    "\n",
    "outliers = df['ProteinContent'] > 17500\n",
    "median_without_outliers = df.loc[~outliers, 'ProteinContent'].median()\n",
    "df.loc[outliers, 'ProteinContent'] = median_without_outliers\n",
    "outliers = (df['Like'] == True) & (df['ProteinContent'] > 3000)\n",
    "df.loc[outliers, 'ProteinContent'] = median_without_outliers\n",
    "\n",
    "outliers = df['RecipeServings'] > 30000\n",
    "median_without_outliers = df.loc[~outliers, 'RecipeServings'].median()\n",
    "df.loc[outliers, 'RecipeServings'] = median_without_outliers\n",
    "outliers = (df['Like'] == True) & (df['RecipeServings'] > 400)\n",
    "df.loc[outliers, 'RecipeServings'] = median_without_outliers\n"
   ],
   "metadata": {
    "collapsed": false,
    "ExecuteTime": {
     "end_time": "2024-01-15T08:36:31.969051Z",
     "start_time": "2024-01-15T08:36:31.947775Z"
    }
   },
   "execution_count": 126
  },
  {
   "cell_type": "markdown",
   "source": [
    "# Data standardization and dimensional reduction"
   ],
   "metadata": {
    "collapsed": false
   }
  },
  {
   "cell_type": "code",
   "outputs": [
    {
     "data": {
      "text/plain": "<Figure size 640x480 with 1 Axes>",
      "image/png": "[encoded data removed]"
     },
     "metadata": {},
     "output_type": "display_data"
    }
   ],
   "source": [
    "from sklearn.preprocessing import StandardScaler\n",
    "from sklearn.decomposition import PCA\n",
    "\n",
    "scaler = StandardScaler()\n",
    "\n",
    "columns_to_standardized= ['Calories', 'FatContent', 'SaturatedFatContent', 'CholesterolContent', 'SodiumContent', 'CarbohydrateContent', 'FiberContent', 'SugarContent', 'ProteinContent', 'MaxTime', 'PrepTime', 'CookTime', 'Age', 'RecipeServings']\n",
    "df[columns_to_standardized] = scaler.fit_transform(df[columns_to_standardized])\n",
    "\n",
    "\n",
    "transform_pca = PCA(n_components=10)\n",
    "principal_components = transform_pca.fit_transform(df[columns_to_standardized])\n",
    "\n",
    "\n",
    "explained_variance_ratio = transform_pca.explained_variance_ratio_\n",
    "cumulative_explained_variance = explained_variance_ratio.cumsum()\n",
    "plt.plot(range(1, len(cumulative_explained_variance) + 1), cumulative_explained_variance, marker='o')\n",
    "plt.xlabel('Number of Principal Components')\n",
    "plt.ylabel('Cumulative Explained Variance')\n",
    "plt.title('Cumulative Explained Variance vs. Number of Principal Components')\n",
    "plt.show()"
   ],
   "metadata": {
    "collapsed": false,
    "ExecuteTime": {
     "end_time": "2024-01-15T08:52:37.562960Z",
     "start_time": "2024-01-15T08:52:36.206972Z"
    }
   },
   "execution_count": 132
  },
  {
   "cell_type": "markdown",
   "source": [
    "# Fit Model"
   ],
   "metadata": {
    "collapsed": false
   }
  },
  {
   "cell_type": "code",
   "outputs": [],
   "source": [
    "X = df.drop(['CustomerId', 'RecipeId', 'Like', 'Name', 'RecipeIngredientQuantities', 'RecipeIngredientParts', 'RecipeYield', 'RecipeCategory_Other', ], axis=1)\n",
    "y = df['Like']"
   ],
   "metadata": {
    "collapsed": false,
    "ExecuteTime": {
     "end_time": "2024-01-15T08:36:33.363727Z",
     "start_time": "2024-01-15T08:36:33.355751Z"
    }
   },
   "execution_count": 128
  },
  {
   "cell_type": "code",
   "outputs": [
    {
     "name": "stdout",
     "output_type": "stream",
     "text": [
      "min_samples_split: 2\n",
      "Accuracy: 0.8676364881054253\n",
      "Balanced Accuracy: 0.6874032348823822\n",
      "Accuracy with bagging: 0.8965599863084032\n",
      "Balanced Accuracy with bagging: 0.6914468121919988\n"
     ]
    }
   ],
   "source": [
    "# split data into learning and test sets\n",
    "from sklearn.model_selection import train_test_split\n",
    "\n",
    "X_train, X_test, y_train, y_test = \\\n",
    "    train_test_split(X, y,\n",
    "                     test_size=0.3,\n",
    "                     shuffle=True,\n",
    "                     random_state=3)\n",
    "from sklearn.tree import DecisionTreeClassifier\n",
    "\n",
    "model = DecisionTreeClassifier(max_depth=31, min_samples_leaf=5, random_state=2024)\n",
    "model.fit(X_train, y_train)\n",
    "min_samples_split_value = model.min_samples_split\n",
    "print(\"min_samples_split:\", min_samples_split_value)\n",
    "\n",
    "from sklearn.metrics import balanced_accuracy_score, accuracy_score\n",
    "\n",
    "y_pred = model.predict(X_test)\n",
    "accuracy = accuracy_score(y_test, y_pred)\n",
    "print(\"Accuracy:\", accuracy)\n",
    "\n",
    "balanced_accuracy = balanced_accuracy_score(y_test, y_pred)\n",
    "print(\"Balanced Accuracy:\", balanced_accuracy)\n",
    "\n",
    "from sklearn.ensemble import BaggingClassifier\n",
    "\n",
    "bagging_classifier = BaggingClassifier(model, n_estimators=100, random_state=2024)\n",
    "bagging_classifier.fit(X_train, y_train)\n",
    "predictions_bagging = bagging_classifier.predict(X_test)\n",
    "accuracy_bagging = accuracy_score(y_test, predictions_bagging)\n",
    "balanced_accuracy_bagging = balanced_accuracy_score(y_test, predictions_bagging)\n",
    "print(\"Accuracy with bagging:\", accuracy_bagging)\n",
    "print(\"Balanced Accuracy with bagging:\", balanced_accuracy_bagging)"
   ],
   "metadata": {
    "collapsed": false,
    "ExecuteTime": {
     "end_time": "2024-01-15T08:37:08.609250Z",
     "start_time": "2024-01-15T08:36:33.364438Z"
    }
   },
   "execution_count": 129
  },
  {
   "cell_type": "code",
   "outputs": [
    {
     "name": "stdout",
     "output_type": "stream",
     "text": [
      "Cross validation score for balanced accuracy: 0.697142808162654\n"
     ]
    }
   ],
   "source": [
    "from sklearn.model_selection import cross_val_score\n",
    "from sklearn.ensemble import GradientBoostingClassifier\n",
    "\n",
    "train_model = GradientBoostingClassifier(n_estimators=300, learning_rate=0.6,random_state=seed)\n",
    "\n",
    "\n",
    "train_model.fit(X,y)\n",
    "\n",
    "score = np.mean(cross_val_score(train_model, X, y, cv=5, scoring=\"balanced_accuracy\"))\n",
    "print(\"Cross validation score for balanced accuracy: \" + str(score))"
   ],
   "metadata": {
    "collapsed": false,
    "ExecuteTime": {
     "end_time": "2024-01-15T08:41:16.684608Z",
     "start_time": "2024-01-15T08:37:08.609074Z"
    }
   },
   "execution_count": 130
  },
  {
   "cell_type": "code",
   "outputs": [],
   "source": [],
   "metadata": {
    "collapsed": false,
    "ExecuteTime": {
     "end_time": "2024-01-15T08:41:16.686651Z",
     "start_time": "2024-01-15T08:41:16.685085Z"
    }
   },
   "execution_count": 130
  }
 ],
 "metadata": {
  "kernelspec": {
   "display_name": "Python 3",
   "language": "python",
   "name": "python3"
  },
  "language_info": {
   "codemirror_mode": {
    "name": "ipython",
    "version": 3
   },
   "file_extension": ".py",
   "mimetype": "text/x-python",
   "name": "python",
   "nbconvert_exporter": "python",
   "pygments_lexer": "ipython3",
   "version": "3.10.11"
  },
  "orig_nbformat": 4
 },
 "nbformat": 4,
 "nbformat_minor": 2
}
