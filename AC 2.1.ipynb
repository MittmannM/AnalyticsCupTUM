{
 "cells": [
  {
   "cell_type": "markdown",
   "source": [
    "# ANAC"
   ],
   "metadata": {
    "collapsed": false
   }
  },
  {
   "cell_type": "markdown",
   "source": [
    "# data read-in"
   ],
   "metadata": {
    "collapsed": false
   }
  },
  {
   "cell_type": "code",
   "outputs": [],
   "source": [
    "import pandas as pd\n",
    "import numpy as np\n",
    "import seaborn as sns\n",
    "import matplotlib.pyplot as plt\n",
    "\n",
    "from scipy.stats import skew, kurtosis, probplot"
   ],
   "metadata": {
    "collapsed": false,
    "ExecuteTime": {
     "end_time": "2024-01-17T11:26:09.110789Z",
     "start_time": "2024-01-17T11:26:09.083506Z"
    }
   },
   "execution_count": 26
  },
  {
   "cell_type": "code",
   "outputs": [],
   "source": [
    "seed = 2024\n",
    "np.random.seed(seed)"
   ],
   "metadata": {
    "collapsed": false,
    "ExecuteTime": {
     "end_time": "2024-01-17T11:26:09.120639Z",
     "start_time": "2024-01-17T11:26:09.113118Z"
    }
   },
   "execution_count": 27
  },
  {
   "cell_type": "code",
   "outputs": [
    {
     "name": "stderr",
     "output_type": "stream",
     "text": [
      "/var/folders/z0/24mzs0z565s6qpzztgbdrj780000gn/T/ipykernel_56650/3884275055.py:4: DtypeWarning: Columns (3) have mixed types. Specify dtype option on import or set low_memory=False.\n",
      "  reviews_csv = pd.read_csv(\"reviews.csv\").copy()\n"
     ]
    }
   ],
   "source": [
    "diet_csv = pd.read_csv(\"diet.csv\").copy()\n",
    "recipes_csv = pd.read_csv(\"recipes.csv\").copy()\n",
    "requests_csv = pd.read_csv(\"requests.csv\").copy()\n",
    "reviews_csv = pd.read_csv(\"reviews.csv\").copy()"
   ],
   "metadata": {
    "collapsed": false,
    "ExecuteTime": {
     "end_time": "2024-01-17T11:26:09.531492Z",
     "start_time": "2024-01-17T11:26:09.115195Z"
    }
   },
   "execution_count": 28
  },
  {
   "cell_type": "markdown",
   "source": [
    "# Basics"
   ],
   "metadata": {
    "collapsed": false
   }
  },
  {
   "cell_type": "code",
   "outputs": [],
   "source": [
    "diet_csv.rename(columns= {\"AuthorId\" : \"CustomerId\"}, inplace=True)\n",
    "reviews_csv.rename(columns= {\"AuthorId\" : \"CustomerId\"}, inplace=True)\n",
    "\n",
    "diet_csv[\"Diet\"] = diet_csv[\"Diet\"].astype(\"category\")\n",
    "\n",
    "recipes_csv[\"RecipeCategory\"] = recipes_csv[\"RecipeCategory\"].astype(\"category\")\n",
    "\n",
    "requests_csv.rename(columns= {\n",
    "    \"AuthorId\" : \"CustomerId\",\n",
    "    \"Time\": \"MaxTime\"\n",
    "}, inplace=True)"
   ],
   "metadata": {
    "collapsed": false,
    "ExecuteTime": {
     "end_time": "2024-01-17T11:26:09.541508Z",
     "start_time": "2024-01-17T11:26:09.537306Z"
    }
   },
   "execution_count": 29
  },
  {
   "cell_type": "markdown",
   "source": [
    "# Handing missing values"
   ],
   "metadata": {
    "collapsed": false
   }
  },
  {
   "cell_type": "code",
   "outputs": [],
   "source": [
    "diet_csv['Diet'].fillna('Vegetarian', inplace=True)\n",
    "\n",
    "\n",
    "# with mean\n",
    "recipesServings_mean = recipes_csv['RecipeServings'].mean()\n",
    "#fill na rows with the mean\n",
    "recipes_csv['RecipeServings'].fillna(recipesServings_mean, inplace=True)\n",
    "recipesServings_mean = recipes_csv['RecipeServings'].mean()\n",
    "\n",
    "\n",
    "\n",
    "mapping_cal = {1: 1, 0.0: 0}\n",
    "requests_csv['HighCalories'] = requests_csv['HighCalories'].map(mapping_cal).astype('category')\n",
    "\n",
    "mapping_protein = {'Yes': 'Yes', 'Indifferent': 'Indifferent', 'No': 'No', }\n",
    "requests_csv['HighProtein'] = requests_csv['HighProtein'].map(mapping_protein).astype('category')\n",
    "\n",
    "requests_csv['LowFat'] = requests_csv['LowFat'].astype('category')\n",
    "\n",
    "mapping_sugar = {'1': 'Yes', 'Indifferent': 'Indifferent', '0': 'No', }\n",
    "requests_csv['LowSugar'] = requests_csv['LowSugar'].map(mapping_sugar).astype('category')\n",
    "\n",
    "requests_csv['HighFiber'] = requests_csv['HighFiber'].astype('category')"
   ],
   "metadata": {
    "collapsed": false,
    "ExecuteTime": {
     "end_time": "2024-01-17T11:26:09.563188Z",
     "start_time": "2024-01-17T11:26:09.542908Z"
    }
   },
   "execution_count": 30
  },
  {
   "cell_type": "markdown",
   "source": [
    "# Merge tables\n"
   ],
   "metadata": {
    "collapsed": false
   }
  },
  {
   "cell_type": "code",
   "outputs": [
    {
     "data": {
      "text/plain": "      CustomerId  RecipeId   Like  Age      MaxTime HighCalories LowFat  \\\n0       1000036C    320576  False   50   119.024930            0      0   \n1       1000216B    189335  False   78  1199.386790            0      0   \n2       1000221A    133043  False   25   362.152341            0      0   \n3       1000221A     90537  False   25  1198.957497            0      0   \n4       1000221A    334314  False   25  5400.036634            1      0   \n...          ...       ...    ...  ...          ...          ...    ...   \n97376    999595E    338070  False   31  3899.421310            0      1   \n97377    999774A     29002  False   57  2402.372535            0      0   \n97378    999774A    159252  False   57  5999.598903            0      0   \n97379    999774A      1171   True   57   480.233207            1      0   \n97380    999917E    169413  False   28  3600.387748            0      0   \n\n      HighFiber                                     Name  CookTime  ...  \\\n0             1                               Downeaster         0  ...   \n1             1            Thai Rice Soup (Kao Tome Gai)       600  ...   \n2             1     Lemon and Thyme Marinade for Poultry        60  ...   \n3             1                         Black Bean Salsa         0  ...   \n4             0                        Irish  Soda Bread      3600  ...   \n...         ...                                      ...       ...  ...   \n97376         0                 Pumpkin Cake Mix Dessert      3000  ...   \n97377         0                   Summer Corkscrew Pasta      1200  ...   \n97378         0  Chili, Kaffir Lime and Lemongrass Jelly      4800  ...   \n97379         0                     Kahlua Hot Chocolate       360  ...   \n97380         0               Inglenook Spoon Bread Cake      2700  ...   \n\n       Diet_Vegan Diet_Vegetarian RecipeCategory_Bread  \\\n0           False            True                False   \n1           False            True                False   \n2           False            True                False   \n3           False            True                False   \n4           False            True                 True   \n...           ...             ...                  ...   \n97376       False            True                False   \n97377       False            True                False   \n97378       False            True                False   \n97379       False            True                False   \n97380       False            True                 True   \n\n       RecipeCategory_Breakfast  RecipeCategory_Lunch  \\\n0                         False                 False   \n1                         False                 False   \n2                         False                 False   \n3                          True                 False   \n4                         False                 False   \n...                         ...                   ...   \n97376                     False                 False   \n97377                     False                 False   \n97378                     False                 False   \n97379                     False                 False   \n97380                     False                 False   \n\n       RecipeCategory_One dish meal  RecipeCategory_Other  \\\n0                             False                 False   \n1                             False                  True   \n2                             False                  True   \n3                             False                 False   \n4                             False                 False   \n...                             ...                   ...   \n97376                         False                  True   \n97377                         False                  True   \n97378                         False                  True   \n97379                         False                 False   \n97380                         False                 False   \n\n       RecipeCategory_Soup  HighProtein_Yes  LowSugar_No  \n0                    False            False        False  \n1                    False             True         True  \n2                    False             True        False  \n3                    False             True         True  \n4                    False            False         True  \n...                    ...              ...          ...  \n97376                False            False        False  \n97377                False            False        False  \n97378                False             True         True  \n97379                False             True         True  \n97380                False            False        False  \n\n[97381 rows x 34 columns]",
      "text/html": "<div>\n<style scoped>\n    .dataframe tbody tr th:only-of-type {\n        vertical-align: middle;\n    }\n\n    .dataframe tbody tr th {\n        vertical-align: top;\n    }\n\n    .dataframe thead th {\n        text-align: right;\n    }\n</style>\n<table border=\"1\" class=\"dataframe\">\n  <thead>\n    <tr style=\"text-align: right;\">\n      <th></th>\n      <th>CustomerId</th>\n      <th>RecipeId</th>\n      <th>Like</th>\n      <th>Age</th>\n      <th>MaxTime</th>\n      <th>HighCalories</th>\n      <th>LowFat</th>\n      <th>HighFiber</th>\n      <th>Name</th>\n      <th>CookTime</th>\n      <th>...</th>\n      <th>Diet_Vegan</th>\n      <th>Diet_Vegetarian</th>\n      <th>RecipeCategory_Bread</th>\n      <th>RecipeCategory_Breakfast</th>\n      <th>RecipeCategory_Lunch</th>\n      <th>RecipeCategory_One dish meal</th>\n      <th>RecipeCategory_Other</th>\n      <th>RecipeCategory_Soup</th>\n      <th>HighProtein_Yes</th>\n      <th>LowSugar_No</th>\n    </tr>\n  </thead>\n  <tbody>\n    <tr>\n      <th>0</th>\n      <td>1000036C</td>\n      <td>320576</td>\n      <td>False</td>\n      <td>50</td>\n      <td>119.024930</td>\n      <td>0</td>\n      <td>0</td>\n      <td>1</td>\n      <td>Downeaster</td>\n      <td>0</td>\n      <td>...</td>\n      <td>False</td>\n      <td>True</td>\n      <td>False</td>\n      <td>False</td>\n      <td>False</td>\n      <td>False</td>\n      <td>False</td>\n      <td>False</td>\n      <td>False</td>\n      <td>False</td>\n    </tr>\n    <tr>\n      <th>1</th>\n      <td>1000216B</td>\n      <td>189335</td>\n      <td>False</td>\n      <td>78</td>\n      <td>1199.386790</td>\n      <td>0</td>\n      <td>0</td>\n      <td>1</td>\n      <td>Thai Rice Soup (Kao Tome Gai)</td>\n      <td>600</td>\n      <td>...</td>\n      <td>False</td>\n      <td>True</td>\n      <td>False</td>\n      <td>False</td>\n      <td>False</td>\n      <td>False</td>\n      <td>True</td>\n      <td>False</td>\n      <td>True</td>\n      <td>True</td>\n    </tr>\n    <tr>\n      <th>2</th>\n      <td>1000221A</td>\n      <td>133043</td>\n      <td>False</td>\n      <td>25</td>\n      <td>362.152341</td>\n      <td>0</td>\n      <td>0</td>\n      <td>1</td>\n      <td>Lemon and Thyme Marinade for Poultry</td>\n      <td>60</td>\n      <td>...</td>\n      <td>False</td>\n      <td>True</td>\n      <td>False</td>\n      <td>False</td>\n      <td>False</td>\n      <td>False</td>\n      <td>True</td>\n      <td>False</td>\n      <td>True</td>\n      <td>False</td>\n    </tr>\n    <tr>\n      <th>3</th>\n      <td>1000221A</td>\n      <td>90537</td>\n      <td>False</td>\n      <td>25</td>\n      <td>1198.957497</td>\n      <td>0</td>\n      <td>0</td>\n      <td>1</td>\n      <td>Black Bean Salsa</td>\n      <td>0</td>\n      <td>...</td>\n      <td>False</td>\n      <td>True</td>\n      <td>False</td>\n      <td>True</td>\n      <td>False</td>\n      <td>False</td>\n      <td>False</td>\n      <td>False</td>\n      <td>True</td>\n      <td>True</td>\n    </tr>\n    <tr>\n      <th>4</th>\n      <td>1000221A</td>\n      <td>334314</td>\n      <td>False</td>\n      <td>25</td>\n      <td>5400.036634</td>\n      <td>1</td>\n      <td>0</td>\n      <td>0</td>\n      <td>Irish  Soda Bread</td>\n      <td>3600</td>\n      <td>...</td>\n      <td>False</td>\n      <td>True</td>\n      <td>True</td>\n      <td>False</td>\n      <td>False</td>\n      <td>False</td>\n      <td>False</td>\n      <td>False</td>\n      <td>False</td>\n      <td>True</td>\n    </tr>\n    <tr>\n      <th>...</th>\n      <td>...</td>\n      <td>...</td>\n      <td>...</td>\n      <td>...</td>\n      <td>...</td>\n      <td>...</td>\n      <td>...</td>\n      <td>...</td>\n      <td>...</td>\n      <td>...</td>\n      <td>...</td>\n      <td>...</td>\n      <td>...</td>\n      <td>...</td>\n      <td>...</td>\n      <td>...</td>\n      <td>...</td>\n      <td>...</td>\n      <td>...</td>\n      <td>...</td>\n      <td>...</td>\n    </tr>\n    <tr>\n      <th>97376</th>\n      <td>999595E</td>\n      <td>338070</td>\n      <td>False</td>\n      <td>31</td>\n      <td>3899.421310</td>\n      <td>0</td>\n      <td>1</td>\n      <td>0</td>\n      <td>Pumpkin Cake Mix Dessert</td>\n      <td>3000</td>\n      <td>...</td>\n      <td>False</td>\n      <td>True</td>\n      <td>False</td>\n      <td>False</td>\n      <td>False</td>\n      <td>False</td>\n      <td>True</td>\n      <td>False</td>\n      <td>False</td>\n      <td>False</td>\n    </tr>\n    <tr>\n      <th>97377</th>\n      <td>999774A</td>\n      <td>29002</td>\n      <td>False</td>\n      <td>57</td>\n      <td>2402.372535</td>\n      <td>0</td>\n      <td>0</td>\n      <td>0</td>\n      <td>Summer Corkscrew Pasta</td>\n      <td>1200</td>\n      <td>...</td>\n      <td>False</td>\n      <td>True</td>\n      <td>False</td>\n      <td>False</td>\n      <td>False</td>\n      <td>False</td>\n      <td>True</td>\n      <td>False</td>\n      <td>False</td>\n      <td>False</td>\n    </tr>\n    <tr>\n      <th>97378</th>\n      <td>999774A</td>\n      <td>159252</td>\n      <td>False</td>\n      <td>57</td>\n      <td>5999.598903</td>\n      <td>0</td>\n      <td>0</td>\n      <td>0</td>\n      <td>Chili, Kaffir Lime and Lemongrass Jelly</td>\n      <td>4800</td>\n      <td>...</td>\n      <td>False</td>\n      <td>True</td>\n      <td>False</td>\n      <td>False</td>\n      <td>False</td>\n      <td>False</td>\n      <td>True</td>\n      <td>False</td>\n      <td>True</td>\n      <td>True</td>\n    </tr>\n    <tr>\n      <th>97379</th>\n      <td>999774A</td>\n      <td>1171</td>\n      <td>True</td>\n      <td>57</td>\n      <td>480.233207</td>\n      <td>1</td>\n      <td>0</td>\n      <td>0</td>\n      <td>Kahlua Hot Chocolate</td>\n      <td>360</td>\n      <td>...</td>\n      <td>False</td>\n      <td>True</td>\n      <td>False</td>\n      <td>False</td>\n      <td>False</td>\n      <td>False</td>\n      <td>False</td>\n      <td>False</td>\n      <td>True</td>\n      <td>True</td>\n    </tr>\n    <tr>\n      <th>97380</th>\n      <td>999917E</td>\n      <td>169413</td>\n      <td>False</td>\n      <td>28</td>\n      <td>3600.387748</td>\n      <td>0</td>\n      <td>0</td>\n      <td>0</td>\n      <td>Inglenook Spoon Bread Cake</td>\n      <td>2700</td>\n      <td>...</td>\n      <td>False</td>\n      <td>True</td>\n      <td>True</td>\n      <td>False</td>\n      <td>False</td>\n      <td>False</td>\n      <td>False</td>\n      <td>False</td>\n      <td>False</td>\n      <td>False</td>\n    </tr>\n  </tbody>\n</table>\n<p>97381 rows × 34 columns</p>\n</div>"
     },
     "execution_count": 31,
     "metadata": {},
     "output_type": "execute_result"
    }
   ],
   "source": [
    "#merge diet + review\n",
    "reviews_csv[\"Like\"] = reviews_csv[\"Like\"].astype(\"category\")\n",
    "reviews_csv = reviews_csv.drop(\"Rating\", axis=1)\n",
    "reviews_csv.dropna(subset=[\"Like\"], inplace=True) # note: now the entries are reduced to 97381 entries\n",
    "reviews_csv = reviews_csv.drop(\"TestSetId\", axis=1)\n",
    "review_with_diet = pd.merge(reviews_csv, diet_csv, on=\"CustomerId\", how=\"inner\") # 97381 entries\n",
    "#merge diet + review + request\n",
    "review_diet_with_request = pd.merge(review_with_diet, requests_csv, on=[\"CustomerId\", \"RecipeId\"], how=\"inner\") # 97381 entries\n",
    "df = pd.merge(review_diet_with_request, recipes_csv, on='RecipeId', how='left')\n",
    "df = pd.get_dummies(df, columns=['Diet', 'RecipeCategory', 'HighProtein', 'LowSugar'], drop_first=True) \n",
    "\n",
    "df"
   ],
   "metadata": {
    "collapsed": false,
    "ExecuteTime": {
     "end_time": "2024-01-17T11:26:09.687006Z",
     "start_time": "2024-01-17T11:26:09.571442Z"
    }
   },
   "execution_count": 31
  },
  {
   "cell_type": "markdown",
   "source": [
    "# Plot continuous variables vs Like"
   ],
   "metadata": {
    "collapsed": false
   }
  },
  {
   "cell_type": "markdown",
   "source": [
    "## Handling outliers"
   ],
   "metadata": {
    "collapsed": false
   }
  },
  {
   "cell_type": "code",
   "outputs": [],
   "source": [
    "\n",
    "maxtime_val = df['MaxTime'].max()\n",
    "outliers = df['MaxTime'] >= maxtime_val\n",
    "median_without_outliers = df.loc[~outliers, 'MaxTime'].median()\n",
    "df.loc[outliers, 'MaxTime'] = median_without_outliers\n",
    "\n",
    "maxtime_val = df['PrepTime'].max()\n",
    "outliers = df['PrepTime'] >= maxtime_val\n",
    "median_without_outliers = df.loc[~outliers, 'PrepTime'].median()\n",
    "df.loc[outliers, 'PrepTime'] = median_without_outliers\n",
    "outliers = (df['Like'] == True) & (df['PrepTime'] > 3000000)\n",
    "df.loc[outliers, 'PrepTime'] = median_without_outliers\n",
    "\n",
    "outliers = (df['Like'] == True) & (df['Calories'] > 30000)\n",
    "median_without_outliers = df.loc[~outliers, 'Calories'].median()\n",
    "df.loc[outliers, 'Calories'] = median_without_outliers\n",
    "\n",
    "outliers = df['FatContent'] > 25000\n",
    "median_without_outliers = df.loc[~outliers, 'FatContent'].median()\n",
    "df.loc[outliers, 'FatContent'] = median_without_outliers\n",
    "outliers = (df['Like'] == True) & (df['FatContent'] > 2500)\n",
    "df.loc[outliers, 'FatContent'] = median_without_outliers\n",
    "\n",
    "outliers = df['SaturatedFatContent'] > 12000\n",
    "median_without_outliers = df.loc[~outliers, 'SaturatedFatContent'].median()\n",
    "df.loc[outliers, 'SaturatedFatContent'] = median_without_outliers\n",
    "\n",
    "outliers = df['CholesterolContent'] > 35000\n",
    "median_without_outliers = df.loc[~outliers, 'CholesterolContent'].median()\n",
    "df.loc[outliers, 'CholesterolContent'] = median_without_outliers\n",
    "outliers = (df['Like'] == True) & (df['CholesterolContent'] > 10000)\n",
    "df.loc[outliers, 'CholesterolContent'] = median_without_outliers\n",
    "\n",
    "outliers = (df['Like'] == True) & (df['CarbohydrateContent'] > 4000)\n",
    "median_without_outliers = df.loc[~outliers, 'CarbohydrateContent'].median()\n",
    "df.loc[outliers, 'CarbohydrateContent'] = median_without_outliers\n",
    "\n",
    "outliers = (df['Like'] == True) & (df['FiberContent'] > 400)\n",
    "median_without_outliers = df.loc[~outliers, 'FiberContent'].median()\n",
    "df.loc[outliers, 'FiberContent'] = median_without_outliers\n",
    "\n",
    "outliers = (df['Like'] == True) & (df['SugarContent'] > 4000)\n",
    "median_without_outliers = df.loc[~outliers, 'SugarContent'].median()\n",
    "df.loc[outliers, 'SugarContent'] = median_without_outliers\n",
    "\n",
    "outliers = df['ProteinContent'] > 17500\n",
    "median_without_outliers = df.loc[~outliers, 'ProteinContent'].median()\n",
    "df.loc[outliers, 'ProteinContent'] = median_without_outliers\n",
    "outliers = (df['Like'] == True) & (df['ProteinContent'] > 3000)\n",
    "df.loc[outliers, 'ProteinContent'] = median_without_outliers\n",
    "\n",
    "outliers = df['RecipeServings'] > 30000\n",
    "median_without_outliers = df.loc[~outliers, 'RecipeServings'].median()\n",
    "df.loc[outliers, 'RecipeServings'] = median_without_outliers\n",
    "outliers = (df['Like'] == True) & (df['RecipeServings'] > 400)\n",
    "df.loc[outliers, 'RecipeServings'] = median_without_outliers\n"
   ],
   "metadata": {
    "collapsed": false,
    "ExecuteTime": {
     "end_time": "2024-01-17T11:26:09.707892Z",
     "start_time": "2024-01-17T11:26:09.686507Z"
    }
   },
   "execution_count": 32
  },
  {
   "cell_type": "markdown",
   "source": [
    "# Data standardization and dimensional reduction"
   ],
   "metadata": {
    "collapsed": false
   }
  },
  {
   "cell_type": "code",
   "outputs": [
    {
     "data": {
      "text/plain": "<Figure size 640x480 with 1 Axes>",
      "image/png": "[encoded data removed]"
     },
     "metadata": {},
     "output_type": "display_data"
    }
   ],
   "source": [
    "from sklearn.preprocessing import StandardScaler\n",
    "from sklearn.decomposition import PCA\n",
    "from sklearn.preprocessing import MinMaxScaler\n",
    "\n",
    "columns_to_standardized= ['Calories', 'FatContent', 'SaturatedFatContent', 'CholesterolContent', 'SodiumContent', 'CarbohydrateContent', 'FiberContent', 'SugarContent', 'ProteinContent', 'MaxTime', 'PrepTime', 'CookTime', 'Age', 'RecipeServings']\n",
    "#minmax_scaler = MinMaxScaler()\n",
    "#df[columns_to_standardized] = minmax_scaler.fit_transform(df[columns_to_standardized])\n",
    "\n",
    "scaler = StandardScaler()\n",
    "\n",
    "\n",
    "df[columns_to_standardized] = scaler.fit_transform(df[columns_to_standardized])\n",
    "\n",
    "\n",
    "transform_pca = PCA()\n",
    "principal_components = transform_pca.fit_transform(df[columns_to_standardized])\n",
    "\n",
    "\n",
    "explained_variance_ratio = transform_pca.explained_variance_ratio_\n",
    "cumulative_explained_variance = explained_variance_ratio.cumsum()\n",
    "plt.plot(range(1, len(cumulative_explained_variance) + 1), cumulative_explained_variance, marker='o')\n",
    "plt.xlabel('Number of Principal Components')\n",
    "plt.ylabel('Cumulative Explained Variance')\n",
    "plt.title('Cumulative Explained Variance vs. Number of Principal Components')\n",
    "plt.show()"
   ],
   "metadata": {
    "collapsed": false,
    "ExecuteTime": {
     "end_time": "2024-01-17T11:26:09.920391Z",
     "start_time": "2024-01-17T11:26:09.705877Z"
    }
   },
   "execution_count": 33
  },
  {
   "cell_type": "code",
   "outputs": [
    {
     "data": {
      "text/plain": "       Calories  FatContent  SaturatedFatContent  CholesterolContent  \\\n0     -0.256826   -0.544289            -0.473183           -0.542488   \n1     -0.066011   -0.113590            -0.247583           -0.328143   \n2     -0.266552   -0.241453            -0.377930           -0.542488   \n3      0.820796    0.554891            -0.112222           -0.542488   \n4      0.212564   -0.297534            -0.317770            0.153027   \n...         ...         ...                  ...                 ...   \n97376 -0.015078    0.160084             0.278819            0.088534   \n97377  0.262755    0.202705            -0.047049           -0.332569   \n97378  0.329206   -0.530829            -0.468170           -0.542488   \n97379  0.134605   -0.100130             0.138445           -0.110637   \n97380 -0.215173   -0.351371            -0.237556           -0.122018   \n\n       SodiumContent  CarbohydrateContent  FiberContent  SugarContent  \\\n0          -0.230799            -0.505004     -0.575642     -0.324389   \n1          -0.011513            -0.113206     -0.454205     -0.261234   \n2          -0.230799            -0.485414     -0.514923     -0.318514   \n3          -0.195398             1.987036      9.959047     -0.093799   \n4           0.086452             1.083839      0.107443      0.719872   \n...              ...                  ...           ...           ...   \n97376      -0.110616            -0.060623     -0.363127      0.076572   \n97377      -0.133202             0.605434      0.987864     -0.126111   \n97378      -0.228893             1.973633      0.486935      3.050733   \n97379      -0.154958             0.397162      0.031545      0.524532   \n97380      -0.070606            -0.249304     -0.317588     -0.274452   \n\n       ProteinContent   MaxTime  PrepTime  CookTime       Age  RecipeServings  \n0           -0.677249 -0.064021 -0.062191 -0.048947  0.139266       -0.749502  \n1           -0.043768 -0.055557 -0.049943 -0.043700  1.680470       -0.037191  \n2           -0.669476 -0.062116 -0.057598 -0.048422 -1.236809        0.047112  \n3            2.000472 -0.055560 -0.034632 -0.048947 -1.236809       -0.749502  \n4            0.026187 -0.022647 -0.019322 -0.017464 -1.236809        0.047112  \n...               ...       ...       ...       ...       ...             ...  \n97376       -0.475157 -0.034404 -0.042287 -0.022711 -0.906551        0.776879  \n97377        0.566395 -0.046132 -0.034632 -0.038453  0.524567       -0.444226  \n97378       -0.634499 -0.017950 -0.034632 -0.006970  0.524567        0.047112  \n97379        0.030074 -0.061191 -0.062191 -0.045799  0.524567       -0.749502  \n97380       -0.459611 -0.036746 -0.042287 -0.025335 -1.071680       -0.037191  \n\n[97381 rows x 14 columns]",
      "text/html": "<div>\n<style scoped>\n    .dataframe tbody tr th:only-of-type {\n        vertical-align: middle;\n    }\n\n    .dataframe tbody tr th {\n        vertical-align: top;\n    }\n\n    .dataframe thead th {\n        text-align: right;\n    }\n</style>\n<table border=\"1\" class=\"dataframe\">\n  <thead>\n    <tr style=\"text-align: right;\">\n      <th></th>\n      <th>Calories</th>\n      <th>FatContent</th>\n      <th>SaturatedFatContent</th>\n      <th>CholesterolContent</th>\n      <th>SodiumContent</th>\n      <th>CarbohydrateContent</th>\n      <th>FiberContent</th>\n      <th>SugarContent</th>\n      <th>ProteinContent</th>\n      <th>MaxTime</th>\n      <th>PrepTime</th>\n      <th>CookTime</th>\n      <th>Age</th>\n      <th>RecipeServings</th>\n    </tr>\n  </thead>\n  <tbody>\n    <tr>\n      <th>0</th>\n      <td>-0.256826</td>\n      <td>-0.544289</td>\n      <td>-0.473183</td>\n      <td>-0.542488</td>\n      <td>-0.230799</td>\n      <td>-0.505004</td>\n      <td>-0.575642</td>\n      <td>-0.324389</td>\n      <td>-0.677249</td>\n      <td>-0.064021</td>\n      <td>-0.062191</td>\n      <td>-0.048947</td>\n      <td>0.139266</td>\n      <td>-0.749502</td>\n    </tr>\n    <tr>\n      <th>1</th>\n      <td>-0.066011</td>\n      <td>-0.113590</td>\n      <td>-0.247583</td>\n      <td>-0.328143</td>\n      <td>-0.011513</td>\n      <td>-0.113206</td>\n      <td>-0.454205</td>\n      <td>-0.261234</td>\n      <td>-0.043768</td>\n      <td>-0.055557</td>\n      <td>-0.049943</td>\n      <td>-0.043700</td>\n      <td>1.680470</td>\n      <td>-0.037191</td>\n    </tr>\n    <tr>\n      <th>2</th>\n      <td>-0.266552</td>\n      <td>-0.241453</td>\n      <td>-0.377930</td>\n      <td>-0.542488</td>\n      <td>-0.230799</td>\n      <td>-0.485414</td>\n      <td>-0.514923</td>\n      <td>-0.318514</td>\n      <td>-0.669476</td>\n      <td>-0.062116</td>\n      <td>-0.057598</td>\n      <td>-0.048422</td>\n      <td>-1.236809</td>\n      <td>0.047112</td>\n    </tr>\n    <tr>\n      <th>3</th>\n      <td>0.820796</td>\n      <td>0.554891</td>\n      <td>-0.112222</td>\n      <td>-0.542488</td>\n      <td>-0.195398</td>\n      <td>1.987036</td>\n      <td>9.959047</td>\n      <td>-0.093799</td>\n      <td>2.000472</td>\n      <td>-0.055560</td>\n      <td>-0.034632</td>\n      <td>-0.048947</td>\n      <td>-1.236809</td>\n      <td>-0.749502</td>\n    </tr>\n    <tr>\n      <th>4</th>\n      <td>0.212564</td>\n      <td>-0.297534</td>\n      <td>-0.317770</td>\n      <td>0.153027</td>\n      <td>0.086452</td>\n      <td>1.083839</td>\n      <td>0.107443</td>\n      <td>0.719872</td>\n      <td>0.026187</td>\n      <td>-0.022647</td>\n      <td>-0.019322</td>\n      <td>-0.017464</td>\n      <td>-1.236809</td>\n      <td>0.047112</td>\n    </tr>\n    <tr>\n      <th>...</th>\n      <td>...</td>\n      <td>...</td>\n      <td>...</td>\n      <td>...</td>\n      <td>...</td>\n      <td>...</td>\n      <td>...</td>\n      <td>...</td>\n      <td>...</td>\n      <td>...</td>\n      <td>...</td>\n      <td>...</td>\n      <td>...</td>\n      <td>...</td>\n    </tr>\n    <tr>\n      <th>97376</th>\n      <td>-0.015078</td>\n      <td>0.160084</td>\n      <td>0.278819</td>\n      <td>0.088534</td>\n      <td>-0.110616</td>\n      <td>-0.060623</td>\n      <td>-0.363127</td>\n      <td>0.076572</td>\n      <td>-0.475157</td>\n      <td>-0.034404</td>\n      <td>-0.042287</td>\n      <td>-0.022711</td>\n      <td>-0.906551</td>\n      <td>0.776879</td>\n    </tr>\n    <tr>\n      <th>97377</th>\n      <td>0.262755</td>\n      <td>0.202705</td>\n      <td>-0.047049</td>\n      <td>-0.332569</td>\n      <td>-0.133202</td>\n      <td>0.605434</td>\n      <td>0.987864</td>\n      <td>-0.126111</td>\n      <td>0.566395</td>\n      <td>-0.046132</td>\n      <td>-0.034632</td>\n      <td>-0.038453</td>\n      <td>0.524567</td>\n      <td>-0.444226</td>\n    </tr>\n    <tr>\n      <th>97378</th>\n      <td>0.329206</td>\n      <td>-0.530829</td>\n      <td>-0.468170</td>\n      <td>-0.542488</td>\n      <td>-0.228893</td>\n      <td>1.973633</td>\n      <td>0.486935</td>\n      <td>3.050733</td>\n      <td>-0.634499</td>\n      <td>-0.017950</td>\n      <td>-0.034632</td>\n      <td>-0.006970</td>\n      <td>0.524567</td>\n      <td>0.047112</td>\n    </tr>\n    <tr>\n      <th>97379</th>\n      <td>0.134605</td>\n      <td>-0.100130</td>\n      <td>0.138445</td>\n      <td>-0.110637</td>\n      <td>-0.154958</td>\n      <td>0.397162</td>\n      <td>0.031545</td>\n      <td>0.524532</td>\n      <td>0.030074</td>\n      <td>-0.061191</td>\n      <td>-0.062191</td>\n      <td>-0.045799</td>\n      <td>0.524567</td>\n      <td>-0.749502</td>\n    </tr>\n    <tr>\n      <th>97380</th>\n      <td>-0.215173</td>\n      <td>-0.351371</td>\n      <td>-0.237556</td>\n      <td>-0.122018</td>\n      <td>-0.070606</td>\n      <td>-0.249304</td>\n      <td>-0.317588</td>\n      <td>-0.274452</td>\n      <td>-0.459611</td>\n      <td>-0.036746</td>\n      <td>-0.042287</td>\n      <td>-0.025335</td>\n      <td>-1.071680</td>\n      <td>-0.037191</td>\n    </tr>\n  </tbody>\n</table>\n<p>97381 rows × 14 columns</p>\n</div>"
     },
     "execution_count": 34,
     "metadata": {},
     "output_type": "execute_result"
    }
   ],
   "source": [
    "df[columns_to_standardized]"
   ],
   "metadata": {
    "collapsed": false,
    "ExecuteTime": {
     "end_time": "2024-01-17T11:26:09.938465Z",
     "start_time": "2024-01-17T11:26:09.932978Z"
    }
   },
   "execution_count": 34
  },
  {
   "cell_type": "markdown",
   "source": [
    "# Fit Model"
   ],
   "metadata": {
    "collapsed": false
   }
  },
  {
   "cell_type": "code",
   "outputs": [],
   "source": [
    "X = df.drop(['CustomerId', 'RecipeId', 'Like', 'Name', 'RecipeIngredientQuantities', 'RecipeIngredientParts', 'RecipeYield', 'RecipeCategory_Other', 'RecipeServings' ], axis=1)\n",
    "y = df['Like']"
   ],
   "metadata": {
    "collapsed": false,
    "ExecuteTime": {
     "end_time": "2024-01-17T11:26:09.976638Z",
     "start_time": "2024-01-17T11:26:09.941921Z"
    }
   },
   "execution_count": 35
  },
  {
   "cell_type": "code",
   "outputs": [
    {
     "name": "stdout",
     "output_type": "stream",
     "text": [
      "min_samples_split: 2\n",
      "Accuracy: 0.8683552969365053\n",
      "Balanced Accuracy: 0.6889227284236876\n",
      "Accuracy with bagging: 0.897621085059045\n",
      "Balanced Accuracy with bagging: 0.6926104680141547\n"
     ]
    }
   ],
   "source": [
    "# split data into learning and test sets\n",
    "from sklearn.model_selection import train_test_split\n",
    "\n",
    "X_train, X_test, y_train, y_test = \\\n",
    "    train_test_split(X, y,\n",
    "                     test_size=0.3,\n",
    "                     shuffle=True,\n",
    "                     random_state=3)\n",
    "from sklearn.tree import DecisionTreeClassifier\n",
    "\n",
    "model = DecisionTreeClassifier(max_depth=31, min_samples_leaf=5, random_state=2024)\n",
    "model.fit(X_train, y_train)\n",
    "min_samples_split_value = model.min_samples_split\n",
    "print(\"min_samples_split:\", min_samples_split_value)\n",
    "\n",
    "from sklearn.metrics import balanced_accuracy_score, accuracy_score\n",
    "\n",
    "y_pred = model.predict(X_test)\n",
    "accuracy = accuracy_score(y_test, y_pred)\n",
    "print(\"Accuracy:\", accuracy)\n",
    "\n",
    "balanced_accuracy = balanced_accuracy_score(y_test, y_pred)\n",
    "print(\"Balanced Accuracy:\", balanced_accuracy)\n",
    "\n",
    "from sklearn.ensemble import BaggingClassifier\n",
    "\n",
    "bagging_classifier = BaggingClassifier(model, n_estimators=100, random_state=2024)\n",
    "bagging_classifier.fit(X_train, y_train)\n",
    "\n",
    "predictions_bagging = bagging_classifier.predict(X_test)\n",
    "accuracy_bagging = accuracy_score(y_test, predictions_bagging)\n",
    "balanced_accuracy_bagging = balanced_accuracy_score(y_test, predictions_bagging)\n",
    "print(\"Accuracy with bagging:\", accuracy_bagging)\n",
    "print(\"Balanced Accuracy with bagging:\", balanced_accuracy_bagging)"
   ],
   "metadata": {
    "collapsed": false,
    "ExecuteTime": {
     "end_time": "2024-01-17T11:26:43.618146Z",
     "start_time": "2024-01-17T11:26:09.949688Z"
    }
   },
   "execution_count": 36
  },
  {
   "cell_type": "code",
   "outputs": [
    {
     "name": "stdout",
     "output_type": "stream",
     "text": [
      "Balanced Accuracy: 0.7131959482992307\n"
     ]
    }
   ],
   "source": [
    "from sklearn.model_selection import cross_val_score\n",
    "from sklearn.ensemble import GradientBoostingClassifier\n",
    "\n",
    "train_model = GradientBoostingClassifier(n_estimators=300, learning_rate=0.4, max_depth=5, random_state=seed)\n",
    "\n",
    "train_model.fit(X_train,y_train)\n",
    "\n",
    "predictions = train_model.predict(X_test)\n",
    "balanced_accuracy = balanced_accuracy_score(y_test, predictions)\n",
    "\n",
    "print(\"Balanced Accuracy:\", balanced_accuracy)"
   ],
   "metadata": {
    "collapsed": false,
    "ExecuteTime": {
     "end_time": "2024-01-17T11:27:39.099403Z",
     "start_time": "2024-01-17T11:26:43.619785Z"
    }
   },
   "execution_count": 37
  },
  {
   "cell_type": "markdown",
   "source": [
    "716156123859597"
   ],
   "metadata": {
    "collapsed": false
   }
  },
  {
   "cell_type": "code",
   "outputs": [],
   "source": [],
   "metadata": {
    "collapsed": false,
    "ExecuteTime": {
     "end_time": "2024-01-17T11:27:39.099831Z",
     "start_time": "2024-01-17T11:27:39.098321Z"
    }
   },
   "execution_count": 37
  }
 ],
 "metadata": {
  "kernelspec": {
   "display_name": "Python 3",
   "language": "python",
   "name": "python3"
  },
  "language_info": {
   "codemirror_mode": {
    "name": "ipython",
    "version": 3
   },
   "file_extension": ".py",
   "mimetype": "text/x-python",
   "name": "python",
   "nbconvert_exporter": "python",
   "pygments_lexer": "ipython3",
   "version": "3.10.11"
  },
  "orig_nbformat": 4
 },
 "nbformat": 4,
 "nbformat_minor": 2
}
