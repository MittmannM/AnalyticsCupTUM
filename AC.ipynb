{
 "cells": [
  {
   "cell_type": "markdown",
   "metadata": {},
   "source": [
    "# ANAC\n"
   ]
  },
  {
   "cell_type": "code",
   "execution_count": 1,
   "metadata": {
    "ExecuteTime": {
     "end_time": "2023-12-29T11:47:55.181274700Z",
     "start_time": "2023-12-29T11:47:54.348247500Z"
    }
   },
   "outputs": [],
   "source": [
    "import pandas as pd\n",
    "import numpy as np"
   ]
  },
  {
   "cell_type": "markdown",
   "metadata": {},
   "source": [
    "#### set seed"
   ]
  },
  {
   "cell_type": "code",
   "execution_count": 2,
   "metadata": {
    "ExecuteTime": {
     "end_time": "2023-12-29T11:47:59.912056900Z",
     "start_time": "2023-12-29T11:47:59.911550600Z"
    }
   },
   "outputs": [],
   "source": [
    "seed = 2024\n",
    "np.random.seed(seed)"
   ]
  },
  {
   "cell_type": "markdown",
   "metadata": {},
   "source": [
    "#### read in data"
   ]
  },
  {
   "cell_type": "code",
   "execution_count": 3,
   "metadata": {
    "ExecuteTime": {
     "end_time": "2023-12-29T11:48:06.262343900Z",
     "start_time": "2023-12-29T11:48:05.235907400Z"
    }
   },
   "outputs": [],
   "source": [
    "diet_csv = pd.read_csv(\"diet.csv\") \n",
    "recipes_csv = pd.read_csv(\"recipes.csv\")\n",
    "requests_csv = pd.read_csv(\"requests.csv\")"
   ]
  },
  {
   "cell_type": "code",
   "execution_count": 4,
   "outputs": [
    {
     "name": "stdout",
     "output_type": "stream",
     "text": [
      "<class 'pandas.core.frame.DataFrame'>\n",
      "RangeIndex: 140195 entries, 0 to 140194\n",
      "Data columns (total 5 columns):\n",
      " #   Column     Non-Null Count   Dtype  \n",
      "---  ------     --------------   -----  \n",
      " 0   AuthorId   140195 non-null  object \n",
      " 1   RecipeId   140195 non-null  int64  \n",
      " 2   Rating     77108 non-null   float64\n",
      " 3   Like       97381 non-null   object \n",
      " 4   TestSetId  42814 non-null   float64\n",
      "dtypes: float64(2), int64(1), object(2)\n",
      "memory usage: 5.3+ MB\n"
     ]
    },
    {
     "name": "stderr",
     "output_type": "stream",
     "text": [
      "C:\\Users\\maxim\\AppData\\Local\\Temp\\ipykernel_12172\\2121675799.py:2: DtypeWarning: Columns (3) have mixed types. Specify dtype option on import or set low_memory=False.\n",
      "  reviews_csv = pd.read_csv(\"reviews.csv\")\n"
     ]
    }
   ],
   "source": [
    "#it seems that a column in 'review' contains a combination of numeric and non-numeric values.\n",
    "reviews_csv = pd.read_csv(\"reviews.csv\")\n",
    "#inspect the types of each column\n",
    "reviews_csv.info()\n"
   ],
   "metadata": {
    "collapsed": false,
    "ExecuteTime": {
     "end_time": "2023-12-29T11:48:15.110362400Z",
     "start_time": "2023-12-29T11:48:14.994072800Z"
    }
   }
  },
  {
   "cell_type": "markdown",
   "metadata": {},
   "source": [
    "### Data Cleaning\n",
    "#### diet_csv"
   ]
  },
  {
   "cell_type": "code",
   "execution_count": 5,
   "metadata": {
    "ExecuteTime": {
     "end_time": "2023-12-29T11:48:24.603480100Z",
     "start_time": "2023-12-29T11:48:24.559388700Z"
    }
   },
   "outputs": [],
   "source": [
    "diet_csv[\"Diet\"] = diet_csv[\"Diet\"].astype(\"category\")"
   ]
  },
  {
   "cell_type": "markdown",
   "metadata": {},
   "source": [
    "#### recipes_csv"
   ]
  },
  {
   "cell_type": "code",
   "execution_count": 16,
   "metadata": {
    "ExecuteTime": {
     "end_time": "2023-12-29T12:26:48.550471300Z",
     "start_time": "2023-12-29T12:26:48.500901500Z"
    }
   },
   "outputs": [
    {
     "name": "stdout",
     "output_type": "stream",
     "text": [
      "<class 'pandas.core.frame.DataFrame'>\n",
      "RangeIndex: 75604 entries, 0 to 75603\n",
      "Data columns (total 19 columns):\n",
      " #   Column                      Non-Null Count  Dtype   \n",
      "---  ------                      --------------  -----   \n",
      " 0   RecipeId                    75604 non-null  int64   \n",
      " 1   Name                        75604 non-null  object  \n",
      " 2   CookTime                    75604 non-null  int64   \n",
      " 3   PrepTime                    75604 non-null  int64   \n",
      " 4   RecipeCategory              75604 non-null  category\n",
      " 5   RecipeIngredientQuantities  75604 non-null  object  \n",
      " 6   RecipeIngredientParts       75604 non-null  object  \n",
      " 7   Calories                    75604 non-null  float64 \n",
      " 8   FatContent                  75604 non-null  float64 \n",
      " 9   SaturatedFatContent         75604 non-null  float64 \n",
      " 10  CholesterolContent          75604 non-null  float64 \n",
      " 11  SodiumContent               75604 non-null  float64 \n",
      " 12  CarbohydrateContent         75604 non-null  float64 \n",
      " 13  FiberContent                75604 non-null  float64 \n",
      " 14  SugarContent                75604 non-null  float64 \n",
      " 15  ProteinContent              75604 non-null  float64 \n",
      " 16  RecipeServings              48891 non-null  float64 \n",
      " 17  RecipeYield                 25309 non-null  object  \n",
      " 18  TotalTimeNeeded             75604 non-null  int64   \n",
      "dtypes: category(1), float64(10), int64(4), object(4)\n",
      "memory usage: 10.5+ MB\n",
      "0         1800\n",
      "1         4200\n",
      "2         6300\n",
      "3        19800\n",
      "4         5400\n",
      "         ...  \n",
      "75599    72000\n",
      "75600     6300\n",
      "75601     2700\n",
      "75602      420\n",
      "75603     1560\n",
      "Name: TotalTimeNeeded, Length: 75604, dtype: int64\n"
     ]
    }
   ],
   "source": [
    "# TODO CookTime, PrepTime - is it in Minutes/Seconds? --> seconds make more (first recipe 0 prep time and 1800 cook time -> 1800/60 = 30\n",
    "# TODO RecipeIngredientParts & RecipeIngredientQuantities \n",
    "# TODO What to do with Servings and Yield? --> maybe leave out at first?\n",
    "# TODO recipes and requests have similar columns: LowCalories/Protein/Fat/Sugar/Fiber vs. Fat-/Sugar/etc. Content -> what is the cutoff value? --> maybe plot the distribution to maybe get an idea for the cutoff value\n",
    "# TODO what to do with SaturatedFat , Sodium, Cholesterol, Carbohydratecontent? -> leave out\n",
    "recipes_csv.info()\n",
    "# missing values in: Servings and Yield \n",
    "# TODO RecipeIngredientQuantities as numeric data type?\n",
    "recipes_csv[\"RecipeCategory\"] = recipes_csv[\"RecipeCategory\"].astype(\"category\")\n",
    "# TODO check if RecipeIngredientParts matches with diet\n",
    "# the amount of ingredients vs. like\n",
    "\n",
    "recipes_csv[\"TotalTimeNeeded\"] = recipes_csv[\"CookTime\"] + recipes_csv[\"PrepTime\"]"
   ]
  },
  {
   "cell_type": "markdown",
   "metadata": {},
   "source": [
    "##### requests_csv"
   ]
  },
  {
   "cell_type": "code",
   "execution_count": 7,
   "outputs": [
    {
     "name": "stdout",
     "output_type": "stream",
     "text": [
      "<class 'pandas.core.frame.DataFrame'>\n",
      "RangeIndex: 140195 entries, 0 to 140194\n",
      "Data columns (total 8 columns):\n",
      " #   Column        Non-Null Count   Dtype  \n",
      "---  ------        --------------   -----  \n",
      " 0   AuthorId      140195 non-null  object \n",
      " 1   RecipeId      140195 non-null  int64  \n",
      " 2   Time          140195 non-null  float64\n",
      " 3   HighCalories  140195 non-null  float64\n",
      " 4   HighProtein   140195 non-null  object \n",
      " 5   LowFat        140195 non-null  int64  \n",
      " 6   LowSugar      140195 non-null  object \n",
      " 7   HighFiber     140195 non-null  int64  \n",
      "dtypes: float64(2), int64(3), object(3)\n",
      "memory usage: 8.6+ MB\n"
     ]
    }
   ],
   "source": [
    "requests_csv.info()\n",
    "#calories, protein, lowfat, lowsugar, highfiber into boolean"
   ],
   "metadata": {
    "collapsed": false,
    "ExecuteTime": {
     "end_time": "2023-12-29T09:20:10.126390Z",
     "start_time": "2023-12-29T09:20:10.099807Z"
    }
   }
  },
  {
   "cell_type": "code",
   "execution_count": 8,
   "metadata": {
    "ExecuteTime": {
     "end_time": "2023-12-29T09:20:10.127069Z",
     "start_time": "2023-12-29T09:20:10.110952Z"
    }
   },
   "outputs": [],
   "source": [
    "# TODO Time - Is it in Minutes/Seconds? -> should be seconds aswell 1799. something\n",
    "# TODO Time = prep + cook time? \n",
    "# TODO Time : rounding up so it is like prep&cook time in recipes?\n",
    "requests_csv[\"HighCalories\"] = requests_csv[\"HighCalories\"].astype(\"bool\")\n",
    "requests_csv[\"LowFat\"] = requests_csv[\"LowFat\"].astype(\"bool\")\n",
    "requests_csv[\"HighFiber\"] = requests_csv[\"HighFiber\"].astype(\"bool\")\n",
    "\n",
    "requests_csv[\"HighProtein\"] = requests_csv[\"HighProtein\"].map({\n",
    "    \"Indifferent\": 0,\n",
    "    \"0\": 0,\n",
    "    \"1\": 1,\n",
    "    \"Yes\": 1\n",
    "})\n",
    "\n",
    "requests_csv[\"LowSugar\"] = requests_csv[\"LowSugar\"].map({\n",
    "    \"Indifferent\": 0,\n",
    "    \"0\": 0,\n",
    "    \"1\": 1\n",
    "})\n",
    "requests_csv[\"HighProtein\"] = requests_csv[\"HighProtein\"].astype(\"bool\")\n",
    "requests_csv[\"LowSugar\"] = requests_csv[\"LowSugar\"].astype(\"bool\")\n"
   ]
  },
  {
   "cell_type": "code",
   "execution_count": 19,
   "outputs": [
    {
     "name": "stdout",
     "output_type": "stream",
     "text": [
      "[1799.95094925 4201.82097988 6299.86149621 ... 5999.27426872  899.52351341\n",
      " 7199.63783736]\n"
     ]
    }
   ],
   "source": [
    "requests_csv.head()"
   ],
   "metadata": {
    "collapsed": false,
    "ExecuteTime": {
     "end_time": "2023-12-29T12:49:36.776141Z",
     "start_time": "2023-12-29T12:49:36.762189500Z"
    }
   }
  },
  {
   "cell_type": "markdown",
   "source": [
    "#### reviews_csv"
   ],
   "metadata": {
    "collapsed": false
   }
  },
  {
   "cell_type": "code",
   "execution_count": 10,
   "outputs": [
    {
     "name": "stdout",
     "output_type": "stream",
     "text": [
      "<class 'pandas.core.frame.DataFrame'>\n",
      "RangeIndex: 140195 entries, 0 to 140194\n",
      "Data columns (total 5 columns):\n",
      " #   Column     Non-Null Count   Dtype  \n",
      "---  ------     --------------   -----  \n",
      " 0   AuthorId   140195 non-null  object \n",
      " 1   RecipeId   140195 non-null  int64  \n",
      " 2   Rating     77108 non-null   float64\n",
      " 3   Like       97381 non-null   object \n",
      " 4   TestSetId  42814 non-null   float64\n",
      "dtypes: float64(2), int64(1), object(2)\n",
      "memory usage: 5.3+ MB\n"
     ]
    }
   ],
   "source": [
    "reviews_csv.info()\n",
    "# TODO wtf rating only has values 2/NA -> delete?  -> ye\n",
    "# TODO need to fix NA values for Like -> delete rows with NA? -> ye\n",
    "# TODO why are there missing values for TestSetId? \n",
    "#print(reviews_csv[\"Rating\"].values.unique())\n",
    "\n",
    "# TODO Join the tables\n",
    "# 1. Logistic Regression\n",
    "# 2. Decision Trees\n",
    "# 3. Random Forest\n",
    "# 4. Naive bayes\n",
    "# 5. Gradient Boosting\n",
    "\n",
    "# 1. Data Cleaning (missing values, merge tables)\n",
    "# 2. Set dataset into training & testing sets + download testing set\n",
    "# 3. modeling\n",
    "# 4. Model training: train model on training dataset\n",
    "# 5. Model evaluation (performance)\n",
    "# 6. prediction on the unseen data"
   ],
   "metadata": {
    "collapsed": false,
    "ExecuteTime": {
     "end_time": "2023-12-29T09:20:10.151213Z",
     "start_time": "2023-12-29T09:20:10.136383Z"
    }
   }
  }
 ],
 "metadata": {
  "kernelspec": {
   "display_name": "Python 3",
   "language": "python",
   "name": "python3"
  },
  "language_info": {
   "codemirror_mode": {
    "name": "ipython",
    "version": 3
   },
   "file_extension": ".py",
   "mimetype": "text/x-python",
   "name": "python",
   "nbconvert_exporter": "python",
   "pygments_lexer": "ipython3",
   "version": "3.10.11"
  },
  "orig_nbformat": 4
 },
 "nbformat": 4,
 "nbformat_minor": 2
}
