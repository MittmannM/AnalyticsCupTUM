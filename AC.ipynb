{
 "cells": [
  {
   "cell_type": "markdown",
   "metadata": {},
   "source": [
    "# ANAC\n"
   ]
  },
  {
   "cell_type": "markdown",
   "source": [
    "#### imports"
   ],
   "metadata": {
    "collapsed": false
   }
  },
  {
   "cell_type": "code",
   "execution_count": 2455,
   "metadata": {
    "ExecuteTime": {
     "end_time": "2024-01-08T14:55:49.837142Z",
     "start_time": "2024-01-08T14:55:49.801897Z"
    }
   },
   "outputs": [],
   "source": [
    "import pandas as pd\n",
    "import numpy as np\n",
    "from sklearn.linear_model import LogisticRegression\n",
    "import matplotlib.pyplot as plt\n",
    "from sklearn.metrics import classification_report, confusion_matrix"
   ]
  },
  {
   "cell_type": "markdown",
   "metadata": {},
   "source": [
    "#### set seed"
   ]
  },
  {
   "cell_type": "code",
   "execution_count": 2456,
   "metadata": {
    "ExecuteTime": {
     "end_time": "2024-01-08T14:55:49.848453Z",
     "start_time": "2024-01-08T14:55:49.839091Z"
    }
   },
   "outputs": [],
   "source": [
    "seed = 2024\n",
    "np.random.seed(seed)"
   ]
  },
  {
   "cell_type": "markdown",
   "metadata": {},
   "source": [
    "#### read in data"
   ]
  },
  {
   "cell_type": "code",
   "execution_count": 2457,
   "metadata": {
    "ExecuteTime": {
     "end_time": "2024-01-08T14:55:50.227395Z",
     "start_time": "2024-01-08T14:55:49.841141Z"
    }
   },
   "outputs": [
    {
     "name": "stderr",
     "output_type": "stream",
     "text": [
      "/var/folders/z0/24mzs0z565s6qpzztgbdrj780000gn/T/ipykernel_29652/3884275055.py:4: DtypeWarning: Columns (3) have mixed types. Specify dtype option on import or set low_memory=False.\n",
      "  reviews_csv = pd.read_csv(\"reviews.csv\").copy()\n"
     ]
    }
   ],
   "source": [
    "diet_csv = pd.read_csv(\"diet.csv\").copy()\n",
    "recipes_csv = pd.read_csv(\"recipes.csv\").copy()\n",
    "requests_csv = pd.read_csv(\"requests.csv\").copy()\n",
    "reviews_csv = pd.read_csv(\"reviews.csv\").copy()"
   ]
  },
  {
   "cell_type": "code",
   "outputs": [
    {
     "name": "stdout",
     "output_type": "stream",
     "text": [
      "<class 'pandas.core.frame.DataFrame'>\n",
      "RangeIndex: 271907 entries, 0 to 271906\n",
      "Data columns (total 3 columns):\n",
      " #   Column    Non-Null Count   Dtype \n",
      "---  ------    --------------   ----- \n",
      " 0   AuthorId  271907 non-null  object\n",
      " 1   Diet      271906 non-null  object\n",
      " 2   Age       271907 non-null  int64 \n",
      "dtypes: int64(1), object(2)\n",
      "memory usage: 6.2+ MB\n",
      "<class 'pandas.core.frame.DataFrame'>\n",
      "RangeIndex: 140195 entries, 0 to 140194\n",
      "Data columns (total 8 columns):\n",
      " #   Column        Non-Null Count   Dtype  \n",
      "---  ------        --------------   -----  \n",
      " 0   AuthorId      140195 non-null  object \n",
      " 1   RecipeId      140195 non-null  int64  \n",
      " 2   Time          140195 non-null  float64\n",
      " 3   HighCalories  140195 non-null  float64\n",
      " 4   HighProtein   140195 non-null  object \n",
      " 5   LowFat        140195 non-null  int64  \n",
      " 6   LowSugar      140195 non-null  object \n",
      " 7   HighFiber     140195 non-null  int64  \n",
      "dtypes: float64(2), int64(3), object(3)\n",
      "memory usage: 8.6+ MB\n",
      "<class 'pandas.core.frame.DataFrame'>\n",
      "RangeIndex: 75604 entries, 0 to 75603\n",
      "Data columns (total 18 columns):\n",
      " #   Column                      Non-Null Count  Dtype  \n",
      "---  ------                      --------------  -----  \n",
      " 0   RecipeId                    75604 non-null  int64  \n",
      " 1   Name                        75604 non-null  object \n",
      " 2   CookTime                    75604 non-null  int64  \n",
      " 3   PrepTime                    75604 non-null  int64  \n",
      " 4   RecipeCategory              75604 non-null  object \n",
      " 5   RecipeIngredientQuantities  75604 non-null  object \n",
      " 6   RecipeIngredientParts       75604 non-null  object \n",
      " 7   Calories                    75604 non-null  float64\n",
      " 8   FatContent                  75604 non-null  float64\n",
      " 9   SaturatedFatContent         75604 non-null  float64\n",
      " 10  CholesterolContent          75604 non-null  float64\n",
      " 11  SodiumContent               75604 non-null  float64\n",
      " 12  CarbohydrateContent         75604 non-null  float64\n",
      " 13  FiberContent                75604 non-null  float64\n",
      " 14  SugarContent                75604 non-null  float64\n",
      " 15  ProteinContent              75604 non-null  float64\n",
      " 16  RecipeServings              48891 non-null  float64\n",
      " 17  RecipeYield                 25309 non-null  object \n",
      "dtypes: float64(10), int64(3), object(5)\n",
      "memory usage: 10.4+ MB\n",
      "<class 'pandas.core.frame.DataFrame'>\n",
      "RangeIndex: 140195 entries, 0 to 140194\n",
      "Data columns (total 5 columns):\n",
      " #   Column     Non-Null Count   Dtype  \n",
      "---  ------     --------------   -----  \n",
      " 0   AuthorId   140195 non-null  object \n",
      " 1   RecipeId   140195 non-null  int64  \n",
      " 2   Rating     77108 non-null   float64\n",
      " 3   Like       97381 non-null   object \n",
      " 4   TestSetId  42814 non-null   float64\n",
      "dtypes: float64(2), int64(1), object(2)\n",
      "memory usage: 5.3+ MB\n"
     ]
    }
   ],
   "source": [
    "diet_csv.info() # 271907 entries\n",
    "requests_csv.info() # 140195 entries\n",
    "recipes_csv.info() #75604 entries\n",
    "reviews_csv.info() # 140195 entries\n",
    "# --> not all customers gave a review!"
   ],
   "metadata": {
    "collapsed": false,
    "ExecuteTime": {
     "end_time": "2024-01-08T14:55:50.258532Z",
     "start_time": "2024-01-08T14:55:50.232792Z"
    }
   },
   "execution_count": 2458
  },
  {
   "cell_type": "markdown",
   "metadata": {},
   "source": [
    "### Data Cleaning\n",
    "#### diet_csv"
   ]
  },
  {
   "cell_type": "code",
   "execution_count": 2459,
   "metadata": {
    "ExecuteTime": {
     "end_time": "2024-01-08T14:55:50.274676Z",
     "start_time": "2024-01-08T14:55:50.262964Z"
    }
   },
   "outputs": [],
   "source": [
    "#rename column\n",
    "diet_csv.rename(columns= {\"AuthorId\" : \"CustomerId\"}, inplace=True)\n",
    "# Change type of Diet into category\n",
    "diet_csv[\"Diet\"] = diet_csv[\"Diet\"].astype(\"category\")\n",
    "diet_csv.dropna(subset=[\"Diet\"], inplace=True)\n",
    "#one hot coding  diet\n",
    "diet_csv = pd.get_dummies(diet_csv, columns=['Diet'], prefix='Diet')\n",
    "diet_csv['Diet_Omnivore'] = diet_csv['Diet_Omnivore'].astype('int')\n",
    "diet_csv['Diet_Vegan'] = diet_csv['Diet_Vegan'].astype('int')\n",
    "diet_csv['Diet_Vegetarian'] = diet_csv['Diet_Vegetarian'].astype('int')"
   ]
  },
  {
   "cell_type": "markdown",
   "metadata": {},
   "source": [
    "#### recipes_csv"
   ]
  },
  {
   "cell_type": "code",
   "execution_count": 2460,
   "metadata": {
    "ExecuteTime": {
     "end_time": "2024-01-08T14:55:50.287914Z",
     "start_time": "2024-01-08T14:55:50.276674Z"
    }
   },
   "outputs": [],
   "source": [
    "# Change type for Recipe Category\n",
    "recipes_csv[\"RecipeCategory\"] = recipes_csv[\"RecipeCategory\"].astype(\"category\")\n"
   ]
  },
  {
   "cell_type": "code",
   "execution_count": 2461,
   "outputs": [],
   "source": [
    "# Add new column TotalTimeNeeded\n",
    "recipes_csv[\"TotalTimeNeeded\"] = recipes_csv[\"CookTime\"] + recipes_csv[\"PrepTime\"]\n",
    "\n",
    "#drop recipeservings and yields and saturated + cholesterol + sodium + carbohydratecontent \n",
    "recipes_csv = recipes_csv.drop(\"RecipeServings\", axis=1)\n",
    "recipes_csv = recipes_csv.drop(\"RecipeYield\", axis=1)\n",
    "#recipes_csv = recipes_csv.drop(\"SaturatedFatContent\", axis=1)\n",
    "#recipes_csv = recipes_csv.drop(\"CholesterolContent\", axis=1)\n",
    "#recipes_csv = recipes_csv.drop(\"SodiumContent\", axis=1)\n",
    "#recipes_csv = recipes_csv.drop(\"CarbohydrateContent\", axis=1)\n",
    "#also drop cook n preptime n quantities n parts\n",
    "#recipes_csv = recipes_csv.drop(\"PrepTime\", axis=1)\n",
    "#recipes_csv = recipes_csv.drop(\"CookTime\", axis=1)\n",
    "recipes_csv = recipes_csv.drop(\"RecipeIngredientQuantities\", axis=1)\n",
    "recipes_csv = recipes_csv.drop(\"RecipeIngredientParts\", axis=1)"
   ],
   "metadata": {
    "collapsed": false,
    "ExecuteTime": {
     "end_time": "2024-01-08T14:55:50.294309Z",
     "start_time": "2024-01-08T14:55:50.279715Z"
    }
   }
  },
  {
   "cell_type": "markdown",
   "metadata": {},
   "source": [
    "##### requests_csv"
   ]
  },
  {
   "cell_type": "code",
   "execution_count": 2462,
   "metadata": {
    "ExecuteTime": {
     "end_time": "2024-01-08T14:55:50.327700Z",
     "start_time": "2024-01-08T14:55:50.321438Z"
    }
   },
   "outputs": [],
   "source": [
    "#rename column\n",
    "requests_csv.rename(columns= {\"AuthorId\" : \"CustomerId\"}, inplace=True)\n",
    "# Map indifferent values for HighProtein and LowSugar\n",
    "#requests_csv[\"HighProtein\"] = requests_csv[\"HighProtein\"].map({\n",
    "#    \"Indifferent\": 0,\n",
    "#    \"0\": 0,\n",
    "#    \"1\": 1,\n",
    "#    \"Yes\": 1\n",
    "#})\n",
    "from sklearn.preprocessing import LabelEncoder\n",
    "\n",
    "mapping = {'Yes': 1, 'No': 0, 'Indifferent': -1}\n",
    "requests_csv['HighProtein'] = requests_csv['HighProtein'].map(mapping)\n",
    "\n",
    "#requests_csv[\"LowSugar\"] = requests_csv[\"LowSugar\"].map({\n",
    "#    \"Indifferent\": 1,\n",
    "#    \"0\": 0,\n",
    "#   \"1\": 1\n",
    "#})\n",
    "\n",
    "mapping = {'Yes': 1, '0': 0, 'Indifferent': -1}\n",
    "requests_csv['LowSugar'] = requests_csv['LowSugar'].map(mapping)\n"
   ]
  },
  {
   "cell_type": "code",
   "outputs": [
    {
     "data": {
      "text/plain": "         CustomerId  RecipeId          Time  HighCalories  HighProtein  \\\n0       2001012259B     73440   1799.950949           0.0           -1   \n1           437641B    365718   4201.820980           0.0            1   \n2       1803340263D    141757   6299.861496           0.0           -1   \n3           854048B    280351  19801.365796           0.0            1   \n4          2277685E    180505   5400.093457           0.0           -1   \n...             ...       ...           ...           ...          ...   \n140190      163793B     78171   1560.649725           0.0           -1   \n140191       33888B    333262   1502.011466           1.0           -1   \n140192      401942C     49200   5999.274269           0.0           -1   \n140193      346866B    214815    899.523513           0.0            1   \n140194     1786859E    117923   7199.637837           1.0           -1   \n\n        LowFat  LowSugar  HighFiber  \n0            0         0          0  \n1            0        -1          1  \n2            1        -1          0  \n3            1         0          1  \n4            0         0          0  \n...        ...       ...        ...  \n140190       0         0          1  \n140191       1         0          0  \n140192       0         0          1  \n140193       1        -1          1  \n140194       0         0          1  \n\n[140195 rows x 8 columns]",
      "text/html": "<div>\n<style scoped>\n    .dataframe tbody tr th:only-of-type {\n        vertical-align: middle;\n    }\n\n    .dataframe tbody tr th {\n        vertical-align: top;\n    }\n\n    .dataframe thead th {\n        text-align: right;\n    }\n</style>\n<table border=\"1\" class=\"dataframe\">\n  <thead>\n    <tr style=\"text-align: right;\">\n      <th></th>\n      <th>CustomerId</th>\n      <th>RecipeId</th>\n      <th>Time</th>\n      <th>HighCalories</th>\n      <th>HighProtein</th>\n      <th>LowFat</th>\n      <th>LowSugar</th>\n      <th>HighFiber</th>\n    </tr>\n  </thead>\n  <tbody>\n    <tr>\n      <th>0</th>\n      <td>2001012259B</td>\n      <td>73440</td>\n      <td>1799.950949</td>\n      <td>0.0</td>\n      <td>-1</td>\n      <td>0</td>\n      <td>0</td>\n      <td>0</td>\n    </tr>\n    <tr>\n      <th>1</th>\n      <td>437641B</td>\n      <td>365718</td>\n      <td>4201.820980</td>\n      <td>0.0</td>\n      <td>1</td>\n      <td>0</td>\n      <td>-1</td>\n      <td>1</td>\n    </tr>\n    <tr>\n      <th>2</th>\n      <td>1803340263D</td>\n      <td>141757</td>\n      <td>6299.861496</td>\n      <td>0.0</td>\n      <td>-1</td>\n      <td>1</td>\n      <td>-1</td>\n      <td>0</td>\n    </tr>\n    <tr>\n      <th>3</th>\n      <td>854048B</td>\n      <td>280351</td>\n      <td>19801.365796</td>\n      <td>0.0</td>\n      <td>1</td>\n      <td>1</td>\n      <td>0</td>\n      <td>1</td>\n    </tr>\n    <tr>\n      <th>4</th>\n      <td>2277685E</td>\n      <td>180505</td>\n      <td>5400.093457</td>\n      <td>0.0</td>\n      <td>-1</td>\n      <td>0</td>\n      <td>0</td>\n      <td>0</td>\n    </tr>\n    <tr>\n      <th>...</th>\n      <td>...</td>\n      <td>...</td>\n      <td>...</td>\n      <td>...</td>\n      <td>...</td>\n      <td>...</td>\n      <td>...</td>\n      <td>...</td>\n    </tr>\n    <tr>\n      <th>140190</th>\n      <td>163793B</td>\n      <td>78171</td>\n      <td>1560.649725</td>\n      <td>0.0</td>\n      <td>-1</td>\n      <td>0</td>\n      <td>0</td>\n      <td>1</td>\n    </tr>\n    <tr>\n      <th>140191</th>\n      <td>33888B</td>\n      <td>333262</td>\n      <td>1502.011466</td>\n      <td>1.0</td>\n      <td>-1</td>\n      <td>1</td>\n      <td>0</td>\n      <td>0</td>\n    </tr>\n    <tr>\n      <th>140192</th>\n      <td>401942C</td>\n      <td>49200</td>\n      <td>5999.274269</td>\n      <td>0.0</td>\n      <td>-1</td>\n      <td>0</td>\n      <td>0</td>\n      <td>1</td>\n    </tr>\n    <tr>\n      <th>140193</th>\n      <td>346866B</td>\n      <td>214815</td>\n      <td>899.523513</td>\n      <td>0.0</td>\n      <td>1</td>\n      <td>1</td>\n      <td>-1</td>\n      <td>1</td>\n    </tr>\n    <tr>\n      <th>140194</th>\n      <td>1786859E</td>\n      <td>117923</td>\n      <td>7199.637837</td>\n      <td>1.0</td>\n      <td>-1</td>\n      <td>0</td>\n      <td>0</td>\n      <td>1</td>\n    </tr>\n  </tbody>\n</table>\n<p>140195 rows × 8 columns</p>\n</div>"
     },
     "execution_count": 2463,
     "metadata": {},
     "output_type": "execute_result"
    }
   ],
   "source": [
    "requests_csv"
   ],
   "metadata": {
    "collapsed": false,
    "ExecuteTime": {
     "end_time": "2024-01-08T14:55:50.328330Z",
     "start_time": "2024-01-08T14:55:50.321642Z"
    }
   },
   "execution_count": 2463
  },
  {
   "cell_type": "code",
   "execution_count": 2464,
   "outputs": [],
   "source": [
    "# Change types to boolean\n",
    "requests_csv[\"HighCalories\"] = requests_csv[\"HighCalories\"].astype(\"int\")\n",
    "requests_csv[\"LowFat\"] = requests_csv[\"LowFat\"].astype(\"int\")\n",
    "requests_csv[\"HighFiber\"] = requests_csv[\"HighFiber\"].astype(\"int\")\n",
    "requests_csv[\"HighProtein\"] = requests_csv[\"HighProtein\"].astype(\"int\")\n",
    "requests_csv[\"LowSugar\"] = requests_csv[\"LowSugar\"].astype(\"int\")\n",
    "\n",
    "#TODO: how to handle negative time values? -> here: take the total time value from recipes by recipeId!\n",
    "request_with_recipe = pd.merge(requests_csv, recipes_csv, on=\"RecipeId\", how=\"left\")\n",
    "request_with_recipe['Time'] = np.where(request_with_recipe['Time'] < 0, request_with_recipe['TotalTimeNeeded'], request_with_recipe['Time'])\n",
    "#request_with_recipe['Time'] = np.where(request_with_recipe['Time'] < 0, 0, request_with_recipe['Time'])\n",
    "request_with_recipe['Time'] = request_with_recipe['Time'].round().astype('int')\n",
    "request_with_recipe.rename(columns={'Time':'MaxTime'}, inplace=True)\n",
    "requests_csv = request_with_recipe[['CustomerId', 'RecipeId', 'MaxTime', 'HighCalories','HighProtein', 'LowFat', 'LowSugar', 'HighFiber']]\n",
    "#request_with_recipe = request_with_recipe[['CustomerId','RecipeId', 'Time','TotalTimeNeeded']]"
   ],
   "metadata": {
    "collapsed": false,
    "ExecuteTime": {
     "end_time": "2024-01-08T14:55:50.338980Z",
     "start_time": "2024-01-08T14:55:50.321689Z"
    }
   }
  },
  {
   "cell_type": "code",
   "outputs": [
    {
     "data": {
      "text/plain": "         CustomerId  RecipeId  MaxTime  HighCalories  HighProtein  LowFat  \\\n0       2001012259B     73440     1800             0           -1       0   \n1           437641B    365718     4202             0            1       0   \n2       1803340263D    141757     6300             0           -1       1   \n3           854048B    280351    19801             0            1       1   \n4          2277685E    180505     5400             0           -1       0   \n...             ...       ...      ...           ...          ...     ...   \n140190      163793B     78171     1561             0           -1       0   \n140191       33888B    333262     1502             1           -1       1   \n140192      401942C     49200     5999             0           -1       0   \n140193      346866B    214815      900             0            1       1   \n140194     1786859E    117923     7200             1           -1       0   \n\n        LowSugar  HighFiber  \n0              0          0  \n1             -1          1  \n2             -1          0  \n3              0          1  \n4              0          0  \n...          ...        ...  \n140190         0          1  \n140191         0          0  \n140192         0          1  \n140193        -1          1  \n140194         0          1  \n\n[140195 rows x 8 columns]",
      "text/html": "<div>\n<style scoped>\n    .dataframe tbody tr th:only-of-type {\n        vertical-align: middle;\n    }\n\n    .dataframe tbody tr th {\n        vertical-align: top;\n    }\n\n    .dataframe thead th {\n        text-align: right;\n    }\n</style>\n<table border=\"1\" class=\"dataframe\">\n  <thead>\n    <tr style=\"text-align: right;\">\n      <th></th>\n      <th>CustomerId</th>\n      <th>RecipeId</th>\n      <th>MaxTime</th>\n      <th>HighCalories</th>\n      <th>HighProtein</th>\n      <th>LowFat</th>\n      <th>LowSugar</th>\n      <th>HighFiber</th>\n    </tr>\n  </thead>\n  <tbody>\n    <tr>\n      <th>0</th>\n      <td>2001012259B</td>\n      <td>73440</td>\n      <td>1800</td>\n      <td>0</td>\n      <td>-1</td>\n      <td>0</td>\n      <td>0</td>\n      <td>0</td>\n    </tr>\n    <tr>\n      <th>1</th>\n      <td>437641B</td>\n      <td>365718</td>\n      <td>4202</td>\n      <td>0</td>\n      <td>1</td>\n      <td>0</td>\n      <td>-1</td>\n      <td>1</td>\n    </tr>\n    <tr>\n      <th>2</th>\n      <td>1803340263D</td>\n      <td>141757</td>\n      <td>6300</td>\n      <td>0</td>\n      <td>-1</td>\n      <td>1</td>\n      <td>-1</td>\n      <td>0</td>\n    </tr>\n    <tr>\n      <th>3</th>\n      <td>854048B</td>\n      <td>280351</td>\n      <td>19801</td>\n      <td>0</td>\n      <td>1</td>\n      <td>1</td>\n      <td>0</td>\n      <td>1</td>\n    </tr>\n    <tr>\n      <th>4</th>\n      <td>2277685E</td>\n      <td>180505</td>\n      <td>5400</td>\n      <td>0</td>\n      <td>-1</td>\n      <td>0</td>\n      <td>0</td>\n      <td>0</td>\n    </tr>\n    <tr>\n      <th>...</th>\n      <td>...</td>\n      <td>...</td>\n      <td>...</td>\n      <td>...</td>\n      <td>...</td>\n      <td>...</td>\n      <td>...</td>\n      <td>...</td>\n    </tr>\n    <tr>\n      <th>140190</th>\n      <td>163793B</td>\n      <td>78171</td>\n      <td>1561</td>\n      <td>0</td>\n      <td>-1</td>\n      <td>0</td>\n      <td>0</td>\n      <td>1</td>\n    </tr>\n    <tr>\n      <th>140191</th>\n      <td>33888B</td>\n      <td>333262</td>\n      <td>1502</td>\n      <td>1</td>\n      <td>-1</td>\n      <td>1</td>\n      <td>0</td>\n      <td>0</td>\n    </tr>\n    <tr>\n      <th>140192</th>\n      <td>401942C</td>\n      <td>49200</td>\n      <td>5999</td>\n      <td>0</td>\n      <td>-1</td>\n      <td>0</td>\n      <td>0</td>\n      <td>1</td>\n    </tr>\n    <tr>\n      <th>140193</th>\n      <td>346866B</td>\n      <td>214815</td>\n      <td>900</td>\n      <td>0</td>\n      <td>1</td>\n      <td>1</td>\n      <td>-1</td>\n      <td>1</td>\n    </tr>\n    <tr>\n      <th>140194</th>\n      <td>1786859E</td>\n      <td>117923</td>\n      <td>7200</td>\n      <td>1</td>\n      <td>-1</td>\n      <td>0</td>\n      <td>0</td>\n      <td>1</td>\n    </tr>\n  </tbody>\n</table>\n<p>140195 rows × 8 columns</p>\n</div>"
     },
     "execution_count": 2465,
     "metadata": {},
     "output_type": "execute_result"
    }
   ],
   "source": [
    "requests_csv"
   ],
   "metadata": {
    "collapsed": false,
    "ExecuteTime": {
     "end_time": "2024-01-08T14:55:50.343792Z",
     "start_time": "2024-01-08T14:55:50.341022Z"
    }
   },
   "execution_count": 2465
  },
  {
   "cell_type": "markdown",
   "source": [
    "#### reviews_csv"
   ],
   "metadata": {
    "collapsed": false
   }
  },
  {
   "cell_type": "code",
   "execution_count": 2466,
   "outputs": [],
   "source": [
    "#rename column\n",
    "reviews_csv.rename(columns= {\"AuthorId\" : \"CustomerId\"}, inplace=True)\n",
    "# Remove NA rows and Rating column and TestSetId\n",
    "reviews_csv = reviews_csv.drop(\"Rating\", axis=1)\n",
    "reviews_csv.dropna(subset=[\"Like\"], inplace=True) # note: now the entries are reduced to 97381 entries\n",
    "reviews_csv = reviews_csv.drop(\"TestSetId\", axis=1)"
   ],
   "metadata": {
    "collapsed": false,
    "ExecuteTime": {
     "end_time": "2024-01-08T14:55:50.376908Z",
     "start_time": "2024-01-08T14:55:50.365047Z"
    }
   }
  },
  {
   "cell_type": "code",
   "execution_count": 2467,
   "outputs": [],
   "source": [
    "# convert Like type to boolean\n",
    "reviews_csv[\"Like\"] = reviews_csv[\"Like\"].astype(\"int\")"
   ],
   "metadata": {
    "collapsed": false,
    "ExecuteTime": {
     "end_time": "2024-01-08T14:55:50.377309Z",
     "start_time": "2024-01-08T14:55:50.365215Z"
    }
   }
  },
  {
   "cell_type": "code",
   "outputs": [],
   "source": [
    "#merge diet + review\n",
    "review_with_diet = pd.merge(reviews_csv, diet_csv, on=\"CustomerId\", how=\"inner\") # 97381 entries\n",
    "#merge diet + review + request\n",
    "review_diet_with_request = pd.merge(review_with_diet, requests_csv, on=[\"CustomerId\", \"RecipeId\"], how=\"inner\") # 97381 entries\n"
   ],
   "metadata": {
    "collapsed": false,
    "ExecuteTime": {
     "end_time": "2024-01-08T14:55:50.423451Z",
     "start_time": "2024-01-08T14:55:50.392677Z"
    }
   },
   "execution_count": 2468
  },
  {
   "cell_type": "code",
   "outputs": [
    {
     "data": {
      "text/plain": "      CustomerId  RecipeId  Like  Age  Diet_Omnivore  Diet_Vegan  \\\n0       1000036C    320576     0   50              0           0   \n1       1000216B    189335     0   78              0           0   \n2       1000221A    133043     0   25              0           0   \n3       1000221A     90537     0   25              0           0   \n4       1000221A    334314     0   25              0           0   \n...          ...       ...   ...  ...            ...         ...   \n97376    999595E    338070     0   31              0           0   \n97377    999774A     29002     0   57              0           0   \n97378    999774A    159252     0   57              0           0   \n97379    999774A      1171     1   57              0           0   \n97380    999917E    169413     0   28              0           0   \n\n       Diet_Vegetarian  MaxTime  HighCalories  HighProtein  LowFat  LowSugar  \\\n0                    1      119             0           -1       0        -1   \n1                    1     1199             0            1       0         0   \n2                    1      362             0            1       0        -1   \n3                    1     1199             0            1       0         0   \n4                    1     5400             1           -1       0         0   \n...                ...      ...           ...          ...     ...       ...   \n97376                1     3899             0           -1       1        -1   \n97377                1     2402             0           -1       0        -1   \n97378                1     6000             0            1       0         0   \n97379                1      480             1            1       0         0   \n97380                1     3600             0           -1       0        -1   \n\n       HighFiber  \n0              1  \n1              1  \n2              1  \n3              1  \n4              0  \n...          ...  \n97376          0  \n97377          0  \n97378          0  \n97379          0  \n97380          0  \n\n[97381 rows x 13 columns]",
      "text/html": "<div>\n<style scoped>\n    .dataframe tbody tr th:only-of-type {\n        vertical-align: middle;\n    }\n\n    .dataframe tbody tr th {\n        vertical-align: top;\n    }\n\n    .dataframe thead th {\n        text-align: right;\n    }\n</style>\n<table border=\"1\" class=\"dataframe\">\n  <thead>\n    <tr style=\"text-align: right;\">\n      <th></th>\n      <th>CustomerId</th>\n      <th>RecipeId</th>\n      <th>Like</th>\n      <th>Age</th>\n      <th>Diet_Omnivore</th>\n      <th>Diet_Vegan</th>\n      <th>Diet_Vegetarian</th>\n      <th>MaxTime</th>\n      <th>HighCalories</th>\n      <th>HighProtein</th>\n      <th>LowFat</th>\n      <th>LowSugar</th>\n      <th>HighFiber</th>\n    </tr>\n  </thead>\n  <tbody>\n    <tr>\n      <th>0</th>\n      <td>1000036C</td>\n      <td>320576</td>\n      <td>0</td>\n      <td>50</td>\n      <td>0</td>\n      <td>0</td>\n      <td>1</td>\n      <td>119</td>\n      <td>0</td>\n      <td>-1</td>\n      <td>0</td>\n      <td>-1</td>\n      <td>1</td>\n    </tr>\n    <tr>\n      <th>1</th>\n      <td>1000216B</td>\n      <td>189335</td>\n      <td>0</td>\n      <td>78</td>\n      <td>0</td>\n      <td>0</td>\n      <td>1</td>\n      <td>1199</td>\n      <td>0</td>\n      <td>1</td>\n      <td>0</td>\n      <td>0</td>\n      <td>1</td>\n    </tr>\n    <tr>\n      <th>2</th>\n      <td>1000221A</td>\n      <td>133043</td>\n      <td>0</td>\n      <td>25</td>\n      <td>0</td>\n      <td>0</td>\n      <td>1</td>\n      <td>362</td>\n      <td>0</td>\n      <td>1</td>\n      <td>0</td>\n      <td>-1</td>\n      <td>1</td>\n    </tr>\n    <tr>\n      <th>3</th>\n      <td>1000221A</td>\n      <td>90537</td>\n      <td>0</td>\n      <td>25</td>\n      <td>0</td>\n      <td>0</td>\n      <td>1</td>\n      <td>1199</td>\n      <td>0</td>\n      <td>1</td>\n      <td>0</td>\n      <td>0</td>\n      <td>1</td>\n    </tr>\n    <tr>\n      <th>4</th>\n      <td>1000221A</td>\n      <td>334314</td>\n      <td>0</td>\n      <td>25</td>\n      <td>0</td>\n      <td>0</td>\n      <td>1</td>\n      <td>5400</td>\n      <td>1</td>\n      <td>-1</td>\n      <td>0</td>\n      <td>0</td>\n      <td>0</td>\n    </tr>\n    <tr>\n      <th>...</th>\n      <td>...</td>\n      <td>...</td>\n      <td>...</td>\n      <td>...</td>\n      <td>...</td>\n      <td>...</td>\n      <td>...</td>\n      <td>...</td>\n      <td>...</td>\n      <td>...</td>\n      <td>...</td>\n      <td>...</td>\n      <td>...</td>\n    </tr>\n    <tr>\n      <th>97376</th>\n      <td>999595E</td>\n      <td>338070</td>\n      <td>0</td>\n      <td>31</td>\n      <td>0</td>\n      <td>0</td>\n      <td>1</td>\n      <td>3899</td>\n      <td>0</td>\n      <td>-1</td>\n      <td>1</td>\n      <td>-1</td>\n      <td>0</td>\n    </tr>\n    <tr>\n      <th>97377</th>\n      <td>999774A</td>\n      <td>29002</td>\n      <td>0</td>\n      <td>57</td>\n      <td>0</td>\n      <td>0</td>\n      <td>1</td>\n      <td>2402</td>\n      <td>0</td>\n      <td>-1</td>\n      <td>0</td>\n      <td>-1</td>\n      <td>0</td>\n    </tr>\n    <tr>\n      <th>97378</th>\n      <td>999774A</td>\n      <td>159252</td>\n      <td>0</td>\n      <td>57</td>\n      <td>0</td>\n      <td>0</td>\n      <td>1</td>\n      <td>6000</td>\n      <td>0</td>\n      <td>1</td>\n      <td>0</td>\n      <td>0</td>\n      <td>0</td>\n    </tr>\n    <tr>\n      <th>97379</th>\n      <td>999774A</td>\n      <td>1171</td>\n      <td>1</td>\n      <td>57</td>\n      <td>0</td>\n      <td>0</td>\n      <td>1</td>\n      <td>480</td>\n      <td>1</td>\n      <td>1</td>\n      <td>0</td>\n      <td>0</td>\n      <td>0</td>\n    </tr>\n    <tr>\n      <th>97380</th>\n      <td>999917E</td>\n      <td>169413</td>\n      <td>0</td>\n      <td>28</td>\n      <td>0</td>\n      <td>0</td>\n      <td>1</td>\n      <td>3600</td>\n      <td>0</td>\n      <td>-1</td>\n      <td>0</td>\n      <td>-1</td>\n      <td>0</td>\n    </tr>\n  </tbody>\n</table>\n<p>97381 rows × 13 columns</p>\n</div>"
     },
     "execution_count": 2469,
     "metadata": {},
     "output_type": "execute_result"
    }
   ],
   "source": [
    "review_diet_with_request"
   ],
   "metadata": {
    "collapsed": false,
    "ExecuteTime": {
     "end_time": "2024-01-08T14:55:50.429429Z",
     "start_time": "2024-01-08T14:55:50.425967Z"
    }
   },
   "execution_count": 2469
  },
  {
   "cell_type": "code",
   "outputs": [],
   "source": [
    "#one-hot encoding recipes\n",
    "recipes_csv = pd.get_dummies(recipes_csv, columns=['RecipeCategory'], prefix='RecipeCategory')\n",
    "recipes_csv['RecipeCategory_Beverages'] = recipes_csv['RecipeCategory_Beverages'].astype('int')\n",
    "recipes_csv['RecipeCategory_Bread'] = recipes_csv['RecipeCategory_Bread'].astype('int')\n",
    "recipes_csv['RecipeCategory_Breakfast'] = recipes_csv['RecipeCategory_Breakfast'].astype('int')\n",
    "recipes_csv['RecipeCategory_Lunch'] = recipes_csv['RecipeCategory_Lunch'].astype('int')\n",
    "recipes_csv['RecipeCategory_One dish meal'] = recipes_csv['RecipeCategory_One dish meal'].astype('int')\n",
    "recipes_csv.rename(columns={'RecipeCategory_One dish meal': 'RecipeCategory_One_dish_meal'}, inplace=True)\n",
    "recipes_csv['RecipeCategory_Soup'] = recipes_csv['RecipeCategory_Soup'].astype('int')\n",
    "recipes_csv['RecipeCategory_Other'] = recipes_csv['RecipeCategory_Other'].astype('int')\n",
    "recipes_csv.drop('Name', axis=1, inplace=True)\n",
    "\n"
   ],
   "metadata": {
    "collapsed": false,
    "ExecuteTime": {
     "end_time": "2024-01-08T14:55:50.435629Z",
     "start_time": "2024-01-08T14:55:50.428853Z"
    }
   },
   "execution_count": 2470
  },
  {
   "cell_type": "code",
   "outputs": [
    {
     "data": {
      "text/plain": "       RecipeId  CookTime  PrepTime  Calories  FatContent  \\\n0         73440         0      1800     241.3        10.1   \n1        365718      3600       600     370.8        17.5   \n2        141757      3600      2700     377.6        20.9   \n3        280351     18000      1800     282.8        16.5   \n4        180505      3600      1800     257.5         8.6   \n...         ...       ...       ...       ...         ...   \n75599    253577     43200     28800     121.5         0.5   \n75600    267827      3600      2700     652.2        25.8   \n75601    266983      1800       900     223.9         9.2   \n75602    253739       300       120    2229.8        80.3   \n75603     78171       960       600     654.1        13.8   \n\n       SaturatedFatContent  CholesterolContent  SodiumContent  \\\n0                      1.2                 0.0           13.1   \n1                      7.2                22.9          553.3   \n2                     10.5                45.7         1501.8   \n3                     10.3                50.5          630.2   \n4                      2.4               110.7          160.9   \n...                    ...                 ...            ...   \n75599                  0.1                 0.0         1175.1   \n75600                 10.7               197.9          435.5   \n75601                  3.6                78.3          725.9   \n75602                 69.3                 0.0          294.7   \n75603                  6.9                34.6         1114.0   \n\n       CarbohydrateContent  FiberContent  SugarContent  ProteinContent  \\\n0                     31.8           2.3           1.4             6.7   \n1                     44.3           1.6           2.2             9.4   \n2                     36.6           3.8           6.1            12.9   \n3                     22.8           2.3           2.7            11.7   \n4                     39.8           0.4          30.2             6.3   \n...                    ...           ...           ...             ...   \n75599                 22.2           7.8           0.6             7.9   \n75600                 51.9           7.5           7.2            50.1   \n75601                  7.3           1.1           1.7            26.7   \n75602                369.0          15.7         317.9            26.7   \n75603                 92.2           3.9           4.2            21.8   \n\n       TotalTimeNeeded  RecipeCategory_Beverages  RecipeCategory_Bread  \\\n0                 1800                         0                     0   \n1                 4200                         0                     0   \n2                 6300                         0                     0   \n3                19800                         0                     0   \n4                 5400                         0                     0   \n...                ...                       ...                   ...   \n75599            72000                         0                     0   \n75600             6300                         0                     0   \n75601             2700                         0                     0   \n75602              420                         0                     0   \n75603             1560                         0                     0   \n\n       RecipeCategory_Breakfast  RecipeCategory_Lunch  \\\n0                             0                     0   \n1                             0                     0   \n2                             0                     0   \n3                             0                     0   \n4                             0                     0   \n...                         ...                   ...   \n75599                         0                     0   \n75600                         0                     0   \n75601                         0                     0   \n75602                         0                     0   \n75603                         0                     0   \n\n       RecipeCategory_One_dish_meal  RecipeCategory_Other  RecipeCategory_Soup  \n0                                 0                     1                    0  \n1                                 0                     1                    0  \n2                                 0                     1                    0  \n3                                 0                     1                    0  \n4                                 0                     1                    0  \n...                             ...                   ...                  ...  \n75599                             0                     1                    0  \n75600                             0                     1                    0  \n75601                             0                     1                    0  \n75602                             0                     1                    0  \n75603                             0                     1                    0  \n\n[75604 rows x 20 columns]",
      "text/html": "<div>\n<style scoped>\n    .dataframe tbody tr th:only-of-type {\n        vertical-align: middle;\n    }\n\n    .dataframe tbody tr th {\n        vertical-align: top;\n    }\n\n    .dataframe thead th {\n        text-align: right;\n    }\n</style>\n<table border=\"1\" class=\"dataframe\">\n  <thead>\n    <tr style=\"text-align: right;\">\n      <th></th>\n      <th>RecipeId</th>\n      <th>CookTime</th>\n      <th>PrepTime</th>\n      <th>Calories</th>\n      <th>FatContent</th>\n      <th>SaturatedFatContent</th>\n      <th>CholesterolContent</th>\n      <th>SodiumContent</th>\n      <th>CarbohydrateContent</th>\n      <th>FiberContent</th>\n      <th>SugarContent</th>\n      <th>ProteinContent</th>\n      <th>TotalTimeNeeded</th>\n      <th>RecipeCategory_Beverages</th>\n      <th>RecipeCategory_Bread</th>\n      <th>RecipeCategory_Breakfast</th>\n      <th>RecipeCategory_Lunch</th>\n      <th>RecipeCategory_One_dish_meal</th>\n      <th>RecipeCategory_Other</th>\n      <th>RecipeCategory_Soup</th>\n    </tr>\n  </thead>\n  <tbody>\n    <tr>\n      <th>0</th>\n      <td>73440</td>\n      <td>0</td>\n      <td>1800</td>\n      <td>241.3</td>\n      <td>10.1</td>\n      <td>1.2</td>\n      <td>0.0</td>\n      <td>13.1</td>\n      <td>31.8</td>\n      <td>2.3</td>\n      <td>1.4</td>\n      <td>6.7</td>\n      <td>1800</td>\n      <td>0</td>\n      <td>0</td>\n      <td>0</td>\n      <td>0</td>\n      <td>0</td>\n      <td>1</td>\n      <td>0</td>\n    </tr>\n    <tr>\n      <th>1</th>\n      <td>365718</td>\n      <td>3600</td>\n      <td>600</td>\n      <td>370.8</td>\n      <td>17.5</td>\n      <td>7.2</td>\n      <td>22.9</td>\n      <td>553.3</td>\n      <td>44.3</td>\n      <td>1.6</td>\n      <td>2.2</td>\n      <td>9.4</td>\n      <td>4200</td>\n      <td>0</td>\n      <td>0</td>\n      <td>0</td>\n      <td>0</td>\n      <td>0</td>\n      <td>1</td>\n      <td>0</td>\n    </tr>\n    <tr>\n      <th>2</th>\n      <td>141757</td>\n      <td>3600</td>\n      <td>2700</td>\n      <td>377.6</td>\n      <td>20.9</td>\n      <td>10.5</td>\n      <td>45.7</td>\n      <td>1501.8</td>\n      <td>36.6</td>\n      <td>3.8</td>\n      <td>6.1</td>\n      <td>12.9</td>\n      <td>6300</td>\n      <td>0</td>\n      <td>0</td>\n      <td>0</td>\n      <td>0</td>\n      <td>0</td>\n      <td>1</td>\n      <td>0</td>\n    </tr>\n    <tr>\n      <th>3</th>\n      <td>280351</td>\n      <td>18000</td>\n      <td>1800</td>\n      <td>282.8</td>\n      <td>16.5</td>\n      <td>10.3</td>\n      <td>50.5</td>\n      <td>630.2</td>\n      <td>22.8</td>\n      <td>2.3</td>\n      <td>2.7</td>\n      <td>11.7</td>\n      <td>19800</td>\n      <td>0</td>\n      <td>0</td>\n      <td>0</td>\n      <td>0</td>\n      <td>0</td>\n      <td>1</td>\n      <td>0</td>\n    </tr>\n    <tr>\n      <th>4</th>\n      <td>180505</td>\n      <td>3600</td>\n      <td>1800</td>\n      <td>257.5</td>\n      <td>8.6</td>\n      <td>2.4</td>\n      <td>110.7</td>\n      <td>160.9</td>\n      <td>39.8</td>\n      <td>0.4</td>\n      <td>30.2</td>\n      <td>6.3</td>\n      <td>5400</td>\n      <td>0</td>\n      <td>0</td>\n      <td>0</td>\n      <td>0</td>\n      <td>0</td>\n      <td>1</td>\n      <td>0</td>\n    </tr>\n    <tr>\n      <th>...</th>\n      <td>...</td>\n      <td>...</td>\n      <td>...</td>\n      <td>...</td>\n      <td>...</td>\n      <td>...</td>\n      <td>...</td>\n      <td>...</td>\n      <td>...</td>\n      <td>...</td>\n      <td>...</td>\n      <td>...</td>\n      <td>...</td>\n      <td>...</td>\n      <td>...</td>\n      <td>...</td>\n      <td>...</td>\n      <td>...</td>\n      <td>...</td>\n      <td>...</td>\n    </tr>\n    <tr>\n      <th>75599</th>\n      <td>253577</td>\n      <td>43200</td>\n      <td>28800</td>\n      <td>121.5</td>\n      <td>0.5</td>\n      <td>0.1</td>\n      <td>0.0</td>\n      <td>1175.1</td>\n      <td>22.2</td>\n      <td>7.8</td>\n      <td>0.6</td>\n      <td>7.9</td>\n      <td>72000</td>\n      <td>0</td>\n      <td>0</td>\n      <td>0</td>\n      <td>0</td>\n      <td>0</td>\n      <td>1</td>\n      <td>0</td>\n    </tr>\n    <tr>\n      <th>75600</th>\n      <td>267827</td>\n      <td>3600</td>\n      <td>2700</td>\n      <td>652.2</td>\n      <td>25.8</td>\n      <td>10.7</td>\n      <td>197.9</td>\n      <td>435.5</td>\n      <td>51.9</td>\n      <td>7.5</td>\n      <td>7.2</td>\n      <td>50.1</td>\n      <td>6300</td>\n      <td>0</td>\n      <td>0</td>\n      <td>0</td>\n      <td>0</td>\n      <td>0</td>\n      <td>1</td>\n      <td>0</td>\n    </tr>\n    <tr>\n      <th>75601</th>\n      <td>266983</td>\n      <td>1800</td>\n      <td>900</td>\n      <td>223.9</td>\n      <td>9.2</td>\n      <td>3.6</td>\n      <td>78.3</td>\n      <td>725.9</td>\n      <td>7.3</td>\n      <td>1.1</td>\n      <td>1.7</td>\n      <td>26.7</td>\n      <td>2700</td>\n      <td>0</td>\n      <td>0</td>\n      <td>0</td>\n      <td>0</td>\n      <td>0</td>\n      <td>1</td>\n      <td>0</td>\n    </tr>\n    <tr>\n      <th>75602</th>\n      <td>253739</td>\n      <td>300</td>\n      <td>120</td>\n      <td>2229.8</td>\n      <td>80.3</td>\n      <td>69.3</td>\n      <td>0.0</td>\n      <td>294.7</td>\n      <td>369.0</td>\n      <td>15.7</td>\n      <td>317.9</td>\n      <td>26.7</td>\n      <td>420</td>\n      <td>0</td>\n      <td>0</td>\n      <td>0</td>\n      <td>0</td>\n      <td>0</td>\n      <td>1</td>\n      <td>0</td>\n    </tr>\n    <tr>\n      <th>75603</th>\n      <td>78171</td>\n      <td>960</td>\n      <td>600</td>\n      <td>654.1</td>\n      <td>13.8</td>\n      <td>6.9</td>\n      <td>34.6</td>\n      <td>1114.0</td>\n      <td>92.2</td>\n      <td>3.9</td>\n      <td>4.2</td>\n      <td>21.8</td>\n      <td>1560</td>\n      <td>0</td>\n      <td>0</td>\n      <td>0</td>\n      <td>0</td>\n      <td>0</td>\n      <td>1</td>\n      <td>0</td>\n    </tr>\n  </tbody>\n</table>\n<p>75604 rows × 20 columns</p>\n</div>"
     },
     "execution_count": 2471,
     "metadata": {},
     "output_type": "execute_result"
    }
   ],
   "source": [
    "recipes_csv"
   ],
   "metadata": {
    "collapsed": false,
    "ExecuteTime": {
     "end_time": "2024-01-08T14:55:50.444515Z",
     "start_time": "2024-01-08T14:55:50.436384Z"
    }
   },
   "execution_count": 2471
  },
  {
   "cell_type": "code",
   "outputs": [],
   "source": [
    "# merge 'review_with_diet' with 'recipes_csv'\n",
    "df = pd.merge(review_diet_with_request, recipes_csv, on='RecipeId', how='left')\n",
    "df['TimeDeviation'] = df['MaxTime'] - df['TotalTimeNeeded']\n",
    "#df.drop(['TotalTimeNeeded', 'MaxTime'], axis=1, inplace=True)"
   ],
   "metadata": {
    "collapsed": false,
    "ExecuteTime": {
     "end_time": "2024-01-08T14:55:50.468607Z",
     "start_time": "2024-01-08T14:55:50.444202Z"
    }
   },
   "execution_count": 2472
  },
  {
   "cell_type": "code",
   "outputs": [
    {
     "data": {
      "text/plain": "      CustomerId  RecipeId  Like  Age  Diet_Omnivore  Diet_Vegan  \\\n0       1000036C    320576     0   50              0           0   \n1       1000216B    189335     0   78              0           0   \n2       1000221A    133043     0   25              0           0   \n3       1000221A     90537     0   25              0           0   \n4       1000221A    334314     0   25              0           0   \n...          ...       ...   ...  ...            ...         ...   \n97376    999595E    338070     0   31              0           0   \n97377    999774A     29002     0   57              0           0   \n97378    999774A    159252     0   57              0           0   \n97379    999774A      1171     1   57              0           0   \n97380    999917E    169413     0   28              0           0   \n\n       Diet_Vegetarian  MaxTime  HighCalories  HighProtein  ...  \\\n0                    1      119             0           -1  ...   \n1                    1     1199             0            1  ...   \n2                    1      362             0            1  ...   \n3                    1     1199             0            1  ...   \n4                    1     5400             1           -1  ...   \n...                ...      ...           ...          ...  ...   \n97376                1     3899             0           -1  ...   \n97377                1     2402             0           -1  ...   \n97378                1     6000             0            1  ...   \n97379                1      480             1            1  ...   \n97380                1     3600             0           -1  ...   \n\n       ProteinContent  TotalTimeNeeded  RecipeCategory_Beverages  \\\n0                 0.0              120                         1   \n1                16.3             1200                         0   \n2                 0.2              360                         0   \n3                68.9             1200                         0   \n4                18.1             5400                         0   \n...               ...              ...                       ...   \n97376             5.2             3900                         0   \n97377            32.0             2400                         0   \n97378             1.1             6000                         0   \n97379            18.2              480                         1   \n97380             5.6             3600                         0   \n\n       RecipeCategory_Bread  RecipeCategory_Breakfast  RecipeCategory_Lunch  \\\n0                         0                         0                     0   \n1                         0                         0                     0   \n2                         0                         0                     0   \n3                         0                         1                     0   \n4                         1                         0                     0   \n...                     ...                       ...                   ...   \n97376                     0                         0                     0   \n97377                     0                         0                     0   \n97378                     0                         0                     0   \n97379                     0                         0                     0   \n97380                     1                         0                     0   \n\n       RecipeCategory_One_dish_meal  RecipeCategory_Other  \\\n0                                 0                     0   \n1                                 0                     1   \n2                                 0                     1   \n3                                 0                     0   \n4                                 0                     0   \n...                             ...                   ...   \n97376                             0                     1   \n97377                             0                     1   \n97378                             0                     1   \n97379                             0                     0   \n97380                             0                     0   \n\n       RecipeCategory_Soup  TimeDeviation  \n0                        0             -1  \n1                        0             -1  \n2                        0              2  \n3                        0             -1  \n4                        0              0  \n...                    ...            ...  \n97376                    0             -1  \n97377                    0              2  \n97378                    0              0  \n97379                    0              0  \n97380                    0              0  \n\n[97381 rows x 33 columns]",
      "text/html": "<div>\n<style scoped>\n    .dataframe tbody tr th:only-of-type {\n        vertical-align: middle;\n    }\n\n    .dataframe tbody tr th {\n        vertical-align: top;\n    }\n\n    .dataframe thead th {\n        text-align: right;\n    }\n</style>\n<table border=\"1\" class=\"dataframe\">\n  <thead>\n    <tr style=\"text-align: right;\">\n      <th></th>\n      <th>CustomerId</th>\n      <th>RecipeId</th>\n      <th>Like</th>\n      <th>Age</th>\n      <th>Diet_Omnivore</th>\n      <th>Diet_Vegan</th>\n      <th>Diet_Vegetarian</th>\n      <th>MaxTime</th>\n      <th>HighCalories</th>\n      <th>HighProtein</th>\n      <th>...</th>\n      <th>ProteinContent</th>\n      <th>TotalTimeNeeded</th>\n      <th>RecipeCategory_Beverages</th>\n      <th>RecipeCategory_Bread</th>\n      <th>RecipeCategory_Breakfast</th>\n      <th>RecipeCategory_Lunch</th>\n      <th>RecipeCategory_One_dish_meal</th>\n      <th>RecipeCategory_Other</th>\n      <th>RecipeCategory_Soup</th>\n      <th>TimeDeviation</th>\n    </tr>\n  </thead>\n  <tbody>\n    <tr>\n      <th>0</th>\n      <td>1000036C</td>\n      <td>320576</td>\n      <td>0</td>\n      <td>50</td>\n      <td>0</td>\n      <td>0</td>\n      <td>1</td>\n      <td>119</td>\n      <td>0</td>\n      <td>-1</td>\n      <td>...</td>\n      <td>0.0</td>\n      <td>120</td>\n      <td>1</td>\n      <td>0</td>\n      <td>0</td>\n      <td>0</td>\n      <td>0</td>\n      <td>0</td>\n      <td>0</td>\n      <td>-1</td>\n    </tr>\n    <tr>\n      <th>1</th>\n      <td>1000216B</td>\n      <td>189335</td>\n      <td>0</td>\n      <td>78</td>\n      <td>0</td>\n      <td>0</td>\n      <td>1</td>\n      <td>1199</td>\n      <td>0</td>\n      <td>1</td>\n      <td>...</td>\n      <td>16.3</td>\n      <td>1200</td>\n      <td>0</td>\n      <td>0</td>\n      <td>0</td>\n      <td>0</td>\n      <td>0</td>\n      <td>1</td>\n      <td>0</td>\n      <td>-1</td>\n    </tr>\n    <tr>\n      <th>2</th>\n      <td>1000221A</td>\n      <td>133043</td>\n      <td>0</td>\n      <td>25</td>\n      <td>0</td>\n      <td>0</td>\n      <td>1</td>\n      <td>362</td>\n      <td>0</td>\n      <td>1</td>\n      <td>...</td>\n      <td>0.2</td>\n      <td>360</td>\n      <td>0</td>\n      <td>0</td>\n      <td>0</td>\n      <td>0</td>\n      <td>0</td>\n      <td>1</td>\n      <td>0</td>\n      <td>2</td>\n    </tr>\n    <tr>\n      <th>3</th>\n      <td>1000221A</td>\n      <td>90537</td>\n      <td>0</td>\n      <td>25</td>\n      <td>0</td>\n      <td>0</td>\n      <td>1</td>\n      <td>1199</td>\n      <td>0</td>\n      <td>1</td>\n      <td>...</td>\n      <td>68.9</td>\n      <td>1200</td>\n      <td>0</td>\n      <td>0</td>\n      <td>1</td>\n      <td>0</td>\n      <td>0</td>\n      <td>0</td>\n      <td>0</td>\n      <td>-1</td>\n    </tr>\n    <tr>\n      <th>4</th>\n      <td>1000221A</td>\n      <td>334314</td>\n      <td>0</td>\n      <td>25</td>\n      <td>0</td>\n      <td>0</td>\n      <td>1</td>\n      <td>5400</td>\n      <td>1</td>\n      <td>-1</td>\n      <td>...</td>\n      <td>18.1</td>\n      <td>5400</td>\n      <td>0</td>\n      <td>1</td>\n      <td>0</td>\n      <td>0</td>\n      <td>0</td>\n      <td>0</td>\n      <td>0</td>\n      <td>0</td>\n    </tr>\n    <tr>\n      <th>...</th>\n      <td>...</td>\n      <td>...</td>\n      <td>...</td>\n      <td>...</td>\n      <td>...</td>\n      <td>...</td>\n      <td>...</td>\n      <td>...</td>\n      <td>...</td>\n      <td>...</td>\n      <td>...</td>\n      <td>...</td>\n      <td>...</td>\n      <td>...</td>\n      <td>...</td>\n      <td>...</td>\n      <td>...</td>\n      <td>...</td>\n      <td>...</td>\n      <td>...</td>\n      <td>...</td>\n    </tr>\n    <tr>\n      <th>97376</th>\n      <td>999595E</td>\n      <td>338070</td>\n      <td>0</td>\n      <td>31</td>\n      <td>0</td>\n      <td>0</td>\n      <td>1</td>\n      <td>3899</td>\n      <td>0</td>\n      <td>-1</td>\n      <td>...</td>\n      <td>5.2</td>\n      <td>3900</td>\n      <td>0</td>\n      <td>0</td>\n      <td>0</td>\n      <td>0</td>\n      <td>0</td>\n      <td>1</td>\n      <td>0</td>\n      <td>-1</td>\n    </tr>\n    <tr>\n      <th>97377</th>\n      <td>999774A</td>\n      <td>29002</td>\n      <td>0</td>\n      <td>57</td>\n      <td>0</td>\n      <td>0</td>\n      <td>1</td>\n      <td>2402</td>\n      <td>0</td>\n      <td>-1</td>\n      <td>...</td>\n      <td>32.0</td>\n      <td>2400</td>\n      <td>0</td>\n      <td>0</td>\n      <td>0</td>\n      <td>0</td>\n      <td>0</td>\n      <td>1</td>\n      <td>0</td>\n      <td>2</td>\n    </tr>\n    <tr>\n      <th>97378</th>\n      <td>999774A</td>\n      <td>159252</td>\n      <td>0</td>\n      <td>57</td>\n      <td>0</td>\n      <td>0</td>\n      <td>1</td>\n      <td>6000</td>\n      <td>0</td>\n      <td>1</td>\n      <td>...</td>\n      <td>1.1</td>\n      <td>6000</td>\n      <td>0</td>\n      <td>0</td>\n      <td>0</td>\n      <td>0</td>\n      <td>0</td>\n      <td>1</td>\n      <td>0</td>\n      <td>0</td>\n    </tr>\n    <tr>\n      <th>97379</th>\n      <td>999774A</td>\n      <td>1171</td>\n      <td>1</td>\n      <td>57</td>\n      <td>0</td>\n      <td>0</td>\n      <td>1</td>\n      <td>480</td>\n      <td>1</td>\n      <td>1</td>\n      <td>...</td>\n      <td>18.2</td>\n      <td>480</td>\n      <td>1</td>\n      <td>0</td>\n      <td>0</td>\n      <td>0</td>\n      <td>0</td>\n      <td>0</td>\n      <td>0</td>\n      <td>0</td>\n    </tr>\n    <tr>\n      <th>97380</th>\n      <td>999917E</td>\n      <td>169413</td>\n      <td>0</td>\n      <td>28</td>\n      <td>0</td>\n      <td>0</td>\n      <td>1</td>\n      <td>3600</td>\n      <td>0</td>\n      <td>-1</td>\n      <td>...</td>\n      <td>5.6</td>\n      <td>3600</td>\n      <td>0</td>\n      <td>1</td>\n      <td>0</td>\n      <td>0</td>\n      <td>0</td>\n      <td>0</td>\n      <td>0</td>\n      <td>0</td>\n    </tr>\n  </tbody>\n</table>\n<p>97381 rows × 33 columns</p>\n</div>"
     },
     "execution_count": 2473,
     "metadata": {},
     "output_type": "execute_result"
    }
   ],
   "source": [
    "df\n",
    "#TODO test p value for each variable\n",
    "#TODO fit model"
   ],
   "metadata": {
    "collapsed": false,
    "ExecuteTime": {
     "end_time": "2024-01-08T14:55:50.482454Z",
     "start_time": "2024-01-08T14:55:50.458321Z"
    }
   },
   "execution_count": 2473
  },
  {
   "cell_type": "code",
   "outputs": [],
   "source": [
    "import statsmodels.api as sm\n",
    "\n",
    "X = df.drop(columns=[\"Like\", \"CustomerId\", \"RecipeId\", \"Diet_Vegan\", \"TotalTimeNeeded\", 'RecipeCategory_Other', \"MaxTime\", \"Calories\", \"SaturatedFatContent\"]).copy()\n",
    "y = df['Like']"
   ],
   "metadata": {
    "collapsed": false,
    "ExecuteTime": {
     "end_time": "2024-01-08T14:55:50.482971Z",
     "start_time": "2024-01-08T14:55:50.470338Z"
    }
   },
   "execution_count": 2474
  },
  {
   "cell_type": "code",
   "outputs": [
    {
     "name": "stdout",
     "output_type": "stream",
     "text": [
      "VIF for variable Age is 5.9587279979866015\n",
      "VIF for variable Diet_Omnivore is 1.7427881250367967\n",
      "VIF for variable Diet_Vegetarian is 6.447745612506042\n",
      "VIF for variable HighCalories is 1.637511445684577\n",
      "VIF for variable HighProtein is 1.0422685326837213\n",
      "VIF for variable LowFat is 1.4081909601137266\n",
      "VIF for variable LowSugar is 1.409351818020648\n",
      "VIF for variable HighFiber is 1.6361508669102285\n",
      "VIF for variable CookTime is 1.012955594815911\n",
      "VIF for variable PrepTime is 1.0096075336765424\n",
      "VIF for variable FatContent is 8.472005500055943\n",
      "VIF for variable CholesterolContent is 6.06914123954765\n",
      "VIF for variable SodiumContent is 1.1137946834028838\n",
      "VIF for variable CarbohydrateContent is 11.396395352679797\n",
      "VIF for variable FiberContent is 2.4778464565968488\n",
      "VIF for variable SugarContent is 7.857288872392129\n",
      "VIF for variable ProteinContent is 9.81938357269384\n",
      "VIF for variable RecipeCategory_Beverages is 1.047342697128095\n",
      "VIF for variable RecipeCategory_Bread is 1.1258577758142063\n",
      "VIF for variable RecipeCategory_Breakfast is 1.0685209343557402\n",
      "VIF for variable RecipeCategory_Lunch is 1.0870857869152388\n",
      "VIF for variable RecipeCategory_One_dish_meal is 1.1102906947374185\n",
      "VIF for variable RecipeCategory_Soup is 1.0038500422351024\n",
      "VIF for variable TimeDeviation is 1.0009607208004443\n"
     ]
    }
   ],
   "source": [
    "#Test for multicollinearity using VIF test\n",
    "from statsmodels.stats.outliers_influence import variance_inflation_factor as vif\n",
    "\n",
    "for index, variable_name in enumerate(X.columns):\n",
    "    if variable_name == \"const\": \n",
    "        continue\n",
    "    print(f\"VIF for variable {variable_name} is {vif(X, index)}\")\n",
    "    "
   ],
   "metadata": {
    "collapsed": false,
    "ExecuteTime": {
     "end_time": "2024-01-08T14:55:53.184314Z",
     "start_time": "2024-01-08T14:55:50.476176Z"
    }
   },
   "execution_count": 2475
  },
  {
   "cell_type": "code",
   "outputs": [],
   "source": [
    "# split data into learning and test sets\n",
    "from sklearn.model_selection import train_test_split\n",
    "\n",
    "X_train, X_test, y_train, y_test = \\\n",
    "  train_test_split(X, y,\n",
    "                   test_size=0.3, \n",
    "                   shuffle=True,\n",
    "                   random_state=2024)"
   ],
   "metadata": {
    "collapsed": false,
    "ExecuteTime": {
     "end_time": "2024-01-08T14:55:53.196934Z",
     "start_time": "2024-01-08T14:55:53.185303Z"
    }
   },
   "execution_count": 2476
  },
  {
   "cell_type": "code",
   "outputs": [
    {
     "name": "stdout",
     "output_type": "stream",
     "text": [
      "Optimization terminated successfully.\n",
      "         Current function value: 0.341437\n",
      "         Iterations 7\n",
      "                           Logit Regression Results                           \n",
      "==============================================================================\n",
      "Dep. Variable:                   Like   No. Observations:                68166\n",
      "Model:                          Logit   Df Residuals:                    68141\n",
      "Method:                           MLE   Df Model:                           24\n",
      "Date:                Mon, 08 Jan 2024   Pseudo R-squ.:                  0.1229\n",
      "Time:                        15:55:54   Log-Likelihood:                -23274.\n",
      "converged:                       True   LL-Null:                       -26536.\n",
      "Covariance Type:            nonrobust   LLR p-value:                     0.000\n",
      "================================================================================================\n",
      "                                   coef    std err          z      P>|z|      [0.025      0.975]\n",
      "------------------------------------------------------------------------------------------------\n",
      "const                           -4.7202      0.071    -66.079      0.000      -4.860      -4.580\n",
      "Age                              0.0481      0.001     64.205      0.000       0.047       0.050\n",
      "Diet_Omnivore                    0.4509      0.061      7.397      0.000       0.331       0.570\n",
      "Diet_Vegetarian                 -0.0946      0.053     -1.768      0.077      -0.199       0.010\n",
      "HighCalories                    -0.1986      0.025     -8.007      0.000      -0.247      -0.150\n",
      "HighProtein                     -0.0409      0.012     -3.324      0.001      -0.065      -0.017\n",
      "LowFat                           0.0816      0.026      3.146      0.002       0.031       0.132\n",
      "LowSugar                        -0.3964      0.025    -15.779      0.000      -0.446      -0.347\n",
      "HighFiber                       -0.0776      0.025     -3.159      0.002      -0.126      -0.029\n",
      "CookTime                      -1.93e-07   1.72e-07     -1.123      0.261    -5.3e-07    1.44e-07\n",
      "PrepTime                      1.866e-07   2.05e-07      0.912      0.362   -2.15e-07    5.88e-07\n",
      "FatContent                      -0.0014      0.000     -4.128      0.000      -0.002      -0.001\n",
      "CholesterolContent           -6.702e-05      0.000     -0.575      0.565      -0.000       0.000\n",
      "SodiumContent                -2.295e-07   3.45e-06     -0.067      0.947   -6.99e-06    6.53e-06\n",
      "CarbohydrateContent              0.0041      0.000     12.719      0.000       0.003       0.005\n",
      "FiberContent                     0.0162      0.002      6.749      0.000       0.011       0.021\n",
      "SugarContent                    -0.0026      0.000     -6.426      0.000      -0.003      -0.002\n",
      "ProteinContent                   0.0027      0.001      4.838      0.000       0.002       0.004\n",
      "RecipeCategory_Beverages         0.6273      0.064      9.869      0.000       0.503       0.752\n",
      "RecipeCategory_Bread             0.1863      0.050      3.691      0.000       0.087       0.285\n",
      "RecipeCategory_Breakfast         0.4373      0.058      7.582      0.000       0.324       0.550\n",
      "RecipeCategory_Lunch            -0.1393      0.052     -2.655      0.008      -0.242      -0.036\n",
      "RecipeCategory_One_dish_meal    -0.4358      0.056     -7.797      0.000      -0.545      -0.326\n",
      "RecipeCategory_Soup             -0.3607      0.284     -1.268      0.205      -0.918       0.197\n",
      "TimeDeviation                 4.199e-05   2.98e-05      1.409      0.159   -1.64e-05       0.000\n",
      "================================================================================================\n",
      "McFadden Ratio 0.12291930602074308\n"
     ]
    }
   ],
   "source": [
    "#fit model\n",
    "model_sm = sm.Logit(y_train, sm.add_constant(X_train))\n",
    "results = model_sm.fit()\n",
    "print(results.summary())\n",
    "# McFadden Ratio\n",
    "print(\"McFadden Ratio\",results.prsquared)"
   ],
   "metadata": {
    "collapsed": false,
    "ExecuteTime": {
     "end_time": "2024-01-08T14:55:54.292339Z",
     "start_time": "2024-01-08T14:55:53.197100Z"
    }
   },
   "execution_count": 2477
  },
  {
   "cell_type": "code",
   "outputs": [
    {
     "name": "stdout",
     "output_type": "stream",
     "text": [
      "Variables with p-values > 0.05:\n",
      "Index(['CookTime', 'PrepTime', 'CholesterolContent', 'SodiumContent',\n",
      "       'RecipeCategory_Soup', 'TimeDeviation'],\n",
      "      dtype='object')\n"
     ]
    }
   ],
   "source": [
    "# Extract the p-values for each variable\n",
    "p_values = results.pvalues\n",
    "\n",
    "# Filter variables with p-values greater than 0.05\n",
    "variables_to_print = p_values[p_values > 0.1].index\n",
    "\n",
    "# Print the variables with p-values greater than 0.05\n",
    "print(\"Variables with p-values > 0.05:\")\n",
    "print(variables_to_print)"
   ],
   "metadata": {
    "collapsed": false,
    "ExecuteTime": {
     "end_time": "2024-01-08T14:55:54.301053Z",
     "start_time": "2024-01-08T14:55:54.292320Z"
    }
   },
   "execution_count": 2478
  },
  {
   "cell_type": "code",
   "outputs": [
    {
     "name": "stdout",
     "output_type": "stream",
     "text": [
      "Test statistic (chi^2_1-distributed): 23.407772593512483\n",
      "P-value of the statistic: 1.310479670096268e-06\n"
     ]
    }
   ],
   "source": [
    "# Specify the restriction for PrepTime (assuming \"PrepTime\" is the column name in X)\n",
    "wald_test_result_prep_time = results.wald_test(\"(ProteinContent = 0)\", scalar=True)\n",
    "\n",
    "# Print results for PrepTime\n",
    "print(f\"Test statistic (chi^2_{int(wald_test_result_prep_time.df_denom)}-distributed): {wald_test_result_prep_time.statistic}\")\n",
    "print(f\"P-value of the statistic: {wald_test_result_prep_time.pvalue}\")"
   ],
   "metadata": {
    "collapsed": false,
    "ExecuteTime": {
     "end_time": "2024-01-08T14:55:54.303313Z",
     "start_time": "2024-01-08T14:55:54.300825Z"
    }
   },
   "execution_count": 2479
  },
  {
   "cell_type": "code",
   "outputs": [
    {
     "name": "stdout",
     "output_type": "stream",
     "text": [
      "       Actual  Predicted\n",
      "14781       0          0\n",
      "2909        0          0\n",
      "43665       0          0\n",
      "45082       0          0\n",
      "22571       0          0\n",
      "...       ...        ...\n",
      "86061       0          0\n",
      "37320       0          0\n",
      "15654       0          0\n",
      "72934       0          0\n",
      "52863       0          0\n",
      "\n",
      "[29215 rows x 2 columns]\n"
     ]
    }
   ],
   "source": [
    "# Predict on the test set\n",
    "X_test_with_const = sm.add_constant(X_test)  # Add constant to the test set\n",
    "predictions = results.predict(X_test_with_const)\n",
    "y_pred_test = (predictions > 0.5).astype(int)\n",
    "\n",
    "# Compare predictions to actual labels\n",
    "comparison_df = pd.DataFrame({'Actual': y_test, 'Predicted': y_pred_test})\n",
    "\n",
    "# Print the comparison\n",
    "print(comparison_df)\n"
   ],
   "metadata": {
    "collapsed": false,
    "ExecuteTime": {
     "end_time": "2024-01-08T14:55:54.346952Z",
     "start_time": "2024-01-08T14:55:54.305233Z"
    }
   },
   "execution_count": 2480
  },
  {
   "cell_type": "code",
   "outputs": [
    {
     "name": "stdout",
     "output_type": "stream",
     "text": [
      "Accuracy = 0.866\n",
      "Balanced Accuracy: 0.5122968315226004\n"
     ]
    }
   ],
   "source": [
    "from sklearn.metrics import confusion_matrix, balanced_accuracy_score\n",
    "\n",
    "# build confusion matrix\n",
    "confusion_matrix = confusion_matrix(y_test, y_pred_test)\n",
    "correct_predictions = (y_test == y_pred_test).sum()\n",
    "total_predictions = len(y_test)\n",
    "accuracy = correct_predictions / total_predictions\n",
    "\n",
    "# Calculate Sensitivity and Specificity\n",
    "sensitivity = confusion_matrix[1, 1] / (confusion_matrix[1, 1] + confusion_matrix[1, 0])\n",
    "specificity = confusion_matrix[0, 0] / (confusion_matrix[0, 0] + confusion_matrix[0, 1])\n",
    "\n",
    "\n",
    "\n",
    "# Alternatively, you can use scikit-learn's balanced_accuracy_score function\n",
    "balanced_accuracy_sklearn = balanced_accuracy_score(y_test, y_pred_test)\n",
    "\n",
    "print(\"Accuracy =\", \"{:.3f}\".format(accuracy))\n",
    "print(\"Balanced Accuracy:\", balanced_accuracy_sklearn)"
   ],
   "metadata": {
    "collapsed": false,
    "ExecuteTime": {
     "end_time": "2024-01-08T14:55:54.348087Z",
     "start_time": "2024-01-08T14:55:54.319358Z"
    }
   },
   "execution_count": 2481
  },
  {
   "cell_type": "code",
   "outputs": [
    {
     "data": {
      "text/plain": "col_0      0    1\nLike             \n0      25175  128\n1       3796  116",
      "text/html": "<div>\n<style scoped>\n    .dataframe tbody tr th:only-of-type {\n        vertical-align: middle;\n    }\n\n    .dataframe tbody tr th {\n        vertical-align: top;\n    }\n\n    .dataframe thead th {\n        text-align: right;\n    }\n</style>\n<table border=\"1\" class=\"dataframe\">\n  <thead>\n    <tr style=\"text-align: right;\">\n      <th>col_0</th>\n      <th>0</th>\n      <th>1</th>\n    </tr>\n    <tr>\n      <th>Like</th>\n      <th></th>\n      <th></th>\n    </tr>\n  </thead>\n  <tbody>\n    <tr>\n      <th>0</th>\n      <td>25175</td>\n      <td>128</td>\n    </tr>\n    <tr>\n      <th>1</th>\n      <td>3796</td>\n      <td>116</td>\n    </tr>\n  </tbody>\n</table>\n</div>"
     },
     "execution_count": 2482,
     "metadata": {},
     "output_type": "execute_result"
    }
   ],
   "source": [
    "# build confusion matrix\n",
    "confusion_matrix = pd.crosstab(y_test, y_pred_test)\n",
    "confusion_matrix"
   ],
   "metadata": {
    "collapsed": false,
    "ExecuteTime": {
     "end_time": "2024-01-08T14:55:54.406203Z",
     "start_time": "2024-01-08T14:55:54.330497Z"
    }
   },
   "execution_count": 2482
  },
  {
   "cell_type": "markdown",
   "source": [
    "\n",
    "#### 1. Logistic Regression\n",
    "#### 2. Decision Trees\n",
    "#### 3. Random Forest\n",
    "#### 4. Naive bayes\n",
    "#### 5. Gradient Boosting\n",
    "\n",
    "#### 1. Data Cleaning (missing values, merge tables)\n",
    "#### 2. Set dataset into training & testing sets + download testing set\n",
    "#### 3. modeling\n",
    "#### 4. Model training: train model on training dataset\n",
    "#### 5. Model evaluation (performance)\n",
    "#### 6. prediction on the unseen data"
   ],
   "metadata": {
    "collapsed": false
   }
  }
 ],
 "metadata": {
  "kernelspec": {
   "display_name": "Python 3",
   "language": "python",
   "name": "python3"
  },
  "language_info": {
   "codemirror_mode": {
    "name": "ipython",
    "version": 3
   },
   "file_extension": ".py",
   "mimetype": "text/x-python",
   "name": "python",
   "nbconvert_exporter": "python",
   "pygments_lexer": "ipython3",
   "version": "3.10.11"
  },
  "orig_nbformat": 4
 },
 "nbformat": 4,
 "nbformat_minor": 2
}
