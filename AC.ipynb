{
 "cells": [
  {
   "cell_type": "markdown",
   "metadata": {},
   "source": [
    "# ANAC\n"
   ]
  },
  {
   "cell_type": "markdown",
   "source": [
    "#### imports"
   ],
   "metadata": {
    "collapsed": false
   }
  },
  {
   "cell_type": "code",
   "execution_count": 750,
   "metadata": {
    "ExecuteTime": {
     "end_time": "2024-01-04T19:00:09.830734Z",
     "start_time": "2024-01-04T19:00:09.787543Z"
    }
   },
   "outputs": [],
   "source": [
    "import pandas as pd\n",
    "import numpy as np\n",
    "from sklearn.linear_model import LogisticRegression\n",
    "import matplotlib.pyplot as plt\n",
    "from sklearn.metrics import classification_report, confusion_matrix"
   ]
  },
  {
   "cell_type": "markdown",
   "metadata": {},
   "source": [
    "#### set seed"
   ]
  },
  {
   "cell_type": "code",
   "execution_count": 751,
   "metadata": {
    "ExecuteTime": {
     "end_time": "2024-01-04T19:00:09.844172Z",
     "start_time": "2024-01-04T19:00:09.831472Z"
    }
   },
   "outputs": [],
   "source": [
    "seed = 2024\n",
    "np.random.seed(seed)"
   ]
  },
  {
   "cell_type": "markdown",
   "metadata": {},
   "source": [
    "#### read in data"
   ]
  },
  {
   "cell_type": "code",
   "execution_count": 752,
   "metadata": {
    "ExecuteTime": {
     "end_time": "2024-01-04T19:00:10.241306Z",
     "start_time": "2024-01-04T19:00:09.845266Z"
    }
   },
   "outputs": [
    {
     "name": "stderr",
     "output_type": "stream",
     "text": [
      "/var/folders/z0/24mzs0z565s6qpzztgbdrj780000gn/T/ipykernel_18592/3884275055.py:4: DtypeWarning: Columns (3) have mixed types. Specify dtype option on import or set low_memory=False.\n",
      "  reviews_csv = pd.read_csv(\"reviews.csv\").copy()\n"
     ]
    }
   ],
   "source": [
    "diet_csv = pd.read_csv(\"diet.csv\").copy()\n",
    "recipes_csv = pd.read_csv(\"recipes.csv\").copy()\n",
    "requests_csv = pd.read_csv(\"requests.csv\").copy()\n",
    "reviews_csv = pd.read_csv(\"reviews.csv\").copy()"
   ]
  },
  {
   "cell_type": "code",
   "outputs": [
    {
     "name": "stdout",
     "output_type": "stream",
     "text": [
      "<class 'pandas.core.frame.DataFrame'>\n",
      "RangeIndex: 271907 entries, 0 to 271906\n",
      "Data columns (total 3 columns):\n",
      " #   Column    Non-Null Count   Dtype \n",
      "---  ------    --------------   ----- \n",
      " 0   AuthorId  271907 non-null  object\n",
      " 1   Diet      271906 non-null  object\n",
      " 2   Age       271907 non-null  int64 \n",
      "dtypes: int64(1), object(2)\n",
      "memory usage: 6.2+ MB\n",
      "<class 'pandas.core.frame.DataFrame'>\n",
      "RangeIndex: 140195 entries, 0 to 140194\n",
      "Data columns (total 8 columns):\n",
      " #   Column        Non-Null Count   Dtype  \n",
      "---  ------        --------------   -----  \n",
      " 0   AuthorId      140195 non-null  object \n",
      " 1   RecipeId      140195 non-null  int64  \n",
      " 2   Time          140195 non-null  float64\n",
      " 3   HighCalories  140195 non-null  float64\n",
      " 4   HighProtein   140195 non-null  object \n",
      " 5   LowFat        140195 non-null  int64  \n",
      " 6   LowSugar      140195 non-null  object \n",
      " 7   HighFiber     140195 non-null  int64  \n",
      "dtypes: float64(2), int64(3), object(3)\n",
      "memory usage: 8.6+ MB\n",
      "<class 'pandas.core.frame.DataFrame'>\n",
      "RangeIndex: 75604 entries, 0 to 75603\n",
      "Data columns (total 18 columns):\n",
      " #   Column                      Non-Null Count  Dtype  \n",
      "---  ------                      --------------  -----  \n",
      " 0   RecipeId                    75604 non-null  int64  \n",
      " 1   Name                        75604 non-null  object \n",
      " 2   CookTime                    75604 non-null  int64  \n",
      " 3   PrepTime                    75604 non-null  int64  \n",
      " 4   RecipeCategory              75604 non-null  object \n",
      " 5   RecipeIngredientQuantities  75604 non-null  object \n",
      " 6   RecipeIngredientParts       75604 non-null  object \n",
      " 7   Calories                    75604 non-null  float64\n",
      " 8   FatContent                  75604 non-null  float64\n",
      " 9   SaturatedFatContent         75604 non-null  float64\n",
      " 10  CholesterolContent          75604 non-null  float64\n",
      " 11  SodiumContent               75604 non-null  float64\n",
      " 12  CarbohydrateContent         75604 non-null  float64\n",
      " 13  FiberContent                75604 non-null  float64\n",
      " 14  SugarContent                75604 non-null  float64\n",
      " 15  ProteinContent              75604 non-null  float64\n",
      " 16  RecipeServings              48891 non-null  float64\n",
      " 17  RecipeYield                 25309 non-null  object \n",
      "dtypes: float64(10), int64(3), object(5)\n",
      "memory usage: 10.4+ MB\n",
      "<class 'pandas.core.frame.DataFrame'>\n",
      "RangeIndex: 140195 entries, 0 to 140194\n",
      "Data columns (total 5 columns):\n",
      " #   Column     Non-Null Count   Dtype  \n",
      "---  ------     --------------   -----  \n",
      " 0   AuthorId   140195 non-null  object \n",
      " 1   RecipeId   140195 non-null  int64  \n",
      " 2   Rating     77108 non-null   float64\n",
      " 3   Like       97381 non-null   object \n",
      " 4   TestSetId  42814 non-null   float64\n",
      "dtypes: float64(2), int64(1), object(2)\n",
      "memory usage: 5.3+ MB\n"
     ]
    }
   ],
   "source": [
    "diet_csv.info() # 271907 entries\n",
    "requests_csv.info() # 140195 entries\n",
    "recipes_csv.info() #75604 entries\n",
    "reviews_csv.info() # 140195 entries\n",
    "# --> not all customers gave a review!"
   ],
   "metadata": {
    "collapsed": false,
    "ExecuteTime": {
     "end_time": "2024-01-04T19:00:10.272235Z",
     "start_time": "2024-01-04T19:00:10.246290Z"
    }
   },
   "execution_count": 753
  },
  {
   "cell_type": "markdown",
   "metadata": {},
   "source": [
    "### Data Cleaning\n",
    "#### diet_csv"
   ]
  },
  {
   "cell_type": "code",
   "execution_count": 754,
   "metadata": {
    "ExecuteTime": {
     "end_time": "2024-01-04T19:00:10.289460Z",
     "start_time": "2024-01-04T19:00:10.278507Z"
    }
   },
   "outputs": [],
   "source": [
    "#rename column\n",
    "diet_csv.rename(columns= {\"AuthorId\" : \"CustomerId\"}, inplace=True)\n",
    "# Change type of Diet into category\n",
    "diet_csv[\"Diet\"] = diet_csv[\"Diet\"].astype(\"category\")\n",
    "#one hot coding  diet\n",
    "diet_csv = pd.get_dummies(diet_csv, columns=['Diet'], prefix='Diet')\n",
    "diet_csv['Diet_Omnivore'] = diet_csv['Diet_Omnivore'].astype('int')\n",
    "diet_csv['Diet_Vegan'] = diet_csv['Diet_Vegan'].astype('int')\n",
    "diet_csv['Diet_Vegetarian'] = diet_csv['Diet_Vegetarian'].astype('int')"
   ]
  },
  {
   "cell_type": "markdown",
   "metadata": {},
   "source": [
    "#### recipes_csv"
   ]
  },
  {
   "cell_type": "code",
   "execution_count": 755,
   "metadata": {
    "ExecuteTime": {
     "end_time": "2024-01-04T19:00:10.314972Z",
     "start_time": "2024-01-04T19:00:10.291317Z"
    }
   },
   "outputs": [],
   "source": [
    "# Change type for Recipe Category\n",
    "recipes_csv[\"RecipeCategory\"] = recipes_csv[\"RecipeCategory\"].astype(\"category\")\n"
   ]
  },
  {
   "cell_type": "code",
   "execution_count": 756,
   "outputs": [],
   "source": [
    "# Add new column TotalTimeNeeded\n",
    "recipes_csv[\"TotalTimeNeeded\"] = recipes_csv[\"CookTime\"] + recipes_csv[\"PrepTime\"]\n",
    "\n",
    "#drop recipeservings and yields and saturated + cholesterol + sodium + carbohydratecontent \n",
    "recipes_csv = recipes_csv.drop(\"RecipeServings\", axis=1)\n",
    "recipes_csv = recipes_csv.drop(\"RecipeYield\", axis=1)\n",
    "recipes_csv = recipes_csv.drop(\"SaturatedFatContent\", axis=1)\n",
    "recipes_csv = recipes_csv.drop(\"CholesterolContent\", axis=1)\n",
    "recipes_csv = recipes_csv.drop(\"SodiumContent\", axis=1)\n",
    "recipes_csv = recipes_csv.drop(\"CarbohydrateContent\", axis=1)\n",
    "#also drop cook n preptime n quantities n parts\n",
    "recipes_csv = recipes_csv.drop(\"PrepTime\", axis=1)\n",
    "recipes_csv = recipes_csv.drop(\"CookTime\", axis=1)\n",
    "recipes_csv = recipes_csv.drop(\"RecipeIngredientQuantities\", axis=1)\n",
    "recipes_csv = recipes_csv.drop(\"RecipeIngredientParts\", axis=1)"
   ],
   "metadata": {
    "collapsed": false,
    "ExecuteTime": {
     "end_time": "2024-01-04T19:00:10.327042Z",
     "start_time": "2024-01-04T19:00:10.295065Z"
    }
   }
  },
  {
   "cell_type": "code",
   "outputs": [
    {
     "data": {
      "text/plain": "       RecipeId                                            Name  \\\n0         73440                    Bow Ties With Broccoli Pesto   \n1        365718                             Cashew-chutney Rice   \n2        141757        Copycat Taco Bell Nacho Fries BellGrande   \n3        280351        Slow Cooker Jalapeno Cheddar Cheese Soup   \n4        180505                 Cool & Crisp Citrus Chiffon Pie   \n...         ...                                             ...   \n75599    253577  Frijoles Negros- Crock Pot Mexican Black Beans   \n75600    267827                                  Moose Moussaka   \n75601    266983        Cantonese Pepper Steak for Two (Or More)   \n75602    253739                            Coconut Cream Cooler   \n75603     78171                                 Cheater Risotto   \n\n      RecipeCategory  Calories  FatContent  FiberContent  SugarContent  \\\n0              Other     241.3        10.1           2.3           1.4   \n1              Other     370.8        17.5           1.6           2.2   \n2              Other     377.6        20.9           3.8           6.1   \n3              Other     282.8        16.5           2.3           2.7   \n4              Other     257.5         8.6           0.4          30.2   \n...              ...       ...         ...           ...           ...   \n75599          Other     121.5         0.5           7.8           0.6   \n75600          Other     652.2        25.8           7.5           7.2   \n75601          Other     223.9         9.2           1.1           1.7   \n75602          Other    2229.8        80.3          15.7         317.9   \n75603          Other     654.1        13.8           3.9           4.2   \n\n       ProteinContent  TotalTimeNeeded  \n0                 6.7             1800  \n1                 9.4             4200  \n2                12.9             6300  \n3                11.7            19800  \n4                 6.3             5400  \n...               ...              ...  \n75599             7.9            72000  \n75600            50.1             6300  \n75601            26.7             2700  \n75602            26.7              420  \n75603            21.8             1560  \n\n[75604 rows x 9 columns]",
      "text/html": "<div>\n<style scoped>\n    .dataframe tbody tr th:only-of-type {\n        vertical-align: middle;\n    }\n\n    .dataframe tbody tr th {\n        vertical-align: top;\n    }\n\n    .dataframe thead th {\n        text-align: right;\n    }\n</style>\n<table border=\"1\" class=\"dataframe\">\n  <thead>\n    <tr style=\"text-align: right;\">\n      <th></th>\n      <th>RecipeId</th>\n      <th>Name</th>\n      <th>RecipeCategory</th>\n      <th>Calories</th>\n      <th>FatContent</th>\n      <th>FiberContent</th>\n      <th>SugarContent</th>\n      <th>ProteinContent</th>\n      <th>TotalTimeNeeded</th>\n    </tr>\n  </thead>\n  <tbody>\n    <tr>\n      <th>0</th>\n      <td>73440</td>\n      <td>Bow Ties With Broccoli Pesto</td>\n      <td>Other</td>\n      <td>241.3</td>\n      <td>10.1</td>\n      <td>2.3</td>\n      <td>1.4</td>\n      <td>6.7</td>\n      <td>1800</td>\n    </tr>\n    <tr>\n      <th>1</th>\n      <td>365718</td>\n      <td>Cashew-chutney Rice</td>\n      <td>Other</td>\n      <td>370.8</td>\n      <td>17.5</td>\n      <td>1.6</td>\n      <td>2.2</td>\n      <td>9.4</td>\n      <td>4200</td>\n    </tr>\n    <tr>\n      <th>2</th>\n      <td>141757</td>\n      <td>Copycat Taco Bell Nacho Fries BellGrande</td>\n      <td>Other</td>\n      <td>377.6</td>\n      <td>20.9</td>\n      <td>3.8</td>\n      <td>6.1</td>\n      <td>12.9</td>\n      <td>6300</td>\n    </tr>\n    <tr>\n      <th>3</th>\n      <td>280351</td>\n      <td>Slow Cooker Jalapeno Cheddar Cheese Soup</td>\n      <td>Other</td>\n      <td>282.8</td>\n      <td>16.5</td>\n      <td>2.3</td>\n      <td>2.7</td>\n      <td>11.7</td>\n      <td>19800</td>\n    </tr>\n    <tr>\n      <th>4</th>\n      <td>180505</td>\n      <td>Cool &amp; Crisp Citrus Chiffon Pie</td>\n      <td>Other</td>\n      <td>257.5</td>\n      <td>8.6</td>\n      <td>0.4</td>\n      <td>30.2</td>\n      <td>6.3</td>\n      <td>5400</td>\n    </tr>\n    <tr>\n      <th>...</th>\n      <td>...</td>\n      <td>...</td>\n      <td>...</td>\n      <td>...</td>\n      <td>...</td>\n      <td>...</td>\n      <td>...</td>\n      <td>...</td>\n      <td>...</td>\n    </tr>\n    <tr>\n      <th>75599</th>\n      <td>253577</td>\n      <td>Frijoles Negros- Crock Pot Mexican Black Beans</td>\n      <td>Other</td>\n      <td>121.5</td>\n      <td>0.5</td>\n      <td>7.8</td>\n      <td>0.6</td>\n      <td>7.9</td>\n      <td>72000</td>\n    </tr>\n    <tr>\n      <th>75600</th>\n      <td>267827</td>\n      <td>Moose Moussaka</td>\n      <td>Other</td>\n      <td>652.2</td>\n      <td>25.8</td>\n      <td>7.5</td>\n      <td>7.2</td>\n      <td>50.1</td>\n      <td>6300</td>\n    </tr>\n    <tr>\n      <th>75601</th>\n      <td>266983</td>\n      <td>Cantonese Pepper Steak for Two (Or More)</td>\n      <td>Other</td>\n      <td>223.9</td>\n      <td>9.2</td>\n      <td>1.1</td>\n      <td>1.7</td>\n      <td>26.7</td>\n      <td>2700</td>\n    </tr>\n    <tr>\n      <th>75602</th>\n      <td>253739</td>\n      <td>Coconut Cream Cooler</td>\n      <td>Other</td>\n      <td>2229.8</td>\n      <td>80.3</td>\n      <td>15.7</td>\n      <td>317.9</td>\n      <td>26.7</td>\n      <td>420</td>\n    </tr>\n    <tr>\n      <th>75603</th>\n      <td>78171</td>\n      <td>Cheater Risotto</td>\n      <td>Other</td>\n      <td>654.1</td>\n      <td>13.8</td>\n      <td>3.9</td>\n      <td>4.2</td>\n      <td>21.8</td>\n      <td>1560</td>\n    </tr>\n  </tbody>\n</table>\n<p>75604 rows × 9 columns</p>\n</div>"
     },
     "execution_count": 757,
     "metadata": {},
     "output_type": "execute_result"
    }
   ],
   "source": [
    "recipes_csv"
   ],
   "metadata": {
    "collapsed": false,
    "ExecuteTime": {
     "end_time": "2024-01-04T19:00:10.341692Z",
     "start_time": "2024-01-04T19:00:10.328868Z"
    }
   },
   "execution_count": 757
  },
  {
   "cell_type": "markdown",
   "metadata": {},
   "source": [
    "##### requests_csv"
   ]
  },
  {
   "cell_type": "code",
   "execution_count": 758,
   "metadata": {
    "ExecuteTime": {
     "end_time": "2024-01-04T19:00:10.345413Z",
     "start_time": "2024-01-04T19:00:10.334650Z"
    }
   },
   "outputs": [],
   "source": [
    "#rename column\n",
    "requests_csv.rename(columns= {\"AuthorId\" : \"CustomerId\"}, inplace=True)\n",
    "# Map indifferent values for HighProtein and LowSugar\n",
    "requests_csv[\"HighProtein\"] = requests_csv[\"HighProtein\"].map({\n",
    "    \"Indifferent\": 0,\n",
    "    \"0\": 0,\n",
    "    \"1\": 1,\n",
    "    \"Yes\": 1\n",
    "})\n",
    "\n",
    "requests_csv[\"LowSugar\"] = requests_csv[\"LowSugar\"].map({\n",
    "    \"Indifferent\": 0,\n",
    "    \"0\": 0,\n",
    "    \"1\": 1\n",
    "})\n"
   ]
  },
  {
   "cell_type": "code",
   "execution_count": 759,
   "outputs": [],
   "source": [
    "# Change types to boolean\n",
    "requests_csv[\"HighCalories\"] = requests_csv[\"HighCalories\"].astype(\"int\")\n",
    "requests_csv[\"LowFat\"] = requests_csv[\"LowFat\"].astype(\"int\")\n",
    "requests_csv[\"HighFiber\"] = requests_csv[\"HighFiber\"].astype(\"int\")\n",
    "requests_csv[\"HighProtein\"] = requests_csv[\"HighProtein\"].astype(\"int\")\n",
    "requests_csv[\"LowSugar\"] = requests_csv[\"LowSugar\"].astype(\"int\")\n",
    "\n",
    "#TODO: how to handle negative time values? -> here: take the total time value from recipes by recipeId!\n",
    "request_with_recipe = pd.merge(requests_csv, recipes_csv, on=\"RecipeId\", how=\"left\")\n",
    "request_with_recipe['Time'] = np.where(request_with_recipe['Time'] < 0, request_with_recipe['TotalTimeNeeded'], request_with_recipe['Time'])\n",
    "request_with_recipe['Time'] = request_with_recipe['Time'].round().astype('int')\n",
    "request_with_recipe.rename(columns={'Time':'MaxTime'}, inplace=True)\n",
    "requests_csv = request_with_recipe[['CustomerId', 'RecipeId', 'MaxTime', 'HighCalories','HighProtein', 'LowFat', 'LowSugar', 'HighFiber']]\n",
    "#request_with_recipe = request_with_recipe[['CustomerId','RecipeId', 'Time','TotalTimeNeeded']]"
   ],
   "metadata": {
    "collapsed": false,
    "ExecuteTime": {
     "end_time": "2024-01-04T19:00:10.381333Z",
     "start_time": "2024-01-04T19:00:10.341060Z"
    }
   }
  },
  {
   "cell_type": "code",
   "outputs": [
    {
     "data": {
      "text/plain": "         CustomerId  RecipeId  MaxTime  HighCalories  HighProtein  LowFat  \\\n0       2001012259B     73440     1800             0            0       0   \n1           437641B    365718     4202             0            1       0   \n2       1803340263D    141757     6300             0            0       1   \n3           854048B    280351    19801             0            1       1   \n4          2277685E    180505     5400             0            0       0   \n...             ...       ...      ...           ...          ...     ...   \n140190      163793B     78171     1561             0            0       0   \n140191       33888B    333262     1502             1            0       1   \n140192      401942C     49200     5999             0            0       0   \n140193      346866B    214815      900             0            1       1   \n140194     1786859E    117923     7200             1            0       0   \n\n        LowSugar  HighFiber  \n0              0          0  \n1              0          1  \n2              0          0  \n3              0          1  \n4              0          0  \n...          ...        ...  \n140190         0          1  \n140191         0          0  \n140192         0          1  \n140193         0          1  \n140194         0          1  \n\n[140195 rows x 8 columns]",
      "text/html": "<div>\n<style scoped>\n    .dataframe tbody tr th:only-of-type {\n        vertical-align: middle;\n    }\n\n    .dataframe tbody tr th {\n        vertical-align: top;\n    }\n\n    .dataframe thead th {\n        text-align: right;\n    }\n</style>\n<table border=\"1\" class=\"dataframe\">\n  <thead>\n    <tr style=\"text-align: right;\">\n      <th></th>\n      <th>CustomerId</th>\n      <th>RecipeId</th>\n      <th>MaxTime</th>\n      <th>HighCalories</th>\n      <th>HighProtein</th>\n      <th>LowFat</th>\n      <th>LowSugar</th>\n      <th>HighFiber</th>\n    </tr>\n  </thead>\n  <tbody>\n    <tr>\n      <th>0</th>\n      <td>2001012259B</td>\n      <td>73440</td>\n      <td>1800</td>\n      <td>0</td>\n      <td>0</td>\n      <td>0</td>\n      <td>0</td>\n      <td>0</td>\n    </tr>\n    <tr>\n      <th>1</th>\n      <td>437641B</td>\n      <td>365718</td>\n      <td>4202</td>\n      <td>0</td>\n      <td>1</td>\n      <td>0</td>\n      <td>0</td>\n      <td>1</td>\n    </tr>\n    <tr>\n      <th>2</th>\n      <td>1803340263D</td>\n      <td>141757</td>\n      <td>6300</td>\n      <td>0</td>\n      <td>0</td>\n      <td>1</td>\n      <td>0</td>\n      <td>0</td>\n    </tr>\n    <tr>\n      <th>3</th>\n      <td>854048B</td>\n      <td>280351</td>\n      <td>19801</td>\n      <td>0</td>\n      <td>1</td>\n      <td>1</td>\n      <td>0</td>\n      <td>1</td>\n    </tr>\n    <tr>\n      <th>4</th>\n      <td>2277685E</td>\n      <td>180505</td>\n      <td>5400</td>\n      <td>0</td>\n      <td>0</td>\n      <td>0</td>\n      <td>0</td>\n      <td>0</td>\n    </tr>\n    <tr>\n      <th>...</th>\n      <td>...</td>\n      <td>...</td>\n      <td>...</td>\n      <td>...</td>\n      <td>...</td>\n      <td>...</td>\n      <td>...</td>\n      <td>...</td>\n    </tr>\n    <tr>\n      <th>140190</th>\n      <td>163793B</td>\n      <td>78171</td>\n      <td>1561</td>\n      <td>0</td>\n      <td>0</td>\n      <td>0</td>\n      <td>0</td>\n      <td>1</td>\n    </tr>\n    <tr>\n      <th>140191</th>\n      <td>33888B</td>\n      <td>333262</td>\n      <td>1502</td>\n      <td>1</td>\n      <td>0</td>\n      <td>1</td>\n      <td>0</td>\n      <td>0</td>\n    </tr>\n    <tr>\n      <th>140192</th>\n      <td>401942C</td>\n      <td>49200</td>\n      <td>5999</td>\n      <td>0</td>\n      <td>0</td>\n      <td>0</td>\n      <td>0</td>\n      <td>1</td>\n    </tr>\n    <tr>\n      <th>140193</th>\n      <td>346866B</td>\n      <td>214815</td>\n      <td>900</td>\n      <td>0</td>\n      <td>1</td>\n      <td>1</td>\n      <td>0</td>\n      <td>1</td>\n    </tr>\n    <tr>\n      <th>140194</th>\n      <td>1786859E</td>\n      <td>117923</td>\n      <td>7200</td>\n      <td>1</td>\n      <td>0</td>\n      <td>0</td>\n      <td>0</td>\n      <td>1</td>\n    </tr>\n  </tbody>\n</table>\n<p>140195 rows × 8 columns</p>\n</div>"
     },
     "execution_count": 760,
     "metadata": {},
     "output_type": "execute_result"
    }
   ],
   "source": [
    "requests_csv"
   ],
   "metadata": {
    "collapsed": false,
    "ExecuteTime": {
     "end_time": "2024-01-04T19:00:10.388696Z",
     "start_time": "2024-01-04T19:00:10.363445Z"
    }
   },
   "execution_count": 760
  },
  {
   "cell_type": "markdown",
   "source": [
    "#### reviews_csv"
   ],
   "metadata": {
    "collapsed": false
   }
  },
  {
   "cell_type": "code",
   "execution_count": 761,
   "outputs": [],
   "source": [
    "#rename column\n",
    "reviews_csv.rename(columns= {\"AuthorId\" : \"CustomerId\"}, inplace=True)\n",
    "# Remove NA rows and Rating column and TestSetId\n",
    "reviews_csv = reviews_csv.drop(\"Rating\", axis=1)\n",
    "reviews_csv.dropna(subset=[\"Like\"], inplace=True) # note: now the entries are reduced to 97381 entries\n",
    "reviews_csv = reviews_csv.drop(\"TestSetId\", axis=1)"
   ],
   "metadata": {
    "collapsed": false,
    "ExecuteTime": {
     "end_time": "2024-01-04T19:00:10.392390Z",
     "start_time": "2024-01-04T19:00:10.368215Z"
    }
   }
  },
  {
   "cell_type": "code",
   "execution_count": 762,
   "outputs": [],
   "source": [
    "# convert Like type to boolean\n",
    "reviews_csv[\"Like\"] = reviews_csv[\"Like\"].astype(\"int\")"
   ],
   "metadata": {
    "collapsed": false,
    "ExecuteTime": {
     "end_time": "2024-01-04T19:00:10.392891Z",
     "start_time": "2024-01-04T19:00:10.379130Z"
    }
   }
  },
  {
   "cell_type": "code",
   "outputs": [],
   "source": [
    "\n",
    "#merge diet + review\n",
    "review_with_diet = pd.merge(reviews_csv, diet_csv, on=\"CustomerId\", how=\"inner\") # 97381 entries\n",
    "#merge diet + review + request\n",
    "review_diet_with_request = pd.merge(review_with_diet, requests_csv, on=[\"CustomerId\", \"RecipeId\"], how=\"inner\") # 97381 entries\n"
   ],
   "metadata": {
    "collapsed": false,
    "ExecuteTime": {
     "end_time": "2024-01-04T19:00:10.472577Z",
     "start_time": "2024-01-04T19:00:10.412417Z"
    }
   },
   "execution_count": 763
  },
  {
   "cell_type": "code",
   "outputs": [
    {
     "data": {
      "text/plain": "      CustomerId  RecipeId  Like  Age  Diet_Omnivore  Diet_Vegan  \\\n0       1000036C    320576     0   50              0           0   \n1       1000216B    189335     0   78              0           0   \n2       1000221A    133043     0   25              0           0   \n3       1000221A     90537     0   25              0           0   \n4       1000221A    334314     0   25              0           0   \n...          ...       ...   ...  ...            ...         ...   \n97376    999595E    338070     0   31              0           0   \n97377    999774A     29002     0   57              0           0   \n97378    999774A    159252     0   57              0           0   \n97379    999774A      1171     1   57              0           0   \n97380    999917E    169413     0   28              0           0   \n\n       Diet_Vegetarian  MaxTime  HighCalories  HighProtein  LowFat  LowSugar  \\\n0                    1      119             0            0       0         0   \n1                    1     1199             0            1       0         0   \n2                    1      362             0            1       0         0   \n3                    1     1199             0            1       0         0   \n4                    1     5400             1            0       0         0   \n...                ...      ...           ...          ...     ...       ...   \n97376                1     3899             0            0       1         0   \n97377                1     2402             0            0       0         0   \n97378                1     6000             0            1       0         0   \n97379                1      480             1            1       0         0   \n97380                1     3600             0            0       0         0   \n\n       HighFiber  \n0              1  \n1              1  \n2              1  \n3              1  \n4              0  \n...          ...  \n97376          0  \n97377          0  \n97378          0  \n97379          0  \n97380          0  \n\n[97381 rows x 13 columns]",
      "text/html": "<div>\n<style scoped>\n    .dataframe tbody tr th:only-of-type {\n        vertical-align: middle;\n    }\n\n    .dataframe tbody tr th {\n        vertical-align: top;\n    }\n\n    .dataframe thead th {\n        text-align: right;\n    }\n</style>\n<table border=\"1\" class=\"dataframe\">\n  <thead>\n    <tr style=\"text-align: right;\">\n      <th></th>\n      <th>CustomerId</th>\n      <th>RecipeId</th>\n      <th>Like</th>\n      <th>Age</th>\n      <th>Diet_Omnivore</th>\n      <th>Diet_Vegan</th>\n      <th>Diet_Vegetarian</th>\n      <th>MaxTime</th>\n      <th>HighCalories</th>\n      <th>HighProtein</th>\n      <th>LowFat</th>\n      <th>LowSugar</th>\n      <th>HighFiber</th>\n    </tr>\n  </thead>\n  <tbody>\n    <tr>\n      <th>0</th>\n      <td>1000036C</td>\n      <td>320576</td>\n      <td>0</td>\n      <td>50</td>\n      <td>0</td>\n      <td>0</td>\n      <td>1</td>\n      <td>119</td>\n      <td>0</td>\n      <td>0</td>\n      <td>0</td>\n      <td>0</td>\n      <td>1</td>\n    </tr>\n    <tr>\n      <th>1</th>\n      <td>1000216B</td>\n      <td>189335</td>\n      <td>0</td>\n      <td>78</td>\n      <td>0</td>\n      <td>0</td>\n      <td>1</td>\n      <td>1199</td>\n      <td>0</td>\n      <td>1</td>\n      <td>0</td>\n      <td>0</td>\n      <td>1</td>\n    </tr>\n    <tr>\n      <th>2</th>\n      <td>1000221A</td>\n      <td>133043</td>\n      <td>0</td>\n      <td>25</td>\n      <td>0</td>\n      <td>0</td>\n      <td>1</td>\n      <td>362</td>\n      <td>0</td>\n      <td>1</td>\n      <td>0</td>\n      <td>0</td>\n      <td>1</td>\n    </tr>\n    <tr>\n      <th>3</th>\n      <td>1000221A</td>\n      <td>90537</td>\n      <td>0</td>\n      <td>25</td>\n      <td>0</td>\n      <td>0</td>\n      <td>1</td>\n      <td>1199</td>\n      <td>0</td>\n      <td>1</td>\n      <td>0</td>\n      <td>0</td>\n      <td>1</td>\n    </tr>\n    <tr>\n      <th>4</th>\n      <td>1000221A</td>\n      <td>334314</td>\n      <td>0</td>\n      <td>25</td>\n      <td>0</td>\n      <td>0</td>\n      <td>1</td>\n      <td>5400</td>\n      <td>1</td>\n      <td>0</td>\n      <td>0</td>\n      <td>0</td>\n      <td>0</td>\n    </tr>\n    <tr>\n      <th>...</th>\n      <td>...</td>\n      <td>...</td>\n      <td>...</td>\n      <td>...</td>\n      <td>...</td>\n      <td>...</td>\n      <td>...</td>\n      <td>...</td>\n      <td>...</td>\n      <td>...</td>\n      <td>...</td>\n      <td>...</td>\n      <td>...</td>\n    </tr>\n    <tr>\n      <th>97376</th>\n      <td>999595E</td>\n      <td>338070</td>\n      <td>0</td>\n      <td>31</td>\n      <td>0</td>\n      <td>0</td>\n      <td>1</td>\n      <td>3899</td>\n      <td>0</td>\n      <td>0</td>\n      <td>1</td>\n      <td>0</td>\n      <td>0</td>\n    </tr>\n    <tr>\n      <th>97377</th>\n      <td>999774A</td>\n      <td>29002</td>\n      <td>0</td>\n      <td>57</td>\n      <td>0</td>\n      <td>0</td>\n      <td>1</td>\n      <td>2402</td>\n      <td>0</td>\n      <td>0</td>\n      <td>0</td>\n      <td>0</td>\n      <td>0</td>\n    </tr>\n    <tr>\n      <th>97378</th>\n      <td>999774A</td>\n      <td>159252</td>\n      <td>0</td>\n      <td>57</td>\n      <td>0</td>\n      <td>0</td>\n      <td>1</td>\n      <td>6000</td>\n      <td>0</td>\n      <td>1</td>\n      <td>0</td>\n      <td>0</td>\n      <td>0</td>\n    </tr>\n    <tr>\n      <th>97379</th>\n      <td>999774A</td>\n      <td>1171</td>\n      <td>1</td>\n      <td>57</td>\n      <td>0</td>\n      <td>0</td>\n      <td>1</td>\n      <td>480</td>\n      <td>1</td>\n      <td>1</td>\n      <td>0</td>\n      <td>0</td>\n      <td>0</td>\n    </tr>\n    <tr>\n      <th>97380</th>\n      <td>999917E</td>\n      <td>169413</td>\n      <td>0</td>\n      <td>28</td>\n      <td>0</td>\n      <td>0</td>\n      <td>1</td>\n      <td>3600</td>\n      <td>0</td>\n      <td>0</td>\n      <td>0</td>\n      <td>0</td>\n      <td>0</td>\n    </tr>\n  </tbody>\n</table>\n<p>97381 rows × 13 columns</p>\n</div>"
     },
     "execution_count": 764,
     "metadata": {},
     "output_type": "execute_result"
    }
   ],
   "source": [
    "review_diet_with_request"
   ],
   "metadata": {
    "collapsed": false,
    "ExecuteTime": {
     "end_time": "2024-01-04T19:00:10.473300Z",
     "start_time": "2024-01-04T19:00:10.449845Z"
    }
   },
   "execution_count": 764
  },
  {
   "cell_type": "code",
   "outputs": [],
   "source": [
    "#one-hot encoding recipes\n",
    "recipes_csv = pd.get_dummies(recipes_csv, columns=['RecipeCategory'], prefix='RecipeCategory')\n",
    "recipes_csv['RecipeCategory_Beverages'] = recipes_csv['RecipeCategory_Beverages'].astype('int')\n",
    "recipes_csv['RecipeCategory_Bread'] = recipes_csv['RecipeCategory_Bread'].astype('int')\n",
    "recipes_csv['RecipeCategory_Breakfast'] = recipes_csv['RecipeCategory_Breakfast'].astype('int')\n",
    "recipes_csv['RecipeCategory_Lunch'] = recipes_csv['RecipeCategory_Lunch'].astype('int')\n",
    "recipes_csv['RecipeCategory_One dish meal'] = recipes_csv['RecipeCategory_One dish meal'].astype('int')\n",
    "recipes_csv.rename(columns={'RecipeCategory_One dish meal': 'RecipeCategory_One_dish_meal'}, inplace=True)\n",
    "recipes_csv['RecipeCategory_Soup'] = recipes_csv['RecipeCategory_Soup'].astype('int')\n",
    "recipes_csv['RecipeCategory_Other'] = recipes_csv['RecipeCategory_Other'].astype('int')\n",
    "recipes_csv.drop('Name', axis=1, inplace=True)\n",
    "\n"
   ],
   "metadata": {
    "collapsed": false,
    "ExecuteTime": {
     "end_time": "2024-01-04T19:00:10.473742Z",
     "start_time": "2024-01-04T19:00:10.453952Z"
    }
   },
   "execution_count": 765
  },
  {
   "cell_type": "code",
   "outputs": [
    {
     "data": {
      "text/plain": "       RecipeId  Calories  FatContent  FiberContent  SugarContent  \\\n0         73440     241.3        10.1           2.3           1.4   \n1        365718     370.8        17.5           1.6           2.2   \n2        141757     377.6        20.9           3.8           6.1   \n3        280351     282.8        16.5           2.3           2.7   \n4        180505     257.5         8.6           0.4          30.2   \n...         ...       ...         ...           ...           ...   \n75599    253577     121.5         0.5           7.8           0.6   \n75600    267827     652.2        25.8           7.5           7.2   \n75601    266983     223.9         9.2           1.1           1.7   \n75602    253739    2229.8        80.3          15.7         317.9   \n75603     78171     654.1        13.8           3.9           4.2   \n\n       ProteinContent  TotalTimeNeeded  RecipeCategory_Beverages  \\\n0                 6.7             1800                         0   \n1                 9.4             4200                         0   \n2                12.9             6300                         0   \n3                11.7            19800                         0   \n4                 6.3             5400                         0   \n...               ...              ...                       ...   \n75599             7.9            72000                         0   \n75600            50.1             6300                         0   \n75601            26.7             2700                         0   \n75602            26.7              420                         0   \n75603            21.8             1560                         0   \n\n       RecipeCategory_Bread  RecipeCategory_Breakfast  RecipeCategory_Lunch  \\\n0                         0                         0                     0   \n1                         0                         0                     0   \n2                         0                         0                     0   \n3                         0                         0                     0   \n4                         0                         0                     0   \n...                     ...                       ...                   ...   \n75599                     0                         0                     0   \n75600                     0                         0                     0   \n75601                     0                         0                     0   \n75602                     0                         0                     0   \n75603                     0                         0                     0   \n\n       RecipeCategory_One_dish_meal  RecipeCategory_Other  RecipeCategory_Soup  \n0                                 0                     1                    0  \n1                                 0                     1                    0  \n2                                 0                     1                    0  \n3                                 0                     1                    0  \n4                                 0                     1                    0  \n...                             ...                   ...                  ...  \n75599                             0                     1                    0  \n75600                             0                     1                    0  \n75601                             0                     1                    0  \n75602                             0                     1                    0  \n75603                             0                     1                    0  \n\n[75604 rows x 14 columns]",
      "text/html": "<div>\n<style scoped>\n    .dataframe tbody tr th:only-of-type {\n        vertical-align: middle;\n    }\n\n    .dataframe tbody tr th {\n        vertical-align: top;\n    }\n\n    .dataframe thead th {\n        text-align: right;\n    }\n</style>\n<table border=\"1\" class=\"dataframe\">\n  <thead>\n    <tr style=\"text-align: right;\">\n      <th></th>\n      <th>RecipeId</th>\n      <th>Calories</th>\n      <th>FatContent</th>\n      <th>FiberContent</th>\n      <th>SugarContent</th>\n      <th>ProteinContent</th>\n      <th>TotalTimeNeeded</th>\n      <th>RecipeCategory_Beverages</th>\n      <th>RecipeCategory_Bread</th>\n      <th>RecipeCategory_Breakfast</th>\n      <th>RecipeCategory_Lunch</th>\n      <th>RecipeCategory_One_dish_meal</th>\n      <th>RecipeCategory_Other</th>\n      <th>RecipeCategory_Soup</th>\n    </tr>\n  </thead>\n  <tbody>\n    <tr>\n      <th>0</th>\n      <td>73440</td>\n      <td>241.3</td>\n      <td>10.1</td>\n      <td>2.3</td>\n      <td>1.4</td>\n      <td>6.7</td>\n      <td>1800</td>\n      <td>0</td>\n      <td>0</td>\n      <td>0</td>\n      <td>0</td>\n      <td>0</td>\n      <td>1</td>\n      <td>0</td>\n    </tr>\n    <tr>\n      <th>1</th>\n      <td>365718</td>\n      <td>370.8</td>\n      <td>17.5</td>\n      <td>1.6</td>\n      <td>2.2</td>\n      <td>9.4</td>\n      <td>4200</td>\n      <td>0</td>\n      <td>0</td>\n      <td>0</td>\n      <td>0</td>\n      <td>0</td>\n      <td>1</td>\n      <td>0</td>\n    </tr>\n    <tr>\n      <th>2</th>\n      <td>141757</td>\n      <td>377.6</td>\n      <td>20.9</td>\n      <td>3.8</td>\n      <td>6.1</td>\n      <td>12.9</td>\n      <td>6300</td>\n      <td>0</td>\n      <td>0</td>\n      <td>0</td>\n      <td>0</td>\n      <td>0</td>\n      <td>1</td>\n      <td>0</td>\n    </tr>\n    <tr>\n      <th>3</th>\n      <td>280351</td>\n      <td>282.8</td>\n      <td>16.5</td>\n      <td>2.3</td>\n      <td>2.7</td>\n      <td>11.7</td>\n      <td>19800</td>\n      <td>0</td>\n      <td>0</td>\n      <td>0</td>\n      <td>0</td>\n      <td>0</td>\n      <td>1</td>\n      <td>0</td>\n    </tr>\n    <tr>\n      <th>4</th>\n      <td>180505</td>\n      <td>257.5</td>\n      <td>8.6</td>\n      <td>0.4</td>\n      <td>30.2</td>\n      <td>6.3</td>\n      <td>5400</td>\n      <td>0</td>\n      <td>0</td>\n      <td>0</td>\n      <td>0</td>\n      <td>0</td>\n      <td>1</td>\n      <td>0</td>\n    </tr>\n    <tr>\n      <th>...</th>\n      <td>...</td>\n      <td>...</td>\n      <td>...</td>\n      <td>...</td>\n      <td>...</td>\n      <td>...</td>\n      <td>...</td>\n      <td>...</td>\n      <td>...</td>\n      <td>...</td>\n      <td>...</td>\n      <td>...</td>\n      <td>...</td>\n      <td>...</td>\n    </tr>\n    <tr>\n      <th>75599</th>\n      <td>253577</td>\n      <td>121.5</td>\n      <td>0.5</td>\n      <td>7.8</td>\n      <td>0.6</td>\n      <td>7.9</td>\n      <td>72000</td>\n      <td>0</td>\n      <td>0</td>\n      <td>0</td>\n      <td>0</td>\n      <td>0</td>\n      <td>1</td>\n      <td>0</td>\n    </tr>\n    <tr>\n      <th>75600</th>\n      <td>267827</td>\n      <td>652.2</td>\n      <td>25.8</td>\n      <td>7.5</td>\n      <td>7.2</td>\n      <td>50.1</td>\n      <td>6300</td>\n      <td>0</td>\n      <td>0</td>\n      <td>0</td>\n      <td>0</td>\n      <td>0</td>\n      <td>1</td>\n      <td>0</td>\n    </tr>\n    <tr>\n      <th>75601</th>\n      <td>266983</td>\n      <td>223.9</td>\n      <td>9.2</td>\n      <td>1.1</td>\n      <td>1.7</td>\n      <td>26.7</td>\n      <td>2700</td>\n      <td>0</td>\n      <td>0</td>\n      <td>0</td>\n      <td>0</td>\n      <td>0</td>\n      <td>1</td>\n      <td>0</td>\n    </tr>\n    <tr>\n      <th>75602</th>\n      <td>253739</td>\n      <td>2229.8</td>\n      <td>80.3</td>\n      <td>15.7</td>\n      <td>317.9</td>\n      <td>26.7</td>\n      <td>420</td>\n      <td>0</td>\n      <td>0</td>\n      <td>0</td>\n      <td>0</td>\n      <td>0</td>\n      <td>1</td>\n      <td>0</td>\n    </tr>\n    <tr>\n      <th>75603</th>\n      <td>78171</td>\n      <td>654.1</td>\n      <td>13.8</td>\n      <td>3.9</td>\n      <td>4.2</td>\n      <td>21.8</td>\n      <td>1560</td>\n      <td>0</td>\n      <td>0</td>\n      <td>0</td>\n      <td>0</td>\n      <td>0</td>\n      <td>1</td>\n      <td>0</td>\n    </tr>\n  </tbody>\n</table>\n<p>75604 rows × 14 columns</p>\n</div>"
     },
     "execution_count": 766,
     "metadata": {},
     "output_type": "execute_result"
    }
   ],
   "source": [
    "recipes_csv"
   ],
   "metadata": {
    "collapsed": false,
    "ExecuteTime": {
     "end_time": "2024-01-04T19:00:10.479792Z",
     "start_time": "2024-01-04T19:00:10.460953Z"
    }
   },
   "execution_count": 766
  },
  {
   "cell_type": "code",
   "outputs": [],
   "source": [
    "# merge 'review_with_diet' with 'recipes_csv'\n",
    "df = pd.merge(review_diet_with_request, recipes_csv, on='RecipeId', how='left')\n",
    "df['TimeDeviation'] = df['MaxTime'] - df['TotalTimeNeeded']\n",
    "df.drop(['TotalTimeNeeded', 'MaxTime'], axis=1, inplace=True)"
   ],
   "metadata": {
    "collapsed": false,
    "ExecuteTime": {
     "end_time": "2024-01-04T19:00:10.496131Z",
     "start_time": "2024-01-04T19:00:10.467364Z"
    }
   },
   "execution_count": 767
  },
  {
   "cell_type": "code",
   "outputs": [
    {
     "data": {
      "text/plain": "      CustomerId  RecipeId  Like  Age  Diet_Omnivore  Diet_Vegan  \\\n0       1000036C    320576     0   50              0           0   \n1       1000216B    189335     0   78              0           0   \n2       1000221A    133043     0   25              0           0   \n3       1000221A     90537     0   25              0           0   \n4       1000221A    334314     0   25              0           0   \n...          ...       ...   ...  ...            ...         ...   \n97376    999595E    338070     0   31              0           0   \n97377    999774A     29002     0   57              0           0   \n97378    999774A    159252     0   57              0           0   \n97379    999774A      1171     1   57              0           0   \n97380    999917E    169413     0   28              0           0   \n\n       Diet_Vegetarian  HighCalories  HighProtein  LowFat  ...  SugarContent  \\\n0                    1             0            0       0  ...           0.0   \n1                    1             0            1       0  ...           4.3   \n2                    1             0            1       0  ...           0.4   \n3                    1             0            1       0  ...          15.7   \n4                    1             1            0       0  ...          71.1   \n...                ...           ...          ...     ...  ...           ...   \n97376                1             0            0       1  ...          27.3   \n97377                1             0            0       0  ...          13.5   \n97378                1             0            1       0  ...         229.8   \n97379                1             1            1       0  ...          57.8   \n97380                1             0            0       0  ...           3.4   \n\n       ProteinContent  RecipeCategory_Beverages  RecipeCategory_Bread  \\\n0                 0.0                         1                     0   \n1                16.3                         0                     0   \n2                 0.2                         0                     0   \n3                68.9                         0                     0   \n4                18.1                         0                     1   \n...               ...                       ...                   ...   \n97376             5.2                         0                     0   \n97377            32.0                         0                     0   \n97378             1.1                         0                     0   \n97379            18.2                         1                     0   \n97380             5.6                         0                     1   \n\n       RecipeCategory_Breakfast  RecipeCategory_Lunch  \\\n0                             0                     0   \n1                             0                     0   \n2                             0                     0   \n3                             1                     0   \n4                             0                     0   \n...                         ...                   ...   \n97376                         0                     0   \n97377                         0                     0   \n97378                         0                     0   \n97379                         0                     0   \n97380                         0                     0   \n\n       RecipeCategory_One_dish_meal  RecipeCategory_Other  \\\n0                                 0                     0   \n1                                 0                     1   \n2                                 0                     1   \n3                                 0                     0   \n4                                 0                     0   \n...                             ...                   ...   \n97376                             0                     1   \n97377                             0                     1   \n97378                             0                     1   \n97379                             0                     0   \n97380                             0                     0   \n\n       RecipeCategory_Soup  TimeDeviation  \n0                        0             -1  \n1                        0             -1  \n2                        0              2  \n3                        0             -1  \n4                        0              0  \n...                    ...            ...  \n97376                    0             -1  \n97377                    0              2  \n97378                    0              0  \n97379                    0              0  \n97380                    0              0  \n\n[97381 rows x 25 columns]",
      "text/html": "<div>\n<style scoped>\n    .dataframe tbody tr th:only-of-type {\n        vertical-align: middle;\n    }\n\n    .dataframe tbody tr th {\n        vertical-align: top;\n    }\n\n    .dataframe thead th {\n        text-align: right;\n    }\n</style>\n<table border=\"1\" class=\"dataframe\">\n  <thead>\n    <tr style=\"text-align: right;\">\n      <th></th>\n      <th>CustomerId</th>\n      <th>RecipeId</th>\n      <th>Like</th>\n      <th>Age</th>\n      <th>Diet_Omnivore</th>\n      <th>Diet_Vegan</th>\n      <th>Diet_Vegetarian</th>\n      <th>HighCalories</th>\n      <th>HighProtein</th>\n      <th>LowFat</th>\n      <th>...</th>\n      <th>SugarContent</th>\n      <th>ProteinContent</th>\n      <th>RecipeCategory_Beverages</th>\n      <th>RecipeCategory_Bread</th>\n      <th>RecipeCategory_Breakfast</th>\n      <th>RecipeCategory_Lunch</th>\n      <th>RecipeCategory_One_dish_meal</th>\n      <th>RecipeCategory_Other</th>\n      <th>RecipeCategory_Soup</th>\n      <th>TimeDeviation</th>\n    </tr>\n  </thead>\n  <tbody>\n    <tr>\n      <th>0</th>\n      <td>1000036C</td>\n      <td>320576</td>\n      <td>0</td>\n      <td>50</td>\n      <td>0</td>\n      <td>0</td>\n      <td>1</td>\n      <td>0</td>\n      <td>0</td>\n      <td>0</td>\n      <td>...</td>\n      <td>0.0</td>\n      <td>0.0</td>\n      <td>1</td>\n      <td>0</td>\n      <td>0</td>\n      <td>0</td>\n      <td>0</td>\n      <td>0</td>\n      <td>0</td>\n      <td>-1</td>\n    </tr>\n    <tr>\n      <th>1</th>\n      <td>1000216B</td>\n      <td>189335</td>\n      <td>0</td>\n      <td>78</td>\n      <td>0</td>\n      <td>0</td>\n      <td>1</td>\n      <td>0</td>\n      <td>1</td>\n      <td>0</td>\n      <td>...</td>\n      <td>4.3</td>\n      <td>16.3</td>\n      <td>0</td>\n      <td>0</td>\n      <td>0</td>\n      <td>0</td>\n      <td>0</td>\n      <td>1</td>\n      <td>0</td>\n      <td>-1</td>\n    </tr>\n    <tr>\n      <th>2</th>\n      <td>1000221A</td>\n      <td>133043</td>\n      <td>0</td>\n      <td>25</td>\n      <td>0</td>\n      <td>0</td>\n      <td>1</td>\n      <td>0</td>\n      <td>1</td>\n      <td>0</td>\n      <td>...</td>\n      <td>0.4</td>\n      <td>0.2</td>\n      <td>0</td>\n      <td>0</td>\n      <td>0</td>\n      <td>0</td>\n      <td>0</td>\n      <td>1</td>\n      <td>0</td>\n      <td>2</td>\n    </tr>\n    <tr>\n      <th>3</th>\n      <td>1000221A</td>\n      <td>90537</td>\n      <td>0</td>\n      <td>25</td>\n      <td>0</td>\n      <td>0</td>\n      <td>1</td>\n      <td>0</td>\n      <td>1</td>\n      <td>0</td>\n      <td>...</td>\n      <td>15.7</td>\n      <td>68.9</td>\n      <td>0</td>\n      <td>0</td>\n      <td>1</td>\n      <td>0</td>\n      <td>0</td>\n      <td>0</td>\n      <td>0</td>\n      <td>-1</td>\n    </tr>\n    <tr>\n      <th>4</th>\n      <td>1000221A</td>\n      <td>334314</td>\n      <td>0</td>\n      <td>25</td>\n      <td>0</td>\n      <td>0</td>\n      <td>1</td>\n      <td>1</td>\n      <td>0</td>\n      <td>0</td>\n      <td>...</td>\n      <td>71.1</td>\n      <td>18.1</td>\n      <td>0</td>\n      <td>1</td>\n      <td>0</td>\n      <td>0</td>\n      <td>0</td>\n      <td>0</td>\n      <td>0</td>\n      <td>0</td>\n    </tr>\n    <tr>\n      <th>...</th>\n      <td>...</td>\n      <td>...</td>\n      <td>...</td>\n      <td>...</td>\n      <td>...</td>\n      <td>...</td>\n      <td>...</td>\n      <td>...</td>\n      <td>...</td>\n      <td>...</td>\n      <td>...</td>\n      <td>...</td>\n      <td>...</td>\n      <td>...</td>\n      <td>...</td>\n      <td>...</td>\n      <td>...</td>\n      <td>...</td>\n      <td>...</td>\n      <td>...</td>\n      <td>...</td>\n    </tr>\n    <tr>\n      <th>97376</th>\n      <td>999595E</td>\n      <td>338070</td>\n      <td>0</td>\n      <td>31</td>\n      <td>0</td>\n      <td>0</td>\n      <td>1</td>\n      <td>0</td>\n      <td>0</td>\n      <td>1</td>\n      <td>...</td>\n      <td>27.3</td>\n      <td>5.2</td>\n      <td>0</td>\n      <td>0</td>\n      <td>0</td>\n      <td>0</td>\n      <td>0</td>\n      <td>1</td>\n      <td>0</td>\n      <td>-1</td>\n    </tr>\n    <tr>\n      <th>97377</th>\n      <td>999774A</td>\n      <td>29002</td>\n      <td>0</td>\n      <td>57</td>\n      <td>0</td>\n      <td>0</td>\n      <td>1</td>\n      <td>0</td>\n      <td>0</td>\n      <td>0</td>\n      <td>...</td>\n      <td>13.5</td>\n      <td>32.0</td>\n      <td>0</td>\n      <td>0</td>\n      <td>0</td>\n      <td>0</td>\n      <td>0</td>\n      <td>1</td>\n      <td>0</td>\n      <td>2</td>\n    </tr>\n    <tr>\n      <th>97378</th>\n      <td>999774A</td>\n      <td>159252</td>\n      <td>0</td>\n      <td>57</td>\n      <td>0</td>\n      <td>0</td>\n      <td>1</td>\n      <td>0</td>\n      <td>1</td>\n      <td>0</td>\n      <td>...</td>\n      <td>229.8</td>\n      <td>1.1</td>\n      <td>0</td>\n      <td>0</td>\n      <td>0</td>\n      <td>0</td>\n      <td>0</td>\n      <td>1</td>\n      <td>0</td>\n      <td>0</td>\n    </tr>\n    <tr>\n      <th>97379</th>\n      <td>999774A</td>\n      <td>1171</td>\n      <td>1</td>\n      <td>57</td>\n      <td>0</td>\n      <td>0</td>\n      <td>1</td>\n      <td>1</td>\n      <td>1</td>\n      <td>0</td>\n      <td>...</td>\n      <td>57.8</td>\n      <td>18.2</td>\n      <td>1</td>\n      <td>0</td>\n      <td>0</td>\n      <td>0</td>\n      <td>0</td>\n      <td>0</td>\n      <td>0</td>\n      <td>0</td>\n    </tr>\n    <tr>\n      <th>97380</th>\n      <td>999917E</td>\n      <td>169413</td>\n      <td>0</td>\n      <td>28</td>\n      <td>0</td>\n      <td>0</td>\n      <td>1</td>\n      <td>0</td>\n      <td>0</td>\n      <td>0</td>\n      <td>...</td>\n      <td>3.4</td>\n      <td>5.6</td>\n      <td>0</td>\n      <td>1</td>\n      <td>0</td>\n      <td>0</td>\n      <td>0</td>\n      <td>0</td>\n      <td>0</td>\n      <td>0</td>\n    </tr>\n  </tbody>\n</table>\n<p>97381 rows × 25 columns</p>\n</div>"
     },
     "execution_count": 768,
     "metadata": {},
     "output_type": "execute_result"
    }
   ],
   "source": [
    "df\n",
    "\n",
    "#TODO test p value for each variable\n",
    "#TODO fit model"
   ],
   "metadata": {
    "collapsed": false,
    "ExecuteTime": {
     "end_time": "2024-01-04T19:00:10.527931Z",
     "start_time": "2024-01-04T19:00:10.484088Z"
    }
   },
   "execution_count": 768
  },
  {
   "cell_type": "markdown",
   "source": [
    "\n",
    "#### 1. Logistic Regression\n",
    "#### 2. Decision Trees\n",
    "#### 3. Random Forest\n",
    "#### 4. Naive bayes\n",
    "#### 5. Gradient Boosting\n",
    "\n",
    "#### 1. Data Cleaning (missing values, merge tables)\n",
    "#### 2. Set dataset into training & testing sets + download testing set\n",
    "#### 3. modeling\n",
    "#### 4. Model training: train model on training dataset\n",
    "#### 5. Model evaluation (performance)\n",
    "#### 6. prediction on the unseen data"
   ],
   "metadata": {
    "collapsed": false
   }
  }
 ],
 "metadata": {
  "kernelspec": {
   "display_name": "Python 3",
   "language": "python",
   "name": "python3"
  },
  "language_info": {
   "codemirror_mode": {
    "name": "ipython",
    "version": 3
   },
   "file_extension": ".py",
   "mimetype": "text/x-python",
   "name": "python",
   "nbconvert_exporter": "python",
   "pygments_lexer": "ipython3",
   "version": "3.10.11"
  },
  "orig_nbformat": 4
 },
 "nbformat": 4,
 "nbformat_minor": 2
}
