{
 "cells": [
  {
   "cell_type": "markdown",
   "metadata": {},
   "source": [
    "# ANAC\n"
   ]
  },
  {
   "cell_type": "markdown",
   "source": [
    "#### imports"
   ],
   "metadata": {
    "collapsed": false
   }
  },
  {
   "cell_type": "code",
   "execution_count": 2689,
   "metadata": {
    "ExecuteTime": {
     "end_time": "2024-01-08T15:18:29.885712Z",
     "start_time": "2024-01-08T15:18:29.845079Z"
    }
   },
   "outputs": [],
   "source": [
    "import pandas as pd\n",
    "import numpy as np\n",
    "from sklearn.linear_model import LogisticRegression\n",
    "import matplotlib.pyplot as plt\n",
    "from sklearn.metrics import classification_report, confusion_matrix"
   ]
  },
  {
   "cell_type": "markdown",
   "metadata": {},
   "source": [
    "#### set seed"
   ]
  },
  {
   "cell_type": "code",
   "execution_count": 2690,
   "metadata": {
    "ExecuteTime": {
     "end_time": "2024-01-08T15:18:29.887710Z",
     "start_time": "2024-01-08T15:18:29.869378Z"
    }
   },
   "outputs": [],
   "source": [
    "seed = 2024\n",
    "np.random.seed(seed)"
   ]
  },
  {
   "cell_type": "markdown",
   "metadata": {},
   "source": [
    "#### read in data"
   ]
  },
  {
   "cell_type": "code",
   "execution_count": 2691,
   "metadata": {
    "ExecuteTime": {
     "end_time": "2024-01-08T15:18:30.279223Z",
     "start_time": "2024-01-08T15:18:29.890209Z"
    }
   },
   "outputs": [
    {
     "name": "stderr",
     "output_type": "stream",
     "text": [
      "/var/folders/z0/24mzs0z565s6qpzztgbdrj780000gn/T/ipykernel_29652/3884275055.py:4: DtypeWarning: Columns (3) have mixed types. Specify dtype option on import or set low_memory=False.\n",
      "  reviews_csv = pd.read_csv(\"reviews.csv\").copy()\n"
     ]
    }
   ],
   "source": [
    "diet_csv = pd.read_csv(\"diet.csv\").copy()\n",
    "recipes_csv = pd.read_csv(\"recipes.csv\").copy()\n",
    "requests_csv = pd.read_csv(\"requests.csv\").copy()\n",
    "reviews_csv = pd.read_csv(\"reviews.csv\").copy()"
   ]
  },
  {
   "cell_type": "code",
   "outputs": [
    {
     "name": "stdout",
     "output_type": "stream",
     "text": [
      "<class 'pandas.core.frame.DataFrame'>\n",
      "RangeIndex: 271907 entries, 0 to 271906\n",
      "Data columns (total 3 columns):\n",
      " #   Column    Non-Null Count   Dtype \n",
      "---  ------    --------------   ----- \n",
      " 0   AuthorId  271907 non-null  object\n",
      " 1   Diet      271906 non-null  object\n",
      " 2   Age       271907 non-null  int64 \n",
      "dtypes: int64(1), object(2)\n",
      "memory usage: 6.2+ MB\n",
      "<class 'pandas.core.frame.DataFrame'>\n",
      "RangeIndex: 140195 entries, 0 to 140194\n",
      "Data columns (total 8 columns):\n",
      " #   Column        Non-Null Count   Dtype  \n",
      "---  ------        --------------   -----  \n",
      " 0   AuthorId      140195 non-null  object \n",
      " 1   RecipeId      140195 non-null  int64  \n",
      " 2   Time          140195 non-null  float64\n",
      " 3   HighCalories  140195 non-null  float64\n",
      " 4   HighProtein   140195 non-null  object \n",
      " 5   LowFat        140195 non-null  int64  \n",
      " 6   LowSugar      140195 non-null  object \n",
      " 7   HighFiber     140195 non-null  int64  \n",
      "dtypes: float64(2), int64(3), object(3)\n",
      "memory usage: 8.6+ MB\n",
      "<class 'pandas.core.frame.DataFrame'>\n",
      "RangeIndex: 75604 entries, 0 to 75603\n",
      "Data columns (total 18 columns):\n",
      " #   Column                      Non-Null Count  Dtype  \n",
      "---  ------                      --------------  -----  \n",
      " 0   RecipeId                    75604 non-null  int64  \n",
      " 1   Name                        75604 non-null  object \n",
      " 2   CookTime                    75604 non-null  int64  \n",
      " 3   PrepTime                    75604 non-null  int64  \n",
      " 4   RecipeCategory              75604 non-null  object \n",
      " 5   RecipeIngredientQuantities  75604 non-null  object \n",
      " 6   RecipeIngredientParts       75604 non-null  object \n",
      " 7   Calories                    75604 non-null  float64\n",
      " 8   FatContent                  75604 non-null  float64\n",
      " 9   SaturatedFatContent         75604 non-null  float64\n",
      " 10  CholesterolContent          75604 non-null  float64\n",
      " 11  SodiumContent               75604 non-null  float64\n",
      " 12  CarbohydrateContent         75604 non-null  float64\n",
      " 13  FiberContent                75604 non-null  float64\n",
      " 14  SugarContent                75604 non-null  float64\n",
      " 15  ProteinContent              75604 non-null  float64\n",
      " 16  RecipeServings              48891 non-null  float64\n",
      " 17  RecipeYield                 25309 non-null  object \n",
      "dtypes: float64(10), int64(3), object(5)\n",
      "memory usage: 10.4+ MB\n",
      "<class 'pandas.core.frame.DataFrame'>\n",
      "RangeIndex: 140195 entries, 0 to 140194\n",
      "Data columns (total 5 columns):\n",
      " #   Column     Non-Null Count   Dtype  \n",
      "---  ------     --------------   -----  \n",
      " 0   AuthorId   140195 non-null  object \n",
      " 1   RecipeId   140195 non-null  int64  \n",
      " 2   Rating     77108 non-null   float64\n",
      " 3   Like       97381 non-null   object \n",
      " 4   TestSetId  42814 non-null   float64\n",
      "dtypes: float64(2), int64(1), object(2)\n",
      "memory usage: 5.3+ MB\n"
     ]
    }
   ],
   "source": [
    "diet_csv.info() # 271907 entries\n",
    "requests_csv.info() # 140195 entries\n",
    "recipes_csv.info() #75604 entries\n",
    "reviews_csv.info() # 140195 entries\n",
    "# --> not all customers gave a review!"
   ],
   "metadata": {
    "collapsed": false,
    "ExecuteTime": {
     "end_time": "2024-01-08T15:18:30.308060Z",
     "start_time": "2024-01-08T15:18:30.285228Z"
    }
   },
   "execution_count": 2692
  },
  {
   "cell_type": "markdown",
   "metadata": {},
   "source": [
    "### Data Cleaning\n",
    "#### diet_csv"
   ]
  },
  {
   "cell_type": "code",
   "execution_count": 2693,
   "metadata": {
    "ExecuteTime": {
     "end_time": "2024-01-08T15:18:30.322261Z",
     "start_time": "2024-01-08T15:18:30.316141Z"
    }
   },
   "outputs": [],
   "source": [
    "#rename column\n",
    "diet_csv.rename(columns= {\"AuthorId\" : \"CustomerId\"}, inplace=True)\n",
    "# Change type of Diet into category\n",
    "diet_csv[\"Diet\"] = diet_csv[\"Diet\"].astype(\"category\")\n",
    "diet_csv.dropna(subset=[\"Diet\"], inplace=True)"
   ]
  },
  {
   "cell_type": "markdown",
   "metadata": {},
   "source": [
    "#### recipes_csv"
   ]
  },
  {
   "cell_type": "code",
   "execution_count": 2694,
   "metadata": {
    "ExecuteTime": {
     "end_time": "2024-01-08T15:18:30.326437Z",
     "start_time": "2024-01-08T15:18:30.324455Z"
    }
   },
   "outputs": [],
   "source": [
    "# Change type for Recipe Category\n",
    "recipes_csv[\"RecipeCategory\"] = recipes_csv[\"RecipeCategory\"].astype(\"category\")\n"
   ]
  },
  {
   "cell_type": "code",
   "execution_count": 2695,
   "outputs": [],
   "source": [
    "# Add new column TotalTimeNeeded\n",
    "recipes_csv[\"TotalTimeNeeded\"] = recipes_csv[\"CookTime\"] + recipes_csv[\"PrepTime\"]\n",
    "\n",
    "#drop recipeservings and yields and saturated + cholesterol + sodium + carbohydratecontent \n",
    "recipes_csv = recipes_csv.drop(\"RecipeServings\", axis=1)\n",
    "recipes_csv = recipes_csv.drop(\"RecipeYield\", axis=1)\n",
    "#recipes_csv = recipes_csv.drop(\"SaturatedFatContent\", axis=1)\n",
    "#recipes_csv = recipes_csv.drop(\"CholesterolContent\", axis=1)\n",
    "#recipes_csv = recipes_csv.drop(\"SodiumContent\", axis=1)\n",
    "#recipes_csv = recipes_csv.drop(\"CarbohydrateContent\", axis=1)\n",
    "#also drop cook n preptime n quantities n parts\n",
    "#recipes_csv = recipes_csv.drop(\"PrepTime\", axis=1)\n",
    "#recipes_csv = recipes_csv.drop(\"CookTime\", axis=1)\n",
    "recipes_csv = recipes_csv.drop(\"RecipeIngredientQuantities\", axis=1)\n",
    "recipes_csv = recipes_csv.drop(\"RecipeIngredientParts\", axis=1)"
   ],
   "metadata": {
    "collapsed": false,
    "ExecuteTime": {
     "end_time": "2024-01-08T15:18:30.344758Z",
     "start_time": "2024-01-08T15:18:30.327448Z"
    }
   }
  },
  {
   "cell_type": "code",
   "outputs": [
    {
     "name": "stdout",
     "output_type": "stream",
     "text": [
      "<class 'pandas.core.frame.DataFrame'>\n",
      "RangeIndex: 140195 entries, 0 to 140194\n",
      "Data columns (total 8 columns):\n",
      " #   Column        Non-Null Count   Dtype  \n",
      "---  ------        --------------   -----  \n",
      " 0   AuthorId      140195 non-null  object \n",
      " 1   RecipeId      140195 non-null  int64  \n",
      " 2   Time          140195 non-null  float64\n",
      " 3   HighCalories  140195 non-null  float64\n",
      " 4   HighProtein   140195 non-null  object \n",
      " 5   LowFat        140195 non-null  int64  \n",
      " 6   LowSugar      140195 non-null  object \n",
      " 7   HighFiber     140195 non-null  int64  \n",
      "dtypes: float64(2), int64(3), object(3)\n",
      "memory usage: 8.6+ MB\n"
     ]
    }
   ],
   "source": [
    "requests_csv.info()"
   ],
   "metadata": {
    "collapsed": false,
    "ExecuteTime": {
     "end_time": "2024-01-08T15:18:30.354201Z",
     "start_time": "2024-01-08T15:18:30.341929Z"
    }
   },
   "execution_count": 2696
  },
  {
   "cell_type": "markdown",
   "metadata": {},
   "source": [
    "##### requests_csv"
   ]
  },
  {
   "cell_type": "code",
   "execution_count": 2697,
   "metadata": {
    "ExecuteTime": {
     "end_time": "2024-01-08T15:18:30.369557Z",
     "start_time": "2024-01-08T15:18:30.352898Z"
    }
   },
   "outputs": [],
   "source": [
    "#rename column\n",
    "requests_csv.rename(columns= {\"AuthorId\" : \"CustomerId\"}, inplace=True)\n",
    "# Map indifferent values for HighProtein and LowSugar\n",
    "#requests_csv[\"HighProtein\"] = requests_csv[\"HighProtein\"].map({\n",
    "#    \"Indifferent\": 0,\n",
    "#    \"0\": 0,\n",
    "#    \"1\": 1,\n",
    "#    \"Yes\": 1\n",
    "#})\n",
    "\n",
    "mapping_cal = {1: 1, 0.0: 0}\n",
    "requests_csv['HighCalories'] = requests_csv['HighCalories'].map(mapping_cal).astype('category')\n",
    "\n",
    "mapping_protein = {'Yes':1, 'Indifferent': 0,'No': 0,}\n",
    "requests_csv['HighProtein'] = requests_csv['HighProtein'].map(mapping_protein).astype('category')\n",
    "\n",
    "requests_csv['LowFat'] = requests_csv['LowFat'].astype('category')\n",
    "\n",
    "mapping_sugar = {'1':1,'Indifferent': 0,'0': 0, }\n",
    "requests_csv['LowSugar'] = requests_csv['LowSugar'].map(mapping_sugar).astype('category')\n",
    "\n",
    "requests_csv['HighFiber'] = requests_csv['HighFiber'].astype('category')\n"
   ]
  },
  {
   "cell_type": "code",
   "outputs": [
    {
     "data": {
      "text/plain": "         CustomerId  RecipeId          Time HighCalories HighProtein LowFat  \\\n0       2001012259B     73440   1799.950949            0           0      0   \n1           437641B    365718   4201.820980            0           1      0   \n2       1803340263D    141757   6299.861496            0           0      1   \n3           854048B    280351  19801.365796            0           1      1   \n4          2277685E    180505   5400.093457            0           0      0   \n...             ...       ...           ...          ...         ...    ...   \n140190      163793B     78171   1560.649725            0           0      0   \n140191       33888B    333262   1502.011466            1           0      1   \n140192      401942C     49200   5999.274269            0           0      0   \n140193      346866B    214815    899.523513            0           1      1   \n140194     1786859E    117923   7199.637837            1           0      0   \n\n       LowSugar HighFiber  \n0             0         0  \n1             0         1  \n2             0         0  \n3             0         1  \n4             0         0  \n...         ...       ...  \n140190        0         1  \n140191        0         0  \n140192        0         1  \n140193        0         1  \n140194        0         1  \n\n[140195 rows x 8 columns]",
      "text/html": "<div>\n<style scoped>\n    .dataframe tbody tr th:only-of-type {\n        vertical-align: middle;\n    }\n\n    .dataframe tbody tr th {\n        vertical-align: top;\n    }\n\n    .dataframe thead th {\n        text-align: right;\n    }\n</style>\n<table border=\"1\" class=\"dataframe\">\n  <thead>\n    <tr style=\"text-align: right;\">\n      <th></th>\n      <th>CustomerId</th>\n      <th>RecipeId</th>\n      <th>Time</th>\n      <th>HighCalories</th>\n      <th>HighProtein</th>\n      <th>LowFat</th>\n      <th>LowSugar</th>\n      <th>HighFiber</th>\n    </tr>\n  </thead>\n  <tbody>\n    <tr>\n      <th>0</th>\n      <td>2001012259B</td>\n      <td>73440</td>\n      <td>1799.950949</td>\n      <td>0</td>\n      <td>0</td>\n      <td>0</td>\n      <td>0</td>\n      <td>0</td>\n    </tr>\n    <tr>\n      <th>1</th>\n      <td>437641B</td>\n      <td>365718</td>\n      <td>4201.820980</td>\n      <td>0</td>\n      <td>1</td>\n      <td>0</td>\n      <td>0</td>\n      <td>1</td>\n    </tr>\n    <tr>\n      <th>2</th>\n      <td>1803340263D</td>\n      <td>141757</td>\n      <td>6299.861496</td>\n      <td>0</td>\n      <td>0</td>\n      <td>1</td>\n      <td>0</td>\n      <td>0</td>\n    </tr>\n    <tr>\n      <th>3</th>\n      <td>854048B</td>\n      <td>280351</td>\n      <td>19801.365796</td>\n      <td>0</td>\n      <td>1</td>\n      <td>1</td>\n      <td>0</td>\n      <td>1</td>\n    </tr>\n    <tr>\n      <th>4</th>\n      <td>2277685E</td>\n      <td>180505</td>\n      <td>5400.093457</td>\n      <td>0</td>\n      <td>0</td>\n      <td>0</td>\n      <td>0</td>\n      <td>0</td>\n    </tr>\n    <tr>\n      <th>...</th>\n      <td>...</td>\n      <td>...</td>\n      <td>...</td>\n      <td>...</td>\n      <td>...</td>\n      <td>...</td>\n      <td>...</td>\n      <td>...</td>\n    </tr>\n    <tr>\n      <th>140190</th>\n      <td>163793B</td>\n      <td>78171</td>\n      <td>1560.649725</td>\n      <td>0</td>\n      <td>0</td>\n      <td>0</td>\n      <td>0</td>\n      <td>1</td>\n    </tr>\n    <tr>\n      <th>140191</th>\n      <td>33888B</td>\n      <td>333262</td>\n      <td>1502.011466</td>\n      <td>1</td>\n      <td>0</td>\n      <td>1</td>\n      <td>0</td>\n      <td>0</td>\n    </tr>\n    <tr>\n      <th>140192</th>\n      <td>401942C</td>\n      <td>49200</td>\n      <td>5999.274269</td>\n      <td>0</td>\n      <td>0</td>\n      <td>0</td>\n      <td>0</td>\n      <td>1</td>\n    </tr>\n    <tr>\n      <th>140193</th>\n      <td>346866B</td>\n      <td>214815</td>\n      <td>899.523513</td>\n      <td>0</td>\n      <td>1</td>\n      <td>1</td>\n      <td>0</td>\n      <td>1</td>\n    </tr>\n    <tr>\n      <th>140194</th>\n      <td>1786859E</td>\n      <td>117923</td>\n      <td>7199.637837</td>\n      <td>1</td>\n      <td>0</td>\n      <td>0</td>\n      <td>0</td>\n      <td>1</td>\n    </tr>\n  </tbody>\n</table>\n<p>140195 rows × 8 columns</p>\n</div>"
     },
     "execution_count": 2698,
     "metadata": {},
     "output_type": "execute_result"
    }
   ],
   "source": [
    "requests_csv"
   ],
   "metadata": {
    "collapsed": false,
    "ExecuteTime": {
     "end_time": "2024-01-08T15:18:30.370420Z",
     "start_time": "2024-01-08T15:18:30.367246Z"
    }
   },
   "execution_count": 2698
  },
  {
   "cell_type": "code",
   "execution_count": 2699,
   "outputs": [],
   "source": [
    "#TODO: how to handle negative time values? -> here: take the total time value from recipes by recipeId!\n",
    "request_with_recipe = pd.merge(requests_csv, recipes_csv, on=\"RecipeId\", how=\"left\")\n",
    "#request_with_recipe['Time'] = np.where(request_with_recipe['Time'] < 0, request_with_recipe['TotalTimeNeeded'], request_with_recipe['Time'])\n",
    "request_with_recipe['Time'] = np.where(request_with_recipe['Time'] < 0, 0, request_with_recipe['Time'])\n",
    "request_with_recipe['Time'] = request_with_recipe['Time'].round().astype('int')\n",
    "request_with_recipe.rename(columns={'Time':'MaxTime'}, inplace=True)\n",
    "requests_csv = request_with_recipe[['CustomerId', 'RecipeId', 'MaxTime', 'HighCalories','HighProtein', 'LowFat', 'LowSugar', 'HighFiber']]\n",
    "#request_with_recipe = request_with_recipe[['CustomerId','RecipeId', 'Time','TotalTimeNeeded']]"
   ],
   "metadata": {
    "collapsed": false,
    "ExecuteTime": {
     "end_time": "2024-01-08T15:18:30.385856Z",
     "start_time": "2024-01-08T15:18:30.370229Z"
    }
   }
  },
  {
   "cell_type": "code",
   "outputs": [
    {
     "data": {
      "text/plain": "         CustomerId  RecipeId  MaxTime HighCalories HighProtein LowFat  \\\n0       2001012259B     73440     1800            0           0      0   \n1           437641B    365718     4202            0           1      0   \n2       1803340263D    141757     6300            0           0      1   \n3           854048B    280351    19801            0           1      1   \n4          2277685E    180505     5400            0           0      0   \n...             ...       ...      ...          ...         ...    ...   \n140190      163793B     78171     1561            0           0      0   \n140191       33888B    333262     1502            1           0      1   \n140192      401942C     49200     5999            0           0      0   \n140193      346866B    214815      900            0           1      1   \n140194     1786859E    117923     7200            1           0      0   \n\n       LowSugar HighFiber  \n0             0         0  \n1             0         1  \n2             0         0  \n3             0         1  \n4             0         0  \n...         ...       ...  \n140190        0         1  \n140191        0         0  \n140192        0         1  \n140193        0         1  \n140194        0         1  \n\n[140195 rows x 8 columns]",
      "text/html": "<div>\n<style scoped>\n    .dataframe tbody tr th:only-of-type {\n        vertical-align: middle;\n    }\n\n    .dataframe tbody tr th {\n        vertical-align: top;\n    }\n\n    .dataframe thead th {\n        text-align: right;\n    }\n</style>\n<table border=\"1\" class=\"dataframe\">\n  <thead>\n    <tr style=\"text-align: right;\">\n      <th></th>\n      <th>CustomerId</th>\n      <th>RecipeId</th>\n      <th>MaxTime</th>\n      <th>HighCalories</th>\n      <th>HighProtein</th>\n      <th>LowFat</th>\n      <th>LowSugar</th>\n      <th>HighFiber</th>\n    </tr>\n  </thead>\n  <tbody>\n    <tr>\n      <th>0</th>\n      <td>2001012259B</td>\n      <td>73440</td>\n      <td>1800</td>\n      <td>0</td>\n      <td>0</td>\n      <td>0</td>\n      <td>0</td>\n      <td>0</td>\n    </tr>\n    <tr>\n      <th>1</th>\n      <td>437641B</td>\n      <td>365718</td>\n      <td>4202</td>\n      <td>0</td>\n      <td>1</td>\n      <td>0</td>\n      <td>0</td>\n      <td>1</td>\n    </tr>\n    <tr>\n      <th>2</th>\n      <td>1803340263D</td>\n      <td>141757</td>\n      <td>6300</td>\n      <td>0</td>\n      <td>0</td>\n      <td>1</td>\n      <td>0</td>\n      <td>0</td>\n    </tr>\n    <tr>\n      <th>3</th>\n      <td>854048B</td>\n      <td>280351</td>\n      <td>19801</td>\n      <td>0</td>\n      <td>1</td>\n      <td>1</td>\n      <td>0</td>\n      <td>1</td>\n    </tr>\n    <tr>\n      <th>4</th>\n      <td>2277685E</td>\n      <td>180505</td>\n      <td>5400</td>\n      <td>0</td>\n      <td>0</td>\n      <td>0</td>\n      <td>0</td>\n      <td>0</td>\n    </tr>\n    <tr>\n      <th>...</th>\n      <td>...</td>\n      <td>...</td>\n      <td>...</td>\n      <td>...</td>\n      <td>...</td>\n      <td>...</td>\n      <td>...</td>\n      <td>...</td>\n    </tr>\n    <tr>\n      <th>140190</th>\n      <td>163793B</td>\n      <td>78171</td>\n      <td>1561</td>\n      <td>0</td>\n      <td>0</td>\n      <td>0</td>\n      <td>0</td>\n      <td>1</td>\n    </tr>\n    <tr>\n      <th>140191</th>\n      <td>33888B</td>\n      <td>333262</td>\n      <td>1502</td>\n      <td>1</td>\n      <td>0</td>\n      <td>1</td>\n      <td>0</td>\n      <td>0</td>\n    </tr>\n    <tr>\n      <th>140192</th>\n      <td>401942C</td>\n      <td>49200</td>\n      <td>5999</td>\n      <td>0</td>\n      <td>0</td>\n      <td>0</td>\n      <td>0</td>\n      <td>1</td>\n    </tr>\n    <tr>\n      <th>140193</th>\n      <td>346866B</td>\n      <td>214815</td>\n      <td>900</td>\n      <td>0</td>\n      <td>1</td>\n      <td>1</td>\n      <td>0</td>\n      <td>1</td>\n    </tr>\n    <tr>\n      <th>140194</th>\n      <td>1786859E</td>\n      <td>117923</td>\n      <td>7200</td>\n      <td>1</td>\n      <td>0</td>\n      <td>0</td>\n      <td>0</td>\n      <td>1</td>\n    </tr>\n  </tbody>\n</table>\n<p>140195 rows × 8 columns</p>\n</div>"
     },
     "execution_count": 2700,
     "metadata": {},
     "output_type": "execute_result"
    }
   ],
   "source": [
    "requests_csv"
   ],
   "metadata": {
    "collapsed": false,
    "ExecuteTime": {
     "end_time": "2024-01-08T15:18:30.399139Z",
     "start_time": "2024-01-08T15:18:30.390459Z"
    }
   },
   "execution_count": 2700
  },
  {
   "cell_type": "markdown",
   "source": [
    "#### reviews_csv"
   ],
   "metadata": {
    "collapsed": false
   }
  },
  {
   "cell_type": "code",
   "execution_count": 2701,
   "outputs": [],
   "source": [
    "#rename column\n",
    "reviews_csv.rename(columns= {\"AuthorId\" : \"CustomerId\"}, inplace=True)\n",
    "# Remove NA rows and Rating column and TestSetId\n",
    "reviews_csv = reviews_csv.drop(\"Rating\", axis=1)\n",
    "reviews_csv.dropna(subset=[\"Like\"], inplace=True) # note: now the entries are reduced to 97381 entries\n",
    "reviews_csv = reviews_csv.drop(\"TestSetId\", axis=1)"
   ],
   "metadata": {
    "collapsed": false,
    "ExecuteTime": {
     "end_time": "2024-01-08T15:18:30.419563Z",
     "start_time": "2024-01-08T15:18:30.397658Z"
    }
   }
  },
  {
   "cell_type": "code",
   "execution_count": 2702,
   "outputs": [],
   "source": [
    "# convert Like type to boolean\n",
    "reviews_csv[\"Like\"] = reviews_csv[\"Like\"].astype(\"int\")"
   ],
   "metadata": {
    "collapsed": false,
    "ExecuteTime": {
     "end_time": "2024-01-08T15:18:30.420208Z",
     "start_time": "2024-01-08T15:18:30.403616Z"
    }
   }
  },
  {
   "cell_type": "code",
   "outputs": [],
   "source": [
    "#merge diet + review\n",
    "review_with_diet = pd.merge(reviews_csv, diet_csv, on=\"CustomerId\", how=\"inner\") # 97381 entries\n",
    "#merge diet + review + request\n",
    "review_diet_with_request = pd.merge(review_with_diet, requests_csv, on=[\"CustomerId\", \"RecipeId\"], how=\"inner\") # 97381 entries\n"
   ],
   "metadata": {
    "collapsed": false,
    "ExecuteTime": {
     "end_time": "2024-01-08T15:18:30.464396Z",
     "start_time": "2024-01-08T15:18:30.405894Z"
    }
   },
   "execution_count": 2703
  },
  {
   "cell_type": "code",
   "outputs": [
    {
     "data": {
      "text/plain": "      CustomerId  RecipeId  Like        Diet  Age  MaxTime HighCalories  \\\n0       1000036C    320576     0  Vegetarian   50      119            0   \n1       1000216B    189335     0  Vegetarian   78     1199            0   \n2       1000221A    133043     0  Vegetarian   25      362            0   \n3       1000221A     90537     0  Vegetarian   25     1199            0   \n4       1000221A    334314     0  Vegetarian   25     5400            1   \n...          ...       ...   ...         ...  ...      ...          ...   \n97376    999595E    338070     0  Vegetarian   31     3899            0   \n97377    999774A     29002     0  Vegetarian   57     2402            0   \n97378    999774A    159252     0  Vegetarian   57     6000            0   \n97379    999774A      1171     1  Vegetarian   57      480            1   \n97380    999917E    169413     0  Vegetarian   28     3600            0   \n\n      HighProtein LowFat LowSugar HighFiber  \n0               0      0        0         1  \n1               1      0        0         1  \n2               1      0        0         1  \n3               1      0        0         1  \n4               0      0        0         0  \n...           ...    ...      ...       ...  \n97376           0      1        0         0  \n97377           0      0        0         0  \n97378           1      0        0         0  \n97379           1      0        0         0  \n97380           0      0        0         0  \n\n[97381 rows x 11 columns]",
      "text/html": "<div>\n<style scoped>\n    .dataframe tbody tr th:only-of-type {\n        vertical-align: middle;\n    }\n\n    .dataframe tbody tr th {\n        vertical-align: top;\n    }\n\n    .dataframe thead th {\n        text-align: right;\n    }\n</style>\n<table border=\"1\" class=\"dataframe\">\n  <thead>\n    <tr style=\"text-align: right;\">\n      <th></th>\n      <th>CustomerId</th>\n      <th>RecipeId</th>\n      <th>Like</th>\n      <th>Diet</th>\n      <th>Age</th>\n      <th>MaxTime</th>\n      <th>HighCalories</th>\n      <th>HighProtein</th>\n      <th>LowFat</th>\n      <th>LowSugar</th>\n      <th>HighFiber</th>\n    </tr>\n  </thead>\n  <tbody>\n    <tr>\n      <th>0</th>\n      <td>1000036C</td>\n      <td>320576</td>\n      <td>0</td>\n      <td>Vegetarian</td>\n      <td>50</td>\n      <td>119</td>\n      <td>0</td>\n      <td>0</td>\n      <td>0</td>\n      <td>0</td>\n      <td>1</td>\n    </tr>\n    <tr>\n      <th>1</th>\n      <td>1000216B</td>\n      <td>189335</td>\n      <td>0</td>\n      <td>Vegetarian</td>\n      <td>78</td>\n      <td>1199</td>\n      <td>0</td>\n      <td>1</td>\n      <td>0</td>\n      <td>0</td>\n      <td>1</td>\n    </tr>\n    <tr>\n      <th>2</th>\n      <td>1000221A</td>\n      <td>133043</td>\n      <td>0</td>\n      <td>Vegetarian</td>\n      <td>25</td>\n      <td>362</td>\n      <td>0</td>\n      <td>1</td>\n      <td>0</td>\n      <td>0</td>\n      <td>1</td>\n    </tr>\n    <tr>\n      <th>3</th>\n      <td>1000221A</td>\n      <td>90537</td>\n      <td>0</td>\n      <td>Vegetarian</td>\n      <td>25</td>\n      <td>1199</td>\n      <td>0</td>\n      <td>1</td>\n      <td>0</td>\n      <td>0</td>\n      <td>1</td>\n    </tr>\n    <tr>\n      <th>4</th>\n      <td>1000221A</td>\n      <td>334314</td>\n      <td>0</td>\n      <td>Vegetarian</td>\n      <td>25</td>\n      <td>5400</td>\n      <td>1</td>\n      <td>0</td>\n      <td>0</td>\n      <td>0</td>\n      <td>0</td>\n    </tr>\n    <tr>\n      <th>...</th>\n      <td>...</td>\n      <td>...</td>\n      <td>...</td>\n      <td>...</td>\n      <td>...</td>\n      <td>...</td>\n      <td>...</td>\n      <td>...</td>\n      <td>...</td>\n      <td>...</td>\n      <td>...</td>\n    </tr>\n    <tr>\n      <th>97376</th>\n      <td>999595E</td>\n      <td>338070</td>\n      <td>0</td>\n      <td>Vegetarian</td>\n      <td>31</td>\n      <td>3899</td>\n      <td>0</td>\n      <td>0</td>\n      <td>1</td>\n      <td>0</td>\n      <td>0</td>\n    </tr>\n    <tr>\n      <th>97377</th>\n      <td>999774A</td>\n      <td>29002</td>\n      <td>0</td>\n      <td>Vegetarian</td>\n      <td>57</td>\n      <td>2402</td>\n      <td>0</td>\n      <td>0</td>\n      <td>0</td>\n      <td>0</td>\n      <td>0</td>\n    </tr>\n    <tr>\n      <th>97378</th>\n      <td>999774A</td>\n      <td>159252</td>\n      <td>0</td>\n      <td>Vegetarian</td>\n      <td>57</td>\n      <td>6000</td>\n      <td>0</td>\n      <td>1</td>\n      <td>0</td>\n      <td>0</td>\n      <td>0</td>\n    </tr>\n    <tr>\n      <th>97379</th>\n      <td>999774A</td>\n      <td>1171</td>\n      <td>1</td>\n      <td>Vegetarian</td>\n      <td>57</td>\n      <td>480</td>\n      <td>1</td>\n      <td>1</td>\n      <td>0</td>\n      <td>0</td>\n      <td>0</td>\n    </tr>\n    <tr>\n      <th>97380</th>\n      <td>999917E</td>\n      <td>169413</td>\n      <td>0</td>\n      <td>Vegetarian</td>\n      <td>28</td>\n      <td>3600</td>\n      <td>0</td>\n      <td>0</td>\n      <td>0</td>\n      <td>0</td>\n      <td>0</td>\n    </tr>\n  </tbody>\n</table>\n<p>97381 rows × 11 columns</p>\n</div>"
     },
     "execution_count": 2704,
     "metadata": {},
     "output_type": "execute_result"
    }
   ],
   "source": [
    "review_diet_with_request"
   ],
   "metadata": {
    "collapsed": false,
    "ExecuteTime": {
     "end_time": "2024-01-08T15:18:30.469719Z",
     "start_time": "2024-01-08T15:18:30.468025Z"
    }
   },
   "execution_count": 2704
  },
  {
   "cell_type": "code",
   "outputs": [],
   "source": [
    "# merge 'review_with_diet' with 'recipes_csv'\n",
    "df = pd.merge(review_diet_with_request, recipes_csv, on='RecipeId', how='left')\n",
    "df['TimeDeviation'] = df['MaxTime'] - df['TotalTimeNeeded']\n",
    "#df.drop(['TotalTimeNeeded', 'MaxTime'], axis=1, inplace=True)"
   ],
   "metadata": {
    "collapsed": false,
    "ExecuteTime": {
     "end_time": "2024-01-08T15:18:30.489639Z",
     "start_time": "2024-01-08T15:18:30.471068Z"
    }
   },
   "execution_count": 2705
  },
  {
   "cell_type": "code",
   "outputs": [],
   "source": [
    "df = pd.get_dummies(df, columns=['Diet', 'RecipeCategory'], drop_first=True) "
   ],
   "metadata": {
    "collapsed": false,
    "ExecuteTime": {
     "end_time": "2024-01-08T15:18:30.513155Z",
     "start_time": "2024-01-08T15:18:30.487946Z"
    }
   },
   "execution_count": 2706
  },
  {
   "cell_type": "code",
   "outputs": [],
   "source": [
    "from sklearn.model_selection import train_test_split\n",
    "from sklearn.tree import DecisionTreeClassifier\n",
    "from sklearn.metrics import accuracy_score, classification_report, confusion_matrix\n",
    "\n",
    "X = df.drop(columns=[\"Like\", \"CustomerId\", \"RecipeId\", \"TotalTimeNeeded\", \"Diet_Vegan\", \"RecipeCategory_Other\", \"Name\"]).copy()\n",
    "y = df['Like']"
   ],
   "metadata": {
    "collapsed": false,
    "ExecuteTime": {
     "end_time": "2024-01-08T15:18:30.514181Z",
     "start_time": "2024-01-08T15:18:30.499524Z"
    }
   },
   "execution_count": 2707
  },
  {
   "cell_type": "code",
   "outputs": [],
   "source": [
    "X"
   ],
   "metadata": {
    "collapsed": false,
    "ExecuteTime": {
     "end_time": "2024-01-08T15:18:30.518219Z",
     "start_time": "2024-01-08T15:18:30.513791Z"
    }
   },
   "execution_count": 2709
  },
  {
   "cell_type": "code",
   "outputs": [],
   "source": [
    "# split data into learning and test sets\n",
    "from sklearn.model_selection import train_test_split\n",
    "\n",
    "X_train, X_test, y_train, y_test = \\\n",
    "  train_test_split(X, y,\n",
    "                   test_size=0.3, \n",
    "                   shuffle=True,\n",
    "                   random_state=2024)"
   ],
   "metadata": {
    "collapsed": false,
    "ExecuteTime": {
     "end_time": "2024-01-08T15:18:30.524756Z",
     "start_time": "2024-01-08T15:18:30.515995Z"
    }
   },
   "execution_count": 2710
  },
  {
   "cell_type": "code",
   "outputs": [
    {
     "name": "stdout",
     "output_type": "stream",
     "text": [
      "min_samples_split: 2\n"
     ]
    }
   ],
   "source": [
    "model = DecisionTreeClassifier(max_depth=31, min_samples_split=2, min_samples_leaf= 5,random_state=2024)\n",
    "model.fit(X_train, y_train)\n",
    "min_samples_split_value = model.min_samples_split\n",
    "print(\"min_samples_split:\", min_samples_split_value)"
   ],
   "metadata": {
    "collapsed": false,
    "ExecuteTime": {
     "end_time": "2024-01-08T15:18:31.032922Z",
     "start_time": "2024-01-08T15:18:30.523451Z"
    }
   },
   "execution_count": 2711
  },
  {
   "cell_type": "code",
   "outputs": [
    {
     "name": "stdout",
     "output_type": "stream",
     "text": [
      "Accuracy: 0.8633920931028581\n",
      "Balanced Accuracy: 0.6803974075513569\n",
      "Accuracy: 0.9479652612739489\n",
      "Balanced Accuracy: 0.861868065017393\n"
     ]
    }
   ],
   "source": [
    "from sklearn.metrics import balanced_accuracy_score\n",
    "\n",
    "y_pred = model.predict(X_test)\n",
    "accuracy = accuracy_score(y_test, y_pred)\n",
    "print(\"Accuracy:\", accuracy)\n",
    "\n",
    "balanced_accuracy = balanced_accuracy_score(y_test, y_pred)\n",
    "print(\"Balanced Accuracy:\", balanced_accuracy)\n",
    "\n",
    "y_pred_train = model.predict(X_train)\n",
    "accuracy = accuracy_score(y_train, y_pred_train)\n",
    "print(\"Accuracy:\", accuracy)\n",
    "balanced_accuracy = balanced_accuracy_score(y_train, y_pred_train)\n",
    "print(\"Balanced Accuracy:\", balanced_accuracy)\n"
   ],
   "metadata": {
    "collapsed": false,
    "ExecuteTime": {
     "end_time": "2024-01-08T15:18:31.056542Z",
     "start_time": "2024-01-08T15:18:31.031156Z"
    }
   },
   "execution_count": 2712
  },
  {
   "cell_type": "code",
   "outputs": [
    {
     "data": {
      "text/plain": "col_0      0     1\nLike              \n0      23540  1763\n1       2228  1684",
      "text/html": "<div>\n<style scoped>\n    .dataframe tbody tr th:only-of-type {\n        vertical-align: middle;\n    }\n\n    .dataframe tbody tr th {\n        vertical-align: top;\n    }\n\n    .dataframe thead th {\n        text-align: right;\n    }\n</style>\n<table border=\"1\" class=\"dataframe\">\n  <thead>\n    <tr style=\"text-align: right;\">\n      <th>col_0</th>\n      <th>0</th>\n      <th>1</th>\n    </tr>\n    <tr>\n      <th>Like</th>\n      <th></th>\n      <th></th>\n    </tr>\n  </thead>\n  <tbody>\n    <tr>\n      <th>0</th>\n      <td>23540</td>\n      <td>1763</td>\n    </tr>\n    <tr>\n      <th>1</th>\n      <td>2228</td>\n      <td>1684</td>\n    </tr>\n  </tbody>\n</table>\n</div>"
     },
     "execution_count": 2713,
     "metadata": {},
     "output_type": "execute_result"
    }
   ],
   "source": [
    "# build confusion matrix\n",
    "confusion_matrix = pd.crosstab(y_test, y_pred)\n",
    "confusion_matrix"
   ],
   "metadata": {
    "collapsed": false,
    "ExecuteTime": {
     "end_time": "2024-01-08T15:18:31.062365Z",
     "start_time": "2024-01-08T15:18:31.055777Z"
    }
   },
   "execution_count": 2713
  },
  {
   "cell_type": "code",
   "outputs": [
    {
     "data": {
      "text/plain": "col_0      0     1\nLike              \n0      57939  1261\n1       2286  6680",
      "text/html": "<div>\n<style scoped>\n    .dataframe tbody tr th:only-of-type {\n        vertical-align: middle;\n    }\n\n    .dataframe tbody tr th {\n        vertical-align: top;\n    }\n\n    .dataframe thead th {\n        text-align: right;\n    }\n</style>\n<table border=\"1\" class=\"dataframe\">\n  <thead>\n    <tr style=\"text-align: right;\">\n      <th>col_0</th>\n      <th>0</th>\n      <th>1</th>\n    </tr>\n    <tr>\n      <th>Like</th>\n      <th></th>\n      <th></th>\n    </tr>\n  </thead>\n  <tbody>\n    <tr>\n      <th>0</th>\n      <td>57939</td>\n      <td>1261</td>\n    </tr>\n    <tr>\n      <th>1</th>\n      <td>2286</td>\n      <td>6680</td>\n    </tr>\n  </tbody>\n</table>\n</div>"
     },
     "execution_count": 2714,
     "metadata": {},
     "output_type": "execute_result"
    }
   ],
   "source": [
    "confusion_matrix2 = pd.crosstab(y_train, y_pred_train)\n",
    "confusion_matrix2"
   ],
   "metadata": {
    "collapsed": false,
    "ExecuteTime": {
     "end_time": "2024-01-08T15:18:31.072660Z",
     "start_time": "2024-01-08T15:18:31.062247Z"
    }
   },
   "execution_count": 2714
  },
  {
   "cell_type": "code",
   "outputs": [],
   "source": [
    "from sklearn.ensemble import BaggingClassifier\n",
    "bagging_classifier = BaggingClassifier(model, n_estimators=100, random_state=2024)\n",
    "bagging_classifier.fit(X_train, y_train)\n",
    "predictions_bagging = bagging_classifier.predict(X_test)\n",
    "accuracy_bagging = accuracy_score(y_test, predictions_bagging)\n",
    "balanced_accuracy_bagging = balanced_accuracy_score(y_test, predictions_bagging)\n",
    "print(\"Accuracy with bagging:\", accuracy_bagging)\n",
    "print(\"Balanced Accuracy with bagging:\", balanced_accuracy_bagging)\n"
   ],
   "metadata": {
    "collapsed": false
   },
   "execution_count": 2665
  },
  {
   "cell_type": "code",
   "outputs": [],
   "source": [
    "#from sklearn.tree import DecisionTreeClassifier\n",
    "#from sklearn.model_selection import GridSearchCV, train_test_split\n",
    "\n",
    "# Assuming you have already split your data into X_train, X_test, y_train, y_test\n",
    "\n",
    "# Define the decision tree model\n",
    "#model = DecisionTreeClassifier()\n",
    "\n",
    "# Define the parameter grid for grid search\n",
    "#param_grid = {\n",
    "#    'max_depth': [3, 5, 7, 10, 31, 32, 33, 45],\n",
    "#    'min_samples_split': [2, 5, 10, 15, 21, 30, 40],\n",
    "#    'min_samples_leaf': [1, 2, 4, 5, 6, 7, 8, 9, 10]\n",
    "#}\n",
    "\n",
    "# Perform grid search\n",
    "#grid_search = GridSearchCV(model, param_grid, cv=5, scoring='balanced_accuracy')\n",
    "#grid_search.fit(X_train, y_train)\n",
    "\n",
    "# Print the best parameters and model score\n",
    "#print(\"Best Parameters:\", grid_search.best_params_)\n",
    "#print(\"Best Model Score:\", grid_search.best_score_)\n",
    "\n",
    "# Fit the final model with best parameters\n",
    "#best_model = grid_search.best_estimator_\n",
    "#best_model.fit(X_train, y_train)\n"
   ],
   "metadata": {
    "collapsed": false,
    "ExecuteTime": {
     "end_time": "2024-01-08T15:18:31.073073Z",
     "start_time": "2024-01-08T15:18:31.070136Z"
    }
   },
   "execution_count": 2715
  },
  {
   "cell_type": "markdown",
   "source": [
    "\n",
    "#### 1. Logistic Regression\n",
    "#### 2. Decision Trees\n",
    "#### 3. Random Forest\n",
    "#### 4. Naive bayes\n",
    "#### 5. Gradient Boosting\n",
    "\n",
    "#### 1. Data Cleaning (missing values, merge tables)\n",
    "#### 2. Set dataset into training & testing sets + download testing set\n",
    "#### 3. modeling\n",
    "#### 4. Model training: train model on training dataset\n",
    "#### 5. Model evaluation (performance)\n",
    "#### 6. prediction on the unseen data"
   ],
   "metadata": {
    "collapsed": false
   }
  }
 ],
 "metadata": {
  "kernelspec": {
   "display_name": "Python 3",
   "language": "python",
   "name": "python3"
  },
  "language_info": {
   "codemirror_mode": {
    "name": "ipython",
    "version": 3
   },
   "file_extension": ".py",
   "mimetype": "text/x-python",
   "name": "python",
   "nbconvert_exporter": "python",
   "pygments_lexer": "ipython3",
   "version": "3.10.11"
  },
  "orig_nbformat": 4
 },
 "nbformat": 4,
 "nbformat_minor": 2
}
