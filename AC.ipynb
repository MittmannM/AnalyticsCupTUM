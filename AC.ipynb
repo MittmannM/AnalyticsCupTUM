{
 "cells": [
  {
   "cell_type": "markdown",
   "metadata": {},
   "source": [
    "# ANAC\n"
   ]
  },
  {
   "cell_type": "markdown",
   "metadata": {
    "collapsed": false
   },
   "source": [
    "#### imports"
   ]
  },
  {
   "cell_type": "code",
   "execution_count": 1,
   "metadata": {
    "ExecuteTime": {
     "end_time": "2024-01-07T11:34:56.669614600Z",
     "start_time": "2024-01-07T11:34:55.118204100Z"
    }
   },
   "outputs": [],
   "source": [
    "import pandas as pd\n",
    "import numpy as np\n",
    "from sklearn.ensemble import RandomForestClassifier\n",
    "import matplotlib.pyplot as plt\n",
    "from sklearn.metrics import classification_report, confusion_matrix"
   ]
  },
  {
   "cell_type": "markdown",
   "metadata": {},
   "source": [
    "#### set seed"
   ]
  },
  {
   "cell_type": "code",
   "execution_count": 2,
   "metadata": {
    "ExecuteTime": {
     "end_time": "2024-01-07T11:35:00.112828200Z",
     "start_time": "2024-01-07T11:35:00.045769200Z"
    }
   },
   "outputs": [],
   "source": [
    "seed = 2024\n",
    "np.random.seed(seed)"
   ]
  },
  {
   "cell_type": "markdown",
   "metadata": {},
   "source": [
    "#### read in data"
   ]
  },
  {
   "cell_type": "code",
   "execution_count": 3,
   "metadata": {
    "ExecuteTime": {
     "end_time": "2024-01-07T11:35:03.941331Z",
     "start_time": "2024-01-07T11:35:02.744242700Z"
    }
   },
   "outputs": [
    {
     "name": "stderr",
     "output_type": "stream",
     "text": [
      "C:\\Users\\Maximilian Mittmann\\AppData\\Local\\Temp\\ipykernel_10880\\1972436986.py:4: DtypeWarning: Columns (3) have mixed types. Specify dtype option on import or set low_memory=False.\n",
      "  reviews_csv = pd.read_csv(\"reviews.csv\")\n"
     ]
    }
   ],
   "source": [
    "diet_csv = pd.read_csv(\"diet.csv\")\n",
    "recipes_csv = pd.read_csv(\"recipes.csv\")\n",
    "requests_csv = pd.read_csv(\"requests.csv\")\n",
    "reviews_csv = pd.read_csv(\"reviews.csv\")"
   ]
  },
  {
   "cell_type": "code",
   "execution_count": 8,
   "metadata": {
    "ExecuteTime": {
     "end_time": "2024-01-04T09:29:51.604285100Z",
     "start_time": "2024-01-04T09:29:51.518329200Z"
    },
    "collapsed": false
   },
   "outputs": [
    {
     "name": "stdout",
     "output_type": "stream",
     "text": [
      "<class 'pandas.core.frame.DataFrame'>\n",
      "RangeIndex: 271907 entries, 0 to 271906\n",
      "Data columns (total 3 columns):\n",
      " #   Column    Non-Null Count   Dtype \n",
      "---  ------    --------------   ----- \n",
      " 0   AuthorId  271907 non-null  object\n",
      " 1   Diet      271906 non-null  object\n",
      " 2   Age       271907 non-null  int64 \n",
      "dtypes: int64(1), object(2)\n",
      "memory usage: 6.2+ MB\n",
      "<class 'pandas.core.frame.DataFrame'>\n",
      "RangeIndex: 140195 entries, 0 to 140194\n",
      "Data columns (total 8 columns):\n",
      " #   Column        Non-Null Count   Dtype  \n",
      "---  ------        --------------   -----  \n",
      " 0   AuthorId      140195 non-null  object \n",
      " 1   RecipeId      140195 non-null  int64  \n",
      " 2   Time          140195 non-null  float64\n",
      " 3   HighCalories  140195 non-null  float64\n",
      " 4   HighProtein   140195 non-null  object \n",
      " 5   LowFat        140195 non-null  int64  \n",
      " 6   LowSugar      140195 non-null  object \n",
      " 7   HighFiber     140195 non-null  int64  \n",
      "dtypes: float64(2), int64(3), object(3)\n",
      "memory usage: 8.6+ MB\n",
      "<class 'pandas.core.frame.DataFrame'>\n",
      "RangeIndex: 75604 entries, 0 to 75603\n",
      "Data columns (total 18 columns):\n",
      " #   Column                      Non-Null Count  Dtype  \n",
      "---  ------                      --------------  -----  \n",
      " 0   RecipeId                    75604 non-null  int64  \n",
      " 1   Name                        75604 non-null  object \n",
      " 2   CookTime                    75604 non-null  int64  \n",
      " 3   PrepTime                    75604 non-null  int64  \n",
      " 4   RecipeCategory              75604 non-null  object \n",
      " 5   RecipeIngredientQuantities  75604 non-null  object \n",
      " 6   RecipeIngredientParts       75604 non-null  object \n",
      " 7   Calories                    75604 non-null  float64\n",
      " 8   FatContent                  75604 non-null  float64\n",
      " 9   SaturatedFatContent         75604 non-null  float64\n",
      " 10  CholesterolContent          75604 non-null  float64\n",
      " 11  SodiumContent               75604 non-null  float64\n",
      " 12  CarbohydrateContent         75604 non-null  float64\n",
      " 13  FiberContent                75604 non-null  float64\n",
      " 14  SugarContent                75604 non-null  float64\n",
      " 15  ProteinContent              75604 non-null  float64\n",
      " 16  RecipeServings              48891 non-null  float64\n",
      " 17  RecipeYield                 25309 non-null  object \n",
      "dtypes: float64(10), int64(3), object(5)\n",
      "memory usage: 10.4+ MB\n",
      "<class 'pandas.core.frame.DataFrame'>\n",
      "RangeIndex: 140195 entries, 0 to 140194\n",
      "Data columns (total 5 columns):\n",
      " #   Column     Non-Null Count   Dtype  \n",
      "---  ------     --------------   -----  \n",
      " 0   AuthorId   140195 non-null  object \n",
      " 1   RecipeId   140195 non-null  int64  \n",
      " 2   Rating     77108 non-null   float64\n",
      " 3   Like       97381 non-null   object \n",
      " 4   TestSetId  42814 non-null   float64\n",
      "dtypes: float64(2), int64(1), object(2)\n",
      "memory usage: 5.3+ MB\n"
     ]
    }
   ],
   "source": [
    "diet_csv.info() # 271907 entries\n",
    "requests_csv.info() # 140195 entries\n",
    "recipes_csv.info() #75604 entries\n",
    "reviews_csv.info() # 140195 entries\n",
    "# --> not all customers gave a review!"
   ]
  },
  {
   "cell_type": "markdown",
   "metadata": {},
   "source": [
    "### Data Cleaning\n",
    "#### diet_csv"
   ]
  },
  {
   "cell_type": "code",
   "execution_count": 4,
   "metadata": {
    "ExecuteTime": {
     "end_time": "2024-01-07T11:36:23.536414700Z",
     "start_time": "2024-01-07T11:36:23.463349100Z"
    }
   },
   "outputs": [],
   "source": [
    "#rename column\n",
    "diet_csv.rename(columns= {\"AuthorId\" : \"CustomerId\"}, inplace=True)\n",
    "# Change type of Diet into category\n",
    "diet_csv[\"Diet\"] = diet_csv[\"Diet\"].astype(\"category\")"
   ]
  },
  {
   "cell_type": "code",
   "execution_count": 5,
   "metadata": {
    "ExecuteTime": {
     "end_time": "2024-01-07T11:36:33.850373600Z",
     "start_time": "2024-01-07T11:36:33.759290700Z"
    }
   },
   "outputs": [
    {
     "data": {
      "text/plain": "       CustomerId        Diet  Age\n0       10000120E  Vegetarian   46\n1        1000014D       Vegan   18\n2        1000015A  Vegetarian   58\n3        1000016E  Vegetarian   32\n4        1000027E       Vegan   61\n...           ...         ...  ...\n271902    999917E  Vegetarian   28\n271903    999936C    Omnivore   22\n271904     99993D  Vegetarian   58\n271905     99994A  Vegetarian   18\n271906    999991A  Vegetarian   21\n\n[271907 rows x 3 columns]",
      "text/html": "<div>\n<style scoped>\n    .dataframe tbody tr th:only-of-type {\n        vertical-align: middle;\n    }\n\n    .dataframe tbody tr th {\n        vertical-align: top;\n    }\n\n    .dataframe thead th {\n        text-align: right;\n    }\n</style>\n<table border=\"1\" class=\"dataframe\">\n  <thead>\n    <tr style=\"text-align: right;\">\n      <th></th>\n      <th>CustomerId</th>\n      <th>Diet</th>\n      <th>Age</th>\n    </tr>\n  </thead>\n  <tbody>\n    <tr>\n      <th>0</th>\n      <td>10000120E</td>\n      <td>Vegetarian</td>\n      <td>46</td>\n    </tr>\n    <tr>\n      <th>1</th>\n      <td>1000014D</td>\n      <td>Vegan</td>\n      <td>18</td>\n    </tr>\n    <tr>\n      <th>2</th>\n      <td>1000015A</td>\n      <td>Vegetarian</td>\n      <td>58</td>\n    </tr>\n    <tr>\n      <th>3</th>\n      <td>1000016E</td>\n      <td>Vegetarian</td>\n      <td>32</td>\n    </tr>\n    <tr>\n      <th>4</th>\n      <td>1000027E</td>\n      <td>Vegan</td>\n      <td>61</td>\n    </tr>\n    <tr>\n      <th>...</th>\n      <td>...</td>\n      <td>...</td>\n      <td>...</td>\n    </tr>\n    <tr>\n      <th>271902</th>\n      <td>999917E</td>\n      <td>Vegetarian</td>\n      <td>28</td>\n    </tr>\n    <tr>\n      <th>271903</th>\n      <td>999936C</td>\n      <td>Omnivore</td>\n      <td>22</td>\n    </tr>\n    <tr>\n      <th>271904</th>\n      <td>99993D</td>\n      <td>Vegetarian</td>\n      <td>58</td>\n    </tr>\n    <tr>\n      <th>271905</th>\n      <td>99994A</td>\n      <td>Vegetarian</td>\n      <td>18</td>\n    </tr>\n    <tr>\n      <th>271906</th>\n      <td>999991A</td>\n      <td>Vegetarian</td>\n      <td>21</td>\n    </tr>\n  </tbody>\n</table>\n<p>271907 rows × 3 columns</p>\n</div>"
     },
     "execution_count": 5,
     "metadata": {},
     "output_type": "execute_result"
    }
   ],
   "source": [
    "diet_csv"
   ]
  },
  {
   "cell_type": "markdown",
   "metadata": {},
   "source": [
    "#### recipes_csv"
   ]
  },
  {
   "cell_type": "code",
   "execution_count": 6,
   "metadata": {
    "ExecuteTime": {
     "end_time": "2024-01-07T11:37:45.198414500Z",
     "start_time": "2024-01-07T11:37:45.171391100Z"
    }
   },
   "outputs": [],
   "source": [
    "# Change type for Recipe Category\n",
    "recipes_csv[\"RecipeCategory\"] = recipes_csv[\"RecipeCategory\"].astype(\"category\")\n"
   ]
  },
  {
   "cell_type": "code",
   "execution_count": 7,
   "metadata": {
    "collapsed": false,
    "ExecuteTime": {
     "end_time": "2024-01-07T11:37:56.753709200Z",
     "start_time": "2024-01-07T11:37:56.651615Z"
    }
   },
   "outputs": [],
   "source": [
    "# Add new column TotalTimeNeeded\n",
    "recipes_csv[\"TotalTimeNeeded\"] = recipes_csv[\"CookTime\"] + recipes_csv[\"PrepTime\"]\n",
    "\n",
    "#drop recipeservings and yields and saturated + cholesterol + sodium + carbohydratecontent for now\n",
    "recipes_csv = recipes_csv.drop(\"RecipeServings\", axis=1)\n",
    "recipes_csv = recipes_csv.drop(\"RecipeYield\", axis=1)\n",
    "#recipes_csv = recipes_csv.drop(\"SaturatedFatContent\", axis=1)\n",
    "#recipes_csv = recipes_csv.drop(\"CholesterolContent\", axis=1)\n",
    "#recipes_csv = recipes_csv.drop(\"SodiumContent\", axis=1)\n",
    "#recipes_csv = recipes_csv.drop(\"CarbohydrateContent\", axis=1)\n",
    "#also drop cook n preptime n quantities n parts\n",
    "recipes_csv = recipes_csv.drop(\"PrepTime\", axis=1)\n",
    "recipes_csv = recipes_csv.drop(\"CookTime\", axis=1)\n",
    "recipes_csv = recipes_csv.drop(\"RecipeIngredientQuantities\", axis=1)\n",
    "recipes_csv = recipes_csv.drop(\"RecipeIngredientParts\", axis=1)"
   ]
  },
  {
   "cell_type": "code",
   "execution_count": 8,
   "metadata": {
    "collapsed": false,
    "ExecuteTime": {
     "end_time": "2024-01-07T11:38:00.429049900Z",
     "start_time": "2024-01-07T11:38:00.358986700Z"
    }
   },
   "outputs": [
    {
     "data": {
      "text/plain": "       RecipeId                                            Name  \\\n0         73440                    Bow Ties With Broccoli Pesto   \n1        365718                             Cashew-chutney Rice   \n2        141757        Copycat Taco Bell Nacho Fries BellGrande   \n3        280351        Slow Cooker Jalapeno Cheddar Cheese Soup   \n4        180505                 Cool & Crisp Citrus Chiffon Pie   \n...         ...                                             ...   \n75599    253577  Frijoles Negros- Crock Pot Mexican Black Beans   \n75600    267827                                  Moose Moussaka   \n75601    266983        Cantonese Pepper Steak for Two (Or More)   \n75602    253739                            Coconut Cream Cooler   \n75603     78171                                 Cheater Risotto   \n\n      RecipeCategory  Calories  FatContent  SaturatedFatContent  \\\n0              Other     241.3        10.1                  1.2   \n1              Other     370.8        17.5                  7.2   \n2              Other     377.6        20.9                 10.5   \n3              Other     282.8        16.5                 10.3   \n4              Other     257.5         8.6                  2.4   \n...              ...       ...         ...                  ...   \n75599          Other     121.5         0.5                  0.1   \n75600          Other     652.2        25.8                 10.7   \n75601          Other     223.9         9.2                  3.6   \n75602          Other    2229.8        80.3                 69.3   \n75603          Other     654.1        13.8                  6.9   \n\n       CholesterolContent  SodiumContent  CarbohydrateContent  FiberContent  \\\n0                     0.0           13.1                 31.8           2.3   \n1                    22.9          553.3                 44.3           1.6   \n2                    45.7         1501.8                 36.6           3.8   \n3                    50.5          630.2                 22.8           2.3   \n4                   110.7          160.9                 39.8           0.4   \n...                   ...            ...                  ...           ...   \n75599                 0.0         1175.1                 22.2           7.8   \n75600               197.9          435.5                 51.9           7.5   \n75601                78.3          725.9                  7.3           1.1   \n75602                 0.0          294.7                369.0          15.7   \n75603                34.6         1114.0                 92.2           3.9   \n\n       SugarContent  ProteinContent  TotalTimeNeeded  \n0               1.4             6.7             1800  \n1               2.2             9.4             4200  \n2               6.1            12.9             6300  \n3               2.7            11.7            19800  \n4              30.2             6.3             5400  \n...             ...             ...              ...  \n75599           0.6             7.9            72000  \n75600           7.2            50.1             6300  \n75601           1.7            26.7             2700  \n75602         317.9            26.7              420  \n75603           4.2            21.8             1560  \n\n[75604 rows x 13 columns]",
      "text/html": "<div>\n<style scoped>\n    .dataframe tbody tr th:only-of-type {\n        vertical-align: middle;\n    }\n\n    .dataframe tbody tr th {\n        vertical-align: top;\n    }\n\n    .dataframe thead th {\n        text-align: right;\n    }\n</style>\n<table border=\"1\" class=\"dataframe\">\n  <thead>\n    <tr style=\"text-align: right;\">\n      <th></th>\n      <th>RecipeId</th>\n      <th>Name</th>\n      <th>RecipeCategory</th>\n      <th>Calories</th>\n      <th>FatContent</th>\n      <th>SaturatedFatContent</th>\n      <th>CholesterolContent</th>\n      <th>SodiumContent</th>\n      <th>CarbohydrateContent</th>\n      <th>FiberContent</th>\n      <th>SugarContent</th>\n      <th>ProteinContent</th>\n      <th>TotalTimeNeeded</th>\n    </tr>\n  </thead>\n  <tbody>\n    <tr>\n      <th>0</th>\n      <td>73440</td>\n      <td>Bow Ties With Broccoli Pesto</td>\n      <td>Other</td>\n      <td>241.3</td>\n      <td>10.1</td>\n      <td>1.2</td>\n      <td>0.0</td>\n      <td>13.1</td>\n      <td>31.8</td>\n      <td>2.3</td>\n      <td>1.4</td>\n      <td>6.7</td>\n      <td>1800</td>\n    </tr>\n    <tr>\n      <th>1</th>\n      <td>365718</td>\n      <td>Cashew-chutney Rice</td>\n      <td>Other</td>\n      <td>370.8</td>\n      <td>17.5</td>\n      <td>7.2</td>\n      <td>22.9</td>\n      <td>553.3</td>\n      <td>44.3</td>\n      <td>1.6</td>\n      <td>2.2</td>\n      <td>9.4</td>\n      <td>4200</td>\n    </tr>\n    <tr>\n      <th>2</th>\n      <td>141757</td>\n      <td>Copycat Taco Bell Nacho Fries BellGrande</td>\n      <td>Other</td>\n      <td>377.6</td>\n      <td>20.9</td>\n      <td>10.5</td>\n      <td>45.7</td>\n      <td>1501.8</td>\n      <td>36.6</td>\n      <td>3.8</td>\n      <td>6.1</td>\n      <td>12.9</td>\n      <td>6300</td>\n    </tr>\n    <tr>\n      <th>3</th>\n      <td>280351</td>\n      <td>Slow Cooker Jalapeno Cheddar Cheese Soup</td>\n      <td>Other</td>\n      <td>282.8</td>\n      <td>16.5</td>\n      <td>10.3</td>\n      <td>50.5</td>\n      <td>630.2</td>\n      <td>22.8</td>\n      <td>2.3</td>\n      <td>2.7</td>\n      <td>11.7</td>\n      <td>19800</td>\n    </tr>\n    <tr>\n      <th>4</th>\n      <td>180505</td>\n      <td>Cool &amp; Crisp Citrus Chiffon Pie</td>\n      <td>Other</td>\n      <td>257.5</td>\n      <td>8.6</td>\n      <td>2.4</td>\n      <td>110.7</td>\n      <td>160.9</td>\n      <td>39.8</td>\n      <td>0.4</td>\n      <td>30.2</td>\n      <td>6.3</td>\n      <td>5400</td>\n    </tr>\n    <tr>\n      <th>...</th>\n      <td>...</td>\n      <td>...</td>\n      <td>...</td>\n      <td>...</td>\n      <td>...</td>\n      <td>...</td>\n      <td>...</td>\n      <td>...</td>\n      <td>...</td>\n      <td>...</td>\n      <td>...</td>\n      <td>...</td>\n      <td>...</td>\n    </tr>\n    <tr>\n      <th>75599</th>\n      <td>253577</td>\n      <td>Frijoles Negros- Crock Pot Mexican Black Beans</td>\n      <td>Other</td>\n      <td>121.5</td>\n      <td>0.5</td>\n      <td>0.1</td>\n      <td>0.0</td>\n      <td>1175.1</td>\n      <td>22.2</td>\n      <td>7.8</td>\n      <td>0.6</td>\n      <td>7.9</td>\n      <td>72000</td>\n    </tr>\n    <tr>\n      <th>75600</th>\n      <td>267827</td>\n      <td>Moose Moussaka</td>\n      <td>Other</td>\n      <td>652.2</td>\n      <td>25.8</td>\n      <td>10.7</td>\n      <td>197.9</td>\n      <td>435.5</td>\n      <td>51.9</td>\n      <td>7.5</td>\n      <td>7.2</td>\n      <td>50.1</td>\n      <td>6300</td>\n    </tr>\n    <tr>\n      <th>75601</th>\n      <td>266983</td>\n      <td>Cantonese Pepper Steak for Two (Or More)</td>\n      <td>Other</td>\n      <td>223.9</td>\n      <td>9.2</td>\n      <td>3.6</td>\n      <td>78.3</td>\n      <td>725.9</td>\n      <td>7.3</td>\n      <td>1.1</td>\n      <td>1.7</td>\n      <td>26.7</td>\n      <td>2700</td>\n    </tr>\n    <tr>\n      <th>75602</th>\n      <td>253739</td>\n      <td>Coconut Cream Cooler</td>\n      <td>Other</td>\n      <td>2229.8</td>\n      <td>80.3</td>\n      <td>69.3</td>\n      <td>0.0</td>\n      <td>294.7</td>\n      <td>369.0</td>\n      <td>15.7</td>\n      <td>317.9</td>\n      <td>26.7</td>\n      <td>420</td>\n    </tr>\n    <tr>\n      <th>75603</th>\n      <td>78171</td>\n      <td>Cheater Risotto</td>\n      <td>Other</td>\n      <td>654.1</td>\n      <td>13.8</td>\n      <td>6.9</td>\n      <td>34.6</td>\n      <td>1114.0</td>\n      <td>92.2</td>\n      <td>3.9</td>\n      <td>4.2</td>\n      <td>21.8</td>\n      <td>1560</td>\n    </tr>\n  </tbody>\n</table>\n<p>75604 rows × 13 columns</p>\n</div>"
     },
     "execution_count": 8,
     "metadata": {},
     "output_type": "execute_result"
    }
   ],
   "source": [
    "recipes_csv"
   ]
  },
  {
   "cell_type": "markdown",
   "metadata": {},
   "source": [
    "##### requests_csv"
   ]
  },
  {
   "cell_type": "code",
   "execution_count": 9,
   "metadata": {
    "ExecuteTime": {
     "end_time": "2024-01-07T11:40:27.403949200Z",
     "start_time": "2024-01-07T11:40:27.366915400Z"
    }
   },
   "outputs": [],
   "source": [
    "#rename column\n",
    "requests_csv.rename(columns= {\"AuthorId\" : \"CustomerId\"}, inplace=True)\n",
    "# Map indifferent values for HighProtein and LowSugar\n",
    "requests_csv[\"HighProtein\"] = requests_csv[\"HighProtein\"].map({\n",
    "    \"Indifferent\": 0,\n",
    "    \"0\": 0,\n",
    "    \"1\": 1,\n",
    "    \"Yes\": 1\n",
    "})\n",
    "\n",
    "requests_csv[\"LowSugar\"] = requests_csv[\"LowSugar\"].map({\n",
    "    \"Indifferent\": 0,\n",
    "    \"0\": 0,\n",
    "    \"1\": 1\n",
    "})\n"
   ]
  },
  {
   "cell_type": "code",
   "execution_count": 10,
   "metadata": {
    "collapsed": false,
    "ExecuteTime": {
     "end_time": "2024-01-07T11:40:37.759947300Z",
     "start_time": "2024-01-07T11:40:37.723915100Z"
    }
   },
   "outputs": [],
   "source": [
    "# Change types to boolean\n",
    "requests_csv[\"HighCalories\"] = requests_csv[\"HighCalories\"].astype(\"bool\")\n",
    "requests_csv[\"LowFat\"] = requests_csv[\"LowFat\"].astype(\"bool\")\n",
    "requests_csv[\"HighFiber\"] = requests_csv[\"HighFiber\"].astype(\"bool\")\n",
    "requests_csv[\"HighProtein\"] = requests_csv[\"HighProtein\"].astype(\"bool\")\n",
    "requests_csv[\"LowSugar\"] = requests_csv[\"LowSugar\"].astype(\"bool\")"
   ]
  },
  {
   "cell_type": "code",
   "outputs": [],
   "source": [
    "# Replace negative time requests with 0 and round time values to int\n",
    "requests_csv['Time'] = np.where(requests_csv['Time'] < 0, 0, requests_csv['Time'])\n",
    "requests_csv['Time'] = requests_csv['Time'].round().astype('int')\n",
    "requests_csv.rename(columns={'Time':'RequestedTime'}, inplace=True)"
   ],
   "metadata": {
    "collapsed": false
   }
  },
  {
   "cell_type": "code",
   "execution_count": 11,
   "metadata": {
    "collapsed": false,
    "ExecuteTime": {
     "end_time": "2024-01-07T11:40:44.544917800Z",
     "start_time": "2024-01-07T11:40:44.484862800Z"
    }
   },
   "outputs": [
    {
     "data": {
      "text/plain": "         CustomerId  RecipeId          Time  HighCalories  HighProtein  \\\n0       2001012259B     73440   1799.950949         False        False   \n1           437641B    365718   4201.820980         False         True   \n2       1803340263D    141757   6299.861496         False        False   \n3           854048B    280351  19801.365796         False         True   \n4          2277685E    180505   5400.093457         False        False   \n...             ...       ...           ...           ...          ...   \n140190      163793B     78171   1560.649725         False        False   \n140191       33888B    333262   1502.011466          True        False   \n140192      401942C     49200   5999.274269         False        False   \n140193      346866B    214815    899.523513         False         True   \n140194     1786859E    117923   7199.637837          True        False   \n\n        LowFat  LowSugar  HighFiber  \n0        False     False      False  \n1        False     False       True  \n2         True     False      False  \n3         True     False       True  \n4        False     False      False  \n...        ...       ...        ...  \n140190   False     False       True  \n140191    True     False      False  \n140192   False     False       True  \n140193    True     False       True  \n140194   False     False       True  \n\n[140195 rows x 8 columns]",
      "text/html": "<div>\n<style scoped>\n    .dataframe tbody tr th:only-of-type {\n        vertical-align: middle;\n    }\n\n    .dataframe tbody tr th {\n        vertical-align: top;\n    }\n\n    .dataframe thead th {\n        text-align: right;\n    }\n</style>\n<table border=\"1\" class=\"dataframe\">\n  <thead>\n    <tr style=\"text-align: right;\">\n      <th></th>\n      <th>CustomerId</th>\n      <th>RecipeId</th>\n      <th>Time</th>\n      <th>HighCalories</th>\n      <th>HighProtein</th>\n      <th>LowFat</th>\n      <th>LowSugar</th>\n      <th>HighFiber</th>\n    </tr>\n  </thead>\n  <tbody>\n    <tr>\n      <th>0</th>\n      <td>2001012259B</td>\n      <td>73440</td>\n      <td>1799.950949</td>\n      <td>False</td>\n      <td>False</td>\n      <td>False</td>\n      <td>False</td>\n      <td>False</td>\n    </tr>\n    <tr>\n      <th>1</th>\n      <td>437641B</td>\n      <td>365718</td>\n      <td>4201.820980</td>\n      <td>False</td>\n      <td>True</td>\n      <td>False</td>\n      <td>False</td>\n      <td>True</td>\n    </tr>\n    <tr>\n      <th>2</th>\n      <td>1803340263D</td>\n      <td>141757</td>\n      <td>6299.861496</td>\n      <td>False</td>\n      <td>False</td>\n      <td>True</td>\n      <td>False</td>\n      <td>False</td>\n    </tr>\n    <tr>\n      <th>3</th>\n      <td>854048B</td>\n      <td>280351</td>\n      <td>19801.365796</td>\n      <td>False</td>\n      <td>True</td>\n      <td>True</td>\n      <td>False</td>\n      <td>True</td>\n    </tr>\n    <tr>\n      <th>4</th>\n      <td>2277685E</td>\n      <td>180505</td>\n      <td>5400.093457</td>\n      <td>False</td>\n      <td>False</td>\n      <td>False</td>\n      <td>False</td>\n      <td>False</td>\n    </tr>\n    <tr>\n      <th>...</th>\n      <td>...</td>\n      <td>...</td>\n      <td>...</td>\n      <td>...</td>\n      <td>...</td>\n      <td>...</td>\n      <td>...</td>\n      <td>...</td>\n    </tr>\n    <tr>\n      <th>140190</th>\n      <td>163793B</td>\n      <td>78171</td>\n      <td>1560.649725</td>\n      <td>False</td>\n      <td>False</td>\n      <td>False</td>\n      <td>False</td>\n      <td>True</td>\n    </tr>\n    <tr>\n      <th>140191</th>\n      <td>33888B</td>\n      <td>333262</td>\n      <td>1502.011466</td>\n      <td>True</td>\n      <td>False</td>\n      <td>True</td>\n      <td>False</td>\n      <td>False</td>\n    </tr>\n    <tr>\n      <th>140192</th>\n      <td>401942C</td>\n      <td>49200</td>\n      <td>5999.274269</td>\n      <td>False</td>\n      <td>False</td>\n      <td>False</td>\n      <td>False</td>\n      <td>True</td>\n    </tr>\n    <tr>\n      <th>140193</th>\n      <td>346866B</td>\n      <td>214815</td>\n      <td>899.523513</td>\n      <td>False</td>\n      <td>True</td>\n      <td>True</td>\n      <td>False</td>\n      <td>True</td>\n    </tr>\n    <tr>\n      <th>140194</th>\n      <td>1786859E</td>\n      <td>117923</td>\n      <td>7199.637837</td>\n      <td>True</td>\n      <td>False</td>\n      <td>False</td>\n      <td>False</td>\n      <td>True</td>\n    </tr>\n  </tbody>\n</table>\n<p>140195 rows × 8 columns</p>\n</div>"
     },
     "execution_count": 11,
     "metadata": {},
     "output_type": "execute_result"
    }
   ],
   "source": [
    "requests_csv"
   ]
  },
  {
   "cell_type": "markdown",
   "metadata": {
    "collapsed": false
   },
   "source": [
    "#### reviews_csv"
   ]
  },
  {
   "cell_type": "code",
   "execution_count": 581,
   "metadata": {
    "ExecuteTime": {
     "end_time": "2024-01-03T18:49:24.331607Z",
     "start_time": "2024-01-03T18:49:24.318774Z"
    },
    "collapsed": false
   },
   "outputs": [],
   "source": [
    "\n",
    "# TODO why are there missing values for TestSetId? "
   ]
  },
  {
   "cell_type": "code",
   "execution_count": 12,
   "metadata": {
    "collapsed": false,
    "ExecuteTime": {
     "end_time": "2024-01-07T11:42:05.397522Z",
     "start_time": "2024-01-07T11:42:05.356485100Z"
    }
   },
   "outputs": [],
   "source": [
    "# Rename column\n",
    "reviews_csv.rename(columns= {\"AuthorId\" : \"CustomerId\"}, inplace=True)\n",
    "# Remove NA rows and Rating column and TestSetId\n",
    "reviews_csv = reviews_csv.drop(\"Rating\", axis=1)\n",
    "reviews_csv.dropna(subset=[\"Like\"], inplace=True) # note: now the entries are reduced to 97381 entries\n",
    "reviews_csv = reviews_csv.drop(\"TestSetId\", axis=1)"
   ]
  },
  {
   "cell_type": "code",
   "execution_count": 13,
   "metadata": {
    "collapsed": false,
    "ExecuteTime": {
     "end_time": "2024-01-07T11:42:11.672580400Z",
     "start_time": "2024-01-07T11:42:11.634547Z"
    }
   },
   "outputs": [],
   "source": [
    "# convert Like type to boolean\n",
    "reviews_csv[\"Like\"] = reviews_csv[\"Like\"].astype(\"boolean\")"
   ]
  },
  {
   "cell_type": "code",
   "outputs": [
    {
     "data": {
      "text/plain": "       CustomerId  RecipeId   Like\n42814    1000036C    320576  False\n42815    1000216B    189335  False\n42816    1000221A    133043  False\n42817    1000221A     90537  False\n42818    1000221A    334314  False\n...           ...       ...    ...\n140190    999595E    338070  False\n140191    999774A     29002  False\n140192    999774A    159252  False\n140193    999774A      1171   True\n140194    999917E    169413  False\n\n[97381 rows x 3 columns]",
      "text/html": "<div>\n<style scoped>\n    .dataframe tbody tr th:only-of-type {\n        vertical-align: middle;\n    }\n\n    .dataframe tbody tr th {\n        vertical-align: top;\n    }\n\n    .dataframe thead th {\n        text-align: right;\n    }\n</style>\n<table border=\"1\" class=\"dataframe\">\n  <thead>\n    <tr style=\"text-align: right;\">\n      <th></th>\n      <th>CustomerId</th>\n      <th>RecipeId</th>\n      <th>Like</th>\n    </tr>\n  </thead>\n  <tbody>\n    <tr>\n      <th>42814</th>\n      <td>1000036C</td>\n      <td>320576</td>\n      <td>False</td>\n    </tr>\n    <tr>\n      <th>42815</th>\n      <td>1000216B</td>\n      <td>189335</td>\n      <td>False</td>\n    </tr>\n    <tr>\n      <th>42816</th>\n      <td>1000221A</td>\n      <td>133043</td>\n      <td>False</td>\n    </tr>\n    <tr>\n      <th>42817</th>\n      <td>1000221A</td>\n      <td>90537</td>\n      <td>False</td>\n    </tr>\n    <tr>\n      <th>42818</th>\n      <td>1000221A</td>\n      <td>334314</td>\n      <td>False</td>\n    </tr>\n    <tr>\n      <th>...</th>\n      <td>...</td>\n      <td>...</td>\n      <td>...</td>\n    </tr>\n    <tr>\n      <th>140190</th>\n      <td>999595E</td>\n      <td>338070</td>\n      <td>False</td>\n    </tr>\n    <tr>\n      <th>140191</th>\n      <td>999774A</td>\n      <td>29002</td>\n      <td>False</td>\n    </tr>\n    <tr>\n      <th>140192</th>\n      <td>999774A</td>\n      <td>159252</td>\n      <td>False</td>\n    </tr>\n    <tr>\n      <th>140193</th>\n      <td>999774A</td>\n      <td>1171</td>\n      <td>True</td>\n    </tr>\n    <tr>\n      <th>140194</th>\n      <td>999917E</td>\n      <td>169413</td>\n      <td>False</td>\n    </tr>\n  </tbody>\n</table>\n<p>97381 rows × 3 columns</p>\n</div>"
     },
     "execution_count": 15,
     "metadata": {},
     "output_type": "execute_result"
    }
   ],
   "source": [
    "reviews_csv"
   ],
   "metadata": {
    "collapsed": false,
    "ExecuteTime": {
     "end_time": "2024-01-07T11:42:50.398210100Z",
     "start_time": "2024-01-07T11:42:50.352168600Z"
    }
   },
   "execution_count": 15
  },
  {
   "cell_type": "markdown",
   "metadata": {
    "collapsed": false
   },
   "source": [
    "#### Join the tables"
   ]
  },
  {
   "cell_type": "code",
   "execution_count": 31,
   "metadata": {
    "ExecuteTime": {
     "end_time": "2024-01-07T12:20:38.989293100Z",
     "start_time": "2024-01-07T12:20:38.954261200Z"
    }
   },
   "outputs": [
    {
     "data": {
      "text/plain": "         CustomerId  RecipeId  RequestedTime  HighCalories  HighProtein  \\\n0       2001012259B     73440           1800         False        False   \n1           437641B    365718           4202         False         True   \n2       1803340263D    141757           6300         False        False   \n3           854048B    280351          19801         False         True   \n4          2277685E    180505           5400         False        False   \n...             ...       ...            ...           ...          ...   \n140190      163793B     78171           1561         False        False   \n140191       33888B    333262           1502          True        False   \n140192      401942C     49200           5999         False        False   \n140193      346866B    214815            900         False         True   \n140194     1786859E    117923           7200          True        False   \n\n        LowFat  LowSugar  HighFiber  \n0        False     False      False  \n1        False     False       True  \n2         True     False      False  \n3         True     False       True  \n4        False     False      False  \n...        ...       ...        ...  \n140190   False     False       True  \n140191    True     False      False  \n140192   False     False       True  \n140193    True     False       True  \n140194   False     False       True  \n\n[140195 rows x 8 columns]",
      "text/html": "<div>\n<style scoped>\n    .dataframe tbody tr th:only-of-type {\n        vertical-align: middle;\n    }\n\n    .dataframe tbody tr th {\n        vertical-align: top;\n    }\n\n    .dataframe thead th {\n        text-align: right;\n    }\n</style>\n<table border=\"1\" class=\"dataframe\">\n  <thead>\n    <tr style=\"text-align: right;\">\n      <th></th>\n      <th>CustomerId</th>\n      <th>RecipeId</th>\n      <th>RequestedTime</th>\n      <th>HighCalories</th>\n      <th>HighProtein</th>\n      <th>LowFat</th>\n      <th>LowSugar</th>\n      <th>HighFiber</th>\n    </tr>\n  </thead>\n  <tbody>\n    <tr>\n      <th>0</th>\n      <td>2001012259B</td>\n      <td>73440</td>\n      <td>1800</td>\n      <td>False</td>\n      <td>False</td>\n      <td>False</td>\n      <td>False</td>\n      <td>False</td>\n    </tr>\n    <tr>\n      <th>1</th>\n      <td>437641B</td>\n      <td>365718</td>\n      <td>4202</td>\n      <td>False</td>\n      <td>True</td>\n      <td>False</td>\n      <td>False</td>\n      <td>True</td>\n    </tr>\n    <tr>\n      <th>2</th>\n      <td>1803340263D</td>\n      <td>141757</td>\n      <td>6300</td>\n      <td>False</td>\n      <td>False</td>\n      <td>True</td>\n      <td>False</td>\n      <td>False</td>\n    </tr>\n    <tr>\n      <th>3</th>\n      <td>854048B</td>\n      <td>280351</td>\n      <td>19801</td>\n      <td>False</td>\n      <td>True</td>\n      <td>True</td>\n      <td>False</td>\n      <td>True</td>\n    </tr>\n    <tr>\n      <th>4</th>\n      <td>2277685E</td>\n      <td>180505</td>\n      <td>5400</td>\n      <td>False</td>\n      <td>False</td>\n      <td>False</td>\n      <td>False</td>\n      <td>False</td>\n    </tr>\n    <tr>\n      <th>...</th>\n      <td>...</td>\n      <td>...</td>\n      <td>...</td>\n      <td>...</td>\n      <td>...</td>\n      <td>...</td>\n      <td>...</td>\n      <td>...</td>\n    </tr>\n    <tr>\n      <th>140190</th>\n      <td>163793B</td>\n      <td>78171</td>\n      <td>1561</td>\n      <td>False</td>\n      <td>False</td>\n      <td>False</td>\n      <td>False</td>\n      <td>True</td>\n    </tr>\n    <tr>\n      <th>140191</th>\n      <td>33888B</td>\n      <td>333262</td>\n      <td>1502</td>\n      <td>True</td>\n      <td>False</td>\n      <td>True</td>\n      <td>False</td>\n      <td>False</td>\n    </tr>\n    <tr>\n      <th>140192</th>\n      <td>401942C</td>\n      <td>49200</td>\n      <td>5999</td>\n      <td>False</td>\n      <td>False</td>\n      <td>False</td>\n      <td>False</td>\n      <td>True</td>\n    </tr>\n    <tr>\n      <th>140193</th>\n      <td>346866B</td>\n      <td>214815</td>\n      <td>900</td>\n      <td>False</td>\n      <td>True</td>\n      <td>True</td>\n      <td>False</td>\n      <td>True</td>\n    </tr>\n    <tr>\n      <th>140194</th>\n      <td>1786859E</td>\n      <td>117923</td>\n      <td>7200</td>\n      <td>True</td>\n      <td>False</td>\n      <td>False</td>\n      <td>False</td>\n      <td>True</td>\n    </tr>\n  </tbody>\n</table>\n<p>140195 rows × 8 columns</p>\n</div>"
     },
     "execution_count": 31,
     "metadata": {},
     "output_type": "execute_result"
    }
   ],
   "source": [
    "requests_csv"
   ]
  },
  {
   "cell_type": "code",
   "outputs": [
    {
     "data": {
      "text/plain": "       CustomerId        Diet  Age  RecipeId  RequestedTime  HighCalories  \\\n0        1000036C  Vegetarian   50    320576            119         False   \n1        1000216B  Vegetarian   78    189335           1199         False   \n2        1000221A  Vegetarian   25    133043            362         False   \n3        1000221A  Vegetarian   25     90537           1199         False   \n4        1000221A  Vegetarian   25    334314           5400          True   \n...           ...         ...  ...       ...            ...           ...   \n140190    999774A  Vegetarian   57     29002           2402         False   \n140191    999774A  Vegetarian   57    159252           6000         False   \n140192    999774A  Vegetarian   57      1171            480          True   \n140193    999917E  Vegetarian   28    169413           3600         False   \n140194     99994A  Vegetarian   18    373964           7200         False   \n\n        HighProtein  LowFat  LowSugar  HighFiber  \n0             False   False     False       True  \n1              True   False     False       True  \n2              True   False     False       True  \n3              True   False     False       True  \n4             False   False     False      False  \n...             ...     ...       ...        ...  \n140190        False   False     False      False  \n140191         True   False     False      False  \n140192         True   False     False      False  \n140193        False   False     False      False  \n140194         True   False     False      False  \n\n[140195 rows x 10 columns]",
      "text/html": "<div>\n<style scoped>\n    .dataframe tbody tr th:only-of-type {\n        vertical-align: middle;\n    }\n\n    .dataframe tbody tr th {\n        vertical-align: top;\n    }\n\n    .dataframe thead th {\n        text-align: right;\n    }\n</style>\n<table border=\"1\" class=\"dataframe\">\n  <thead>\n    <tr style=\"text-align: right;\">\n      <th></th>\n      <th>CustomerId</th>\n      <th>Diet</th>\n      <th>Age</th>\n      <th>RecipeId</th>\n      <th>RequestedTime</th>\n      <th>HighCalories</th>\n      <th>HighProtein</th>\n      <th>LowFat</th>\n      <th>LowSugar</th>\n      <th>HighFiber</th>\n    </tr>\n  </thead>\n  <tbody>\n    <tr>\n      <th>0</th>\n      <td>1000036C</td>\n      <td>Vegetarian</td>\n      <td>50</td>\n      <td>320576</td>\n      <td>119</td>\n      <td>False</td>\n      <td>False</td>\n      <td>False</td>\n      <td>False</td>\n      <td>True</td>\n    </tr>\n    <tr>\n      <th>1</th>\n      <td>1000216B</td>\n      <td>Vegetarian</td>\n      <td>78</td>\n      <td>189335</td>\n      <td>1199</td>\n      <td>False</td>\n      <td>True</td>\n      <td>False</td>\n      <td>False</td>\n      <td>True</td>\n    </tr>\n    <tr>\n      <th>2</th>\n      <td>1000221A</td>\n      <td>Vegetarian</td>\n      <td>25</td>\n      <td>133043</td>\n      <td>362</td>\n      <td>False</td>\n      <td>True</td>\n      <td>False</td>\n      <td>False</td>\n      <td>True</td>\n    </tr>\n    <tr>\n      <th>3</th>\n      <td>1000221A</td>\n      <td>Vegetarian</td>\n      <td>25</td>\n      <td>90537</td>\n      <td>1199</td>\n      <td>False</td>\n      <td>True</td>\n      <td>False</td>\n      <td>False</td>\n      <td>True</td>\n    </tr>\n    <tr>\n      <th>4</th>\n      <td>1000221A</td>\n      <td>Vegetarian</td>\n      <td>25</td>\n      <td>334314</td>\n      <td>5400</td>\n      <td>True</td>\n      <td>False</td>\n      <td>False</td>\n      <td>False</td>\n      <td>False</td>\n    </tr>\n    <tr>\n      <th>...</th>\n      <td>...</td>\n      <td>...</td>\n      <td>...</td>\n      <td>...</td>\n      <td>...</td>\n      <td>...</td>\n      <td>...</td>\n      <td>...</td>\n      <td>...</td>\n      <td>...</td>\n    </tr>\n    <tr>\n      <th>140190</th>\n      <td>999774A</td>\n      <td>Vegetarian</td>\n      <td>57</td>\n      <td>29002</td>\n      <td>2402</td>\n      <td>False</td>\n      <td>False</td>\n      <td>False</td>\n      <td>False</td>\n      <td>False</td>\n    </tr>\n    <tr>\n      <th>140191</th>\n      <td>999774A</td>\n      <td>Vegetarian</td>\n      <td>57</td>\n      <td>159252</td>\n      <td>6000</td>\n      <td>False</td>\n      <td>True</td>\n      <td>False</td>\n      <td>False</td>\n      <td>False</td>\n    </tr>\n    <tr>\n      <th>140192</th>\n      <td>999774A</td>\n      <td>Vegetarian</td>\n      <td>57</td>\n      <td>1171</td>\n      <td>480</td>\n      <td>True</td>\n      <td>True</td>\n      <td>False</td>\n      <td>False</td>\n      <td>False</td>\n    </tr>\n    <tr>\n      <th>140193</th>\n      <td>999917E</td>\n      <td>Vegetarian</td>\n      <td>28</td>\n      <td>169413</td>\n      <td>3600</td>\n      <td>False</td>\n      <td>False</td>\n      <td>False</td>\n      <td>False</td>\n      <td>False</td>\n    </tr>\n    <tr>\n      <th>140194</th>\n      <td>99994A</td>\n      <td>Vegetarian</td>\n      <td>18</td>\n      <td>373964</td>\n      <td>7200</td>\n      <td>False</td>\n      <td>True</td>\n      <td>False</td>\n      <td>False</td>\n      <td>False</td>\n    </tr>\n  </tbody>\n</table>\n<p>140195 rows × 10 columns</p>\n</div>"
     },
     "execution_count": 33,
     "metadata": {},
     "output_type": "execute_result"
    }
   ],
   "source": [
    "# merge diet + request\n",
    "request_with_diet = pd.merge(diet_csv, requests_csv, how=\"inner\", on=\"CustomerId\")\n",
    "request_with_diet"
   ],
   "metadata": {
    "collapsed": false,
    "ExecuteTime": {
     "end_time": "2024-01-07T12:21:54.131874400Z",
     "start_time": "2024-01-07T12:21:53.940700500Z"
    }
   },
   "execution_count": 33
  },
  {
   "cell_type": "code",
   "outputs": [
    {
     "data": {
      "text/plain": "        RecipeId                                            Name  \\\n0          73440                    Bow Ties With Broccoli Pesto   \n1          73440                    Bow Ties With Broccoli Pesto   \n2          73440                    Bow Ties With Broccoli Pesto   \n3          73440                    Bow Ties With Broccoli Pesto   \n4          73440                    Bow Ties With Broccoli Pesto   \n...          ...                                             ...   \n140190    253577  Frijoles Negros- Crock Pot Mexican Black Beans   \n140191    267827                                  Moose Moussaka   \n140192    266983        Cantonese Pepper Steak for Two (Or More)   \n140193    253739                            Coconut Cream Cooler   \n140194     78171                                 Cheater Risotto   \n\n       RecipeCategory  Calories  FatContent  SaturatedFatContent  \\\n0               Other     241.3        10.1                  1.2   \n1               Other     241.3        10.1                  1.2   \n2               Other     241.3        10.1                  1.2   \n3               Other     241.3        10.1                  1.2   \n4               Other     241.3        10.1                  1.2   \n...               ...       ...         ...                  ...   \n140190          Other     121.5         0.5                  0.1   \n140191          Other     652.2        25.8                 10.7   \n140192          Other     223.9         9.2                  3.6   \n140193          Other    2229.8        80.3                 69.3   \n140194          Other     654.1        13.8                  6.9   \n\n        CholesterolContent  SodiumContent  CarbohydrateContent  FiberContent  \\\n0                      0.0           13.1                 31.8           2.3   \n1                      0.0           13.1                 31.8           2.3   \n2                      0.0           13.1                 31.8           2.3   \n3                      0.0           13.1                 31.8           2.3   \n4                      0.0           13.1                 31.8           2.3   \n...                    ...            ...                  ...           ...   \n140190                 0.0         1175.1                 22.2           7.8   \n140191               197.9          435.5                 51.9           7.5   \n140192                78.3          725.9                  7.3           1.1   \n140193                 0.0          294.7                369.0          15.7   \n140194                34.6         1114.0                 92.2           3.9   \n\n        ...  TotalTimeNeeded   CustomerId        Diet Age RequestedTime  \\\n0       ...             1800     1073154D  Vegetarian  59          1800   \n1       ...             1800     1134684A       Vegan  70          1799   \n2       ...             1800      120376D  Vegetarian  21          1799   \n3       ...             1800     1208183D       Vegan  65          1801   \n4       ...             1800     1302995D       Vegan  65          1800   \n...     ...              ...          ...         ...  ..           ...   \n140190  ...            72000     1677720D       Vegan  27         71999   \n140191  ...             6300      853126B  Vegetarian  63          6299   \n140192  ...             2700  2000154789A    Omnivore  78          2701   \n140193  ...              420      499207A  Vegetarian  19           420   \n140194  ...             1560      163793B    Omnivore  50          1561   \n\n        HighCalories  HighProtein  LowFat  LowSugar  HighFiber  \n0              False        False    True     False       True  \n1              False        False   False     False      False  \n2              False         True   False     False      False  \n3               True        False   False     False      False  \n4               True        False    True     False      False  \n...              ...          ...     ...       ...        ...  \n140190         False        False    True     False       True  \n140191         False         True    True     False      False  \n140192         False         True   False     False       True  \n140193          True        False   False     False      False  \n140194         False        False   False     False       True  \n\n[140195 rows x 22 columns]",
      "text/html": "<div>\n<style scoped>\n    .dataframe tbody tr th:only-of-type {\n        vertical-align: middle;\n    }\n\n    .dataframe tbody tr th {\n        vertical-align: top;\n    }\n\n    .dataframe thead th {\n        text-align: right;\n    }\n</style>\n<table border=\"1\" class=\"dataframe\">\n  <thead>\n    <tr style=\"text-align: right;\">\n      <th></th>\n      <th>RecipeId</th>\n      <th>Name</th>\n      <th>RecipeCategory</th>\n      <th>Calories</th>\n      <th>FatContent</th>\n      <th>SaturatedFatContent</th>\n      <th>CholesterolContent</th>\n      <th>SodiumContent</th>\n      <th>CarbohydrateContent</th>\n      <th>FiberContent</th>\n      <th>...</th>\n      <th>TotalTimeNeeded</th>\n      <th>CustomerId</th>\n      <th>Diet</th>\n      <th>Age</th>\n      <th>RequestedTime</th>\n      <th>HighCalories</th>\n      <th>HighProtein</th>\n      <th>LowFat</th>\n      <th>LowSugar</th>\n      <th>HighFiber</th>\n    </tr>\n  </thead>\n  <tbody>\n    <tr>\n      <th>0</th>\n      <td>73440</td>\n      <td>Bow Ties With Broccoli Pesto</td>\n      <td>Other</td>\n      <td>241.3</td>\n      <td>10.1</td>\n      <td>1.2</td>\n      <td>0.0</td>\n      <td>13.1</td>\n      <td>31.8</td>\n      <td>2.3</td>\n      <td>...</td>\n      <td>1800</td>\n      <td>1073154D</td>\n      <td>Vegetarian</td>\n      <td>59</td>\n      <td>1800</td>\n      <td>False</td>\n      <td>False</td>\n      <td>True</td>\n      <td>False</td>\n      <td>True</td>\n    </tr>\n    <tr>\n      <th>1</th>\n      <td>73440</td>\n      <td>Bow Ties With Broccoli Pesto</td>\n      <td>Other</td>\n      <td>241.3</td>\n      <td>10.1</td>\n      <td>1.2</td>\n      <td>0.0</td>\n      <td>13.1</td>\n      <td>31.8</td>\n      <td>2.3</td>\n      <td>...</td>\n      <td>1800</td>\n      <td>1134684A</td>\n      <td>Vegan</td>\n      <td>70</td>\n      <td>1799</td>\n      <td>False</td>\n      <td>False</td>\n      <td>False</td>\n      <td>False</td>\n      <td>False</td>\n    </tr>\n    <tr>\n      <th>2</th>\n      <td>73440</td>\n      <td>Bow Ties With Broccoli Pesto</td>\n      <td>Other</td>\n      <td>241.3</td>\n      <td>10.1</td>\n      <td>1.2</td>\n      <td>0.0</td>\n      <td>13.1</td>\n      <td>31.8</td>\n      <td>2.3</td>\n      <td>...</td>\n      <td>1800</td>\n      <td>120376D</td>\n      <td>Vegetarian</td>\n      <td>21</td>\n      <td>1799</td>\n      <td>False</td>\n      <td>True</td>\n      <td>False</td>\n      <td>False</td>\n      <td>False</td>\n    </tr>\n    <tr>\n      <th>3</th>\n      <td>73440</td>\n      <td>Bow Ties With Broccoli Pesto</td>\n      <td>Other</td>\n      <td>241.3</td>\n      <td>10.1</td>\n      <td>1.2</td>\n      <td>0.0</td>\n      <td>13.1</td>\n      <td>31.8</td>\n      <td>2.3</td>\n      <td>...</td>\n      <td>1800</td>\n      <td>1208183D</td>\n      <td>Vegan</td>\n      <td>65</td>\n      <td>1801</td>\n      <td>True</td>\n      <td>False</td>\n      <td>False</td>\n      <td>False</td>\n      <td>False</td>\n    </tr>\n    <tr>\n      <th>4</th>\n      <td>73440</td>\n      <td>Bow Ties With Broccoli Pesto</td>\n      <td>Other</td>\n      <td>241.3</td>\n      <td>10.1</td>\n      <td>1.2</td>\n      <td>0.0</td>\n      <td>13.1</td>\n      <td>31.8</td>\n      <td>2.3</td>\n      <td>...</td>\n      <td>1800</td>\n      <td>1302995D</td>\n      <td>Vegan</td>\n      <td>65</td>\n      <td>1800</td>\n      <td>True</td>\n      <td>False</td>\n      <td>True</td>\n      <td>False</td>\n      <td>False</td>\n    </tr>\n    <tr>\n      <th>...</th>\n      <td>...</td>\n      <td>...</td>\n      <td>...</td>\n      <td>...</td>\n      <td>...</td>\n      <td>...</td>\n      <td>...</td>\n      <td>...</td>\n      <td>...</td>\n      <td>...</td>\n      <td>...</td>\n      <td>...</td>\n      <td>...</td>\n      <td>...</td>\n      <td>...</td>\n      <td>...</td>\n      <td>...</td>\n      <td>...</td>\n      <td>...</td>\n      <td>...</td>\n      <td>...</td>\n    </tr>\n    <tr>\n      <th>140190</th>\n      <td>253577</td>\n      <td>Frijoles Negros- Crock Pot Mexican Black Beans</td>\n      <td>Other</td>\n      <td>121.5</td>\n      <td>0.5</td>\n      <td>0.1</td>\n      <td>0.0</td>\n      <td>1175.1</td>\n      <td>22.2</td>\n      <td>7.8</td>\n      <td>...</td>\n      <td>72000</td>\n      <td>1677720D</td>\n      <td>Vegan</td>\n      <td>27</td>\n      <td>71999</td>\n      <td>False</td>\n      <td>False</td>\n      <td>True</td>\n      <td>False</td>\n      <td>True</td>\n    </tr>\n    <tr>\n      <th>140191</th>\n      <td>267827</td>\n      <td>Moose Moussaka</td>\n      <td>Other</td>\n      <td>652.2</td>\n      <td>25.8</td>\n      <td>10.7</td>\n      <td>197.9</td>\n      <td>435.5</td>\n      <td>51.9</td>\n      <td>7.5</td>\n      <td>...</td>\n      <td>6300</td>\n      <td>853126B</td>\n      <td>Vegetarian</td>\n      <td>63</td>\n      <td>6299</td>\n      <td>False</td>\n      <td>True</td>\n      <td>True</td>\n      <td>False</td>\n      <td>False</td>\n    </tr>\n    <tr>\n      <th>140192</th>\n      <td>266983</td>\n      <td>Cantonese Pepper Steak for Two (Or More)</td>\n      <td>Other</td>\n      <td>223.9</td>\n      <td>9.2</td>\n      <td>3.6</td>\n      <td>78.3</td>\n      <td>725.9</td>\n      <td>7.3</td>\n      <td>1.1</td>\n      <td>...</td>\n      <td>2700</td>\n      <td>2000154789A</td>\n      <td>Omnivore</td>\n      <td>78</td>\n      <td>2701</td>\n      <td>False</td>\n      <td>True</td>\n      <td>False</td>\n      <td>False</td>\n      <td>True</td>\n    </tr>\n    <tr>\n      <th>140193</th>\n      <td>253739</td>\n      <td>Coconut Cream Cooler</td>\n      <td>Other</td>\n      <td>2229.8</td>\n      <td>80.3</td>\n      <td>69.3</td>\n      <td>0.0</td>\n      <td>294.7</td>\n      <td>369.0</td>\n      <td>15.7</td>\n      <td>...</td>\n      <td>420</td>\n      <td>499207A</td>\n      <td>Vegetarian</td>\n      <td>19</td>\n      <td>420</td>\n      <td>True</td>\n      <td>False</td>\n      <td>False</td>\n      <td>False</td>\n      <td>False</td>\n    </tr>\n    <tr>\n      <th>140194</th>\n      <td>78171</td>\n      <td>Cheater Risotto</td>\n      <td>Other</td>\n      <td>654.1</td>\n      <td>13.8</td>\n      <td>6.9</td>\n      <td>34.6</td>\n      <td>1114.0</td>\n      <td>92.2</td>\n      <td>3.9</td>\n      <td>...</td>\n      <td>1560</td>\n      <td>163793B</td>\n      <td>Omnivore</td>\n      <td>50</td>\n      <td>1561</td>\n      <td>False</td>\n      <td>False</td>\n      <td>False</td>\n      <td>False</td>\n      <td>True</td>\n    </tr>\n  </tbody>\n</table>\n<p>140195 rows × 22 columns</p>\n</div>"
     },
     "execution_count": 34,
     "metadata": {},
     "output_type": "execute_result"
    }
   ],
   "source": [
    "# merge diet + request + recipe\n",
    "request_with_diet_and_recipe = pd.merge(recipes_csv, request_with_diet, how=\"inner\", on=\"RecipeId\")\n",
    "request_with_diet_and_recipe"
   ],
   "metadata": {
    "collapsed": false,
    "ExecuteTime": {
     "end_time": "2024-01-07T12:24:57.214504900Z",
     "start_time": "2024-01-07T12:24:57.045350100Z"
    }
   },
   "execution_count": 34
  },
  {
   "cell_type": "code",
   "outputs": [
    {
     "data": {
      "text/plain": "      CustomerId  RecipeId   Like                                     Name  \\\n0       1000036C    320576  False                               Downeaster   \n1       1000216B    189335  False            Thai Rice Soup (Kao Tome Gai)   \n2       1000221A    133043  False     Lemon and Thyme Marinade for Poultry   \n3       1000221A     90537  False                         Black Bean Salsa   \n4       1000221A    334314  False                        Irish  Soda Bread   \n...          ...       ...    ...                                      ...   \n97376    999595E    338070  False                 Pumpkin Cake Mix Dessert   \n97377    999774A     29002  False                   Summer Corkscrew Pasta   \n97378    999774A    159252  False  Chili, Kaffir Lime and Lemongrass Jelly   \n97379    999774A      1171   True                     Kahlua Hot Chocolate   \n97380    999917E    169413  False               Inglenook Spoon Bread Cake   \n\n      RecipeCategory  Calories  FatContent  SaturatedFatContent  \\\n0          Beverages     138.7         0.0                  0.0   \n1              Other     395.7        19.2                  4.5   \n2              Other     125.6        13.5                  1.9   \n3          Breakfast    1590.1        49.0                  7.2   \n4              Bread     770.9        11.0                  3.1   \n...              ...       ...         ...                  ...   \n97376          Other     464.3        31.4                 15.0   \n97377          Other     838.5        33.3                  8.5   \n97378          Other     928.0         0.6                  0.1   \n97379      Beverages     665.9        19.8                 12.2   \n97380          Bread     194.8         8.6                  4.7   \n\n       CholesterolContent  SodiumContent  ...  TotalTimeNeeded        Diet  \\\n0                     0.0            0.6  ...              120  Vegetarian   \n1                    33.9          714.2  ...             1200  Vegetarian   \n2                     0.0            0.6  ...              360  Vegetarian   \n3                     0.0          115.8  ...             1200  Vegetarian   \n4                   110.0         1033.0  ...             5400  Vegetarian   \n...                   ...            ...  ...              ...         ...   \n97376                99.8          391.7  ...             3900  Vegetarian   \n97377                33.2          318.2  ...             2400  Vegetarian   \n97378                 0.0            6.8  ...             6000  Vegetarian   \n97379                68.3          247.4  ...              480  Vegetarian   \n97380                66.5          521.9  ...             3600  Vegetarian   \n\n       Age  RequestedTime  HighCalories HighProtein  LowFat  LowSugar  \\\n0       50            119         False       False   False     False   \n1       78           1199         False        True   False     False   \n2       25            362         False        True   False     False   \n3       25           1199         False        True   False     False   \n4       25           5400          True       False   False     False   \n...    ...            ...           ...         ...     ...       ...   \n97376   31           3899         False       False    True     False   \n97377   57           2402         False       False   False     False   \n97378   57           6000         False        True   False     False   \n97379   57            480          True        True   False     False   \n97380   28           3600         False       False   False     False   \n\n       HighFiber  TimeDifference  \n0           True              -1  \n1           True              -1  \n2           True               2  \n3           True              -1  \n4          False               0  \n...          ...             ...  \n97376      False              -1  \n97377      False               2  \n97378      False               0  \n97379      False               0  \n97380      False               0  \n\n[97381 rows x 24 columns]",
      "text/html": "<div>\n<style scoped>\n    .dataframe tbody tr th:only-of-type {\n        vertical-align: middle;\n    }\n\n    .dataframe tbody tr th {\n        vertical-align: top;\n    }\n\n    .dataframe thead th {\n        text-align: right;\n    }\n</style>\n<table border=\"1\" class=\"dataframe\">\n  <thead>\n    <tr style=\"text-align: right;\">\n      <th></th>\n      <th>CustomerId</th>\n      <th>RecipeId</th>\n      <th>Like</th>\n      <th>Name</th>\n      <th>RecipeCategory</th>\n      <th>Calories</th>\n      <th>FatContent</th>\n      <th>SaturatedFatContent</th>\n      <th>CholesterolContent</th>\n      <th>SodiumContent</th>\n      <th>...</th>\n      <th>TotalTimeNeeded</th>\n      <th>Diet</th>\n      <th>Age</th>\n      <th>RequestedTime</th>\n      <th>HighCalories</th>\n      <th>HighProtein</th>\n      <th>LowFat</th>\n      <th>LowSugar</th>\n      <th>HighFiber</th>\n      <th>TimeDifference</th>\n    </tr>\n  </thead>\n  <tbody>\n    <tr>\n      <th>0</th>\n      <td>1000036C</td>\n      <td>320576</td>\n      <td>False</td>\n      <td>Downeaster</td>\n      <td>Beverages</td>\n      <td>138.7</td>\n      <td>0.0</td>\n      <td>0.0</td>\n      <td>0.0</td>\n      <td>0.6</td>\n      <td>...</td>\n      <td>120</td>\n      <td>Vegetarian</td>\n      <td>50</td>\n      <td>119</td>\n      <td>False</td>\n      <td>False</td>\n      <td>False</td>\n      <td>False</td>\n      <td>True</td>\n      <td>-1</td>\n    </tr>\n    <tr>\n      <th>1</th>\n      <td>1000216B</td>\n      <td>189335</td>\n      <td>False</td>\n      <td>Thai Rice Soup (Kao Tome Gai)</td>\n      <td>Other</td>\n      <td>395.7</td>\n      <td>19.2</td>\n      <td>4.5</td>\n      <td>33.9</td>\n      <td>714.2</td>\n      <td>...</td>\n      <td>1200</td>\n      <td>Vegetarian</td>\n      <td>78</td>\n      <td>1199</td>\n      <td>False</td>\n      <td>True</td>\n      <td>False</td>\n      <td>False</td>\n      <td>True</td>\n      <td>-1</td>\n    </tr>\n    <tr>\n      <th>2</th>\n      <td>1000221A</td>\n      <td>133043</td>\n      <td>False</td>\n      <td>Lemon and Thyme Marinade for Poultry</td>\n      <td>Other</td>\n      <td>125.6</td>\n      <td>13.5</td>\n      <td>1.9</td>\n      <td>0.0</td>\n      <td>0.6</td>\n      <td>...</td>\n      <td>360</td>\n      <td>Vegetarian</td>\n      <td>25</td>\n      <td>362</td>\n      <td>False</td>\n      <td>True</td>\n      <td>False</td>\n      <td>False</td>\n      <td>True</td>\n      <td>2</td>\n    </tr>\n    <tr>\n      <th>3</th>\n      <td>1000221A</td>\n      <td>90537</td>\n      <td>False</td>\n      <td>Black Bean Salsa</td>\n      <td>Breakfast</td>\n      <td>1590.1</td>\n      <td>49.0</td>\n      <td>7.2</td>\n      <td>0.0</td>\n      <td>115.8</td>\n      <td>...</td>\n      <td>1200</td>\n      <td>Vegetarian</td>\n      <td>25</td>\n      <td>1199</td>\n      <td>False</td>\n      <td>True</td>\n      <td>False</td>\n      <td>False</td>\n      <td>True</td>\n      <td>-1</td>\n    </tr>\n    <tr>\n      <th>4</th>\n      <td>1000221A</td>\n      <td>334314</td>\n      <td>False</td>\n      <td>Irish  Soda Bread</td>\n      <td>Bread</td>\n      <td>770.9</td>\n      <td>11.0</td>\n      <td>3.1</td>\n      <td>110.0</td>\n      <td>1033.0</td>\n      <td>...</td>\n      <td>5400</td>\n      <td>Vegetarian</td>\n      <td>25</td>\n      <td>5400</td>\n      <td>True</td>\n      <td>False</td>\n      <td>False</td>\n      <td>False</td>\n      <td>False</td>\n      <td>0</td>\n    </tr>\n    <tr>\n      <th>...</th>\n      <td>...</td>\n      <td>...</td>\n      <td>...</td>\n      <td>...</td>\n      <td>...</td>\n      <td>...</td>\n      <td>...</td>\n      <td>...</td>\n      <td>...</td>\n      <td>...</td>\n      <td>...</td>\n      <td>...</td>\n      <td>...</td>\n      <td>...</td>\n      <td>...</td>\n      <td>...</td>\n      <td>...</td>\n      <td>...</td>\n      <td>...</td>\n      <td>...</td>\n      <td>...</td>\n    </tr>\n    <tr>\n      <th>97376</th>\n      <td>999595E</td>\n      <td>338070</td>\n      <td>False</td>\n      <td>Pumpkin Cake Mix Dessert</td>\n      <td>Other</td>\n      <td>464.3</td>\n      <td>31.4</td>\n      <td>15.0</td>\n      <td>99.8</td>\n      <td>391.7</td>\n      <td>...</td>\n      <td>3900</td>\n      <td>Vegetarian</td>\n      <td>31</td>\n      <td>3899</td>\n      <td>False</td>\n      <td>False</td>\n      <td>True</td>\n      <td>False</td>\n      <td>False</td>\n      <td>-1</td>\n    </tr>\n    <tr>\n      <th>97377</th>\n      <td>999774A</td>\n      <td>29002</td>\n      <td>False</td>\n      <td>Summer Corkscrew Pasta</td>\n      <td>Other</td>\n      <td>838.5</td>\n      <td>33.3</td>\n      <td>8.5</td>\n      <td>33.2</td>\n      <td>318.2</td>\n      <td>...</td>\n      <td>2400</td>\n      <td>Vegetarian</td>\n      <td>57</td>\n      <td>2402</td>\n      <td>False</td>\n      <td>False</td>\n      <td>False</td>\n      <td>False</td>\n      <td>False</td>\n      <td>2</td>\n    </tr>\n    <tr>\n      <th>97378</th>\n      <td>999774A</td>\n      <td>159252</td>\n      <td>False</td>\n      <td>Chili, Kaffir Lime and Lemongrass Jelly</td>\n      <td>Other</td>\n      <td>928.0</td>\n      <td>0.6</td>\n      <td>0.1</td>\n      <td>0.0</td>\n      <td>6.8</td>\n      <td>...</td>\n      <td>6000</td>\n      <td>Vegetarian</td>\n      <td>57</td>\n      <td>6000</td>\n      <td>False</td>\n      <td>True</td>\n      <td>False</td>\n      <td>False</td>\n      <td>False</td>\n      <td>0</td>\n    </tr>\n    <tr>\n      <th>97379</th>\n      <td>999774A</td>\n      <td>1171</td>\n      <td>True</td>\n      <td>Kahlua Hot Chocolate</td>\n      <td>Beverages</td>\n      <td>665.9</td>\n      <td>19.8</td>\n      <td>12.2</td>\n      <td>68.3</td>\n      <td>247.4</td>\n      <td>...</td>\n      <td>480</td>\n      <td>Vegetarian</td>\n      <td>57</td>\n      <td>480</td>\n      <td>True</td>\n      <td>True</td>\n      <td>False</td>\n      <td>False</td>\n      <td>False</td>\n      <td>0</td>\n    </tr>\n    <tr>\n      <th>97380</th>\n      <td>999917E</td>\n      <td>169413</td>\n      <td>False</td>\n      <td>Inglenook Spoon Bread Cake</td>\n      <td>Bread</td>\n      <td>194.8</td>\n      <td>8.6</td>\n      <td>4.7</td>\n      <td>66.5</td>\n      <td>521.9</td>\n      <td>...</td>\n      <td>3600</td>\n      <td>Vegetarian</td>\n      <td>28</td>\n      <td>3600</td>\n      <td>False</td>\n      <td>False</td>\n      <td>False</td>\n      <td>False</td>\n      <td>False</td>\n      <td>0</td>\n    </tr>\n  </tbody>\n</table>\n<p>97381 rows × 24 columns</p>\n</div>"
     },
     "execution_count": 37,
     "metadata": {},
     "output_type": "execute_result"
    }
   ],
   "source": [
    "# merge diet + request + recipe + review\n",
    "request_with_diet_recipe_and_review = pd.merge(reviews_csv, request_with_diet_and_recipe, how=\"inner\", on=[\"CustomerId\", \"RecipeId\"])\n",
    "# add Column for the difference between RequestedTime and TotalTimeNeeded\n",
    "request_with_diet_recipe_and_review[\"TimeDifference\"] = request_with_diet_recipe_and_review['RequestedTime'] - request_with_diet_recipe_and_review['TotalTimeNeeded']\n",
    "\n",
    "request_with_diet_recipe_and_review"
   ],
   "metadata": {
    "collapsed": false,
    "ExecuteTime": {
     "end_time": "2024-01-07T12:37:02.679862100Z",
     "start_time": "2024-01-07T12:37:02.454656700Z"
    }
   },
   "execution_count": 37
  },
  {
   "cell_type": "code",
   "execution_count": 39,
   "metadata": {
    "collapsed": false,
    "ExecuteTime": {
     "end_time": "2024-01-07T12:38:39.285627200Z",
     "start_time": "2024-01-07T12:38:39.226572800Z"
    }
   },
   "outputs": [],
   "source": [
    "# Split dataset\n",
    "from sklearn.model_selection import train_test_split\n",
    "\n",
    "train_df, test_df = train_test_split(request_with_diet_recipe_and_review, test_size=0.20, stratify=request_with_diet_recipe_and_review['Like'], random_state=2024)"
   ]
  },
  {
   "cell_type": "code",
   "execution_count": 40,
   "metadata": {
    "collapsed": false,
    "ExecuteTime": {
     "end_time": "2024-01-07T12:38:44.039017400Z",
     "start_time": "2024-01-07T12:38:43.935924500Z"
    }
   },
   "outputs": [
    {
     "name": "stdout",
     "output_type": "stream",
     "text": [
      "<class 'pandas.core.frame.DataFrame'>\n",
      "RangeIndex: 97381 entries, 0 to 97380\n",
      "Data columns (total 24 columns):\n",
      " #   Column               Non-Null Count  Dtype   \n",
      "---  ------               --------------  -----   \n",
      " 0   CustomerId           97381 non-null  object  \n",
      " 1   RecipeId             97381 non-null  int64   \n",
      " 2   Like                 97381 non-null  boolean \n",
      " 3   Name                 97381 non-null  object  \n",
      " 4   RecipeCategory       97381 non-null  category\n",
      " 5   Calories             97381 non-null  float64 \n",
      " 6   FatContent           97381 non-null  float64 \n",
      " 7   SaturatedFatContent  97381 non-null  float64 \n",
      " 8   CholesterolContent   97381 non-null  float64 \n",
      " 9   SodiumContent        97381 non-null  float64 \n",
      " 10  CarbohydrateContent  97381 non-null  float64 \n",
      " 11  FiberContent         97381 non-null  float64 \n",
      " 12  SugarContent         97381 non-null  float64 \n",
      " 13  ProteinContent       97381 non-null  float64 \n",
      " 14  TotalTimeNeeded      97381 non-null  int64   \n",
      " 15  Diet                 97381 non-null  category\n",
      " 16  Age                  97381 non-null  int64   \n",
      " 17  RequestedTime        97381 non-null  int32   \n",
      " 18  HighCalories         97381 non-null  bool    \n",
      " 19  HighProtein          97381 non-null  bool    \n",
      " 20  LowFat               97381 non-null  bool    \n",
      " 21  LowSugar             97381 non-null  bool    \n",
      " 22  HighFiber            97381 non-null  bool    \n",
      " 23  TimeDifference       97381 non-null  int64   \n",
      "dtypes: bool(5), boolean(1), category(2), float64(9), int32(1), int64(4), object(2)\n",
      "memory usage: 12.4+ MB\n"
     ]
    }
   ],
   "source": [
    "request_with_diet_recipe_and_review.info()"
   ]
  },
  {
   "cell_type": "markdown",
   "metadata": {
    "collapsed": false
   },
   "source": [
    "***Train Model***\n"
   ]
  },
  {
   "cell_type": "code",
   "execution_count": 43,
   "metadata": {
    "collapsed": false,
    "ExecuteTime": {
     "end_time": "2024-01-07T12:40:35.540688600Z",
     "start_time": "2024-01-07T12:40:27.798649400Z"
    }
   },
   "outputs": [
    {
     "name": "stdout",
     "output_type": "stream",
     "text": [
      "Cross validation score for balanced accuracy: 0.6534060548673692\n",
      "Precision: 0.9686392998541363\n",
      "Accuracy: 0.9832357773670158\n",
      "Recall: 0.9024461269656378\n",
      "Balanced Accuracy 0.9489967979877152\n"
     ]
    }
   ],
   "source": [
    "from sklearn.model_selection import cross_val_score\n",
    "from sklearn.metrics import accuracy_score, balanced_accuracy_score, precision_score, recall_score\n",
    "                                              \n",
    "train_model = RandomForestClassifier(n_estimators=5, max_features=5, random_state=2024)\n",
    "\n",
    "X = train_df.drop(columns=[\"Like\", \"CustomerId\", \"RecipeId\", \"Name\", \"RecipeCategory\", \"Diet\"])\n",
    "y = train_df[\"Like\"]\n",
    "\n",
    "train_model.fit(X,y)\n",
    "\n",
    "# Calculate balanced accuracy\n",
    "pred = train_model.predict(X)\n",
    "score = np.mean(cross_val_score(train_model, X, y, cv=4, scoring=\"balanced_accuracy\"))\n",
    "print(\"Cross validation score for balanced accuracy: \" + str(score))\n",
    "\n",
    "# Report scores on model\n",
    "y_pred = train_model.predict(X)\n",
    "print(\"Precision:\", precision_score(y, y_pred))\n",
    "print(\"Accuracy:\", accuracy_score(y, y_pred))\n",
    "print(\"Recall:\", recall_score(y, y_pred))\n",
    "print(\"Balanced Accuracy\", balanced_accuracy_score(y, y_pred))\n"
   ]
  },
  {
   "cell_type": "code",
   "execution_count": 53,
   "metadata": {
    "ExecuteTime": {
     "end_time": "2024-01-04T13:48:13.382136400Z",
     "start_time": "2024-01-04T13:48:13.174023500Z"
    },
    "collapsed": false
   },
   "outputs": [
    {
     "data": {
      "image/png": "[encoded data removed]",
      "text/plain": [
       "<Figure size 640x480 with 1 Axes>"
      ]
     },
     "metadata": {},
     "output_type": "display_data"
    }
   ],
   "source": [
    "# Plot feature importance \n",
    "\n",
    "importance_values = train_model.feature_importances_\n",
    "importance_df = pd.DataFrame({'Feature': X.columns, 'Importance': importance_values})\n",
    "imp_plot = importance_df.plot(kind='bar', x='Feature', y='Importance', legend=False)\n",
    "imp_plot.plot()\n",
    "plt.show()"
   ]
  },
  {
   "cell_type": "markdown",
   "metadata": {
    "collapsed": false
   },
   "source": [
    "***Test Model***"
   ]
  },
  {
   "cell_type": "code",
   "execution_count": 60,
   "metadata": {
    "ExecuteTime": {
     "end_time": "2024-01-04T13:58:20.518588200Z",
     "start_time": "2024-01-04T13:58:20.310529Z"
    },
    "collapsed": false
   },
   "outputs": [
    {
     "name": "stdout",
     "output_type": "stream",
     "text": [
      "        Like  Predicted_Like  Probability_Like=0  Probability_Like=1\n",
      "25014  False             0.0                 0.8                 0.2\n",
      "39403   True             1.0                 0.4                 0.6\n",
      "49607  False             0.0                 0.6                 0.4\n",
      "71706  False             0.0                 1.0                 0.0\n",
      "641    False             0.0                 1.0                 0.0\n",
      "...      ...             ...                 ...                 ...\n",
      "91736  False             0.0                 0.8                 0.2\n",
      "27086  False             0.0                 1.0                 0.0\n",
      "51771  False             0.0                 1.0                 0.0\n",
      "25045  False             0.0                 0.8                 0.2\n",
      "59991  False             0.0                 1.0                 0.0\n",
      "\n",
      "[19477 rows x 4 columns]\n",
      "Confusion Matrix:\n",
      "[[16044   857]\n",
      " [ 1561  1015]]\n",
      "Test-Precision: 0.5422008547008547\n",
      "Test-Accuracy: 0.875853570878472\n",
      "Test-Recall: 0.39402173913043476\n",
      "Test Balanced Accuracy: 0.6716573401882574\n"
     ]
    }
   ],
   "source": [
    "\n",
    "#test_df = test_df.drop(columns=[\"CustomerId\", \"RecipeId\", \"Name\", \"RecipeCategory\" , \"Diet\", \"TotalTimeNeeded\"])\n",
    "\n",
    "test_predictions = train_model.predict(test_df.drop(columns=['Like']))\n",
    "test_probabilities = train_model.predict_proba(test_df.drop(columns=['Like']))\n",
    "\n",
    "test_predictions_df = pd.DataFrame({'Like': test_df['Like'], \n",
    "                                     'Predicted_Like': test_predictions,\n",
    "                                     'Probability_Like=0': test_probabilities[:, 0],\n",
    "                                     'Probability_Like=1': test_probabilities[:, 1]})\n",
    "print(test_predictions_df)\n",
    "\n",
    "\n",
    "# Confusion Matrix\n",
    "conf_matrix = confusion_matrix(test_df['Like'], test_predictions)\n",
    "print(\"Confusion Matrix:\")\n",
    "print(conf_matrix)\n",
    "\n",
    "# Precision, accuracy, recall\n",
    "print(\"Test-Precision:\", precision_score(test_df['Like'], test_predictions))\n",
    "print(\"Test-Accuracy:\", accuracy_score(test_df['Like'], test_predictions))\n",
    "print(\"Test-Recall:\", recall_score(test_df['Like'], test_predictions))\n",
    "print(\"Test Balanced Accuracy:\", balanced_accuracy_score(test_df[\"Like\"], test_predictions))"
   ]
  },
  {
   "cell_type": "markdown",
   "metadata": {
    "collapsed": false
   },
   "source": [
    "\n",
    "#### 1. Logistic Regression\n",
    "#### 2. Decision Trees\n",
    "#### 3. Random Forest\n",
    "#### 4. Naive bayes\n",
    "#### 5. Gradient Boosting\n",
    "\n",
    "#### 1. Data Cleaning (missing values, merge tables)\n",
    "#### 2. Set dataset into training & testing sets + download testing set\n",
    "#### 3. modeling\n",
    "#### 4. Model training: train model on training dataset\n",
    "#### 5. Model evaluation (performance)\n",
    "#### 6. prediction on the unseen data"
   ]
  }
 ],
 "metadata": {
  "kernelspec": {
   "display_name": "Python 3 (ipykernel)",
   "language": "python",
   "name": "python3"
  },
  "language_info": {
   "codemirror_mode": {
    "name": "ipython",
    "version": 3
   },
   "file_extension": ".py",
   "mimetype": "text/x-python",
   "name": "python",
   "nbconvert_exporter": "python",
   "pygments_lexer": "ipython3",
   "version": "3.10.4"
  }
 },
 "nbformat": 4,
 "nbformat_minor": 4
}
