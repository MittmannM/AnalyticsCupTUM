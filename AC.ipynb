{
 "cells": [
  {
   "cell_type": "markdown",
   "metadata": {},
   "source": [
    "# ANAC\n"
   ]
  },
  {
   "cell_type": "markdown",
   "source": [
    "#### imports"
   ],
   "metadata": {
    "collapsed": false
   }
  },
  {
   "cell_type": "code",
   "execution_count": 262,
   "metadata": {
    "ExecuteTime": {
     "end_time": "2024-01-01T20:03:35.809565Z",
     "start_time": "2024-01-01T20:03:35.785958Z"
    }
   },
   "outputs": [],
   "source": [
    "import pandas as pd\n",
    "import numpy as np"
   ]
  },
  {
   "cell_type": "markdown",
   "metadata": {},
   "source": [
    "#### set seed"
   ]
  },
  {
   "cell_type": "code",
   "execution_count": 263,
   "metadata": {
    "ExecuteTime": {
     "end_time": "2024-01-01T20:03:35.812625Z",
     "start_time": "2024-01-01T20:03:35.808221Z"
    }
   },
   "outputs": [],
   "source": [
    "seed = 2024\n",
    "np.random.seed(seed)"
   ]
  },
  {
   "cell_type": "markdown",
   "metadata": {},
   "source": [
    "#### read in data"
   ]
  },
  {
   "cell_type": "code",
   "execution_count": 264,
   "metadata": {
    "ExecuteTime": {
     "end_time": "2024-01-01T20:03:36.217165Z",
     "start_time": "2024-01-01T20:03:35.815350Z"
    }
   },
   "outputs": [
    {
     "name": "stderr",
     "output_type": "stream",
     "text": [
      "/var/folders/z0/24mzs0z565s6qpzztgbdrj780000gn/T/ipykernel_9930/2950889267.py:4: DtypeWarning: Columns (3) have mixed types. Specify dtype option on import or set low_memory=False.\n",
      "  reviews_csv = pd.read_csv(\"reviews.csv\")\n"
     ]
    }
   ],
   "source": [
    "diet_csv = pd.read_csv(\"diet.csv\") \n",
    "recipes_csv = pd.read_csv(\"recipes.csv\")\n",
    "requests_csv = pd.read_csv(\"requests.csv\")\n",
    "reviews_csv = pd.read_csv(\"reviews.csv\")"
   ]
  },
  {
   "cell_type": "code",
   "outputs": [
    {
     "name": "stdout",
     "output_type": "stream",
     "text": [
      "<class 'pandas.core.frame.DataFrame'>\n",
      "RangeIndex: 271907 entries, 0 to 271906\n",
      "Data columns (total 3 columns):\n",
      " #   Column    Non-Null Count   Dtype \n",
      "---  ------    --------------   ----- \n",
      " 0   AuthorId  271907 non-null  object\n",
      " 1   Diet      271906 non-null  object\n",
      " 2   Age       271907 non-null  int64 \n",
      "dtypes: int64(1), object(2)\n",
      "memory usage: 6.2+ MB\n",
      "<class 'pandas.core.frame.DataFrame'>\n",
      "RangeIndex: 140195 entries, 0 to 140194\n",
      "Data columns (total 8 columns):\n",
      " #   Column        Non-Null Count   Dtype  \n",
      "---  ------        --------------   -----  \n",
      " 0   AuthorId      140195 non-null  object \n",
      " 1   RecipeId      140195 non-null  int64  \n",
      " 2   Time          140195 non-null  float64\n",
      " 3   HighCalories  140195 non-null  float64\n",
      " 4   HighProtein   140195 non-null  object \n",
      " 5   LowFat        140195 non-null  int64  \n",
      " 6   LowSugar      140195 non-null  object \n",
      " 7   HighFiber     140195 non-null  int64  \n",
      "dtypes: float64(2), int64(3), object(3)\n",
      "memory usage: 8.6+ MB\n",
      "<class 'pandas.core.frame.DataFrame'>\n",
      "RangeIndex: 140195 entries, 0 to 140194\n",
      "Data columns (total 8 columns):\n",
      " #   Column        Non-Null Count   Dtype  \n",
      "---  ------        --------------   -----  \n",
      " 0   AuthorId      140195 non-null  object \n",
      " 1   RecipeId      140195 non-null  int64  \n",
      " 2   Time          140195 non-null  float64\n",
      " 3   HighCalories  140195 non-null  float64\n",
      " 4   HighProtein   140195 non-null  object \n",
      " 5   LowFat        140195 non-null  int64  \n",
      " 6   LowSugar      140195 non-null  object \n",
      " 7   HighFiber     140195 non-null  int64  \n",
      "dtypes: float64(2), int64(3), object(3)\n",
      "memory usage: 8.6+ MB\n",
      "<class 'pandas.core.frame.DataFrame'>\n",
      "RangeIndex: 140195 entries, 0 to 140194\n",
      "Data columns (total 5 columns):\n",
      " #   Column     Non-Null Count   Dtype  \n",
      "---  ------     --------------   -----  \n",
      " 0   AuthorId   140195 non-null  object \n",
      " 1   RecipeId   140195 non-null  int64  \n",
      " 2   Rating     77108 non-null   float64\n",
      " 3   Like       97381 non-null   object \n",
      " 4   TestSetId  42814 non-null   float64\n",
      "dtypes: float64(2), int64(1), object(2)\n",
      "memory usage: 5.3+ MB\n"
     ]
    }
   ],
   "source": [
    "diet_csv.info() # 271907 entries\n",
    "requests_csv.info() # 140195 entries\n",
    "requests_csv.info() #140195 entries\n",
    "reviews_csv.info() # 140195 entries\n",
    "# -> not all gave a review!"
   ],
   "metadata": {
    "collapsed": false,
    "ExecuteTime": {
     "end_time": "2024-01-01T20:03:36.267821Z",
     "start_time": "2024-01-01T20:03:36.216332Z"
    }
   },
   "execution_count": 265
  },
  {
   "cell_type": "markdown",
   "metadata": {},
   "source": [
    "### Data Cleaning\n",
    "#### diet_csv"
   ]
  },
  {
   "cell_type": "code",
   "execution_count": 266,
   "metadata": {
    "ExecuteTime": {
     "end_time": "2024-01-01T20:03:36.271032Z",
     "start_time": "2024-01-01T20:03:36.238156Z"
    }
   },
   "outputs": [],
   "source": [
    "#rename column\n",
    "diet_csv = diet_csv.rename(columns= {\"AuthorId\" : \"CustomerId\"}, inplace=False)\n",
    "# Change type of Diet into category\n",
    "diet_csv[\"Diet\"] = diet_csv[\"Diet\"].astype(\"category\")"
   ]
  },
  {
   "cell_type": "markdown",
   "metadata": {},
   "source": [
    "#### recipes_csv"
   ]
  },
  {
   "cell_type": "code",
   "execution_count": 267,
   "metadata": {
    "ExecuteTime": {
     "end_time": "2024-01-01T20:03:36.271254Z",
     "start_time": "2024-01-01T20:03:36.266400Z"
    }
   },
   "outputs": [],
   "source": [
    "# Change type for Recipe Category\n",
    "recipes_csv[\"RecipeCategory\"] = recipes_csv[\"RecipeCategory\"].astype(\"category\")\n"
   ]
  },
  {
   "cell_type": "code",
   "execution_count": 268,
   "outputs": [
    {
     "data": {
      "text/plain": "       RecipeId                                            Name  \\\n0         73440                    Bow Ties With Broccoli Pesto   \n1        365718                             Cashew-chutney Rice   \n2        141757        Copycat Taco Bell Nacho Fries BellGrande   \n3        280351        Slow Cooker Jalapeno Cheddar Cheese Soup   \n4        180505                 Cool & Crisp Citrus Chiffon Pie   \n...         ...                                             ...   \n75599    253577  Frijoles Negros- Crock Pot Mexican Black Beans   \n75600    267827                                  Moose Moussaka   \n75601    266983        Cantonese Pepper Steak for Two (Or More)   \n75602    253739                            Coconut Cream Cooler   \n75603     78171                                 Cheater Risotto   \n\n      RecipeCategory  Calories  FatContent  FiberContent  SugarContent  \\\n0              Other     241.3        10.1           2.3           1.4   \n1              Other     370.8        17.5           1.6           2.2   \n2              Other     377.6        20.9           3.8           6.1   \n3              Other     282.8        16.5           2.3           2.7   \n4              Other     257.5         8.6           0.4          30.2   \n...              ...       ...         ...           ...           ...   \n75599          Other     121.5         0.5           7.8           0.6   \n75600          Other     652.2        25.8           7.5           7.2   \n75601          Other     223.9         9.2           1.1           1.7   \n75602          Other    2229.8        80.3          15.7         317.9   \n75603          Other     654.1        13.8           3.9           4.2   \n\n       ProteinContent  TotalTimeNeeded  \n0                 6.7             1800  \n1                 9.4             4200  \n2                12.9             6300  \n3                11.7            19800  \n4                 6.3             5400  \n...               ...              ...  \n75599             7.9            72000  \n75600            50.1             6300  \n75601            26.7             2700  \n75602            26.7              420  \n75603            21.8             1560  \n\n[75604 rows x 9 columns]",
      "text/html": "<div>\n<style scoped>\n    .dataframe tbody tr th:only-of-type {\n        vertical-align: middle;\n    }\n\n    .dataframe tbody tr th {\n        vertical-align: top;\n    }\n\n    .dataframe thead th {\n        text-align: right;\n    }\n</style>\n<table border=\"1\" class=\"dataframe\">\n  <thead>\n    <tr style=\"text-align: right;\">\n      <th></th>\n      <th>RecipeId</th>\n      <th>Name</th>\n      <th>RecipeCategory</th>\n      <th>Calories</th>\n      <th>FatContent</th>\n      <th>FiberContent</th>\n      <th>SugarContent</th>\n      <th>ProteinContent</th>\n      <th>TotalTimeNeeded</th>\n    </tr>\n  </thead>\n  <tbody>\n    <tr>\n      <th>0</th>\n      <td>73440</td>\n      <td>Bow Ties With Broccoli Pesto</td>\n      <td>Other</td>\n      <td>241.3</td>\n      <td>10.1</td>\n      <td>2.3</td>\n      <td>1.4</td>\n      <td>6.7</td>\n      <td>1800</td>\n    </tr>\n    <tr>\n      <th>1</th>\n      <td>365718</td>\n      <td>Cashew-chutney Rice</td>\n      <td>Other</td>\n      <td>370.8</td>\n      <td>17.5</td>\n      <td>1.6</td>\n      <td>2.2</td>\n      <td>9.4</td>\n      <td>4200</td>\n    </tr>\n    <tr>\n      <th>2</th>\n      <td>141757</td>\n      <td>Copycat Taco Bell Nacho Fries BellGrande</td>\n      <td>Other</td>\n      <td>377.6</td>\n      <td>20.9</td>\n      <td>3.8</td>\n      <td>6.1</td>\n      <td>12.9</td>\n      <td>6300</td>\n    </tr>\n    <tr>\n      <th>3</th>\n      <td>280351</td>\n      <td>Slow Cooker Jalapeno Cheddar Cheese Soup</td>\n      <td>Other</td>\n      <td>282.8</td>\n      <td>16.5</td>\n      <td>2.3</td>\n      <td>2.7</td>\n      <td>11.7</td>\n      <td>19800</td>\n    </tr>\n    <tr>\n      <th>4</th>\n      <td>180505</td>\n      <td>Cool &amp; Crisp Citrus Chiffon Pie</td>\n      <td>Other</td>\n      <td>257.5</td>\n      <td>8.6</td>\n      <td>0.4</td>\n      <td>30.2</td>\n      <td>6.3</td>\n      <td>5400</td>\n    </tr>\n    <tr>\n      <th>...</th>\n      <td>...</td>\n      <td>...</td>\n      <td>...</td>\n      <td>...</td>\n      <td>...</td>\n      <td>...</td>\n      <td>...</td>\n      <td>...</td>\n      <td>...</td>\n    </tr>\n    <tr>\n      <th>75599</th>\n      <td>253577</td>\n      <td>Frijoles Negros- Crock Pot Mexican Black Beans</td>\n      <td>Other</td>\n      <td>121.5</td>\n      <td>0.5</td>\n      <td>7.8</td>\n      <td>0.6</td>\n      <td>7.9</td>\n      <td>72000</td>\n    </tr>\n    <tr>\n      <th>75600</th>\n      <td>267827</td>\n      <td>Moose Moussaka</td>\n      <td>Other</td>\n      <td>652.2</td>\n      <td>25.8</td>\n      <td>7.5</td>\n      <td>7.2</td>\n      <td>50.1</td>\n      <td>6300</td>\n    </tr>\n    <tr>\n      <th>75601</th>\n      <td>266983</td>\n      <td>Cantonese Pepper Steak for Two (Or More)</td>\n      <td>Other</td>\n      <td>223.9</td>\n      <td>9.2</td>\n      <td>1.1</td>\n      <td>1.7</td>\n      <td>26.7</td>\n      <td>2700</td>\n    </tr>\n    <tr>\n      <th>75602</th>\n      <td>253739</td>\n      <td>Coconut Cream Cooler</td>\n      <td>Other</td>\n      <td>2229.8</td>\n      <td>80.3</td>\n      <td>15.7</td>\n      <td>317.9</td>\n      <td>26.7</td>\n      <td>420</td>\n    </tr>\n    <tr>\n      <th>75603</th>\n      <td>78171</td>\n      <td>Cheater Risotto</td>\n      <td>Other</td>\n      <td>654.1</td>\n      <td>13.8</td>\n      <td>3.9</td>\n      <td>4.2</td>\n      <td>21.8</td>\n      <td>1560</td>\n    </tr>\n  </tbody>\n</table>\n<p>75604 rows × 9 columns</p>\n</div>"
     },
     "execution_count": 268,
     "metadata": {},
     "output_type": "execute_result"
    }
   ],
   "source": [
    "# Add new column TotalTimeNeeded\n",
    "recipes_csv[\"TotalTimeNeeded\"] = recipes_csv[\"CookTime\"] + recipes_csv[\"PrepTime\"]\n",
    "\n",
    "#drop recipeservings and yields and saturated + cholesterol + sodium + carbohydratecontent \n",
    "recipes_csv = recipes_csv.drop(\"RecipeServings\", axis=1)\n",
    "recipes_csv = recipes_csv.drop(\"RecipeYield\", axis=1)\n",
    "recipes_csv = recipes_csv.drop(\"SaturatedFatContent\", axis=1)\n",
    "recipes_csv = recipes_csv.drop(\"CholesterolContent\", axis=1)\n",
    "recipes_csv = recipes_csv.drop(\"SodiumContent\", axis=1)\n",
    "recipes_csv = recipes_csv.drop(\"CarbohydrateContent\", axis=1)\n",
    "#also drop cook n preptime n quantities n parts\n",
    "recipes_csv = recipes_csv.drop(\"PrepTime\", axis=1)\n",
    "recipes_csv = recipes_csv.drop(\"CookTime\", axis=1)\n",
    "recipes_csv = recipes_csv.drop(\"RecipeIngredientQuantities\", axis=1)\n",
    "recipes_csv = recipes_csv.drop(\"RecipeIngredientParts\", axis=1)\n",
    "recipes_csv"
   ],
   "metadata": {
    "collapsed": false,
    "ExecuteTime": {
     "end_time": "2024-01-01T20:03:36.308773Z",
     "start_time": "2024-01-01T20:03:36.266485Z"
    }
   }
  },
  {
   "cell_type": "markdown",
   "metadata": {},
   "source": [
    "##### requests_csv"
   ]
  },
  {
   "cell_type": "code",
   "execution_count": 269,
   "metadata": {
    "ExecuteTime": {
     "end_time": "2024-01-01T20:03:36.318612Z",
     "start_time": "2024-01-01T20:03:36.308019Z"
    }
   },
   "outputs": [],
   "source": [
    "#rename column\n",
    "requests_csv = requests_csv.rename(columns= {\"AuthorId\" : \"CustomerId\"}, inplace=False)\n",
    "# Map indifferent values for HighProtein and LowSugar\n",
    "requests_csv[\"HighProtein\"] = requests_csv[\"HighProtein\"].map({\n",
    "    \"Indifferent\": 0,\n",
    "    \"0\": 0,\n",
    "    \"1\": 1,\n",
    "    \"Yes\": 1\n",
    "})\n",
    "\n",
    "requests_csv[\"LowSugar\"] = requests_csv[\"LowSugar\"].map({\n",
    "    \"Indifferent\": 0,\n",
    "    \"0\": 0,\n",
    "    \"1\": 1\n",
    "})\n"
   ]
  },
  {
   "cell_type": "code",
   "execution_count": 270,
   "outputs": [],
   "source": [
    "# Change types to boolean\n",
    "requests_csv[\"HighCalories\"] = requests_csv[\"HighCalories\"].astype(\"bool\")\n",
    "requests_csv[\"LowFat\"] = requests_csv[\"LowFat\"].astype(\"bool\")\n",
    "requests_csv[\"HighFiber\"] = requests_csv[\"HighFiber\"].astype(\"bool\")\n",
    "requests_csv[\"HighProtein\"] = requests_csv[\"HighProtein\"].astype(\"bool\")\n",
    "requests_csv[\"LowSugar\"] = requests_csv[\"LowSugar\"].astype(\"bool\")"
   ],
   "metadata": {
    "collapsed": false,
    "ExecuteTime": {
     "end_time": "2024-01-01T20:03:36.322882Z",
     "start_time": "2024-01-01T20:03:36.319351Z"
    }
   }
  },
  {
   "cell_type": "markdown",
   "source": [
    "#### reviews_csv"
   ],
   "metadata": {
    "collapsed": false
   }
  },
  {
   "cell_type": "code",
   "execution_count": 271,
   "outputs": [],
   "source": [
    "\n",
    "# TODO why are there missing values for TestSetId? "
   ],
   "metadata": {
    "collapsed": false,
    "ExecuteTime": {
     "end_time": "2024-01-01T20:03:36.324729Z",
     "start_time": "2024-01-01T20:03:36.322497Z"
    }
   }
  },
  {
   "cell_type": "code",
   "execution_count": 272,
   "outputs": [],
   "source": [
    "#rename column\n",
    "reviews_csv = reviews_csv.rename(columns= {\"AuthorId\" : \"CustomerId\"}, inplace=False)\n",
    "# Remove NA rows and Rating column and TestSetId\n",
    "reviews_csv = reviews_csv.drop(\"Rating\", axis=1)\n",
    "reviews_csv = reviews_csv.dropna(subset=[\"Like\"], inplace=False) # note: now the entries are reduced to 97381 entries\n",
    "reviews_csv = reviews_csv.drop(\"TestSetId\", axis=1)"
   ],
   "metadata": {
    "collapsed": false,
    "ExecuteTime": {
     "end_time": "2024-01-01T20:03:36.339104Z",
     "start_time": "2024-01-01T20:03:36.324846Z"
    }
   }
  },
  {
   "cell_type": "code",
   "execution_count": 273,
   "outputs": [],
   "source": [
    "# convert Like type to boolean\n",
    "reviews_csv[\"Like\"] = reviews_csv[\"Like\"].astype(\"boolean\")"
   ],
   "metadata": {
    "collapsed": false,
    "ExecuteTime": {
     "end_time": "2024-01-01T20:03:36.359353Z",
     "start_time": "2024-01-01T20:03:36.340662Z"
    }
   }
  },
  {
   "cell_type": "code",
   "outputs": [],
   "source": [
    "#### TODO Join the tables\n",
    "#merge diet + review\n",
    "review_with_diet = pd.merge(reviews_csv, diet_csv, on=\"CustomerId\", how=\"inner\") # 97381 entries\n",
    "#merge diet + review + request\n",
    "review_diet_with_request = pd.merge(review_with_diet, requests_csv, on=[\"CustomerId\", \"RecipeId\"], how=\"inner\") # 97381 entries\n"
   ],
   "metadata": {
    "collapsed": false,
    "ExecuteTime": {
     "end_time": "2024-01-01T20:03:36.405516Z",
     "start_time": "2024-01-01T20:03:36.372848Z"
    }
   },
   "execution_count": 274
  },
  {
   "cell_type": "code",
   "outputs": [
    {
     "name": "stdout",
     "output_type": "stream",
     "text": [
      "<class 'pandas.core.frame.DataFrame'>\n",
      "RangeIndex: 97381 entries, 0 to 97380\n",
      "Data columns (total 11 columns):\n",
      " #   Column        Non-Null Count  Dtype   \n",
      "---  ------        --------------  -----   \n",
      " 0   CustomerId    97381 non-null  object  \n",
      " 1   RecipeId      97381 non-null  int64   \n",
      " 2   Like          97381 non-null  boolean \n",
      " 3   Diet          97381 non-null  category\n",
      " 4   Age           97381 non-null  int64   \n",
      " 5   Time          97381 non-null  float64 \n",
      " 6   HighCalories  97381 non-null  bool    \n",
      " 7   HighProtein   97381 non-null  bool    \n",
      " 8   LowFat        97381 non-null  bool    \n",
      " 9   LowSugar      97381 non-null  bool    \n",
      " 10  HighFiber     97381 non-null  bool    \n",
      "dtypes: bool(5), boolean(1), category(1), float64(1), int64(2), object(1)\n",
      "memory usage: 3.7+ MB\n"
     ]
    }
   ],
   "source": [
    "review_diet_with_request.info()"
   ],
   "metadata": {
    "collapsed": false,
    "ExecuteTime": {
     "end_time": "2024-01-01T20:03:36.411458Z",
     "start_time": "2024-01-01T20:03:36.407015Z"
    }
   },
   "execution_count": 275
  },
  {
   "cell_type": "markdown",
   "source": [
    "\n",
    "#### 1. Logistic Regression\n",
    "#### 2. Decision Trees\n",
    "#### 3. Random Forest\n",
    "#### 4. Naive bayes\n",
    "#### 5. Gradient Boosting\n",
    "\n",
    "#### 1. Data Cleaning (missing values, merge tables)\n",
    "#### 2. Set dataset into training & testing sets + download testing set\n",
    "#### 3. modeling\n",
    "#### 4. Model training: train model on training dataset\n",
    "#### 5. Model evaluation (performance)\n",
    "#### 6. prediction on the unseen data"
   ],
   "metadata": {
    "collapsed": false
   }
  }
 ],
 "metadata": {
  "kernelspec": {
   "display_name": "Python 3",
   "language": "python",
   "name": "python3"
  },
  "language_info": {
   "codemirror_mode": {
    "name": "ipython",
    "version": 3
   },
   "file_extension": ".py",
   "mimetype": "text/x-python",
   "name": "python",
   "nbconvert_exporter": "python",
   "pygments_lexer": "ipython3",
   "version": "3.10.11"
  },
  "orig_nbformat": 4
 },
 "nbformat": 4,
 "nbformat_minor": 2
}
