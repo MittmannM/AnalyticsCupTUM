{
 "cells": [
  {
   "cell_type": "markdown",
   "metadata": {},
   "source": [
    "# ANAC\n"
   ]
  },
  {
   "cell_type": "code",
   "execution_count": 16,
   "metadata": {
    "ExecuteTime": {
     "end_time": "2023-12-24T15:51:43.895852Z",
     "start_time": "2023-12-24T15:51:43.889385Z"
    }
   },
   "outputs": [],
   "source": [
    "import pandas as pd\n",
    "import numpy as np"
   ]
  },
  {
   "cell_type": "markdown",
   "metadata": {},
   "source": [
    "#### set seed"
   ]
  },
  {
   "cell_type": "code",
   "execution_count": 12,
   "metadata": {
    "ExecuteTime": {
     "end_time": "2023-12-24T15:43:21.554663Z",
     "start_time": "2023-12-24T15:43:21.550826Z"
    }
   },
   "outputs": [],
   "source": [
    "seed = 2024\n",
    "np.random.seed(seed)"
   ]
  },
  {
   "cell_type": "markdown",
   "metadata": {},
   "source": [
    "#### read in data"
   ]
  },
  {
   "cell_type": "code",
   "execution_count": 14,
   "metadata": {
    "ExecuteTime": {
     "end_time": "2023-12-24T15:50:34.101008Z",
     "start_time": "2023-12-24T15:50:33.640733Z"
    }
   },
   "outputs": [],
   "source": [
    "diet_csv = pd.read_csv(\"diet.csv\") \n",
    "recipes_csv = pd.read_csv(\"recipes.csv\")\n",
    "requests_csv = pd.read_csv(\"requests.csv\")"
   ]
  },
  {
   "cell_type": "code",
   "execution_count": 17,
   "outputs": [
    {
     "name": "stdout",
     "output_type": "stream",
     "text": [
      "<class 'pandas.core.frame.DataFrame'>\n",
      "RangeIndex: 140195 entries, 0 to 140194\n",
      "Data columns (total 5 columns):\n",
      " #   Column     Non-Null Count   Dtype  \n",
      "---  ------     --------------   -----  \n",
      " 0   AuthorId   140195 non-null  object \n",
      " 1   RecipeId   140195 non-null  int64  \n",
      " 2   Rating     77108 non-null   float64\n",
      " 3   Like       97381 non-null   object \n",
      " 4   TestSetId  42814 non-null   float64\n",
      "dtypes: float64(2), int64(1), object(2)\n",
      "memory usage: 5.3+ MB\n"
     ]
    },
    {
     "name": "stderr",
     "output_type": "stream",
     "text": [
      "/var/folders/69/1cfwzk1s0fv572_7rpfvjk7m0000gn/T/ipykernel_17905/3669628886.py:2: DtypeWarning: Columns (3) have mixed types. Specify dtype option on import or set low_memory=False.\n",
      "  reviews_csv = pd.read_csv(\"reviews.csv\")\n"
     ]
    }
   ],
   "source": [
    "#it seems that a column in 'review' contains a combination of numeric and non-numeric values.\n",
    "reviews_csv = pd.read_csv(\"reviews.csv\")\n",
    "#inspect the types of each column\n",
    "reviews_csv.info()\n",
    "#"
   ],
   "metadata": {
    "collapsed": false,
    "ExecuteTime": {
     "end_time": "2023-12-24T15:52:29.258643Z",
     "start_time": "2023-12-24T15:52:29.193704Z"
    }
   }
  },
  {
   "cell_type": "markdown",
   "metadata": {},
   "source": [
    "### Data Cleaning\n",
    "#### diet_csv"
   ]
  },
  {
   "cell_type": "code",
   "execution_count": 8,
   "metadata": {
    "ExecuteTime": {
     "end_time": "2023-12-24T15:38:21.377605Z",
     "start_time": "2023-12-24T15:38:21.372911Z"
    }
   },
   "outputs": [],
   "source": [
    "diet_csv[\"Diet\"] = diet_csv[\"Diet\"].astype(\"category\")"
   ]
  },
  {
   "cell_type": "markdown",
   "metadata": {},
   "source": [
    "#### recipes_csv"
   ]
  },
  {
   "cell_type": "code",
   "execution_count": 9,
   "metadata": {
    "ExecuteTime": {
     "end_time": "2023-12-24T15:39:10.753162Z",
     "start_time": "2023-12-24T15:39:10.740652Z"
    }
   },
   "outputs": [],
   "source": [
    "# TODO CookTime, PrepTime - is it in Minutes/Seconds? RecipeIngredientParts & RecipeIngredientQuantities\n",
    "# TODO What to do with Servings and Yield?\n",
    "recipes_csv[\"RecipeCategory\"] = recipes_csv[\"RecipeCategory\"].astype(\"category\")"
   ]
  },
  {
   "cell_type": "markdown",
   "metadata": {},
   "source": [
    "##### requests_csv"
   ]
  },
  {
   "cell_type": "code",
   "execution_count": 10,
   "metadata": {
    "ExecuteTime": {
     "end_time": "2023-12-24T15:40:07.845013Z",
     "start_time": "2023-12-24T15:40:07.825855Z"
    }
   },
   "outputs": [],
   "source": [
    "# TODO Time - Is it in Minutes/Seconds?\n",
    "requests_csv[\"HighCalories\"] = requests_csv[\"HighCalories\"].astype(\"boolean\")\n",
    "requests_csv[\"LowFat\"] = requests_csv[\"LowFat\"].astype(\"boolean\")\n",
    "requests_csv[\"HighFiber\"] = requests_csv[\"HighFiber\"].astype(\"boolean\")\n",
    "\n",
    "requests_csv[\"HighProtein\"] = requests_csv[\"HighProtein\"].map({\n",
    "    \"Indifferent\": 0,\n",
    "    \"0\": 0,\n",
    "    \"1\": 1,\n",
    "    \"Yes\": 1\n",
    "})\n",
    "requests_csv[\"LowSugar\"] = requests_csv[\"LowSugar\"].map({\n",
    "    \"Indifferent\": 0,\n",
    "    \"0\": 0,\n",
    "    \"1\": 1\n",
    "})\n",
    "requests_csv[\"HighProtein\"] = requests_csv[\"HighProtein\"].astype(\"boolean\")\n",
    "requests_csv[\"LowSugar\"] = requests_csv[\"LowSugar\"].astype(\"boolean\")"
   ]
  },
  {
   "cell_type": "markdown",
   "source": [
    "#### reviews_csv"
   ],
   "metadata": {
    "collapsed": false
   }
  },
  {
   "cell_type": "code",
   "execution_count": null,
   "outputs": [],
   "source": [
    "reviews_csv.info()\n",
    "# TODO wtf rating only has values 2/NA -> delete? \n",
    "# TODO need to fix NA values for Like -> delete rows with NA?\n",
    "# TODO why are there missing values for TestSetId? A: because for training phase we don't need the TestSetId, for prediction and testing phase we have the TestSetId\n",
    "#print(reviews_csv[\"Rating\"].values.unique())\n",
    "\n",
    "# TODO Join the tables"
   ],
   "metadata": {
    "collapsed": false
   }
  }
 ],
 "metadata": {
  "kernelspec": {
   "display_name": "Python 3",
   "language": "python",
   "name": "python3"
  },
  "language_info": {
   "codemirror_mode": {
    "name": "ipython",
    "version": 3
   },
   "file_extension": ".py",
   "mimetype": "text/x-python",
   "name": "python",
   "nbconvert_exporter": "python",
   "pygments_lexer": "ipython3",
   "version": "3.10.11"
  },
  "orig_nbformat": 4
 },
 "nbformat": 4,
 "nbformat_minor": 2
}
