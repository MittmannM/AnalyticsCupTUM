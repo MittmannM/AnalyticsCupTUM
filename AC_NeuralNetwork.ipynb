{
 "cells": [
  {
   "cell_type": "markdown",
   "metadata": {},
   "source": [
    "# ANAC\n"
   ]
  },
  {
   "cell_type": "code",
   "execution_count": 400,
   "metadata": {
    "ExecuteTime": {
     "end_time": "2024-01-25T08:37:25.385986Z",
     "start_time": "2024-01-25T08:37:25.350187Z"
    }
   },
   "outputs": [],
   "source": [
    "import pandas as pd\n",
    "import numpy as np\n",
    "import matplotlib.pyplot as plt\n",
    "import tf\n",
    "from sklearn.ensemble import RandomForestClassifier, GradientBoostingClassifier\n",
    "from sklearn.metrics import confusion_matrix, accuracy_score, balanced_accuracy_score, precision_score, recall_score\n",
    "from sklearn.model_selection import train_test_split, cross_val_score\n",
    "from sklearn.preprocessing import StandardScaler, normalize\n",
    "from sklearn.preprocessing import LabelEncoder\n"
   ]
  },
  {
   "cell_type": "markdown",
   "metadata": {},
   "source": [
    "#### Seed"
   ]
  },
  {
   "cell_type": "code",
   "execution_count": 401,
   "metadata": {
    "ExecuteTime": {
     "end_time": "2024-01-25T08:37:25.397360Z",
     "start_time": "2024-01-25T08:37:25.388388Z"
    }
   },
   "outputs": [],
   "source": [
    "seed = 2024\n",
    "np.random.seed(seed)"
   ]
  },
  {
   "cell_type": "code",
   "execution_count": 402,
   "metadata": {
    "ExecuteTime": {
     "end_time": "2024-01-25T08:37:25.848393Z",
     "start_time": "2024-01-25T08:37:25.393600Z"
    }
   },
   "outputs": [
    {
     "name": "stderr",
     "output_type": "stream",
     "text": [
      "/var/folders/z0/24mzs0z565s6qpzztgbdrj780000gn/T/ipykernel_95702/3884275055.py:4: DtypeWarning: Columns (3) have mixed types. Specify dtype option on import or set low_memory=False.\n",
      "  reviews_csv = pd.read_csv(\"reviews.csv\").copy()\n"
     ]
    }
   ],
   "source": [
    "diet_csv = pd.read_csv(\"diet.csv\").copy()\n",
    "recipes_csv = pd.read_csv(\"recipes.csv\").copy()\n",
    "requests_csv = pd.read_csv(\"requests.csv\").copy()\n",
    "reviews_csv = pd.read_csv(\"reviews.csv\").copy()"
   ]
  },
  {
   "cell_type": "markdown",
   "source": [
    "***Join Dataset***"
   ],
   "metadata": {
    "collapsed": false
   }
  },
  {
   "cell_type": "code",
   "outputs": [],
   "source": [
    "# merge diet + request\n",
    "request_with_diet = pd.merge(diet_csv, requests_csv, how=\"inner\", on=\"AuthorId\")\n",
    "# merge diet + request + recipe\n",
    "request_with_diet_and_recipe = pd.merge(recipes_csv, request_with_diet, how=\"inner\", on=\"RecipeId\")\n",
    "# merge diet + request + recipe + review\n",
    "df = pd.merge(reviews_csv, request_with_diet_and_recipe, how=\"inner\", on=[\"AuthorId\", \"RecipeId\"])\n",
    "# merge whole df with own generated RecipeMatchesDiet"
   ],
   "metadata": {
    "collapsed": false,
    "ExecuteTime": {
     "end_time": "2024-01-25T08:37:26.057893Z",
     "start_time": "2024-01-25T08:37:25.849111Z"
    }
   },
   "execution_count": 403
  },
  {
   "cell_type": "markdown",
   "metadata": {},
   "source": [
    "### Data Cleaning"
   ]
  },
  {
   "cell_type": "markdown",
   "source": [
    "#### Basics"
   ],
   "metadata": {
    "collapsed": false
   }
  },
  {
   "cell_type": "markdown",
   "source": [],
   "metadata": {
    "collapsed": false
   }
  },
  {
   "cell_type": "code",
   "execution_count": 404,
   "metadata": {
    "ExecuteTime": {
     "end_time": "2024-01-25T08:37:26.176201Z",
     "start_time": "2024-01-25T08:37:26.063125Z"
    }
   },
   "outputs": [],
   "source": [
    "# drop na diet column\n",
    "df = df.dropna(subset=['Diet'])\n",
    "# Rename AuthorId column\n",
    "df.rename(columns= {\n",
    "    \"AuthorId\" : \"CustomerId\", \n",
    "    \"Time\": \"MaxTime\"\n",
    "}, inplace=True)\n",
    "\n",
    "df[\"Like\"] = df[\"Like\"].astype(\"boolean\")\n",
    "# Change types into category and mapping values\n",
    "df[\"Diet\"] = df[\"Diet\"].astype(\"category\")\n",
    "\n",
    "df[\"RecipeCategory\"] = df[\"RecipeCategory\"].astype(\"category\")\n",
    "\n",
    "mapping_cal = {1: 'Yes', 0.0: 'No'}\n",
    "df['HighCalories'] = df['HighCalories'].map(mapping_cal).astype('category')\n",
    "\n",
    "mapping_protein = {'Yes': 'Yes', 'Indifferent': 'Indifferent', 'No': 'No' }\n",
    "df['HighProtein'] = df['HighProtein'].map(mapping_protein).astype('category')\n",
    "\n",
    "mapping_cal = {1: 'Yes', 0.0: 'No'}\n",
    "df['LowFat'] = df['LowFat'].map(mapping_cal).astype('category')\n",
    "\n",
    "mapping_sugar = {'1': 'Yes', 'Indifferent': 'Indifferent', '0': 'No' }\n",
    "df['LowSugar'] = df['LowSugar'].map(mapping_sugar).astype('category')\n",
    "\n",
    "mapping_cal = {1: 'Yes', 0.0: 'No'}\n",
    "df['HighFiber'] = df['HighFiber'].map(mapping_cal).astype('category')\n",
    "\n",
    "# Remove NA rows and Rating column\n",
    "df = df.drop(\"Rating\", axis=1)\n",
    "\n",
    "\n",
    "# One hot encoding for categorical variables\n",
    "df = pd.get_dummies(df, columns=['Diet','RecipeCategory', 'HighCalories', 'LowFat', 'HighFiber', 'HighProtein', 'LowSugar'], drop_first=True)\n",
    "\n",
    "df.rename(columns={\n",
    "    'HighCalories_Yes': 'want_HighCalories',\n",
    "    'LowFat_Yes':'want_LowFat',\n",
    "    'HighFiber_Yes':'want_HighFiber',\n",
    "    'HighProtein_Yes':'want_HighProtein',\n",
    "}, inplace=True)\n",
    "\n",
    "df[\"DifferenceRequestedAndTimeNeeded\"] = df[\"MaxTime\"] - (df[\"CookTime\"] + df[\"PrepTime\"])"
   ]
  },
  {
   "cell_type": "code",
   "outputs": [],
   "source": [
    "df[\"RecipeIngredientParts\"] = df[\"RecipeIngredientParts\"].str.replace(\")\", '')\n",
    "df[\"RecipeIngredientParts\"] = df[\"RecipeIngredientParts\"].str.replace(\"(\", '')\n",
    "df[\"RecipeIngredientParts\"] = df[\"RecipeIngredientParts\"].str.replace(\"\\\"\", '')\n",
    "df[\"RecipeIngredientParts\"] = df[\"RecipeIngredientParts\"].str.replace(\"\\\\\", '')\n",
    "df['RecipeIngredientParts'] = df['RecipeIngredientParts'].str.replace('^c', '', regex=True)\n",
    "\n",
    "def check_keywords(ingredients):\n",
    "    has_animal_product = any(any(keyword in ingredient.lower() for keyword in [\"meat\", \"chicken\", \"lamb\", \"beef\", \"pork\", \"bacon\", \"fish\", \"sausage\", \"turkey\", \"milk\", \"butter\", \"egg\", \"cheese\", \"breast\", \"gelatin\", \"honey\", \"tuna\", \"steak\", \"salmon\", \"shrimps\"]) for ingredient in ingredients)\n",
    "    has_fish_or_meat = any(any(keyword in ingredient.lower() for keyword in [\"meat\", \"chicken\", \"lamb\", \"beef\", \"pork\", \"bacon\", \"fish\", \"sausage\", \"turkey\", \"tuna\", \"steak\", \"salmon\", 'shrimps']) for ingredient in ingredients)\n",
    "    return has_animal_product, has_fish_or_meat\n",
    "\n",
    "df[['has_animal_product', 'has_fish_meat']] = df['RecipeIngredientParts'].str.split(',').apply(check_keywords).apply(pd.Series)\n",
    "\n",
    "df['for_Vegan'] = ~df['has_animal_product'] & ~df['has_fish_meat']\n",
    "df['for_Vegetarian'] = (df['has_animal_product'] & ~df['has_fish_meat']) | (~df['has_animal_product'] & ~df['has_fish_meat'])\n",
    "df['Correct_Diet'] = (~df['Diet_Vegetarian'] & ~df['Diet_Vegan']) | (df['Diet_Vegan'] & df['for_Vegan']) | (df['Diet_Vegetarian']  & df['for_Vegetarian'] )\n",
    "\n"
   ],
   "metadata": {
    "collapsed": false,
    "ExecuteTime": {
     "end_time": "2024-01-25T08:37:32.830089Z",
     "start_time": "2024-01-25T08:37:26.198545Z"
    }
   },
   "execution_count": 405
  },
  {
   "cell_type": "markdown",
   "source": [
    "***Split data***"
   ],
   "metadata": {
    "collapsed": false
   }
  },
  {
   "cell_type": "code",
   "outputs": [],
   "source": [
    "# Split data into train and test set\n",
    "train_set = df[df[\"TestSetId\"].isna()]\n",
    "test_set = df[df[\"TestSetId\"].notnull()]"
   ],
   "metadata": {
    "collapsed": false,
    "ExecuteTime": {
     "end_time": "2024-01-25T08:37:32.852498Z",
     "start_time": "2024-01-25T08:37:32.830644Z"
    }
   },
   "execution_count": 406
  },
  {
   "cell_type": "markdown",
   "source": [
    "# Handling outliers"
   ],
   "metadata": {
    "collapsed": false
   }
  },
  {
   "cell_type": "code",
   "outputs": [],
   "source": [
    "train_set = train_set[train_set[\"Calories\"] < 300000]"
   ],
   "metadata": {
    "collapsed": false,
    "ExecuteTime": {
     "end_time": "2024-01-25T08:37:32.866117Z",
     "start_time": "2024-01-25T08:37:32.853366Z"
    }
   },
   "execution_count": 407
  },
  {
   "cell_type": "markdown",
   "source": [
    "### Missing values"
   ],
   "metadata": {
    "collapsed": false
   }
  },
  {
   "cell_type": "code",
   "outputs": [],
   "source": [
    "train_set.dropna(subset=[\"Like\"], inplace=True)\n",
    "train_set = train_set.drop(\"TestSetId\", axis=1)"
   ],
   "metadata": {
    "collapsed": false,
    "ExecuteTime": {
     "end_time": "2024-01-25T08:37:32.891201Z",
     "start_time": "2024-01-25T08:37:32.867827Z"
    }
   },
   "execution_count": 408
  },
  {
   "cell_type": "code",
   "outputs": [],
   "source": [
    "# needs to be done after outlier removal\n",
    "recipesServings_mean = train_set['RecipeServings'].mean()\n",
    "#fill na rows with the mean\n",
    "train_set.loc[:, 'RecipeServings'] = train_set['RecipeServings'].fillna(recipesServings_mean)\n",
    "test_set.loc[:, 'RecipeServings'] = test_set['RecipeServings'].fillna(recipesServings_mean)"
   ],
   "metadata": {
    "collapsed": false,
    "ExecuteTime": {
     "end_time": "2024-01-25T08:37:32.894597Z",
     "start_time": "2024-01-25T08:37:32.890782Z"
    }
   },
   "execution_count": 409
  },
  {
   "cell_type": "markdown",
   "source": [
    "# Bool To numeric"
   ],
   "metadata": {
    "collapsed": false
   }
  },
  {
   "cell_type": "code",
   "outputs": [
    {
     "name": "stderr",
     "output_type": "stream",
     "text": [
      "/var/folders/z0/24mzs0z565s6qpzztgbdrj780000gn/T/ipykernel_95702/2792886431.py:8: FutureWarning: Setting an item of incompatible dtype is deprecated and will raise in a future error of pandas. Value '[0 0 0 ... 0 0 0]' has dtype incompatible with bool, please explicitly cast to a compatible dtype first.\n",
      "  train_set.loc[:, column] = label_encoder.fit_transform(train_set[column])\n",
      "/var/folders/z0/24mzs0z565s6qpzztgbdrj780000gn/T/ipykernel_95702/2792886431.py:9: FutureWarning: Setting an item of incompatible dtype is deprecated and will raise in a future error of pandas. Value '[0 0 0 ... 0 0 0]' has dtype incompatible with bool, please explicitly cast to a compatible dtype first.\n",
      "  test_set.loc[:, column] = label_encoder.fit_transform(test_set[column])\n",
      "/var/folders/z0/24mzs0z565s6qpzztgbdrj780000gn/T/ipykernel_95702/2792886431.py:8: FutureWarning: Setting an item of incompatible dtype is deprecated and will raise in a future error of pandas. Value '[1 1 1 ... 1 1 1]' has dtype incompatible with bool, please explicitly cast to a compatible dtype first.\n",
      "  train_set.loc[:, column] = label_encoder.fit_transform(train_set[column])\n",
      "/var/folders/z0/24mzs0z565s6qpzztgbdrj780000gn/T/ipykernel_95702/2792886431.py:9: FutureWarning: Setting an item of incompatible dtype is deprecated and will raise in a future error of pandas. Value '[0 0 0 ... 1 1 1]' has dtype incompatible with bool, please explicitly cast to a compatible dtype first.\n",
      "  test_set.loc[:, column] = label_encoder.fit_transform(test_set[column])\n",
      "/var/folders/z0/24mzs0z565s6qpzztgbdrj780000gn/T/ipykernel_95702/2792886431.py:8: FutureWarning: Setting an item of incompatible dtype is deprecated and will raise in a future error of pandas. Value '[0 0 0 ... 0 0 1]' has dtype incompatible with bool, please explicitly cast to a compatible dtype first.\n",
      "  train_set.loc[:, column] = label_encoder.fit_transform(train_set[column])\n",
      "/var/folders/z0/24mzs0z565s6qpzztgbdrj780000gn/T/ipykernel_95702/2792886431.py:9: FutureWarning: Setting an item of incompatible dtype is deprecated and will raise in a future error of pandas. Value '[0 0 0 ... 0 0 0]' has dtype incompatible with bool, please explicitly cast to a compatible dtype first.\n",
      "  test_set.loc[:, column] = label_encoder.fit_transform(test_set[column])\n",
      "/var/folders/z0/24mzs0z565s6qpzztgbdrj780000gn/T/ipykernel_95702/2792886431.py:8: FutureWarning: Setting an item of incompatible dtype is deprecated and will raise in a future error of pandas. Value '[0 0 0 ... 0 0 0]' has dtype incompatible with bool, please explicitly cast to a compatible dtype first.\n",
      "  train_set.loc[:, column] = label_encoder.fit_transform(train_set[column])\n",
      "/var/folders/z0/24mzs0z565s6qpzztgbdrj780000gn/T/ipykernel_95702/2792886431.py:9: FutureWarning: Setting an item of incompatible dtype is deprecated and will raise in a future error of pandas. Value '[0 0 0 ... 0 0 0]' has dtype incompatible with bool, please explicitly cast to a compatible dtype first.\n",
      "  test_set.loc[:, column] = label_encoder.fit_transform(test_set[column])\n",
      "/var/folders/z0/24mzs0z565s6qpzztgbdrj780000gn/T/ipykernel_95702/2792886431.py:8: FutureWarning: Setting an item of incompatible dtype is deprecated and will raise in a future error of pandas. Value '[0 0 0 ... 0 0 0]' has dtype incompatible with bool, please explicitly cast to a compatible dtype first.\n",
      "  train_set.loc[:, column] = label_encoder.fit_transform(train_set[column])\n",
      "/var/folders/z0/24mzs0z565s6qpzztgbdrj780000gn/T/ipykernel_95702/2792886431.py:9: FutureWarning: Setting an item of incompatible dtype is deprecated and will raise in a future error of pandas. Value '[0 0 0 ... 0 0 0]' has dtype incompatible with bool, please explicitly cast to a compatible dtype first.\n",
      "  test_set.loc[:, column] = label_encoder.fit_transform(test_set[column])\n",
      "/var/folders/z0/24mzs0z565s6qpzztgbdrj780000gn/T/ipykernel_95702/2792886431.py:8: FutureWarning: Setting an item of incompatible dtype is deprecated and will raise in a future error of pandas. Value '[0 0 0 ... 0 0 0]' has dtype incompatible with bool, please explicitly cast to a compatible dtype first.\n",
      "  train_set.loc[:, column] = label_encoder.fit_transform(train_set[column])\n",
      "/var/folders/z0/24mzs0z565s6qpzztgbdrj780000gn/T/ipykernel_95702/2792886431.py:9: FutureWarning: Setting an item of incompatible dtype is deprecated and will raise in a future error of pandas. Value '[1 0 0 ... 0 0 0]' has dtype incompatible with bool, please explicitly cast to a compatible dtype first.\n",
      "  test_set.loc[:, column] = label_encoder.fit_transform(test_set[column])\n",
      "/var/folders/z0/24mzs0z565s6qpzztgbdrj780000gn/T/ipykernel_95702/2792886431.py:8: FutureWarning: Setting an item of incompatible dtype is deprecated and will raise in a future error of pandas. Value '[0 1 1 ... 1 0 0]' has dtype incompatible with bool, please explicitly cast to a compatible dtype first.\n",
      "  train_set.loc[:, column] = label_encoder.fit_transform(train_set[column])\n",
      "/var/folders/z0/24mzs0z565s6qpzztgbdrj780000gn/T/ipykernel_95702/2792886431.py:9: FutureWarning: Setting an item of incompatible dtype is deprecated and will raise in a future error of pandas. Value '[0 1 1 ... 1 1 1]' has dtype incompatible with bool, please explicitly cast to a compatible dtype first.\n",
      "  test_set.loc[:, column] = label_encoder.fit_transform(test_set[column])\n",
      "/var/folders/z0/24mzs0z565s6qpzztgbdrj780000gn/T/ipykernel_95702/2792886431.py:8: FutureWarning: Setting an item of incompatible dtype is deprecated and will raise in a future error of pandas. Value '[0 0 0 ... 0 0 0]' has dtype incompatible with bool, please explicitly cast to a compatible dtype first.\n",
      "  train_set.loc[:, column] = label_encoder.fit_transform(train_set[column])\n",
      "/var/folders/z0/24mzs0z565s6qpzztgbdrj780000gn/T/ipykernel_95702/2792886431.py:9: FutureWarning: Setting an item of incompatible dtype is deprecated and will raise in a future error of pandas. Value '[0 0 0 ... 0 0 0]' has dtype incompatible with bool, please explicitly cast to a compatible dtype first.\n",
      "  test_set.loc[:, column] = label_encoder.fit_transform(test_set[column])\n",
      "/var/folders/z0/24mzs0z565s6qpzztgbdrj780000gn/T/ipykernel_95702/2792886431.py:8: FutureWarning: Setting an item of incompatible dtype is deprecated and will raise in a future error of pandas. Value '[0 0 0 ... 0 1 0]' has dtype incompatible with bool, please explicitly cast to a compatible dtype first.\n",
      "  train_set.loc[:, column] = label_encoder.fit_transform(train_set[column])\n",
      "/var/folders/z0/24mzs0z565s6qpzztgbdrj780000gn/T/ipykernel_95702/2792886431.py:9: FutureWarning: Setting an item of incompatible dtype is deprecated and will raise in a future error of pandas. Value '[0 1 1 ... 0 0 1]' has dtype incompatible with bool, please explicitly cast to a compatible dtype first.\n",
      "  test_set.loc[:, column] = label_encoder.fit_transform(test_set[column])\n",
      "/var/folders/z0/24mzs0z565s6qpzztgbdrj780000gn/T/ipykernel_95702/2792886431.py:8: FutureWarning: Setting an item of incompatible dtype is deprecated and will raise in a future error of pandas. Value '[0 0 0 ... 0 0 0]' has dtype incompatible with bool, please explicitly cast to a compatible dtype first.\n",
      "  train_set.loc[:, column] = label_encoder.fit_transform(train_set[column])\n",
      "/var/folders/z0/24mzs0z565s6qpzztgbdrj780000gn/T/ipykernel_95702/2792886431.py:9: FutureWarning: Setting an item of incompatible dtype is deprecated and will raise in a future error of pandas. Value '[1 0 0 ... 1 0 0]' has dtype incompatible with bool, please explicitly cast to a compatible dtype first.\n",
      "  test_set.loc[:, column] = label_encoder.fit_transform(test_set[column])\n",
      "/var/folders/z0/24mzs0z565s6qpzztgbdrj780000gn/T/ipykernel_95702/2792886431.py:8: FutureWarning: Setting an item of incompatible dtype is deprecated and will raise in a future error of pandas. Value '[1 1 1 ... 0 0 0]' has dtype incompatible with bool, please explicitly cast to a compatible dtype first.\n",
      "  train_set.loc[:, column] = label_encoder.fit_transform(train_set[column])\n",
      "/var/folders/z0/24mzs0z565s6qpzztgbdrj780000gn/T/ipykernel_95702/2792886431.py:9: FutureWarning: Setting an item of incompatible dtype is deprecated and will raise in a future error of pandas. Value '[1 1 1 ... 0 0 0]' has dtype incompatible with bool, please explicitly cast to a compatible dtype first.\n",
      "  test_set.loc[:, column] = label_encoder.fit_transform(test_set[column])\n",
      "/var/folders/z0/24mzs0z565s6qpzztgbdrj780000gn/T/ipykernel_95702/2792886431.py:8: FutureWarning: Setting an item of incompatible dtype is deprecated and will raise in a future error of pandas. Value '[0 1 1 ... 1 1 0]' has dtype incompatible with bool, please explicitly cast to a compatible dtype first.\n",
      "  train_set.loc[:, column] = label_encoder.fit_transform(train_set[column])\n",
      "/var/folders/z0/24mzs0z565s6qpzztgbdrj780000gn/T/ipykernel_95702/2792886431.py:9: FutureWarning: Setting an item of incompatible dtype is deprecated and will raise in a future error of pandas. Value '[0 0 0 ... 0 1 1]' has dtype incompatible with bool, please explicitly cast to a compatible dtype first.\n",
      "  test_set.loc[:, column] = label_encoder.fit_transform(test_set[column])\n",
      "/var/folders/z0/24mzs0z565s6qpzztgbdrj780000gn/T/ipykernel_95702/2792886431.py:8: FutureWarning: Setting an item of incompatible dtype is deprecated and will raise in a future error of pandas. Value '[0 1 0 ... 1 1 0]' has dtype incompatible with bool, please explicitly cast to a compatible dtype first.\n",
      "  train_set.loc[:, column] = label_encoder.fit_transform(train_set[column])\n",
      "/var/folders/z0/24mzs0z565s6qpzztgbdrj780000gn/T/ipykernel_95702/2792886431.py:9: FutureWarning: Setting an item of incompatible dtype is deprecated and will raise in a future error of pandas. Value '[1 0 1 ... 1 1 1]' has dtype incompatible with bool, please explicitly cast to a compatible dtype first.\n",
      "  test_set.loc[:, column] = label_encoder.fit_transform(test_set[column])\n",
      "/var/folders/z0/24mzs0z565s6qpzztgbdrj780000gn/T/ipykernel_95702/2792886431.py:8: FutureWarning: Setting an item of incompatible dtype is deprecated and will raise in a future error of pandas. Value '[1 0 1 ... 1 1 1]' has dtype incompatible with bool, please explicitly cast to a compatible dtype first.\n",
      "  train_set.loc[:, column] = label_encoder.fit_transform(train_set[column])\n",
      "/var/folders/z0/24mzs0z565s6qpzztgbdrj780000gn/T/ipykernel_95702/2792886431.py:9: FutureWarning: Setting an item of incompatible dtype is deprecated and will raise in a future error of pandas. Value '[1 1 1 ... 1 1 1]' has dtype incompatible with bool, please explicitly cast to a compatible dtype first.\n",
      "  test_set.loc[:, column] = label_encoder.fit_transform(test_set[column])\n"
     ]
    }
   ],
   "source": [
    "from sklearn.preprocessing import LabelEncoder\n",
    "\n",
    "columns_to_encode = ['Diet_Vegan', 'Diet_Vegetarian', 'RecipeCategory_Bread', 'RecipeCategory_Breakfast', 'RecipeCategory_Lunch', 'RecipeCategory_One dish meal', 'RecipeCategory_Other', 'RecipeCategory_Soup', 'want_HighCalories', 'want_LowFat', 'want_HighFiber', 'want_HighProtein', 'LowSugar_No', 'Correct_Diet']\n",
    "\n",
    "label_encoder = LabelEncoder()\n",
    "\n",
    "for column in columns_to_encode:\n",
    "    train_set.loc[:, column] = label_encoder.fit_transform(train_set[column])\n",
    "    test_set.loc[:, column] = label_encoder.fit_transform(test_set[column])\n"
   ],
   "metadata": {
    "collapsed": false,
    "ExecuteTime": {
     "end_time": "2024-01-25T08:37:32.925824Z",
     "start_time": "2024-01-25T08:37:32.894670Z"
    }
   },
   "execution_count": 410
  },
  {
   "cell_type": "markdown",
   "source": [],
   "metadata": {
    "collapsed": false
   }
  },
  {
   "cell_type": "markdown",
   "metadata": {
    "collapsed": false
   },
   "source": [
    "***Train Model***\n"
   ]
  },
  {
   "cell_type": "code",
   "outputs": [],
   "source": [
    "#Variables that are good according to xgboost: \n",
    "\n",
    "#variables_to_drop = ['CustomerId', 'RecipeId', 'Like', 'Name', 'RecipeIngredientQuantities', 'RecipeIngredientParts', 'RecipeYield', \"Calories\", \"SaturatedFatContent\", \"SugarContent\", \"CookTime\", \"PrepTime\", \"Diet_Vegan\", \"Diet_Vegetarian\", \"RecipeCategory_Bread\", \"RecipeCategory_Other\", \"RecipeCategory_Breakfast\", \"RecipeCategory_Lunch\", \"RecipeCategory_Soup\", \"RecipeCategory_One dish meal\", \"LowSugar_No\", \"CholesterolContent\", \"SodiumContent\", \"FiberContent\", \"RecipeServings\", \"Time\", \"HighCalories\", \"HighFiber\"]\n",
    "\n",
    "variables_to_drop = ['CustomerId', 'RecipeId', 'Like', 'Name', 'RecipeIngredientQuantities', 'RecipeIngredientParts', 'RecipeYield','MaxTime', 'for_Vegetarian', 'for_Vegan', 'has_fish_meat', 'has_animal_product']\n",
    "X = train_set.drop(variables_to_drop, axis=1)\n",
    "y = train_set['Like']\n",
    "test_set = test_set.drop(variables_to_drop, axis=1)"
   ],
   "metadata": {
    "collapsed": false,
    "ExecuteTime": {
     "end_time": "2024-01-25T08:37:32.934578Z",
     "start_time": "2024-01-25T08:37:32.927563Z"
    }
   },
   "execution_count": 411
  },
  {
   "cell_type": "code",
   "outputs": [],
   "source": [
    "X_train, X_test, y_train, y_test = \\\n",
    "    train_test_split(X, y,\n",
    "                     test_size=0.3,\n",
    "                     shuffle=True,\n",
    "                     random_state=seed)"
   ],
   "metadata": {
    "collapsed": false,
    "ExecuteTime": {
     "end_time": "2024-01-25T08:37:32.957226Z",
     "start_time": "2024-01-25T08:37:32.935598Z"
    }
   },
   "execution_count": 412
  },
  {
   "cell_type": "code",
   "outputs": [],
   "source": [
    "X_train = normalize(X_train, axis=0)\n",
    "X_test = normalize(X_test, axis=0)\n",
    "\n",
    "scaler = StandardScaler()\n",
    "X_train = scaler.fit_transform(X_train)\n",
    "X_test = scaler.fit_transform(X_test)"
   ],
   "metadata": {
    "collapsed": false,
    "ExecuteTime": {
     "end_time": "2024-01-25T08:37:32.967485Z",
     "start_time": "2024-01-25T08:37:32.949283Z"
    }
   },
   "execution_count": 413
  },
  {
   "cell_type": "markdown",
   "source": [
    "# Create a neural network"
   ],
   "metadata": {
    "collapsed": false
   }
  },
  {
   "cell_type": "code",
   "outputs": [
    {
     "name": "stderr",
     "output_type": "stream",
     "text": [
      "/Users/my/BAML/venv3.10/lib/python3.10/site-packages/keras/src/layers/core/dense.py:85: UserWarning: Do not pass an `input_shape`/`input_dim` argument to a layer. When using Sequential models, prefer using an `Input(shape)` object as the first layer in the model instead.\n",
      "  super().__init__(activity_regularizer=activity_regularizer, **kwargs)\n"
     ]
    },
    {
     "data": {
      "text/plain": "\u001B[1mModel: \"sequential_17\"\u001B[0m\n",
      "text/html": "<pre style=\"white-space:pre;overflow-x:auto;line-height:normal;font-family:Menlo,'DejaVu Sans Mono',consolas,'Courier New',monospace\"><span style=\"font-weight: bold\">Model: \"sequential_17\"</span>\n</pre>\n"
     },
     "metadata": {},
     "output_type": "display_data"
    },
    {
     "data": {
      "text/plain": "┏━━━━━━━━━━━━━━━━━━━━━━━━━━━━━━━━━┳━━━━━━━━━━━━━━━━━━━━━━━━━━━┳━━━━━━━━━━━━┓\n┃\u001B[1m \u001B[0m\u001B[1mLayer (type)                   \u001B[0m\u001B[1m \u001B[0m┃\u001B[1m \u001B[0m\u001B[1mOutput Shape             \u001B[0m\u001B[1m \u001B[0m┃\u001B[1m \u001B[0m\u001B[1m   Param #\u001B[0m\u001B[1m \u001B[0m┃\n┡━━━━━━━━━━━━━━━━━━━━━━━━━━━━━━━━━╇━━━━━━━━━━━━━━━━━━━━━━━━━━━╇━━━━━━━━━━━━┩\n│ dense_49 (\u001B[38;5;33mDense\u001B[0m)                │ (\u001B[38;5;45mNone\u001B[0m, \u001B[38;5;34m128\u001B[0m)               │      \u001B[38;5;34m3,712\u001B[0m │\n├─────────────────────────────────┼───────────────────────────┼────────────┤\n│ dense_50 (\u001B[38;5;33mDense\u001B[0m)                │ (\u001B[38;5;45mNone\u001B[0m, \u001B[38;5;34m128\u001B[0m)               │     \u001B[38;5;34m16,512\u001B[0m │\n├─────────────────────────────────┼───────────────────────────┼────────────┤\n│ dropout_5 (\u001B[38;5;33mDropout\u001B[0m)             │ (\u001B[38;5;45mNone\u001B[0m, \u001B[38;5;34m128\u001B[0m)               │          \u001B[38;5;34m0\u001B[0m │\n├─────────────────────────────────┼───────────────────────────┼────────────┤\n│ dense_51 (\u001B[38;5;33mDense\u001B[0m)                │ (\u001B[38;5;45mNone\u001B[0m, \u001B[38;5;34m1\u001B[0m)                 │        \u001B[38;5;34m129\u001B[0m │\n└─────────────────────────────────┴───────────────────────────┴────────────┘\n",
      "text/html": "<pre style=\"white-space:pre;overflow-x:auto;line-height:normal;font-family:Menlo,'DejaVu Sans Mono',consolas,'Courier New',monospace\">┏━━━━━━━━━━━━━━━━━━━━━━━━━━━━━━━━━┳━━━━━━━━━━━━━━━━━━━━━━━━━━━┳━━━━━━━━━━━━┓\n┃<span style=\"font-weight: bold\"> Layer (type)                    </span>┃<span style=\"font-weight: bold\"> Output Shape              </span>┃<span style=\"font-weight: bold\">    Param # </span>┃\n┡━━━━━━━━━━━━━━━━━━━━━━━━━━━━━━━━━╇━━━━━━━━━━━━━━━━━━━━━━━━━━━╇━━━━━━━━━━━━┩\n│ dense_49 (<span style=\"color: #0087ff; text-decoration-color: #0087ff\">Dense</span>)                │ (<span style=\"color: #00d7ff; text-decoration-color: #00d7ff\">None</span>, <span style=\"color: #00af00; text-decoration-color: #00af00\">128</span>)               │      <span style=\"color: #00af00; text-decoration-color: #00af00\">3,712</span> │\n├─────────────────────────────────┼───────────────────────────┼────────────┤\n│ dense_50 (<span style=\"color: #0087ff; text-decoration-color: #0087ff\">Dense</span>)                │ (<span style=\"color: #00d7ff; text-decoration-color: #00d7ff\">None</span>, <span style=\"color: #00af00; text-decoration-color: #00af00\">128</span>)               │     <span style=\"color: #00af00; text-decoration-color: #00af00\">16,512</span> │\n├─────────────────────────────────┼───────────────────────────┼────────────┤\n│ dropout_5 (<span style=\"color: #0087ff; text-decoration-color: #0087ff\">Dropout</span>)             │ (<span style=\"color: #00d7ff; text-decoration-color: #00d7ff\">None</span>, <span style=\"color: #00af00; text-decoration-color: #00af00\">128</span>)               │          <span style=\"color: #00af00; text-decoration-color: #00af00\">0</span> │\n├─────────────────────────────────┼───────────────────────────┼────────────┤\n│ dense_51 (<span style=\"color: #0087ff; text-decoration-color: #0087ff\">Dense</span>)                │ (<span style=\"color: #00d7ff; text-decoration-color: #00d7ff\">None</span>, <span style=\"color: #00af00; text-decoration-color: #00af00\">1</span>)                 │        <span style=\"color: #00af00; text-decoration-color: #00af00\">129</span> │\n└─────────────────────────────────┴───────────────────────────┴────────────┘\n</pre>\n"
     },
     "metadata": {},
     "output_type": "display_data"
    },
    {
     "data": {
      "text/plain": "\u001B[1m Total params: \u001B[0m\u001B[38;5;34m20,353\u001B[0m (79.50 KB)\n",
      "text/html": "<pre style=\"white-space:pre;overflow-x:auto;line-height:normal;font-family:Menlo,'DejaVu Sans Mono',consolas,'Courier New',monospace\"><span style=\"font-weight: bold\"> Total params: </span><span style=\"color: #00af00; text-decoration-color: #00af00\">20,353</span> (79.50 KB)\n</pre>\n"
     },
     "metadata": {},
     "output_type": "display_data"
    },
    {
     "data": {
      "text/plain": "\u001B[1m Trainable params: \u001B[0m\u001B[38;5;34m20,353\u001B[0m (79.50 KB)\n",
      "text/html": "<pre style=\"white-space:pre;overflow-x:auto;line-height:normal;font-family:Menlo,'DejaVu Sans Mono',consolas,'Courier New',monospace\"><span style=\"font-weight: bold\"> Trainable params: </span><span style=\"color: #00af00; text-decoration-color: #00af00\">20,353</span> (79.50 KB)\n</pre>\n"
     },
     "metadata": {},
     "output_type": "display_data"
    },
    {
     "data": {
      "text/plain": "\u001B[1m Non-trainable params: \u001B[0m\u001B[38;5;34m0\u001B[0m (0.00 B)\n",
      "text/html": "<pre style=\"white-space:pre;overflow-x:auto;line-height:normal;font-family:Menlo,'DejaVu Sans Mono',consolas,'Courier New',monospace\"><span style=\"font-weight: bold\"> Non-trainable params: </span><span style=\"color: #00af00; text-decoration-color: #00af00\">0</span> (0.00 B)\n</pre>\n"
     },
     "metadata": {},
     "output_type": "display_data"
    },
    {
     "name": "stdout",
     "output_type": "stream",
     "text": [
      "Epoch 1/20\n",
      "\u001B[1m682/682\u001B[0m \u001B[32m━━━━━━━━━━━━━━━━━━━━\u001B[0m\u001B[37m\u001B[0m \u001B[1m1s\u001B[0m 586us/step - accuracy: 0.8677 - loss: 0.3398 - val_accuracy: 0.8900 - val_loss: 0.2640\n",
      "Epoch 2/20\n",
      "\u001B[1m682/682\u001B[0m \u001B[32m━━━━━━━━━━━━━━━━━━━━\u001B[0m\u001B[37m\u001B[0m \u001B[1m0s\u001B[0m 525us/step - accuracy: 0.8910 - loss: 0.2654 - val_accuracy: 0.8960 - val_loss: 0.2491\n",
      "Epoch 3/20\n",
      "\u001B[1m682/682\u001B[0m \u001B[32m━━━━━━━━━━━━━━━━━━━━\u001B[0m\u001B[37m\u001B[0m \u001B[1m0s\u001B[0m 526us/step - accuracy: 0.8946 - loss: 0.2527 - val_accuracy: 0.8985 - val_loss: 0.2414\n",
      "Epoch 4/20\n",
      "\u001B[1m682/682\u001B[0m \u001B[32m━━━━━━━━━━━━━━━━━━━━\u001B[0m\u001B[37m\u001B[0m \u001B[1m0s\u001B[0m 525us/step - accuracy: 0.8979 - loss: 0.2441 - val_accuracy: 0.8995 - val_loss: 0.2377\n",
      "Epoch 5/20\n",
      "\u001B[1m682/682\u001B[0m \u001B[32m━━━━━━━━━━━━━━━━━━━━\u001B[0m\u001B[37m\u001B[0m \u001B[1m0s\u001B[0m 525us/step - accuracy: 0.8996 - loss: 0.2379 - val_accuracy: 0.9014 - val_loss: 0.2349\n",
      "Epoch 6/20\n",
      "\u001B[1m682/682\u001B[0m \u001B[32m━━━━━━━━━━━━━━━━━━━━\u001B[0m\u001B[37m\u001B[0m \u001B[1m0s\u001B[0m 525us/step - accuracy: 0.9008 - loss: 0.2344 - val_accuracy: 0.9020 - val_loss: 0.2327\n",
      "Epoch 7/20\n",
      "\u001B[1m682/682\u001B[0m \u001B[32m━━━━━━━━━━━━━━━━━━━━\u001B[0m\u001B[37m\u001B[0m \u001B[1m0s\u001B[0m 530us/step - accuracy: 0.9014 - loss: 0.2334 - val_accuracy: 0.9025 - val_loss: 0.2310\n",
      "Epoch 8/20\n",
      "\u001B[1m682/682\u001B[0m \u001B[32m━━━━━━━━━━━━━━━━━━━━\u001B[0m\u001B[37m\u001B[0m \u001B[1m0s\u001B[0m 524us/step - accuracy: 0.9024 - loss: 0.2300 - val_accuracy: 0.9040 - val_loss: 0.2295\n",
      "Epoch 9/20\n",
      "\u001B[1m682/682\u001B[0m \u001B[32m━━━━━━━━━━━━━━━━━━━━\u001B[0m\u001B[37m\u001B[0m \u001B[1m0s\u001B[0m 525us/step - accuracy: 0.9033 - loss: 0.2282 - val_accuracy: 0.9038 - val_loss: 0.2291\n",
      "Epoch 10/20\n",
      "\u001B[1m682/682\u001B[0m \u001B[32m━━━━━━━━━━━━━━━━━━━━\u001B[0m\u001B[37m\u001B[0m \u001B[1m0s\u001B[0m 528us/step - accuracy: 0.9031 - loss: 0.2261 - val_accuracy: 0.9043 - val_loss: 0.2275\n",
      "Epoch 11/20\n",
      "\u001B[1m682/682\u001B[0m \u001B[32m━━━━━━━━━━━━━━━━━━━━\u001B[0m\u001B[37m\u001B[0m \u001B[1m0s\u001B[0m 525us/step - accuracy: 0.9044 - loss: 0.2239 - val_accuracy: 0.9037 - val_loss: 0.2268\n",
      "Epoch 12/20\n",
      "\u001B[1m682/682\u001B[0m \u001B[32m━━━━━━━━━━━━━━━━━━━━\u001B[0m\u001B[37m\u001B[0m \u001B[1m0s\u001B[0m 523us/step - accuracy: 0.9045 - loss: 0.2221 - val_accuracy: 0.9052 - val_loss: 0.2261\n",
      "Epoch 13/20\n",
      "\u001B[1m682/682\u001B[0m \u001B[32m━━━━━━━━━━━━━━━━━━━━\u001B[0m\u001B[37m\u001B[0m \u001B[1m0s\u001B[0m 523us/step - accuracy: 0.9049 - loss: 0.2203 - val_accuracy: 0.9050 - val_loss: 0.2257\n",
      "Epoch 14/20\n",
      "\u001B[1m682/682\u001B[0m \u001B[32m━━━━━━━━━━━━━━━━━━━━\u001B[0m\u001B[37m\u001B[0m \u001B[1m0s\u001B[0m 523us/step - accuracy: 0.9061 - loss: 0.2196 - val_accuracy: 0.9046 - val_loss: 0.2249\n",
      "Epoch 15/20\n",
      "\u001B[1m682/682\u001B[0m \u001B[32m━━━━━━━━━━━━━━━━━━━━\u001B[0m\u001B[37m\u001B[0m \u001B[1m0s\u001B[0m 522us/step - accuracy: 0.9058 - loss: 0.2195 - val_accuracy: 0.9049 - val_loss: 0.2249\n",
      "Epoch 16/20\n",
      "\u001B[1m682/682\u001B[0m \u001B[32m━━━━━━━━━━━━━━━━━━━━\u001B[0m\u001B[37m\u001B[0m \u001B[1m0s\u001B[0m 522us/step - accuracy: 0.9062 - loss: 0.2186 - val_accuracy: 0.9041 - val_loss: 0.2250\n",
      "Epoch 17/20\n",
      "\u001B[1m682/682\u001B[0m \u001B[32m━━━━━━━━━━━━━━━━━━━━\u001B[0m\u001B[37m\u001B[0m \u001B[1m0s\u001B[0m 521us/step - accuracy: 0.9075 - loss: 0.2163 - val_accuracy: 0.9052 - val_loss: 0.2241\n",
      "Epoch 18/20\n",
      "\u001B[1m682/682\u001B[0m \u001B[32m━━━━━━━━━━━━━━━━━━━━\u001B[0m\u001B[37m\u001B[0m \u001B[1m0s\u001B[0m 523us/step - accuracy: 0.9070 - loss: 0.2140 - val_accuracy: 0.9048 - val_loss: 0.2244\n",
      "Epoch 19/20\n",
      "\u001B[1m682/682\u001B[0m \u001B[32m━━━━━━━━━━━━━━━━━━━━\u001B[0m\u001B[37m\u001B[0m \u001B[1m0s\u001B[0m 523us/step - accuracy: 0.9075 - loss: 0.2143 - val_accuracy: 0.9049 - val_loss: 0.2234\n",
      "Epoch 20/20\n",
      "\u001B[1m682/682\u001B[0m \u001B[32m━━━━━━━━━━━━━━━━━━━━\u001B[0m\u001B[37m\u001B[0m \u001B[1m0s\u001B[0m 522us/step - accuracy: 0.9077 - loss: 0.2131 - val_accuracy: 0.9056 - val_loss: 0.2237\n"
     ]
    }
   ],
   "source": [
    "from keras.src.layers import Dropout\n",
    "from keras.models import Sequential\n",
    "from keras.layers import Dense\n",
    "import tensorflow as tf\n",
    "\n",
    "model = Sequential()\n",
    "model.add(Dense(128, activation='relu', input_dim=28))\n",
    "model.add(Dense(128, activation='relu', input_dim=28))\n",
    "model.add(Dropout(0.5))\n",
    "model.add(Dense(1, activation='sigmoid'))\n",
    "\n",
    "model.compile(loss='binary_crossentropy', optimizer='adam', metrics=['accuracy'])\n",
    "\n",
    "model.summary()\n",
    "\n",
    "hist = model.fit(X_train, y_train, epochs=20, batch_size=100, validation_data=(X_test, y_test))"
   ],
   "metadata": {
    "collapsed": false,
    "ExecuteTime": {
     "end_time": "2024-01-25T08:37:40.584447Z",
     "start_time": "2024-01-25T08:37:32.968952Z"
    }
   },
   "execution_count": 414
  },
  {
   "cell_type": "markdown",
   "source": [
    "7937\n",
    "9046"
   ],
   "metadata": {
    "collapsed": false
   }
  },
  {
   "cell_type": "code",
   "outputs": [
    {
     "data": {
      "text/plain": "<Figure size 640x480 with 1 Axes>",
      "image/png": "[encoded data removed]"
     },
     "metadata": {},
     "output_type": "display_data"
    }
   ],
   "source": [
    "import matplotlib.pyplot as plt\n",
    "%matplotlib inline\n",
    "import seaborn as sns\n",
    "sns.set()\n",
    "\n",
    "acc = hist.history['accuracy']\n",
    "val = hist.history['val_accuracy']\n",
    "epochs = range(1, len(acc) + 1)\n",
    "\n",
    "plt.plot(epochs, acc, '-', label='Training accuracy')\n",
    "plt.plot(epochs, val, ':', label='Validation accuracy')\n",
    "plt.title('Training and Validation Accuracy')\n",
    "plt.xlabel('Epoch')\n",
    "plt.ylabel('Accuracy')\n",
    "plt.legend(loc='lower right')\n",
    "plt.show()  # Removed the unnecessary plt.plot() line\n"
   ],
   "metadata": {
    "collapsed": false,
    "ExecuteTime": {
     "end_time": "2024-01-25T08:37:40.671148Z",
     "start_time": "2024-01-25T08:37:40.589948Z"
    }
   },
   "execution_count": 415
  },
  {
   "cell_type": "code",
   "outputs": [
    {
     "name": "stdout",
     "output_type": "stream",
     "text": [
      "\u001B[1m913/913\u001B[0m \u001B[32m━━━━━━━━━━━━━━━━━━━━\u001B[0m\u001B[37m\u001B[0m \u001B[1m0s\u001B[0m 211us/step\n"
     ]
    },
    {
     "data": {
      "text/plain": "Text(110.44999999999997, 0.5, 'Actual label')"
     },
     "execution_count": 416,
     "metadata": {},
     "output_type": "execute_result"
    },
    {
     "data": {
      "text/plain": "<Figure size 640x480 with 1 Axes>",
      "image/png": "[encoded data removed]"
     },
     "metadata": {},
     "output_type": "display_data"
    }
   ],
   "source": [
    "from sklearn.metrics import confusion_matrix\n",
    " \n",
    "y_predicted = model.predict(X_test) > 0.5\n",
    "mat = confusion_matrix(y_test, y_predicted)\n",
    "labels = ['Legitimate', 'Fraudulent']\n",
    " \n",
    "sns.heatmap(mat, square=True, annot=True, fmt='d', cbar=False, cmap='Blues',\n",
    "            xticklabels=labels, yticklabels=labels)\n",
    " \n",
    "plt.xlabel('Predicted label')\n",
    "plt.ylabel('Actual label')"
   ],
   "metadata": {
    "collapsed": false,
    "ExecuteTime": {
     "end_time": "2024-01-25T08:37:40.994792Z",
     "start_time": "2024-01-25T08:37:40.670835Z"
    }
   },
   "execution_count": 416
  },
  {
   "cell_type": "code",
   "outputs": [
    {
     "name": "stdout",
     "output_type": "stream",
     "text": [
      "Balanced Accuracy: 0.7132\n"
     ]
    }
   ],
   "source": [
    "\n",
    "# Assuming you have the confusion matrix 'mat'\n",
    "true_negative, false_positive, false_negative, true_positive = mat.ravel()\n",
    "\n",
    "# Calculate Sensitivity (True Positive Rate)\n",
    "sensitivity = true_positive / (true_positive + false_negative)\n",
    "\n",
    "# Calculate Specificity (True Negative Rate)\n",
    "specificity = true_negative / (true_negative + false_positive)\n",
    "\n",
    "# Calculate Balanced Accuracy\n",
    "balanced_accuracy = (sensitivity + specificity) / 2\n",
    "\n",
    "print(f'Balanced Accuracy: {balanced_accuracy:.4f}')\n"
   ],
   "metadata": {
    "collapsed": false,
    "ExecuteTime": {
     "end_time": "2024-01-25T08:37:40.996187Z",
     "start_time": "2024-01-25T08:37:40.994399Z"
    }
   },
   "execution_count": 417
  },
  {
   "cell_type": "markdown",
   "source": [
    "***Output file with test set***"
   ],
   "metadata": {
    "collapsed": false
   }
  }
 ],
 "metadata": {
  "kernelspec": {
   "display_name": "Python 3 (ipykernel)",
   "language": "python",
   "name": "python3"
  },
  "language_info": {
   "codemirror_mode": {
    "name": "ipython",
    "version": 3
   },
   "file_extension": ".py",
   "mimetype": "text/x-python",
   "name": "python",
   "nbconvert_exporter": "python",
   "pygments_lexer": "ipython3",
   "version": "3.10.4"
  }
 },
 "nbformat": 4,
 "nbformat_minor": 4
}
